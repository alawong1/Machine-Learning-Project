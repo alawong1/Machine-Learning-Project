{
 "cells": [
  {
   "cell_type": "markdown",
   "metadata": {},
   "source": [
    "# CMSC471 Artificial Intelligence\n",
    "\n",
    "# Project Final Submission"
   ]
  },
  {
   "cell_type": "markdown",
   "metadata": {},
   "source": [
    "## Project Title"
   ]
  },
  {
   "cell_type": "markdown",
   "metadata": {},
   "source": [
    "*Type your name and ID here* (for groups, include all team members' names and IDs AND their role/contribution)\n",
    "<p>Alan Wong - NF55972, - \n",
    "<p>Ching Zheng - JA93772, - \n",
    "<p>Nimish Kapoor - WO69695, - "
   ]
  },
  {
   "cell_type": "markdown",
   "metadata": {},
   "source": [
    "## Problem Description\n",
    "\n",
    "- Specify exactly what ML approach your problem is: Binary classification, multi-class classification, or regression (groups should work on two approaches).\n",
    "\n",
    "\n",
    "- Then, explain the problem further. Be clear and concise.\n",
    "\n",
    "<p>Determining whether someone will be able to pay their statements on time by their due date given their previous history of credit card payments. Of course, the most important factors taken into consideration would be the account balance that they would have held and the status of their bill. Other factors taken into consideration will be, for example, their education, their age, etc. The approach to determining whether or not a given person will default is a binary classification.</p>\n",
    "<p>For the house price dataset, details and features of a home such as: square footage, the number of bathrooms and bedrooms are provided to predict the price of that house. Owning a home is a costly expenditure, and it is ideal to purchase a home when the housing market is in an acceptable state. Thus, we want to predict the future value of that house in the event that the house needs to be sold with regression."
   ]
  },
  {
   "cell_type": "markdown",
   "metadata": {},
   "source": [
    "## Motivation\n",
    "\n",
    "Explain briefly why this problem is important and how you became interested in it. You may use the motivation from the proposal.\n",
    "<p> We as a group are interested in finance and real estate as a possible future career, and are hoping to use this project as a stepping stone into the field of finance and real estate to get a better idea of what might be in store for us. As adults, we would all like to own a home one day, so exploring the housing market data will help us prepare for when it’s time to purchase a home."
   ]
  },
  {
   "cell_type": "markdown",
   "metadata": {},
   "source": [
    "## Dataset\n",
    "\n",
    "- Link to dataset source:\n",
    "<p>Credit Card Default Payment Dataset</p>\n",
    "https://www.kaggle.com/uciml/default-of-credit-card-clients-dataset\n",
    "\n",
    "<p>House Price Prediction Dataset</p>\n",
    "https://www.kaggle.com/shree1992/housedata#data.csv\n",
    "\n",
    "- <b>Label/target</b> description - What column in your dataset you are trying to predict? Specify exactly what your target feature (label) is. It must be one of the dataset columns. For image classification, specify your class labels.\n",
    "<p>For the credit card default payment, the column we are trying to predict is the default.payment.next.month column, labeled \"target\" in the dataset.</p>\n",
    "\n",
    "<p>For the house price dataset, the column we are trying to predict is the \"price\" column.</p>\n",
    "\n",
    "- Feature description: briefly explain each of the features/columns.\n",
    "\n",
    "<p> Credit Card Default Payment:</p>\n",
    "The features contain 6 amounts each for payments, repayment status (categorical here) and the amount of the previous payments (18 in total). These 6 amounts each go from April 2005 to September 2005. Other features also include age, gender, education status, marriage status and their given credit amount. \n",
    "\n",
    "<p>House Price Prediction:</p>\n",
    "The features in the housing dataset contain house details like the number of bedrooms, bathrooms, square feet of living space, above living space, basement space (if it has a basement), a rating of the view, the city in Washington State, the year it was built, and whether or not it's on the water. The dataset also contains the street and time it was sold. "
   ]
  },
  {
   "cell_type": "markdown",
   "metadata": {},
   "source": [
    "- Include the code for loading, showing the data head (if loaded with pandas) and reporting the data shape via sklearn, pandas or tensorflow in the following cell. \n",
    "\n",
    "\n",
    "- For image classification or special non-pandas datasets, show at least one sample of the data.\n",
    "\n",
    "\n",
    "- <b>Your data should be loaded error-free (otherwise your whole project gets zero credit). You should attach the data to your final project submission in a zip file.</b> If your dataset is too large and can't be uploaded in Blackboard, you should email the dataset to the instructor BEFORE the deadline!"
   ]
  },
  {
   "cell_type": "markdown",
   "metadata": {},
   "source": [
    "## <font color=\"red\"> Required Coding"
   ]
  },
  {
   "cell_type": "code",
   "execution_count": 1,
   "metadata": {},
   "outputs": [
    {
     "name": "stdout",
     "output_type": "stream",
     "text": [
      "Shape of Credit Card dataset: (30000, 25)\n",
      "Shape of House Price dataset: (4600, 18)\n"
     ]
    }
   ],
   "source": [
    "# Import necessary Python, sklearn and/or tensorflow/keras modules for loading the dataset\n",
    "import pandas as pd\n",
    "import numpy as np\n",
    "import matplotlib.pyplot as plt\n",
    "from matplotlib import style\n",
    "style.use('ggplot')\n",
    "import seaborn as sns\n",
    "import warnings\n",
    "def ignore_warns(*args, **kwargs):\n",
    "    pass\n",
    "warnings.warn = ignore_warns\n",
    "warnings.filterwarnings(\"ignore\")\n",
    "\n",
    "# Load the data\n",
    "cc_df = pd.read_csv(\"UCI_Credit_Card.csv\")\n",
    "housing_df = pd.read_csv(\"data.csv\")\n",
    "\n",
    "# Print data shape via built-in methods of sklearn, pandas or tensorflow/keras (or other modules)\n",
    "print(f\"Shape of Credit Card dataset: {cc_df.shape}\")\n",
    "print(f\"Shape of House Price dataset: {housing_df.shape}\")"
   ]
  },
  {
   "cell_type": "code",
   "execution_count": 2,
   "metadata": {},
   "outputs": [
    {
     "data": {
      "text/html": [
       "<div>\n",
       "<style scoped>\n",
       "    .dataframe tbody tr th:only-of-type {\n",
       "        vertical-align: middle;\n",
       "    }\n",
       "\n",
       "    .dataframe tbody tr th {\n",
       "        vertical-align: top;\n",
       "    }\n",
       "\n",
       "    .dataframe thead th {\n",
       "        text-align: right;\n",
       "    }\n",
       "</style>\n",
       "<table border=\"1\" class=\"dataframe\">\n",
       "  <thead>\n",
       "    <tr style=\"text-align: right;\">\n",
       "      <th></th>\n",
       "      <th>ID</th>\n",
       "      <th>LIMIT_BAL</th>\n",
       "      <th>SEX</th>\n",
       "      <th>EDUCATION</th>\n",
       "      <th>MARRIAGE</th>\n",
       "      <th>AGE</th>\n",
       "      <th>PAY_0</th>\n",
       "      <th>PAY_2</th>\n",
       "      <th>PAY_3</th>\n",
       "      <th>PAY_4</th>\n",
       "      <th>...</th>\n",
       "      <th>BILL_AMT4</th>\n",
       "      <th>BILL_AMT5</th>\n",
       "      <th>BILL_AMT6</th>\n",
       "      <th>PAY_AMT1</th>\n",
       "      <th>PAY_AMT2</th>\n",
       "      <th>PAY_AMT3</th>\n",
       "      <th>PAY_AMT4</th>\n",
       "      <th>PAY_AMT5</th>\n",
       "      <th>PAY_AMT6</th>\n",
       "      <th>target</th>\n",
       "    </tr>\n",
       "  </thead>\n",
       "  <tbody>\n",
       "    <tr>\n",
       "      <th>0</th>\n",
       "      <td>1</td>\n",
       "      <td>20000.0</td>\n",
       "      <td>2</td>\n",
       "      <td>2</td>\n",
       "      <td>1</td>\n",
       "      <td>24</td>\n",
       "      <td>2</td>\n",
       "      <td>2</td>\n",
       "      <td>-1</td>\n",
       "      <td>-1</td>\n",
       "      <td>...</td>\n",
       "      <td>0.0</td>\n",
       "      <td>0.0</td>\n",
       "      <td>0.0</td>\n",
       "      <td>0.0</td>\n",
       "      <td>689.0</td>\n",
       "      <td>0.0</td>\n",
       "      <td>0.0</td>\n",
       "      <td>0.0</td>\n",
       "      <td>0.0</td>\n",
       "      <td>1</td>\n",
       "    </tr>\n",
       "    <tr>\n",
       "      <th>1</th>\n",
       "      <td>2</td>\n",
       "      <td>120000.0</td>\n",
       "      <td>2</td>\n",
       "      <td>2</td>\n",
       "      <td>2</td>\n",
       "      <td>26</td>\n",
       "      <td>-1</td>\n",
       "      <td>2</td>\n",
       "      <td>0</td>\n",
       "      <td>0</td>\n",
       "      <td>...</td>\n",
       "      <td>3272.0</td>\n",
       "      <td>3455.0</td>\n",
       "      <td>3261.0</td>\n",
       "      <td>0.0</td>\n",
       "      <td>1000.0</td>\n",
       "      <td>1000.0</td>\n",
       "      <td>1000.0</td>\n",
       "      <td>0.0</td>\n",
       "      <td>2000.0</td>\n",
       "      <td>1</td>\n",
       "    </tr>\n",
       "    <tr>\n",
       "      <th>2</th>\n",
       "      <td>3</td>\n",
       "      <td>90000.0</td>\n",
       "      <td>2</td>\n",
       "      <td>2</td>\n",
       "      <td>2</td>\n",
       "      <td>34</td>\n",
       "      <td>0</td>\n",
       "      <td>0</td>\n",
       "      <td>0</td>\n",
       "      <td>0</td>\n",
       "      <td>...</td>\n",
       "      <td>14331.0</td>\n",
       "      <td>14948.0</td>\n",
       "      <td>15549.0</td>\n",
       "      <td>1518.0</td>\n",
       "      <td>1500.0</td>\n",
       "      <td>1000.0</td>\n",
       "      <td>1000.0</td>\n",
       "      <td>1000.0</td>\n",
       "      <td>5000.0</td>\n",
       "      <td>0</td>\n",
       "    </tr>\n",
       "    <tr>\n",
       "      <th>3</th>\n",
       "      <td>4</td>\n",
       "      <td>50000.0</td>\n",
       "      <td>2</td>\n",
       "      <td>2</td>\n",
       "      <td>1</td>\n",
       "      <td>37</td>\n",
       "      <td>0</td>\n",
       "      <td>0</td>\n",
       "      <td>0</td>\n",
       "      <td>0</td>\n",
       "      <td>...</td>\n",
       "      <td>28314.0</td>\n",
       "      <td>28959.0</td>\n",
       "      <td>29547.0</td>\n",
       "      <td>2000.0</td>\n",
       "      <td>2019.0</td>\n",
       "      <td>1200.0</td>\n",
       "      <td>1100.0</td>\n",
       "      <td>1069.0</td>\n",
       "      <td>1000.0</td>\n",
       "      <td>0</td>\n",
       "    </tr>\n",
       "    <tr>\n",
       "      <th>4</th>\n",
       "      <td>5</td>\n",
       "      <td>50000.0</td>\n",
       "      <td>1</td>\n",
       "      <td>2</td>\n",
       "      <td>1</td>\n",
       "      <td>57</td>\n",
       "      <td>-1</td>\n",
       "      <td>0</td>\n",
       "      <td>-1</td>\n",
       "      <td>0</td>\n",
       "      <td>...</td>\n",
       "      <td>20940.0</td>\n",
       "      <td>19146.0</td>\n",
       "      <td>19131.0</td>\n",
       "      <td>2000.0</td>\n",
       "      <td>36681.0</td>\n",
       "      <td>10000.0</td>\n",
       "      <td>9000.0</td>\n",
       "      <td>689.0</td>\n",
       "      <td>679.0</td>\n",
       "      <td>0</td>\n",
       "    </tr>\n",
       "  </tbody>\n",
       "</table>\n",
       "<p>5 rows × 25 columns</p>\n",
       "</div>"
      ],
      "text/plain": [
       "   ID  LIMIT_BAL  SEX  EDUCATION  MARRIAGE  AGE  PAY_0  PAY_2  PAY_3  PAY_4  \\\n",
       "0   1    20000.0    2          2         1   24      2      2     -1     -1   \n",
       "1   2   120000.0    2          2         2   26     -1      2      0      0   \n",
       "2   3    90000.0    2          2         2   34      0      0      0      0   \n",
       "3   4    50000.0    2          2         1   37      0      0      0      0   \n",
       "4   5    50000.0    1          2         1   57     -1      0     -1      0   \n",
       "\n",
       "   ...  BILL_AMT4  BILL_AMT5  BILL_AMT6  PAY_AMT1  PAY_AMT2  PAY_AMT3  \\\n",
       "0  ...        0.0        0.0        0.0       0.0     689.0       0.0   \n",
       "1  ...     3272.0     3455.0     3261.0       0.0    1000.0    1000.0   \n",
       "2  ...    14331.0    14948.0    15549.0    1518.0    1500.0    1000.0   \n",
       "3  ...    28314.0    28959.0    29547.0    2000.0    2019.0    1200.0   \n",
       "4  ...    20940.0    19146.0    19131.0    2000.0   36681.0   10000.0   \n",
       "\n",
       "   PAY_AMT4  PAY_AMT5  PAY_AMT6  target  \n",
       "0       0.0       0.0       0.0       1  \n",
       "1    1000.0       0.0    2000.0       1  \n",
       "2    1000.0    1000.0    5000.0       0  \n",
       "3    1100.0    1069.0    1000.0       0  \n",
       "4    9000.0     689.0     679.0       0  \n",
       "\n",
       "[5 rows x 25 columns]"
      ]
     },
     "execution_count": 2,
     "metadata": {},
     "output_type": "execute_result"
    }
   ],
   "source": [
    "# Show the data head (if pandas is used)\n",
    "# If the dataset contains images or is non-pandas/non-tabular, show at least one sample of the data\n",
    "cc_df.head()"
   ]
  },
  {
   "cell_type": "code",
   "execution_count": 3,
   "metadata": {},
   "outputs": [
    {
     "data": {
      "text/html": [
       "<div>\n",
       "<style scoped>\n",
       "    .dataframe tbody tr th:only-of-type {\n",
       "        vertical-align: middle;\n",
       "    }\n",
       "\n",
       "    .dataframe tbody tr th {\n",
       "        vertical-align: top;\n",
       "    }\n",
       "\n",
       "    .dataframe thead th {\n",
       "        text-align: right;\n",
       "    }\n",
       "</style>\n",
       "<table border=\"1\" class=\"dataframe\">\n",
       "  <thead>\n",
       "    <tr style=\"text-align: right;\">\n",
       "      <th></th>\n",
       "      <th>date</th>\n",
       "      <th>price</th>\n",
       "      <th>bedrooms</th>\n",
       "      <th>bathrooms</th>\n",
       "      <th>sqft_living</th>\n",
       "      <th>sqft_lot</th>\n",
       "      <th>floors</th>\n",
       "      <th>waterfront</th>\n",
       "      <th>view</th>\n",
       "      <th>condition</th>\n",
       "      <th>sqft_above</th>\n",
       "      <th>sqft_basement</th>\n",
       "      <th>yr_built</th>\n",
       "      <th>yr_renovated</th>\n",
       "      <th>street</th>\n",
       "      <th>city</th>\n",
       "      <th>statezip</th>\n",
       "      <th>country</th>\n",
       "    </tr>\n",
       "  </thead>\n",
       "  <tbody>\n",
       "    <tr>\n",
       "      <th>0</th>\n",
       "      <td>2014-05-02 00:00:00</td>\n",
       "      <td>313000.0</td>\n",
       "      <td>3.0</td>\n",
       "      <td>1.50</td>\n",
       "      <td>1340</td>\n",
       "      <td>7912</td>\n",
       "      <td>1.5</td>\n",
       "      <td>0</td>\n",
       "      <td>0</td>\n",
       "      <td>3</td>\n",
       "      <td>1340</td>\n",
       "      <td>0</td>\n",
       "      <td>1955</td>\n",
       "      <td>2005</td>\n",
       "      <td>18810 Densmore Ave N</td>\n",
       "      <td>Shoreline</td>\n",
       "      <td>WA 98133</td>\n",
       "      <td>USA</td>\n",
       "    </tr>\n",
       "    <tr>\n",
       "      <th>1</th>\n",
       "      <td>2014-05-02 00:00:00</td>\n",
       "      <td>2384000.0</td>\n",
       "      <td>5.0</td>\n",
       "      <td>2.50</td>\n",
       "      <td>3650</td>\n",
       "      <td>9050</td>\n",
       "      <td>2.0</td>\n",
       "      <td>0</td>\n",
       "      <td>4</td>\n",
       "      <td>5</td>\n",
       "      <td>3370</td>\n",
       "      <td>280</td>\n",
       "      <td>1921</td>\n",
       "      <td>0</td>\n",
       "      <td>709 W Blaine St</td>\n",
       "      <td>Seattle</td>\n",
       "      <td>WA 98119</td>\n",
       "      <td>USA</td>\n",
       "    </tr>\n",
       "    <tr>\n",
       "      <th>2</th>\n",
       "      <td>2014-05-02 00:00:00</td>\n",
       "      <td>342000.0</td>\n",
       "      <td>3.0</td>\n",
       "      <td>2.00</td>\n",
       "      <td>1930</td>\n",
       "      <td>11947</td>\n",
       "      <td>1.0</td>\n",
       "      <td>0</td>\n",
       "      <td>0</td>\n",
       "      <td>4</td>\n",
       "      <td>1930</td>\n",
       "      <td>0</td>\n",
       "      <td>1966</td>\n",
       "      <td>0</td>\n",
       "      <td>26206-26214 143rd Ave SE</td>\n",
       "      <td>Kent</td>\n",
       "      <td>WA 98042</td>\n",
       "      <td>USA</td>\n",
       "    </tr>\n",
       "    <tr>\n",
       "      <th>3</th>\n",
       "      <td>2014-05-02 00:00:00</td>\n",
       "      <td>420000.0</td>\n",
       "      <td>3.0</td>\n",
       "      <td>2.25</td>\n",
       "      <td>2000</td>\n",
       "      <td>8030</td>\n",
       "      <td>1.0</td>\n",
       "      <td>0</td>\n",
       "      <td>0</td>\n",
       "      <td>4</td>\n",
       "      <td>1000</td>\n",
       "      <td>1000</td>\n",
       "      <td>1963</td>\n",
       "      <td>0</td>\n",
       "      <td>857 170th Pl NE</td>\n",
       "      <td>Bellevue</td>\n",
       "      <td>WA 98008</td>\n",
       "      <td>USA</td>\n",
       "    </tr>\n",
       "    <tr>\n",
       "      <th>4</th>\n",
       "      <td>2014-05-02 00:00:00</td>\n",
       "      <td>550000.0</td>\n",
       "      <td>4.0</td>\n",
       "      <td>2.50</td>\n",
       "      <td>1940</td>\n",
       "      <td>10500</td>\n",
       "      <td>1.0</td>\n",
       "      <td>0</td>\n",
       "      <td>0</td>\n",
       "      <td>4</td>\n",
       "      <td>1140</td>\n",
       "      <td>800</td>\n",
       "      <td>1976</td>\n",
       "      <td>1992</td>\n",
       "      <td>9105 170th Ave NE</td>\n",
       "      <td>Redmond</td>\n",
       "      <td>WA 98052</td>\n",
       "      <td>USA</td>\n",
       "    </tr>\n",
       "  </tbody>\n",
       "</table>\n",
       "</div>"
      ],
      "text/plain": [
       "                  date      price  bedrooms  bathrooms  sqft_living  sqft_lot  \\\n",
       "0  2014-05-02 00:00:00   313000.0       3.0       1.50         1340      7912   \n",
       "1  2014-05-02 00:00:00  2384000.0       5.0       2.50         3650      9050   \n",
       "2  2014-05-02 00:00:00   342000.0       3.0       2.00         1930     11947   \n",
       "3  2014-05-02 00:00:00   420000.0       3.0       2.25         2000      8030   \n",
       "4  2014-05-02 00:00:00   550000.0       4.0       2.50         1940     10500   \n",
       "\n",
       "   floors  waterfront  view  condition  sqft_above  sqft_basement  yr_built  \\\n",
       "0     1.5           0     0          3        1340              0      1955   \n",
       "1     2.0           0     4          5        3370            280      1921   \n",
       "2     1.0           0     0          4        1930              0      1966   \n",
       "3     1.0           0     0          4        1000           1000      1963   \n",
       "4     1.0           0     0          4        1140            800      1976   \n",
       "\n",
       "   yr_renovated                    street       city  statezip country  \n",
       "0          2005      18810 Densmore Ave N  Shoreline  WA 98133     USA  \n",
       "1             0           709 W Blaine St    Seattle  WA 98119     USA  \n",
       "2             0  26206-26214 143rd Ave SE       Kent  WA 98042     USA  \n",
       "3             0           857 170th Pl NE   Bellevue  WA 98008     USA  \n",
       "4          1992         9105 170th Ave NE    Redmond  WA 98052     USA  "
      ]
     },
     "execution_count": 3,
     "metadata": {},
     "output_type": "execute_result"
    }
   ],
   "source": [
    "housing_df.head()"
   ]
  },
  {
   "cell_type": "markdown",
   "metadata": {},
   "source": [
    "## Data Preprocessing"
   ]
  },
  {
   "cell_type": "markdown",
   "metadata": {},
   "source": [
    "List any steps you have taken for preprocessing, such as cleaning, dropping NAs, dropping any redundant/irrelevant column, normalizing/scaling, etc. HERE:\n",
    "\n",
    "- Preprocessing Steps:\n",
    "<br>\n",
    "\n",
    "- Specify the details of data splitting to train/test or cross validation. Mention the ratio for splitting and number of folds for cv.\n",
    "<br>\n",
    "\n",
    "<b>Notice:</b> Each dataset may or may not need specific preprocessing steps. You should decide which preprocessing steps (if any) is required for your particular dataset."
   ]
  },
  {
   "cell_type": "markdown",
   "metadata": {},
   "source": [
    "<h3>Data Processing for Credit Card Dataset</h3>"
   ]
  },
  {
   "cell_type": "markdown",
   "metadata": {},
   "source": [
    "## <font color=\"red\"> Required Coding"
   ]
  },
  {
   "cell_type": "code",
   "execution_count": 4,
   "metadata": {},
   "outputs": [
    {
     "data": {
      "text/plain": [
       "'All preprocessing done through python built-in math functions or pandas'"
      ]
     },
     "execution_count": 4,
     "metadata": {},
     "output_type": "execute_result"
    }
   ],
   "source": [
    "# Import necessary preprocessing modules\n",
    "'''All preprocessing done through python built-in math functions or pandas'''"
   ]
  },
  {
   "cell_type": "code",
   "execution_count": 5,
   "metadata": {},
   "outputs": [
    {
     "data": {
      "text/plain": [
       "ID           0\n",
       "LIMIT_BAL    0\n",
       "SEX          0\n",
       "EDUCATION    0\n",
       "MARRIAGE     0\n",
       "AGE          0\n",
       "PAY_0        0\n",
       "PAY_2        0\n",
       "PAY_3        0\n",
       "PAY_4        0\n",
       "PAY_5        0\n",
       "PAY_6        0\n",
       "BILL_AMT1    0\n",
       "BILL_AMT2    0\n",
       "BILL_AMT3    0\n",
       "BILL_AMT4    0\n",
       "BILL_AMT5    0\n",
       "BILL_AMT6    0\n",
       "PAY_AMT1     0\n",
       "PAY_AMT2     0\n",
       "PAY_AMT3     0\n",
       "PAY_AMT4     0\n",
       "PAY_AMT5     0\n",
       "PAY_AMT6     0\n",
       "target       0\n",
       "dtype: int64"
      ]
     },
     "execution_count": 5,
     "metadata": {},
     "output_type": "execute_result"
    }
   ],
   "source": [
    "# Data Preprocessing code here\n",
    "cc_df.isna().sum()"
   ]
  },
  {
   "cell_type": "code",
   "execution_count": 6,
   "metadata": {},
   "outputs": [],
   "source": [
    "# Rename the PAY_0 column to PAY_1 for consistency\n",
    "cc_df.rename(columns={\"PAY_0\": \"PAY_1\"}, inplace=True)\n",
    "\n",
    "# In Education, 5 and 6 both refer to \"unknown\", so replace all 6's with 5.\n",
    "cc_df[\"EDUCATION\"] = cc_df[\"EDUCATION\"].replace(6, 5)"
   ]
  },
  {
   "cell_type": "code",
   "execution_count": 7,
   "metadata": {},
   "outputs": [],
   "source": [
    "# Limit balance includes individual and supplementary/family credit, so drop that column to remove any dependencies\n",
    "# with others in the family.\n",
    "\n",
    "cc_df.drop([\"ID\", \"LIMIT_BAL\"], axis=1, inplace=True)"
   ]
  },
  {
   "cell_type": "code",
   "execution_count": 8,
   "metadata": {},
   "outputs": [
    {
     "name": "stdout",
     "output_type": "stream",
     "text": [
      "Index(['AGE', 'PAY_1', 'PAY_2', 'PAY_3', 'PAY_4', 'PAY_5', 'PAY_6',\n",
      "       'BILL_AMT1', 'BILL_AMT2', 'BILL_AMT3', 'BILL_AMT4', 'BILL_AMT5',\n",
      "       'BILL_AMT6', 'PAY_AMT1', 'PAY_AMT2', 'PAY_AMT3', 'PAY_AMT4', 'PAY_AMT5',\n",
      "       'PAY_AMT6', 'target', 'SEX_Female', 'SEX_Male', 'EDUCATION_Graduate',\n",
      "       'EDUCATION_High School', 'EDUCATION_Other', 'EDUCATION_Undergraduate',\n",
      "       'EDUCATION_Unknown', 'MARRIAGE_Married', 'MARRIAGE_Other',\n",
      "       'MARRIAGE_Single'],\n",
      "      dtype='object')\n",
      "(30000, 30)\n"
     ]
    },
    {
     "data": {
      "text/html": [
       "<div>\n",
       "<style scoped>\n",
       "    .dataframe tbody tr th:only-of-type {\n",
       "        vertical-align: middle;\n",
       "    }\n",
       "\n",
       "    .dataframe tbody tr th {\n",
       "        vertical-align: top;\n",
       "    }\n",
       "\n",
       "    .dataframe thead th {\n",
       "        text-align: right;\n",
       "    }\n",
       "</style>\n",
       "<table border=\"1\" class=\"dataframe\">\n",
       "  <thead>\n",
       "    <tr style=\"text-align: right;\">\n",
       "      <th></th>\n",
       "      <th>AGE</th>\n",
       "      <th>PAY_1</th>\n",
       "      <th>PAY_2</th>\n",
       "      <th>PAY_3</th>\n",
       "      <th>PAY_4</th>\n",
       "      <th>PAY_5</th>\n",
       "      <th>PAY_6</th>\n",
       "      <th>BILL_AMT1</th>\n",
       "      <th>BILL_AMT2</th>\n",
       "      <th>BILL_AMT3</th>\n",
       "      <th>...</th>\n",
       "      <th>SEX_Female</th>\n",
       "      <th>SEX_Male</th>\n",
       "      <th>EDUCATION_Graduate</th>\n",
       "      <th>EDUCATION_High School</th>\n",
       "      <th>EDUCATION_Other</th>\n",
       "      <th>EDUCATION_Undergraduate</th>\n",
       "      <th>EDUCATION_Unknown</th>\n",
       "      <th>MARRIAGE_Married</th>\n",
       "      <th>MARRIAGE_Other</th>\n",
       "      <th>MARRIAGE_Single</th>\n",
       "    </tr>\n",
       "  </thead>\n",
       "  <tbody>\n",
       "    <tr>\n",
       "      <th>0</th>\n",
       "      <td>24</td>\n",
       "      <td>2</td>\n",
       "      <td>2</td>\n",
       "      <td>-1</td>\n",
       "      <td>-1</td>\n",
       "      <td>-2</td>\n",
       "      <td>-2</td>\n",
       "      <td>3913.0</td>\n",
       "      <td>3102.0</td>\n",
       "      <td>689.0</td>\n",
       "      <td>...</td>\n",
       "      <td>1</td>\n",
       "      <td>0</td>\n",
       "      <td>0</td>\n",
       "      <td>0</td>\n",
       "      <td>0</td>\n",
       "      <td>1</td>\n",
       "      <td>0</td>\n",
       "      <td>1</td>\n",
       "      <td>0</td>\n",
       "      <td>0</td>\n",
       "    </tr>\n",
       "    <tr>\n",
       "      <th>1</th>\n",
       "      <td>26</td>\n",
       "      <td>-1</td>\n",
       "      <td>2</td>\n",
       "      <td>0</td>\n",
       "      <td>0</td>\n",
       "      <td>0</td>\n",
       "      <td>2</td>\n",
       "      <td>2682.0</td>\n",
       "      <td>1725.0</td>\n",
       "      <td>2682.0</td>\n",
       "      <td>...</td>\n",
       "      <td>1</td>\n",
       "      <td>0</td>\n",
       "      <td>0</td>\n",
       "      <td>0</td>\n",
       "      <td>0</td>\n",
       "      <td>1</td>\n",
       "      <td>0</td>\n",
       "      <td>0</td>\n",
       "      <td>0</td>\n",
       "      <td>1</td>\n",
       "    </tr>\n",
       "    <tr>\n",
       "      <th>2</th>\n",
       "      <td>34</td>\n",
       "      <td>0</td>\n",
       "      <td>0</td>\n",
       "      <td>0</td>\n",
       "      <td>0</td>\n",
       "      <td>0</td>\n",
       "      <td>0</td>\n",
       "      <td>29239.0</td>\n",
       "      <td>14027.0</td>\n",
       "      <td>13559.0</td>\n",
       "      <td>...</td>\n",
       "      <td>1</td>\n",
       "      <td>0</td>\n",
       "      <td>0</td>\n",
       "      <td>0</td>\n",
       "      <td>0</td>\n",
       "      <td>1</td>\n",
       "      <td>0</td>\n",
       "      <td>0</td>\n",
       "      <td>0</td>\n",
       "      <td>1</td>\n",
       "    </tr>\n",
       "    <tr>\n",
       "      <th>3</th>\n",
       "      <td>37</td>\n",
       "      <td>0</td>\n",
       "      <td>0</td>\n",
       "      <td>0</td>\n",
       "      <td>0</td>\n",
       "      <td>0</td>\n",
       "      <td>0</td>\n",
       "      <td>46990.0</td>\n",
       "      <td>48233.0</td>\n",
       "      <td>49291.0</td>\n",
       "      <td>...</td>\n",
       "      <td>1</td>\n",
       "      <td>0</td>\n",
       "      <td>0</td>\n",
       "      <td>0</td>\n",
       "      <td>0</td>\n",
       "      <td>1</td>\n",
       "      <td>0</td>\n",
       "      <td>1</td>\n",
       "      <td>0</td>\n",
       "      <td>0</td>\n",
       "    </tr>\n",
       "    <tr>\n",
       "      <th>4</th>\n",
       "      <td>57</td>\n",
       "      <td>-1</td>\n",
       "      <td>0</td>\n",
       "      <td>-1</td>\n",
       "      <td>0</td>\n",
       "      <td>0</td>\n",
       "      <td>0</td>\n",
       "      <td>8617.0</td>\n",
       "      <td>5670.0</td>\n",
       "      <td>35835.0</td>\n",
       "      <td>...</td>\n",
       "      <td>0</td>\n",
       "      <td>1</td>\n",
       "      <td>0</td>\n",
       "      <td>0</td>\n",
       "      <td>0</td>\n",
       "      <td>1</td>\n",
       "      <td>0</td>\n",
       "      <td>1</td>\n",
       "      <td>0</td>\n",
       "      <td>0</td>\n",
       "    </tr>\n",
       "  </tbody>\n",
       "</table>\n",
       "<p>5 rows × 30 columns</p>\n",
       "</div>"
      ],
      "text/plain": [
       "   AGE  PAY_1  PAY_2  PAY_3  PAY_4  PAY_5  PAY_6  BILL_AMT1  BILL_AMT2  \\\n",
       "0   24      2      2     -1     -1     -2     -2     3913.0     3102.0   \n",
       "1   26     -1      2      0      0      0      2     2682.0     1725.0   \n",
       "2   34      0      0      0      0      0      0    29239.0    14027.0   \n",
       "3   37      0      0      0      0      0      0    46990.0    48233.0   \n",
       "4   57     -1      0     -1      0      0      0     8617.0     5670.0   \n",
       "\n",
       "   BILL_AMT3  ...  SEX_Female  SEX_Male  EDUCATION_Graduate  \\\n",
       "0      689.0  ...           1         0                   0   \n",
       "1     2682.0  ...           1         0                   0   \n",
       "2    13559.0  ...           1         0                   0   \n",
       "3    49291.0  ...           1         0                   0   \n",
       "4    35835.0  ...           0         1                   0   \n",
       "\n",
       "   EDUCATION_High School  EDUCATION_Other  EDUCATION_Undergraduate  \\\n",
       "0                      0                0                        1   \n",
       "1                      0                0                        1   \n",
       "2                      0                0                        1   \n",
       "3                      0                0                        1   \n",
       "4                      0                0                        1   \n",
       "\n",
       "   EDUCATION_Unknown  MARRIAGE_Married  MARRIAGE_Other  MARRIAGE_Single  \n",
       "0                  0                 1               0                0  \n",
       "1                  0                 0               0                1  \n",
       "2                  0                 0               0                1  \n",
       "3                  0                 1               0                0  \n",
       "4                  0                 1               0                0  \n",
       "\n",
       "[5 rows x 30 columns]"
      ]
     },
     "execution_count": 8,
     "metadata": {},
     "output_type": "execute_result"
    }
   ],
   "source": [
    "cc_df[\"SEX\"] = cc_df[\"SEX\"].map(lambda x: {1: \"Male\", 2: \"Female\"}.get(x))\n",
    "cc_df[\"EDUCATION\"] = cc_df[\"EDUCATION\"].map(lambda x: {1: \"Graduate\", 2: \"Undergraduate\", \n",
    "                                                       3: \"High School\", 4: \"Other\", 5: \"Unknown\"}.get(x))\n",
    "cc_df[\"MARRIAGE\"] = cc_df[\"MARRIAGE\"].map(lambda x: {1: \"Married\", 2: \"Single\", 3: \"Other\"}.get(x))\n",
    "cc_df = pd.get_dummies(cc_df)\n",
    "print(cc_df.columns)\n",
    "print(cc_df.shape)\n",
    "cc_df.head()"
   ]
  },
  {
   "cell_type": "code",
   "execution_count": 9,
   "metadata": {},
   "outputs": [
    {
     "name": "stdout",
     "output_type": "stream",
     "text": [
      "Shape of Features: (30000, 29)\n",
      "Shape of Label: (30000,)\n"
     ]
    }
   ],
   "source": [
    "X = cc_df.drop(\"target\", axis=1)\n",
    "y = cc_df[\"target\"]\n",
    "\n",
    "print(f\"Shape of Features: {X.shape}\")\n",
    "print(f\"Shape of Label: {y.shape}\")\n",
    "\n",
    "cross_val_results = []"
   ]
  },
  {
   "cell_type": "code",
   "execution_count": 10,
   "metadata": {},
   "outputs": [
    {
     "name": "stdout",
     "output_type": "stream",
     "text": [
      "(30000, 29)\n"
     ]
    },
    {
     "data": {
      "text/html": [
       "<div>\n",
       "<style scoped>\n",
       "    .dataframe tbody tr th:only-of-type {\n",
       "        vertical-align: middle;\n",
       "    }\n",
       "\n",
       "    .dataframe tbody tr th {\n",
       "        vertical-align: top;\n",
       "    }\n",
       "\n",
       "    .dataframe thead th {\n",
       "        text-align: right;\n",
       "    }\n",
       "</style>\n",
       "<table border=\"1\" class=\"dataframe\">\n",
       "  <thead>\n",
       "    <tr style=\"text-align: right;\">\n",
       "      <th></th>\n",
       "      <th>AGE</th>\n",
       "      <th>PAY_1</th>\n",
       "      <th>PAY_2</th>\n",
       "      <th>PAY_3</th>\n",
       "      <th>PAY_4</th>\n",
       "      <th>PAY_5</th>\n",
       "      <th>PAY_6</th>\n",
       "      <th>BILL_AMT1</th>\n",
       "      <th>BILL_AMT2</th>\n",
       "      <th>BILL_AMT3</th>\n",
       "      <th>...</th>\n",
       "      <th>SEX_Female</th>\n",
       "      <th>SEX_Male</th>\n",
       "      <th>EDUCATION_Graduate</th>\n",
       "      <th>EDUCATION_High School</th>\n",
       "      <th>EDUCATION_Other</th>\n",
       "      <th>EDUCATION_Undergraduate</th>\n",
       "      <th>EDUCATION_Unknown</th>\n",
       "      <th>MARRIAGE_Married</th>\n",
       "      <th>MARRIAGE_Other</th>\n",
       "      <th>MARRIAGE_Single</th>\n",
       "    </tr>\n",
       "  </thead>\n",
       "  <tbody>\n",
       "    <tr>\n",
       "      <th>0</th>\n",
       "      <td>-1.245999</td>\n",
       "      <td>1.794534</td>\n",
       "      <td>1.782318</td>\n",
       "      <td>-0.696652</td>\n",
       "      <td>-0.666588</td>\n",
       "      <td>-1.530021</td>\n",
       "      <td>-1.486016</td>\n",
       "      <td>-0.642490</td>\n",
       "      <td>-0.647388</td>\n",
       "      <td>-0.667982</td>\n",
       "      <td>...</td>\n",
       "      <td>0.810147</td>\n",
       "      <td>-0.810147</td>\n",
       "      <td>-0.738362</td>\n",
       "      <td>-0.442744</td>\n",
       "      <td>-0.064162</td>\n",
       "      <td>1.066882</td>\n",
       "      <td>-0.105622</td>\n",
       "      <td>1.093761</td>\n",
       "      <td>-0.104324</td>\n",
       "      <td>-1.066454</td>\n",
       "    </tr>\n",
       "    <tr>\n",
       "      <th>1</th>\n",
       "      <td>-1.029030</td>\n",
       "      <td>-0.874977</td>\n",
       "      <td>1.782318</td>\n",
       "      <td>0.138862</td>\n",
       "      <td>0.188743</td>\n",
       "      <td>0.234913</td>\n",
       "      <td>1.992282</td>\n",
       "      <td>-0.659208</td>\n",
       "      <td>-0.666735</td>\n",
       "      <td>-0.639244</td>\n",
       "      <td>...</td>\n",
       "      <td>0.810147</td>\n",
       "      <td>-0.810147</td>\n",
       "      <td>-0.738362</td>\n",
       "      <td>-0.442744</td>\n",
       "      <td>-0.064162</td>\n",
       "      <td>1.066882</td>\n",
       "      <td>-0.105622</td>\n",
       "      <td>-0.914246</td>\n",
       "      <td>-0.104324</td>\n",
       "      <td>0.937656</td>\n",
       "    </tr>\n",
       "    <tr>\n",
       "      <th>2</th>\n",
       "      <td>-0.161154</td>\n",
       "      <td>0.014860</td>\n",
       "      <td>0.111734</td>\n",
       "      <td>0.138862</td>\n",
       "      <td>0.188743</td>\n",
       "      <td>0.234913</td>\n",
       "      <td>0.253133</td>\n",
       "      <td>-0.298555</td>\n",
       "      <td>-0.493891</td>\n",
       "      <td>-0.482400</td>\n",
       "      <td>...</td>\n",
       "      <td>0.810147</td>\n",
       "      <td>-0.810147</td>\n",
       "      <td>-0.738362</td>\n",
       "      <td>-0.442744</td>\n",
       "      <td>-0.064162</td>\n",
       "      <td>1.066882</td>\n",
       "      <td>-0.105622</td>\n",
       "      <td>-0.914246</td>\n",
       "      <td>-0.104324</td>\n",
       "      <td>0.937656</td>\n",
       "    </tr>\n",
       "    <tr>\n",
       "      <th>3</th>\n",
       "      <td>0.164300</td>\n",
       "      <td>0.014860</td>\n",
       "      <td>0.111734</td>\n",
       "      <td>0.138862</td>\n",
       "      <td>0.188743</td>\n",
       "      <td>0.234913</td>\n",
       "      <td>0.253133</td>\n",
       "      <td>-0.057490</td>\n",
       "      <td>-0.013292</td>\n",
       "      <td>0.032846</td>\n",
       "      <td>...</td>\n",
       "      <td>0.810147</td>\n",
       "      <td>-0.810147</td>\n",
       "      <td>-0.738362</td>\n",
       "      <td>-0.442744</td>\n",
       "      <td>-0.064162</td>\n",
       "      <td>1.066882</td>\n",
       "      <td>-0.105622</td>\n",
       "      <td>1.093761</td>\n",
       "      <td>-0.104324</td>\n",
       "      <td>-1.066454</td>\n",
       "    </tr>\n",
       "    <tr>\n",
       "      <th>4</th>\n",
       "      <td>2.333990</td>\n",
       "      <td>-0.874977</td>\n",
       "      <td>0.111734</td>\n",
       "      <td>-0.696652</td>\n",
       "      <td>0.188743</td>\n",
       "      <td>0.234913</td>\n",
       "      <td>0.253133</td>\n",
       "      <td>-0.578608</td>\n",
       "      <td>-0.611308</td>\n",
       "      <td>-0.161186</td>\n",
       "      <td>...</td>\n",
       "      <td>-1.234302</td>\n",
       "      <td>1.234302</td>\n",
       "      <td>-0.738362</td>\n",
       "      <td>-0.442744</td>\n",
       "      <td>-0.064162</td>\n",
       "      <td>1.066882</td>\n",
       "      <td>-0.105622</td>\n",
       "      <td>1.093761</td>\n",
       "      <td>-0.104324</td>\n",
       "      <td>-1.066454</td>\n",
       "    </tr>\n",
       "  </tbody>\n",
       "</table>\n",
       "<p>5 rows × 29 columns</p>\n",
       "</div>"
      ],
      "text/plain": [
       "        AGE     PAY_1     PAY_2     PAY_3     PAY_4     PAY_5     PAY_6  \\\n",
       "0 -1.245999  1.794534  1.782318 -0.696652 -0.666588 -1.530021 -1.486016   \n",
       "1 -1.029030 -0.874977  1.782318  0.138862  0.188743  0.234913  1.992282   \n",
       "2 -0.161154  0.014860  0.111734  0.138862  0.188743  0.234913  0.253133   \n",
       "3  0.164300  0.014860  0.111734  0.138862  0.188743  0.234913  0.253133   \n",
       "4  2.333990 -0.874977  0.111734 -0.696652  0.188743  0.234913  0.253133   \n",
       "\n",
       "   BILL_AMT1  BILL_AMT2  BILL_AMT3  ...  SEX_Female  SEX_Male  \\\n",
       "0  -0.642490  -0.647388  -0.667982  ...    0.810147 -0.810147   \n",
       "1  -0.659208  -0.666735  -0.639244  ...    0.810147 -0.810147   \n",
       "2  -0.298555  -0.493891  -0.482400  ...    0.810147 -0.810147   \n",
       "3  -0.057490  -0.013292   0.032846  ...    0.810147 -0.810147   \n",
       "4  -0.578608  -0.611308  -0.161186  ...   -1.234302  1.234302   \n",
       "\n",
       "   EDUCATION_Graduate  EDUCATION_High School  EDUCATION_Other  \\\n",
       "0           -0.738362              -0.442744        -0.064162   \n",
       "1           -0.738362              -0.442744        -0.064162   \n",
       "2           -0.738362              -0.442744        -0.064162   \n",
       "3           -0.738362              -0.442744        -0.064162   \n",
       "4           -0.738362              -0.442744        -0.064162   \n",
       "\n",
       "   EDUCATION_Undergraduate  EDUCATION_Unknown  MARRIAGE_Married  \\\n",
       "0                 1.066882          -0.105622          1.093761   \n",
       "1                 1.066882          -0.105622         -0.914246   \n",
       "2                 1.066882          -0.105622         -0.914246   \n",
       "3                 1.066882          -0.105622          1.093761   \n",
       "4                 1.066882          -0.105622          1.093761   \n",
       "\n",
       "   MARRIAGE_Other  MARRIAGE_Single  \n",
       "0       -0.104324        -1.066454  \n",
       "1       -0.104324         0.937656  \n",
       "2       -0.104324         0.937656  \n",
       "3       -0.104324        -1.066454  \n",
       "4       -0.104324        -1.066454  \n",
       "\n",
       "[5 rows x 29 columns]"
      ]
     },
     "execution_count": 10,
     "metadata": {},
     "output_type": "execute_result"
    }
   ],
   "source": [
    "X = (X - X.mean())/X.std()\n",
    "print(X.shape)\n",
    "X.head()"
   ]
  },
  {
   "cell_type": "code",
   "execution_count": 11,
   "metadata": {},
   "outputs": [
    {
     "name": "stdout",
     "output_type": "stream",
     "text": [
      "(21000, 29)\n",
      "(21000,)\n",
      "(9000, 29)\n",
      "(9000,)\n"
     ]
    }
   ],
   "source": [
    "# Split to train/test sets code here (if applicable)\n",
    "from sklearn.model_selection import train_test_split\n",
    "\n",
    "X_train, X_test, y_train, y_test = train_test_split(X, y, test_size=0.30, random_state=42)\n",
    "\n",
    "print(X_train.shape)\n",
    "print(y_train.shape)\n",
    "print(X_test.shape)\n",
    "print(y_test.shape)"
   ]
  },
  {
   "cell_type": "markdown",
   "metadata": {},
   "source": [
    "## Methods\n",
    "\n",
    "List your sklearn and tensorflow methods HERE:\n",
    "\n",
    "1- Sklearn Method No.1: Logistic Regression (Credit Card Default Dataset)\n",
    "\n",
    "2- Sklearn Method No.2: Stochastic Gradient Descent Classifier (Credit Card Default Dataset)\n",
    "\n",
    "3- Sklearn Method No.3: Ridge Classifier (Credit Card Default Dataset)\n",
    "\n",
    "4- Sklearn Method No.4: Random Forest Classifier (Credit Card Default Dataset)\n",
    "\n",
    "5- Sklearn Method No.5: Linear Regression (House Price Dataset)\n",
    "\n",
    "6- Tensorflow Method: Sequential Neural Network (House Price Dataset)\n",
    "\n",
    "Individual students need to work with 2 sklearn methods and 1 tensorflow method.\n",
    "\n",
    "Groups should take 2 approaches (both classification and regression) on 1 or 2 datasets, and for each approach (classification/regression) should use 3 methods as described above (6 methods totally).\n",
    "\n",
    "<b>Notice:</b> You should fine-tune at least one hyperparameter of each method by using multiple values (at least 3 different values)."
   ]
  },
  {
   "cell_type": "markdown",
   "metadata": {},
   "source": [
    "## <font color=\"red\"> Required Coding - Groups should add more cell as required"
   ]
  },
  {
   "cell_type": "code",
   "execution_count": 12,
   "metadata": {},
   "outputs": [],
   "source": [
    "# Import any necessary method/algorithm modules from sklearn and tf/keras here\n",
    "from sklearn.model_selection import cross_val_score\n",
    "from sklearn.linear_model import LogisticRegression, SGDClassifier, RidgeClassifier\n",
    "from sklearn.ensemble import RandomForestClassifier\n",
    "import sklearn.metrics as metrics\n",
    "\n",
    "import tensorflow as tf"
   ]
  },
  {
   "cell_type": "markdown",
   "metadata": {},
   "source": [
    "The sklearn method are included along with tuned hyperparameters."
   ]
  },
  {
   "cell_type": "code",
   "execution_count": 13,
   "metadata": {},
   "outputs": [
    {
     "name": "stdout",
     "output_type": "stream",
     "text": [
      "Mean AUC Score for Logistic Regression with 150 iterations: 0.7211145654616251\n"
     ]
    }
   ],
   "source": [
    "# Sklearn Method 1 code here \n",
    "logreg1_clf = LogisticRegression(solver=\"saga\",penalty=\"l1\", random_state=42, max_iter=150)\n",
    "\n",
    "logreg1_cv_score = cross_val_score(logreg1_clf, X, y, scoring=\"roc_auc\", cv=10)\n",
    "cross_val_results.append(logreg1_cv_score)\n",
    "print(f\"Mean AUC Score for Logistic Regression with 150 iterations: {logreg1_cv_score.mean()}\")"
   ]
  },
  {
   "cell_type": "code",
   "execution_count": 14,
   "metadata": {},
   "outputs": [
    {
     "name": "stdout",
     "output_type": "stream",
     "text": [
      "Mean AUC Score for Logistic Regression with 200 iterations: 0.7211521455060186\n"
     ]
    }
   ],
   "source": [
    "logreg2_clf = LogisticRegression(solver=\"saga\",penalty=\"l1\",random_state=42, max_iter=200)\n",
    "\n",
    "logreg_cv_score2 = cross_val_score(logreg2_clf, X, y, scoring=\"roc_auc\", cv=10)\n",
    "cross_val_results.append(logreg_cv_score2)\n",
    "print(f\"Mean AUC Score for Logistic Regression with 200 iterations: {logreg_cv_score2.mean()}\")"
   ]
  },
  {
   "cell_type": "code",
   "execution_count": 15,
   "metadata": {},
   "outputs": [
    {
     "name": "stdout",
     "output_type": "stream",
     "text": [
      "Mean AUC Score for Logistic Regression with 300 iterations: 0.7211989420475644\n"
     ]
    }
   ],
   "source": [
    "logreg3_clf = LogisticRegression(solver=\"saga\",penalty=\"l1\",random_state=42, max_iter=300)\n",
    "\n",
    "logreg3_cv_score = cross_val_score(logreg3_clf, X, y, scoring=\"roc_auc\", cv=10)\n",
    "cross_val_results.append(logreg3_cv_score)\n",
    "print(f\"Mean AUC Score for Logistic Regression with 300 iterations: {logreg3_cv_score.mean()}\")"
   ]
  },
  {
   "cell_type": "code",
   "execution_count": 16,
   "metadata": {},
   "outputs": [
    {
     "name": "stdout",
     "output_type": "stream",
     "text": [
      "Mean AUC Score for SGD with hinge loss: 0.7003898450248925\n"
     ]
    }
   ],
   "source": [
    "# Sklearn Method 2 code here \n",
    "sgdR1_clf = SGDClassifier(loss = 'hinge',random_state =42)\n",
    "sgdR1_cv_score = cross_val_score(sgdR1_clf,X,y,cv=10,scoring = 'roc_auc')\n",
    "cross_val_results.append(sgdR1_cv_score)\n",
    "print(f\"Mean AUC Score for SGD with hinge loss: {sgdR1_cv_score.mean()}\")"
   ]
  },
  {
   "cell_type": "code",
   "execution_count": 17,
   "metadata": {},
   "outputs": [
    {
     "name": "stdout",
     "output_type": "stream",
     "text": [
      "Mean AUC Score for SGD with squared_hinge loss: 0.6378472697704847\n"
     ]
    }
   ],
   "source": [
    "sgdR2_clf = SGDClassifier(loss = 'squared_hinge',random_state =42)\n",
    "sgdR2_cv_score = cross_val_score(sgdR2_clf,X,y,cv=10,scoring = 'roc_auc')\n",
    "cross_val_results.append(sgdR2_cv_score)\n",
    "print(f\"Mean AUC Score for SGD with squared_hinge loss: {sgdR2_cv_score.mean()}\")"
   ]
  },
  {
   "cell_type": "code",
   "execution_count": 18,
   "metadata": {},
   "outputs": [
    {
     "name": "stdout",
     "output_type": "stream",
     "text": [
      "Mean AUC Score for SGD with perceptron loss: 0.6328185364220558\n"
     ]
    }
   ],
   "source": [
    "sgdR3_clf = SGDClassifier(loss='perceptron',random_state=42)\n",
    "sgdR3_cv_score = cross_val_score(sgdR3_clf,X,y,cv=10,scoring='roc_auc')\n",
    "cross_val_results.append(sgdR3_cv_score)\n",
    "print(f\"Mean AUC Score for SGD with perceptron loss: {sgdR3_cv_score.mean()}\")"
   ]
  },
  {
   "cell_type": "code",
   "execution_count": 19,
   "metadata": {},
   "outputs": [
    {
     "name": "stdout",
     "output_type": "stream",
     "text": [
      "Mean AUC Score for Ridge with alpha(1e-2): 0.7153641869820431\n"
     ]
    }
   ],
   "source": [
    "# Sklearn Method 3 code here\n",
    "ridgeA1_clf = RidgeClassifier(alpha = 1e-2)\n",
    "ridgeA1_cv_score = cross_val_score(ridgeA1_clf,X,y,cv=10,scoring = 'roc_auc')\n",
    "cross_val_results.append(ridgeA1_cv_score)\n",
    "print(f\"Mean AUC Score for Ridge with alpha(1e-2): {ridgeA1_cv_score.mean()}\")"
   ]
  },
  {
   "cell_type": "code",
   "execution_count": 20,
   "metadata": {},
   "outputs": [
    {
     "name": "stdout",
     "output_type": "stream",
     "text": [
      "Mean AUC Score with Ridge with alpha(1e-1): 0.7153637349823081\n"
     ]
    }
   ],
   "source": [
    "ridgeA2_clf = RidgeClassifier(alpha = 1e-1)\n",
    "ridgeA2_cv_score = cross_val_score(ridgeA2_clf,X,y,cv=10,scoring = 'roc_auc')\n",
    "cross_val_results.append(ridgeA2_cv_score)\n",
    "print(f\"Mean AUC Score with Ridge with alpha(1e-1): {ridgeA2_cv_score.mean()}\")"
   ]
  },
  {
   "cell_type": "code",
   "execution_count": 21,
   "metadata": {},
   "outputs": [
    {
     "name": "stdout",
     "output_type": "stream",
     "text": [
      "Mean AUC Score with Ridge with alpha(1): 0.7153612868750263\n"
     ]
    }
   ],
   "source": [
    "ridgeA3_clf = RidgeClassifier(alpha = 1)\n",
    "ridgeA3_cv_score = cross_val_score(ridgeA3_clf,X,y,cv=10,scoring = 'roc_auc')\n",
    "cross_val_results.append(ridgeA3_cv_score)\n",
    "print(f\"Mean AUC Score with Ridge with alpha(1): {ridgeA3_cv_score.mean()}\")"
   ]
  },
  {
   "cell_type": "code",
   "execution_count": 22,
   "metadata": {},
   "outputs": [
    {
     "name": "stdout",
     "output_type": "stream",
     "text": [
      "Mean AUC Score for Random Forest: 0.7704240495207836\n"
     ]
    }
   ],
   "source": [
    "# Sklearn Method 4 code here \n",
    "rf_clf = RandomForestClassifier(n_estimators=100, max_leaf_nodes=16, n_jobs=-1)\n",
    "rf_clf_score = cross_val_score(rf_clf, X, y, scoring=\"roc_auc\", cv=10)\n",
    "\n",
    "cross_val_results.append(rf_clf_score)\n",
    "print(f\"Mean AUC Score for Random Forest: {rf_clf_score.mean()}\")"
   ]
  },
  {
   "cell_type": "code",
   "execution_count": 23,
   "metadata": {},
   "outputs": [
    {
     "name": "stdout",
     "output_type": "stream",
     "text": [
      "Mean AUC Score for Random Forest: 0.7692404102056404\n"
     ]
    }
   ],
   "source": [
    "rf2_clf = RandomForestClassifier(n_estimators=50, max_leaf_nodes=16, n_jobs=-1)\n",
    "rf2_clf_score = cross_val_score(rf2_clf, X, y, scoring=\"roc_auc\", cv=10)\n",
    "\n",
    "cross_val_results.append(rf2_clf_score)\n",
    "print(f\"Mean AUC Score for Random Forest: {rf2_clf_score.mean()}\")"
   ]
  },
  {
   "cell_type": "code",
   "execution_count": 24,
   "metadata": {},
   "outputs": [
    {
     "name": "stdout",
     "output_type": "stream",
     "text": [
      "Mean AUC Score for Random Forest: 0.7693733423334604\n"
     ]
    }
   ],
   "source": [
    "rf3_clf = RandomForestClassifier(n_estimators=25, max_leaf_nodes=16, n_jobs=-1)\n",
    "rf3_clf_score = cross_val_score(rf3_clf, X, y, scoring=\"roc_auc\", cv=10)\n",
    "\n",
    "cross_val_results.append(rf3_clf_score)\n",
    "print(f\"Mean AUC Score for Random Forest: {rf3_clf_score.mean()}\")"
   ]
  },
  {
   "cell_type": "code",
   "execution_count": 25,
   "metadata": {},
   "outputs": [
    {
     "data": {
      "text/plain": [
       "(0.5, 0.9)"
      ]
     },
     "execution_count": 25,
     "metadata": {},
     "output_type": "execute_result"
    },
    {
     "data": {
      "image/png": "[encoded data removed]",
      "text/plain": [
       "<Figure size 1008x504 with 1 Axes>"
      ]
     },
     "metadata": {
      "needs_background": "light"
     },
     "output_type": "display_data"
    }
   ],
   "source": [
    "algo_names = [\"LogisticRegression(1)\", \"LogisticRegression(2)\",\"LogisticRegression(3)\",\n",
    "              \"SGDClassifier(1)\", \"SGDClassifier(2)\" ,\"SGDClassifier(3)\",\n",
    "              \"RidgeClassifier(1)\", \"RidgeClassifier(2)\", \"RidgeClassifier(3)\",\n",
    "              \"RandomForestClassifier(1)\", \"RandomForestClassifier(2)\", \"RandomForestClassifier(3)\"\n",
    "             ]\n",
    "\n",
    "fig = plt.figure(figsize=(14, 7))\n",
    "fig.suptitle(\"Comparison of different Algorithms and different Hyperparamters\", fontsize=22)\n",
    "ax = fig.add_subplot(111)\n",
    "sns.boxplot(x=algo_names, y=cross_val_results)\n",
    "ax.set_xticklabels(algo_names)\n",
    "ax.set_xlabel(\"Algorithm\", fontsize=14)\n",
    "ax.set_ylabel(\"Mean AUC Score\", fontsize=18)\n",
    "ax.set_xticklabels(ax.get_xticklabels(), rotation=45)   # Creates the x_ticks to be tilted on it's diagonal.\n",
    "plt.ylim((0.5, 0.9))"
   ]
  },
  {
   "cell_type": "code",
   "execution_count": 26,
   "metadata": {},
   "outputs": [
    {
     "data": {
      "text/plain": [
       "RandomForestClassifier(bootstrap=True, class_weight=None, criterion='gini',\n",
       "                       max_depth=None, max_features='auto', max_leaf_nodes=16,\n",
       "                       min_impurity_decrease=0.0, min_impurity_split=None,\n",
       "                       min_samples_leaf=1, min_samples_split=2,\n",
       "                       min_weight_fraction_leaf=0.0, n_estimators=25, n_jobs=-1,\n",
       "                       oob_score=False, random_state=None, verbose=0,\n",
       "                       warm_start=False)"
      ]
     },
     "execution_count": 26,
     "metadata": {},
     "output_type": "execute_result"
    }
   ],
   "source": [
    "logreg1_clf.fit(X_train, y_train)\n",
    "logreg2_clf.fit(X_train, y_train)\n",
    "logreg3_clf.fit(X_train, y_train)\n",
    "\n",
    "sgdR1_clf.fit(X_train, y_train)\n",
    "sgdR2_clf.fit(X_train, y_train)\n",
    "sgdR3_clf.fit(X_train, y_train)\n",
    "\n",
    "ridgeA1_clf.fit(X_train,y_train)\n",
    "ridgeA2_clf.fit(X_train,y_train)\n",
    "ridgeA3_clf.fit(X_train,y_train)\n",
    "\n",
    "rf_clf.fit(X_train, y_train)\n",
    "rf2_clf.fit(X_train, y_train)\n",
    "rf3_clf.fit(X_train, y_train)"
   ]
  },
  {
   "cell_type": "markdown",
   "metadata": {},
   "source": [
    "<p>Calculate the metrics for each tuned hyperparameter for each method.</p>"
   ]
  },
  {
   "cell_type": "code",
   "execution_count": 27,
   "metadata": {},
   "outputs": [],
   "source": [
    "logreg1_probs = logreg1_clf.predict_proba(X_test)\n",
    "logreg1_preds = logreg1_probs[:,1]\n",
    "logreg1_fpr, logreg1_tpr, logreg1_threshold = metrics.roc_curve(y_test, logreg1_preds)\n",
    "logreg1_roc_auc = metrics.auc(logreg1_fpr, logreg1_tpr)\n",
    "\n",
    "logreg2_probs = logreg2_clf.predict_proba(X_test)\n",
    "logreg2_preds = logreg2_probs[:,1]\n",
    "logreg2_fpr, logreg2_tpr, logreg2_threshold = metrics.roc_curve(y_test, logreg2_preds)\n",
    "logreg2_roc_auc = metrics.auc(logreg2_fpr, logreg2_tpr)\n",
    "\n",
    "logreg3_probs = logreg3_clf.predict_proba(X_test)\n",
    "logreg3_preds = logreg3_probs[:,1]\n",
    "logreg3_fpr, logreg3_tpr, logreg3_threshold = metrics.roc_curve(y_test, logreg3_preds)\n",
    "logreg3_roc_auc = metrics.auc(logreg3_fpr, logreg3_tpr)\n",
    "\n",
    "sgdR1_probs = sgdR1_clf.decision_function(X_test)\n",
    "sgdR1_fpr, sgdR1_tpr, sgdR1_threshold = metrics.roc_curve(y_test, sgdR1_probs)\n",
    "sgdR1_roc_auc = metrics.auc(sgdR1_fpr,sgdR1_tpr)\n",
    "\n",
    "sgdR2_probs = sgdR2_clf.decision_function(X_test)\n",
    "sgdR2_fpr, sgdR2_tpr, sgdR2_threshold = metrics.roc_curve(y_test, sgdR2_probs)\n",
    "sgdR2_roc_auc = metrics.auc(sgdR2_fpr,sgdR2_tpr)\n",
    "\n",
    "sgdR3_probs = sgdR3_clf.decision_function(X_test)\n",
    "sgdR3_fpr, sgdR3_tpr, sgdR3_threshold = metrics.roc_curve(y_test, sgdR3_probs)\n",
    "sgdR3_roc_auc = metrics.auc(sgdR3_fpr,sgdR3_tpr)\n",
    "\n",
    "ridgeA1_probs = ridgeA1_clf.decision_function(X_test)\n",
    "ridgeA1_fpr, ridgeA1_tpr, ridgeA1_threshold = metrics.roc_curve(y_test, ridgeA1_probs)\n",
    "ridgeA1_roc_auc = metrics.auc(ridgeA1_fpr,ridgeA1_tpr)\n",
    "\n",
    "ridgeA2_probs = ridgeA1_clf.decision_function(X_test)\n",
    "ridgeA2_fpr, ridgeA2_tpr, ridgeA2_threshold = metrics.roc_curve(y_test, ridgeA2_probs)\n",
    "ridgeA2_roc_auc = metrics.auc(ridgeA2_fpr,ridgeA2_tpr)\n",
    "\n",
    "ridgeA3_probs = ridgeA3_clf.decision_function(X_test)\n",
    "ridgeA3_fpr, ridgeA3_tpr, ridgeA3_threshold = metrics.roc_curve(y_test, ridgeA3_probs)\n",
    "ridgeA3_roc_auc = metrics.auc(ridgeA3_fpr,ridgeA3_tpr)\n",
    "\n",
    "rf_probs = rf_clf.predict_proba(X_test)\n",
    "rf_preds = rf_probs[:,1]\n",
    "rf_fpr, rf_tpr, rf_threshold = metrics.roc_curve(y_test, rf_preds)\n",
    "rf_roc_auc = metrics.auc(rf_fpr, rf_tpr)\n",
    "\n",
    "rf2_probs = rf2_clf.predict_proba(X_test)\n",
    "rf2_preds = rf2_probs[:,1]\n",
    "rf2_fpr, rf2_tpr, rf2_threshold = metrics.roc_curve(y_test, rf2_preds)\n",
    "rf2_roc_auc = metrics.auc(rf2_fpr, rf2_tpr)\n",
    "\n",
    "rf3_probs = rf3_clf.predict_proba(X_test)\n",
    "rf3_preds = rf3_probs[:,1]\n",
    "rf3_fpr, rf3_tpr, rf3_threshold = metrics.roc_curve(y_test, rf3_preds)\n",
    "rf3_roc_auc = metrics.auc(rf3_fpr, rf3_tpr)"
   ]
  },
  {
   "cell_type": "markdown",
   "metadata": {},
   "source": [
    "<h3> Data Processing for Housing Dataset </h3>"
   ]
  },
  {
   "cell_type": "code",
   "execution_count": 28,
   "metadata": {},
   "outputs": [
    {
     "data": {
      "text/html": [
       "<div>\n",
       "<style scoped>\n",
       "    .dataframe tbody tr th:only-of-type {\n",
       "        vertical-align: middle;\n",
       "    }\n",
       "\n",
       "    .dataframe tbody tr th {\n",
       "        vertical-align: top;\n",
       "    }\n",
       "\n",
       "    .dataframe thead th {\n",
       "        text-align: right;\n",
       "    }\n",
       "</style>\n",
       "<table border=\"1\" class=\"dataframe\">\n",
       "  <thead>\n",
       "    <tr style=\"text-align: right;\">\n",
       "      <th></th>\n",
       "      <th>date</th>\n",
       "      <th>price</th>\n",
       "      <th>bedrooms</th>\n",
       "      <th>bathrooms</th>\n",
       "      <th>sqft_living</th>\n",
       "      <th>sqft_lot</th>\n",
       "      <th>floors</th>\n",
       "      <th>waterfront</th>\n",
       "      <th>view</th>\n",
       "      <th>condition</th>\n",
       "      <th>sqft_above</th>\n",
       "      <th>sqft_basement</th>\n",
       "      <th>yr_built</th>\n",
       "      <th>yr_renovated</th>\n",
       "      <th>street</th>\n",
       "      <th>city</th>\n",
       "      <th>statezip</th>\n",
       "      <th>country</th>\n",
       "    </tr>\n",
       "  </thead>\n",
       "  <tbody>\n",
       "    <tr>\n",
       "      <th>0</th>\n",
       "      <td>2014-05-02 00:00:00</td>\n",
       "      <td>313000.0</td>\n",
       "      <td>3.0</td>\n",
       "      <td>1.50</td>\n",
       "      <td>1340</td>\n",
       "      <td>7912</td>\n",
       "      <td>1.5</td>\n",
       "      <td>0</td>\n",
       "      <td>0</td>\n",
       "      <td>3</td>\n",
       "      <td>1340</td>\n",
       "      <td>0</td>\n",
       "      <td>1955</td>\n",
       "      <td>2005</td>\n",
       "      <td>18810 Densmore Ave N</td>\n",
       "      <td>Shoreline</td>\n",
       "      <td>WA 98133</td>\n",
       "      <td>USA</td>\n",
       "    </tr>\n",
       "    <tr>\n",
       "      <th>1</th>\n",
       "      <td>2014-05-02 00:00:00</td>\n",
       "      <td>2384000.0</td>\n",
       "      <td>5.0</td>\n",
       "      <td>2.50</td>\n",
       "      <td>3650</td>\n",
       "      <td>9050</td>\n",
       "      <td>2.0</td>\n",
       "      <td>0</td>\n",
       "      <td>4</td>\n",
       "      <td>5</td>\n",
       "      <td>3370</td>\n",
       "      <td>280</td>\n",
       "      <td>1921</td>\n",
       "      <td>0</td>\n",
       "      <td>709 W Blaine St</td>\n",
       "      <td>Seattle</td>\n",
       "      <td>WA 98119</td>\n",
       "      <td>USA</td>\n",
       "    </tr>\n",
       "    <tr>\n",
       "      <th>2</th>\n",
       "      <td>2014-05-02 00:00:00</td>\n",
       "      <td>342000.0</td>\n",
       "      <td>3.0</td>\n",
       "      <td>2.00</td>\n",
       "      <td>1930</td>\n",
       "      <td>11947</td>\n",
       "      <td>1.0</td>\n",
       "      <td>0</td>\n",
       "      <td>0</td>\n",
       "      <td>4</td>\n",
       "      <td>1930</td>\n",
       "      <td>0</td>\n",
       "      <td>1966</td>\n",
       "      <td>0</td>\n",
       "      <td>26206-26214 143rd Ave SE</td>\n",
       "      <td>Kent</td>\n",
       "      <td>WA 98042</td>\n",
       "      <td>USA</td>\n",
       "    </tr>\n",
       "    <tr>\n",
       "      <th>3</th>\n",
       "      <td>2014-05-02 00:00:00</td>\n",
       "      <td>420000.0</td>\n",
       "      <td>3.0</td>\n",
       "      <td>2.25</td>\n",
       "      <td>2000</td>\n",
       "      <td>8030</td>\n",
       "      <td>1.0</td>\n",
       "      <td>0</td>\n",
       "      <td>0</td>\n",
       "      <td>4</td>\n",
       "      <td>1000</td>\n",
       "      <td>1000</td>\n",
       "      <td>1963</td>\n",
       "      <td>0</td>\n",
       "      <td>857 170th Pl NE</td>\n",
       "      <td>Bellevue</td>\n",
       "      <td>WA 98008</td>\n",
       "      <td>USA</td>\n",
       "    </tr>\n",
       "    <tr>\n",
       "      <th>4</th>\n",
       "      <td>2014-05-02 00:00:00</td>\n",
       "      <td>550000.0</td>\n",
       "      <td>4.0</td>\n",
       "      <td>2.50</td>\n",
       "      <td>1940</td>\n",
       "      <td>10500</td>\n",
       "      <td>1.0</td>\n",
       "      <td>0</td>\n",
       "      <td>0</td>\n",
       "      <td>4</td>\n",
       "      <td>1140</td>\n",
       "      <td>800</td>\n",
       "      <td>1976</td>\n",
       "      <td>1992</td>\n",
       "      <td>9105 170th Ave NE</td>\n",
       "      <td>Redmond</td>\n",
       "      <td>WA 98052</td>\n",
       "      <td>USA</td>\n",
       "    </tr>\n",
       "  </tbody>\n",
       "</table>\n",
       "</div>"
      ],
      "text/plain": [
       "                  date      price  bedrooms  bathrooms  sqft_living  sqft_lot  \\\n",
       "0  2014-05-02 00:00:00   313000.0       3.0       1.50         1340      7912   \n",
       "1  2014-05-02 00:00:00  2384000.0       5.0       2.50         3650      9050   \n",
       "2  2014-05-02 00:00:00   342000.0       3.0       2.00         1930     11947   \n",
       "3  2014-05-02 00:00:00   420000.0       3.0       2.25         2000      8030   \n",
       "4  2014-05-02 00:00:00   550000.0       4.0       2.50         1940     10500   \n",
       "\n",
       "   floors  waterfront  view  condition  sqft_above  sqft_basement  yr_built  \\\n",
       "0     1.5           0     0          3        1340              0      1955   \n",
       "1     2.0           0     4          5        3370            280      1921   \n",
       "2     1.0           0     0          4        1930              0      1966   \n",
       "3     1.0           0     0          4        1000           1000      1963   \n",
       "4     1.0           0     0          4        1140            800      1976   \n",
       "\n",
       "   yr_renovated                    street       city  statezip country  \n",
       "0          2005      18810 Densmore Ave N  Shoreline  WA 98133     USA  \n",
       "1             0           709 W Blaine St    Seattle  WA 98119     USA  \n",
       "2             0  26206-26214 143rd Ave SE       Kent  WA 98042     USA  \n",
       "3             0           857 170th Pl NE   Bellevue  WA 98008     USA  \n",
       "4          1992         9105 170th Ave NE    Redmond  WA 98052     USA  "
      ]
     },
     "execution_count": 28,
     "metadata": {},
     "output_type": "execute_result"
    }
   ],
   "source": [
    "housing_df.head()"
   ]
  },
  {
   "cell_type": "code",
   "execution_count": 29,
   "metadata": {},
   "outputs": [
    {
     "data": {
      "text/plain": [
       "date             0\n",
       "price            0\n",
       "bedrooms         0\n",
       "bathrooms        0\n",
       "sqft_living      0\n",
       "sqft_lot         0\n",
       "floors           0\n",
       "waterfront       0\n",
       "view             0\n",
       "condition        0\n",
       "sqft_above       0\n",
       "sqft_basement    0\n",
       "yr_built         0\n",
       "yr_renovated     0\n",
       "street           0\n",
       "city             0\n",
       "statezip         0\n",
       "country          0\n",
       "dtype: int64"
      ]
     },
     "execution_count": 29,
     "metadata": {},
     "output_type": "execute_result"
    }
   ],
   "source": [
    "housing_df.isna().sum()"
   ]
  },
  {
   "cell_type": "code",
   "execution_count": 30,
   "metadata": {},
   "outputs": [
    {
     "name": "stdout",
     "output_type": "stream",
     "text": [
      "(4600, 16)\n"
     ]
    },
    {
     "data": {
      "text/html": [
       "<div>\n",
       "<style scoped>\n",
       "    .dataframe tbody tr th:only-of-type {\n",
       "        vertical-align: middle;\n",
       "    }\n",
       "\n",
       "    .dataframe tbody tr th {\n",
       "        vertical-align: top;\n",
       "    }\n",
       "\n",
       "    .dataframe thead th {\n",
       "        text-align: right;\n",
       "    }\n",
       "</style>\n",
       "<table border=\"1\" class=\"dataframe\">\n",
       "  <thead>\n",
       "    <tr style=\"text-align: right;\">\n",
       "      <th></th>\n",
       "      <th>price</th>\n",
       "      <th>bedrooms</th>\n",
       "      <th>bathrooms</th>\n",
       "      <th>sqft_living</th>\n",
       "      <th>sqft_lot</th>\n",
       "      <th>floors</th>\n",
       "      <th>waterfront</th>\n",
       "      <th>view</th>\n",
       "      <th>condition</th>\n",
       "      <th>sqft_above</th>\n",
       "      <th>sqft_basement</th>\n",
       "      <th>yr_built</th>\n",
       "      <th>yr_renovated</th>\n",
       "      <th>street</th>\n",
       "      <th>city</th>\n",
       "      <th>statezip</th>\n",
       "    </tr>\n",
       "  </thead>\n",
       "  <tbody>\n",
       "    <tr>\n",
       "      <th>0</th>\n",
       "      <td>313000.0</td>\n",
       "      <td>3.0</td>\n",
       "      <td>1.50</td>\n",
       "      <td>1340</td>\n",
       "      <td>7912</td>\n",
       "      <td>1.5</td>\n",
       "      <td>0</td>\n",
       "      <td>0</td>\n",
       "      <td>3</td>\n",
       "      <td>1340</td>\n",
       "      <td>0</td>\n",
       "      <td>1955</td>\n",
       "      <td>2005</td>\n",
       "      <td>18810 Densmore Ave N</td>\n",
       "      <td>Shoreline</td>\n",
       "      <td>WA 98133</td>\n",
       "    </tr>\n",
       "    <tr>\n",
       "      <th>1</th>\n",
       "      <td>2384000.0</td>\n",
       "      <td>5.0</td>\n",
       "      <td>2.50</td>\n",
       "      <td>3650</td>\n",
       "      <td>9050</td>\n",
       "      <td>2.0</td>\n",
       "      <td>0</td>\n",
       "      <td>4</td>\n",
       "      <td>5</td>\n",
       "      <td>3370</td>\n",
       "      <td>280</td>\n",
       "      <td>1921</td>\n",
       "      <td>0</td>\n",
       "      <td>709 W Blaine St</td>\n",
       "      <td>Seattle</td>\n",
       "      <td>WA 98119</td>\n",
       "    </tr>\n",
       "    <tr>\n",
       "      <th>2</th>\n",
       "      <td>342000.0</td>\n",
       "      <td>3.0</td>\n",
       "      <td>2.00</td>\n",
       "      <td>1930</td>\n",
       "      <td>11947</td>\n",
       "      <td>1.0</td>\n",
       "      <td>0</td>\n",
       "      <td>0</td>\n",
       "      <td>4</td>\n",
       "      <td>1930</td>\n",
       "      <td>0</td>\n",
       "      <td>1966</td>\n",
       "      <td>0</td>\n",
       "      <td>26206-26214 143rd Ave SE</td>\n",
       "      <td>Kent</td>\n",
       "      <td>WA 98042</td>\n",
       "    </tr>\n",
       "    <tr>\n",
       "      <th>3</th>\n",
       "      <td>420000.0</td>\n",
       "      <td>3.0</td>\n",
       "      <td>2.25</td>\n",
       "      <td>2000</td>\n",
       "      <td>8030</td>\n",
       "      <td>1.0</td>\n",
       "      <td>0</td>\n",
       "      <td>0</td>\n",
       "      <td>4</td>\n",
       "      <td>1000</td>\n",
       "      <td>1000</td>\n",
       "      <td>1963</td>\n",
       "      <td>0</td>\n",
       "      <td>857 170th Pl NE</td>\n",
       "      <td>Bellevue</td>\n",
       "      <td>WA 98008</td>\n",
       "    </tr>\n",
       "    <tr>\n",
       "      <th>4</th>\n",
       "      <td>550000.0</td>\n",
       "      <td>4.0</td>\n",
       "      <td>2.50</td>\n",
       "      <td>1940</td>\n",
       "      <td>10500</td>\n",
       "      <td>1.0</td>\n",
       "      <td>0</td>\n",
       "      <td>0</td>\n",
       "      <td>4</td>\n",
       "      <td>1140</td>\n",
       "      <td>800</td>\n",
       "      <td>1976</td>\n",
       "      <td>1992</td>\n",
       "      <td>9105 170th Ave NE</td>\n",
       "      <td>Redmond</td>\n",
       "      <td>WA 98052</td>\n",
       "    </tr>\n",
       "  </tbody>\n",
       "</table>\n",
       "</div>"
      ],
      "text/plain": [
       "       price  bedrooms  bathrooms  sqft_living  sqft_lot  floors  waterfront  \\\n",
       "0   313000.0       3.0       1.50         1340      7912     1.5           0   \n",
       "1  2384000.0       5.0       2.50         3650      9050     2.0           0   \n",
       "2   342000.0       3.0       2.00         1930     11947     1.0           0   \n",
       "3   420000.0       3.0       2.25         2000      8030     1.0           0   \n",
       "4   550000.0       4.0       2.50         1940     10500     1.0           0   \n",
       "\n",
       "   view  condition  sqft_above  sqft_basement  yr_built  yr_renovated  \\\n",
       "0     0          3        1340              0      1955          2005   \n",
       "1     4          5        3370            280      1921             0   \n",
       "2     0          4        1930              0      1966             0   \n",
       "3     0          4        1000           1000      1963             0   \n",
       "4     0          4        1140            800      1976          1992   \n",
       "\n",
       "                     street       city  statezip  \n",
       "0      18810 Densmore Ave N  Shoreline  WA 98133  \n",
       "1           709 W Blaine St    Seattle  WA 98119  \n",
       "2  26206-26214 143rd Ave SE       Kent  WA 98042  \n",
       "3           857 170th Pl NE   Bellevue  WA 98008  \n",
       "4         9105 170th Ave NE    Redmond  WA 98052  "
      ]
     },
     "execution_count": 30,
     "metadata": {},
     "output_type": "execute_result"
    }
   ],
   "source": [
    "# Knowing that every house sold here is in Washington State, drop the country column\n",
    "# Drop the time, too\n",
    "housing_df.drop([\"country\", \"date\"], axis=1, inplace=True)\n",
    "print(housing_df.shape)\n",
    "housing_df.head()"
   ]
  },
  {
   "cell_type": "code",
   "execution_count": 31,
   "metadata": {},
   "outputs": [
    {
     "name": "stdout",
     "output_type": "stream",
     "text": [
      "0    4567\n",
      "1      33\n",
      "Name: waterfront, dtype: int64\n",
      "\n",
      "0    4140\n",
      "2     205\n",
      "3     116\n",
      "4      70\n",
      "1      69\n",
      "Name: view, dtype: int64\n",
      "\n",
      "3    2875\n",
      "4    1252\n",
      "5     435\n",
      "2      32\n",
      "1       6\n",
      "Name: condition, dtype: int64\n"
     ]
    }
   ],
   "source": [
    "print(housing_df[\"waterfront\"].value_counts())\n",
    "print()\n",
    "print(housing_df[\"view\"].value_counts())\n",
    "print()\n",
    "print(housing_df[\"condition\"].value_counts())"
   ]
  },
  {
   "cell_type": "code",
   "execution_count": 32,
   "metadata": {},
   "outputs": [
    {
     "data": {
      "text/html": [
       "<div>\n",
       "<style scoped>\n",
       "    .dataframe tbody tr th:only-of-type {\n",
       "        vertical-align: middle;\n",
       "    }\n",
       "\n",
       "    .dataframe tbody tr th {\n",
       "        vertical-align: top;\n",
       "    }\n",
       "\n",
       "    .dataframe thead th {\n",
       "        text-align: right;\n",
       "    }\n",
       "</style>\n",
       "<table border=\"1\" class=\"dataframe\">\n",
       "  <thead>\n",
       "    <tr style=\"text-align: right;\">\n",
       "      <th></th>\n",
       "      <th>price</th>\n",
       "      <th>bedrooms</th>\n",
       "      <th>bathrooms</th>\n",
       "      <th>sqft_living</th>\n",
       "      <th>sqft_lot</th>\n",
       "      <th>floors</th>\n",
       "      <th>waterfront</th>\n",
       "      <th>view</th>\n",
       "      <th>condition</th>\n",
       "      <th>sqft_above</th>\n",
       "      <th>sqft_basement</th>\n",
       "      <th>yr_built</th>\n",
       "      <th>yr_renovated</th>\n",
       "      <th>city</th>\n",
       "      <th>statezip</th>\n",
       "    </tr>\n",
       "  </thead>\n",
       "  <tbody>\n",
       "    <tr>\n",
       "      <th>0</th>\n",
       "      <td>313000.0</td>\n",
       "      <td>3.0</td>\n",
       "      <td>1.50</td>\n",
       "      <td>1340</td>\n",
       "      <td>7912</td>\n",
       "      <td>1.5</td>\n",
       "      <td>0</td>\n",
       "      <td>0</td>\n",
       "      <td>3</td>\n",
       "      <td>1340</td>\n",
       "      <td>0</td>\n",
       "      <td>1955</td>\n",
       "      <td>2005</td>\n",
       "      <td>36</td>\n",
       "      <td>62</td>\n",
       "    </tr>\n",
       "    <tr>\n",
       "      <th>1</th>\n",
       "      <td>2384000.0</td>\n",
       "      <td>5.0</td>\n",
       "      <td>2.50</td>\n",
       "      <td>3650</td>\n",
       "      <td>9050</td>\n",
       "      <td>2.0</td>\n",
       "      <td>0</td>\n",
       "      <td>4</td>\n",
       "      <td>5</td>\n",
       "      <td>3370</td>\n",
       "      <td>280</td>\n",
       "      <td>1921</td>\n",
       "      <td>0</td>\n",
       "      <td>35</td>\n",
       "      <td>58</td>\n",
       "    </tr>\n",
       "    <tr>\n",
       "      <th>2</th>\n",
       "      <td>342000.0</td>\n",
       "      <td>3.0</td>\n",
       "      <td>2.00</td>\n",
       "      <td>1930</td>\n",
       "      <td>11947</td>\n",
       "      <td>1.0</td>\n",
       "      <td>0</td>\n",
       "      <td>0</td>\n",
       "      <td>4</td>\n",
       "      <td>1930</td>\n",
       "      <td>0</td>\n",
       "      <td>1966</td>\n",
       "      <td>0</td>\n",
       "      <td>18</td>\n",
       "      <td>26</td>\n",
       "    </tr>\n",
       "    <tr>\n",
       "      <th>3</th>\n",
       "      <td>420000.0</td>\n",
       "      <td>3.0</td>\n",
       "      <td>2.25</td>\n",
       "      <td>2000</td>\n",
       "      <td>8030</td>\n",
       "      <td>1.0</td>\n",
       "      <td>0</td>\n",
       "      <td>0</td>\n",
       "      <td>4</td>\n",
       "      <td>1000</td>\n",
       "      <td>1000</td>\n",
       "      <td>1963</td>\n",
       "      <td>0</td>\n",
       "      <td>3</td>\n",
       "      <td>7</td>\n",
       "    </tr>\n",
       "    <tr>\n",
       "      <th>4</th>\n",
       "      <td>550000.0</td>\n",
       "      <td>4.0</td>\n",
       "      <td>2.50</td>\n",
       "      <td>1940</td>\n",
       "      <td>10500</td>\n",
       "      <td>1.0</td>\n",
       "      <td>0</td>\n",
       "      <td>0</td>\n",
       "      <td>4</td>\n",
       "      <td>1140</td>\n",
       "      <td>800</td>\n",
       "      <td>1976</td>\n",
       "      <td>1992</td>\n",
       "      <td>31</td>\n",
       "      <td>31</td>\n",
       "    </tr>\n",
       "  </tbody>\n",
       "</table>\n",
       "</div>"
      ],
      "text/plain": [
       "       price  bedrooms  bathrooms  sqft_living  sqft_lot  floors  waterfront  \\\n",
       "0   313000.0       3.0       1.50         1340      7912     1.5           0   \n",
       "1  2384000.0       5.0       2.50         3650      9050     2.0           0   \n",
       "2   342000.0       3.0       2.00         1930     11947     1.0           0   \n",
       "3   420000.0       3.0       2.25         2000      8030     1.0           0   \n",
       "4   550000.0       4.0       2.50         1940     10500     1.0           0   \n",
       "\n",
       "   view  condition  sqft_above  sqft_basement  yr_built  yr_renovated  city  \\\n",
       "0     0          3        1340              0      1955          2005    36   \n",
       "1     4          5        3370            280      1921             0    35   \n",
       "2     0          4        1930              0      1966             0    18   \n",
       "3     0          4        1000           1000      1963             0     3   \n",
       "4     0          4        1140            800      1976          1992    31   \n",
       "\n",
       "   statezip  \n",
       "0        62  \n",
       "1        58  \n",
       "2        26  \n",
       "3         7  \n",
       "4        31  "
      ]
     },
     "execution_count": 32,
     "metadata": {},
     "output_type": "execute_result"
    }
   ],
   "source": [
    "# Set city, statezip, and street into categories\n",
    "housing_df['city'] = pd.Categorical(housing_df.city).codes\n",
    "housing_df['statezip'] = pd.Categorical(housing_df.statezip).codes\n",
    "housing_df.drop(\"street\", axis=1, inplace=True)\n",
    "housing_df.head()"
   ]
  },
  {
   "cell_type": "code",
   "execution_count": 33,
   "metadata": {},
   "outputs": [
    {
     "name": "stdout",
     "output_type": "stream",
     "text": [
      "(4504, 15)\n"
     ]
    },
    {
     "data": {
      "text/html": [
       "<div>\n",
       "<style scoped>\n",
       "    .dataframe tbody tr th:only-of-type {\n",
       "        vertical-align: middle;\n",
       "    }\n",
       "\n",
       "    .dataframe tbody tr th {\n",
       "        vertical-align: top;\n",
       "    }\n",
       "\n",
       "    .dataframe thead th {\n",
       "        text-align: right;\n",
       "    }\n",
       "</style>\n",
       "<table border=\"1\" class=\"dataframe\">\n",
       "  <thead>\n",
       "    <tr style=\"text-align: right;\">\n",
       "      <th></th>\n",
       "      <th>price</th>\n",
       "      <th>bedrooms</th>\n",
       "      <th>bathrooms</th>\n",
       "      <th>sqft_living</th>\n",
       "      <th>sqft_lot</th>\n",
       "      <th>floors</th>\n",
       "      <th>waterfront</th>\n",
       "      <th>view</th>\n",
       "      <th>condition</th>\n",
       "      <th>sqft_above</th>\n",
       "      <th>sqft_basement</th>\n",
       "      <th>yr_built</th>\n",
       "      <th>yr_renovated</th>\n",
       "      <th>city</th>\n",
       "      <th>statezip</th>\n",
       "    </tr>\n",
       "  </thead>\n",
       "  <tbody>\n",
       "    <tr>\n",
       "      <th>0</th>\n",
       "      <td>313000.0</td>\n",
       "      <td>3.0</td>\n",
       "      <td>1.50</td>\n",
       "      <td>1340</td>\n",
       "      <td>7912</td>\n",
       "      <td>1.5</td>\n",
       "      <td>0</td>\n",
       "      <td>0</td>\n",
       "      <td>3</td>\n",
       "      <td>1340</td>\n",
       "      <td>0</td>\n",
       "      <td>1955</td>\n",
       "      <td>2005</td>\n",
       "      <td>36</td>\n",
       "      <td>62</td>\n",
       "    </tr>\n",
       "    <tr>\n",
       "      <th>1</th>\n",
       "      <td>342000.0</td>\n",
       "      <td>3.0</td>\n",
       "      <td>2.00</td>\n",
       "      <td>1930</td>\n",
       "      <td>11947</td>\n",
       "      <td>1.0</td>\n",
       "      <td>0</td>\n",
       "      <td>0</td>\n",
       "      <td>4</td>\n",
       "      <td>1930</td>\n",
       "      <td>0</td>\n",
       "      <td>1966</td>\n",
       "      <td>0</td>\n",
       "      <td>18</td>\n",
       "      <td>26</td>\n",
       "    </tr>\n",
       "    <tr>\n",
       "      <th>2</th>\n",
       "      <td>420000.0</td>\n",
       "      <td>3.0</td>\n",
       "      <td>2.25</td>\n",
       "      <td>2000</td>\n",
       "      <td>8030</td>\n",
       "      <td>1.0</td>\n",
       "      <td>0</td>\n",
       "      <td>0</td>\n",
       "      <td>4</td>\n",
       "      <td>1000</td>\n",
       "      <td>1000</td>\n",
       "      <td>1963</td>\n",
       "      <td>0</td>\n",
       "      <td>3</td>\n",
       "      <td>7</td>\n",
       "    </tr>\n",
       "    <tr>\n",
       "      <th>3</th>\n",
       "      <td>550000.0</td>\n",
       "      <td>4.0</td>\n",
       "      <td>2.50</td>\n",
       "      <td>1940</td>\n",
       "      <td>10500</td>\n",
       "      <td>1.0</td>\n",
       "      <td>0</td>\n",
       "      <td>0</td>\n",
       "      <td>4</td>\n",
       "      <td>1140</td>\n",
       "      <td>800</td>\n",
       "      <td>1976</td>\n",
       "      <td>1992</td>\n",
       "      <td>31</td>\n",
       "      <td>31</td>\n",
       "    </tr>\n",
       "    <tr>\n",
       "      <th>4</th>\n",
       "      <td>490000.0</td>\n",
       "      <td>2.0</td>\n",
       "      <td>1.00</td>\n",
       "      <td>880</td>\n",
       "      <td>6380</td>\n",
       "      <td>1.0</td>\n",
       "      <td>0</td>\n",
       "      <td>0</td>\n",
       "      <td>3</td>\n",
       "      <td>880</td>\n",
       "      <td>0</td>\n",
       "      <td>1938</td>\n",
       "      <td>1994</td>\n",
       "      <td>35</td>\n",
       "      <td>54</td>\n",
       "    </tr>\n",
       "  </tbody>\n",
       "</table>\n",
       "</div>"
      ],
      "text/plain": [
       "      price  bedrooms  bathrooms  sqft_living  sqft_lot  floors  waterfront  \\\n",
       "0  313000.0       3.0       1.50         1340      7912     1.5           0   \n",
       "1  342000.0       3.0       2.00         1930     11947     1.0           0   \n",
       "2  420000.0       3.0       2.25         2000      8030     1.0           0   \n",
       "3  550000.0       4.0       2.50         1940     10500     1.0           0   \n",
       "4  490000.0       2.0       1.00          880      6380     1.0           0   \n",
       "\n",
       "   view  condition  sqft_above  sqft_basement  yr_built  yr_renovated  city  \\\n",
       "0     0          3        1340              0      1955          2005    36   \n",
       "1     0          4        1930              0      1966             0    18   \n",
       "2     0          4        1000           1000      1963             0     3   \n",
       "3     0          4        1140            800      1976          1992    31   \n",
       "4     0          3         880              0      1938          1994    35   \n",
       "\n",
       "   statezip  \n",
       "0        62  \n",
       "1        26  \n",
       "2         7  \n",
       "3        31  \n",
       "4        54  "
      ]
     },
     "execution_count": 33,
     "metadata": {},
     "output_type": "execute_result"
    }
   ],
   "source": [
    "# Removing outliers\n",
    "housing_df = housing_df.drop(housing_df[housing_df[\"price\"] < 1000].index).reset_index(drop=True)\n",
    "housing_df = housing_df.drop(housing_df[housing_df[\"price\"] > 2000000].index).reset_index(drop=True)\n",
    "print(housing_df.shape)\n",
    "housing_df.head()"
   ]
  },
  {
   "cell_type": "code",
   "execution_count": 34,
   "metadata": {},
   "outputs": [
    {
     "name": "stdout",
     "output_type": "stream",
     "text": [
      "(4504, 14)\n",
      "(4504,)\n"
     ]
    }
   ],
   "source": [
    "x = housing_df.drop(\"price\", axis=1)\n",
    "y = housing_df.price\n",
    "\n",
    "print(x.shape)\n",
    "print(y.shape)"
   ]
  },
  {
   "cell_type": "code",
   "execution_count": 35,
   "metadata": {},
   "outputs": [],
   "source": [
    "train_data,test_data=train_test_split(housing_df,train_size=0.2,random_state=3)\n",
    "\n",
    "x_train=np.array(train_data['sqft_living']).reshape(-1,1)\n",
    "y_train=np.array(train_data['price']).reshape(-1,1)\n",
    "x_test=np.array(test_data['sqft_living']).reshape(-1,1)\n",
    "y_test=np.array(test_data['price']).reshape(-1,1)\n"
   ]
  },
  {
   "cell_type": "code",
   "execution_count": 36,
   "metadata": {},
   "outputs": [],
   "source": [
    "import numpy as np\n",
    "from sklearn.linear_model import LinearRegression\n",
    "import tensorflow as tf"
   ]
  },
  {
   "cell_type": "code",
   "execution_count": 37,
   "metadata": {},
   "outputs": [
    {
     "data": {
      "text/plain": [
       "LinearRegression(copy_X=True, fit_intercept=True, n_jobs=None, normalize=False)"
      ]
     },
     "execution_count": 37,
     "metadata": {},
     "output_type": "execute_result"
    }
   ],
   "source": [
    "reg = LinearRegression()\n",
    "reg.fit(x_train,y_train)"
   ]
  },
  {
   "cell_type": "code",
   "execution_count": 38,
   "metadata": {},
   "outputs": [],
   "source": [
    "pred = reg.predict(x_test)"
   ]
  },
  {
   "cell_type": "code",
   "execution_count": 39,
   "metadata": {},
   "outputs": [
    {
     "name": "stdout",
     "output_type": "stream",
     "text": [
      "Accuracy: 0.4505877490127017\n"
     ]
    }
   ],
   "source": [
    "accuracy = reg.score(x_test, y_test)\n",
    "print(f\"Accuracy: {accuracy}\")"
   ]
  },
  {
   "cell_type": "code",
   "execution_count": 40,
   "metadata": {},
   "outputs": [
    {
     "name": "stdout",
     "output_type": "stream",
     "text": [
      "MSE: $214014.24\n",
      "AE: $396.43\n"
     ]
    }
   ],
   "source": [
    "mse=metrics.mean_squared_error(y_test,pred)\n",
    "print(f\"MSE: ${round(np.sqrt(mse),2)}\")\n",
    "\n",
    "mae=metrics.mean_absolute_error(y_test, pred)\n",
    "print(f\"AE: ${round(np.sqrt(mae),2)}\")\n"
   ]
  },
  {
   "cell_type": "code",
   "execution_count": 41,
   "metadata": {},
   "outputs": [],
   "source": [
    "model = tf.keras.Sequential([\n",
    "    tf.keras.layers.Dense(128, activation='relu', input_shape=[x_train.shape[1]]),\n",
    "    tf.keras.layers.Dense(64, activation='relu'),\n",
    "    tf.keras.layers.Dense(32, activation='relu'),\n",
    "    tf.keras.layers.Dense(16, activation='relu'),\n",
    "    tf.keras.layers.Dense(8, activation='relu'),\n",
    "    tf.keras.layers.Dense(1)\n",
    "    ]) "
   ]
  },
  {
   "cell_type": "code",
   "execution_count": 42,
   "metadata": {},
   "outputs": [],
   "source": [
    "optimizer = tf.keras.optimizers.RMSprop(.0001)\n",
    "model.compile(optimizer=optimizer, loss='mse',metrics=['mae', 'mse'])"
   ]
  },
  {
   "cell_type": "code",
   "execution_count": 43,
   "metadata": {},
   "outputs": [
    {
     "name": "stdout",
     "output_type": "stream",
     "text": [
      "Model: \"sequential\"\n",
      "_________________________________________________________________\n",
      "Layer (type)                 Output Shape              Param #   \n",
      "=================================================================\n",
      "dense (Dense)                (None, 128)               256       \n",
      "_________________________________________________________________\n",
      "dense_1 (Dense)              (None, 64)                8256      \n",
      "_________________________________________________________________\n",
      "dense_2 (Dense)              (None, 32)                2080      \n",
      "_________________________________________________________________\n",
      "dense_3 (Dense)              (None, 16)                528       \n",
      "_________________________________________________________________\n",
      "dense_4 (Dense)              (None, 8)                 136       \n",
      "_________________________________________________________________\n",
      "dense_5 (Dense)              (None, 1)                 9         \n",
      "=================================================================\n",
      "Total params: 11,265\n",
      "Trainable params: 11,265\n",
      "Non-trainable params: 0\n",
      "_________________________________________________________________\n"
     ]
    }
   ],
   "source": [
    "model.summary()"
   ]
  },
  {
   "cell_type": "code",
   "execution_count": 44,
   "metadata": {},
   "outputs": [
    {
     "name": "stdout",
     "output_type": "stream",
     "text": [
      "Train on 720 samples, validate on 180 samples\n",
      "Epoch 1/300\n",
      "720/720 [==============================] - 1s 2ms/sample - loss: 375013327940.2667 - mae: 538541.8750 - mse: 375013343232.0000 - val_loss: 378699267003.7333 - val_mae: 532543.1875 - val_mse: 378699284480.0000\n",
      "Epoch 2/300\n",
      "720/720 [==============================] - 0s 123us/sample - loss: 374976420977.7778 - mae: 538512.5625 - mse: 374976413696.0000 - val_loss: 378669762696.5333 - val_mae: 532519.1250 - val_mse: 378669760512.0000\n",
      "Epoch 3/300\n",
      "720/720 [==============================] - 0s 118us/sample - loss: 374944311250.4889 - mae: 538487.3750 - mse: 374944268288.0000 - val_loss: 378639228017.7778 - val_mae: 532494.1250 - val_mse: 378639220736.0000\n",
      "Epoch 4/300\n",
      "720/720 [==============================] - 0s 116us/sample - loss: 374911630631.8222 - mae: 538460.6875 - mse: 374911598592.0000 - val_loss: 378607425217.4222 - val_mae: 532468.1250 - val_mse: 378607435776.0000\n",
      "Epoch 5/300\n",
      "720/720 [==============================] - 0s 114us/sample - loss: 374876292164.2667 - mae: 538432.6250 - mse: 374876274688.0000 - val_loss: 378570743990.0444 - val_mae: 532438.1250 - val_mse: 378570768384.0000\n",
      "Epoch 6/300\n",
      "720/720 [==============================] - 0s 118us/sample - loss: 374837311351.4667 - mae: 538401.1250 - mse: 374837313536.0000 - val_loss: 378532061366.0444 - val_mae: 532406.5625 - val_mse: 378532069376.0000\n",
      "Epoch 7/300\n",
      "720/720 [==============================] - 0s 112us/sample - loss: 374793390580.6223 - mae: 538366.3750 - mse: 374793404416.0000 - val_loss: 378486605596.4445 - val_mae: 532369.4375 - val_mse: 378486587392.0000\n",
      "Epoch 8/300\n",
      "720/720 [==============================] - 0s 112us/sample - loss: 374744655826.4889 - mae: 538328.0625 - mse: 374744678400.0000 - val_loss: 378437354928.3555 - val_mae: 532329.1250 - val_mse: 378437337088.0000\n",
      "Epoch 9/300\n",
      "720/720 [==============================] - 0s 115us/sample - loss: 374684741723.0222 - mae: 538279.6250 - mse: 374684712960.0000 - val_loss: 378368024758.0444 - val_mae: 532272.4375 - val_mse: 378368032768.0000\n",
      "Epoch 10/300\n",
      "720/720 [==============================] - 0s 112us/sample - loss: 374605772663.4667 - mae: 538216.7500 - mse: 374605774848.0000 - val_loss: 378288699983.6445 - val_mae: 532207.6250 - val_mse: 378288701440.0000\n",
      "Epoch 11/300\n",
      "720/720 [==============================] - 0s 112us/sample - loss: 374520979273.9556 - mae: 538148.3750 - mse: 374520938496.0000 - val_loss: 378202599150.9333 - val_mae: 532137.2500 - val_mse: 378202619904.0000\n",
      "Epoch 12/300\n",
      "720/720 [==============================] - 0s 115us/sample - loss: 374422657069.5111 - mae: 538070.5625 - mse: 374422667264.0000 - val_loss: 378102560267.3778 - val_mae: 532055.4375 - val_mse: 378102579200.0000\n",
      "Epoch 13/300\n",
      "720/720 [==============================] - 0s 112us/sample - loss: 374314880204.8000 - mae: 537982.5000 - mse: 374314860544.0000 - val_loss: 377993220369.0667 - val_mae: 531966.0000 - val_mse: 377993199616.0000\n",
      "Epoch 14/300\n",
      "720/720 [==============================] - 0s 119us/sample - loss: 374192606048.7111 - mae: 537885.1875 - mse: 374192603136.0000 - val_loss: 377867559822.2222 - val_mae: 531863.1875 - val_mse: 377867534336.0000\n",
      "Epoch 15/300\n",
      "720/720 [==============================] - 0s 112us/sample - loss: 374053480402.4889 - mae: 537774.8750 - mse: 374053470208.0000 - val_loss: 377726476834.1334 - val_mae: 531747.7500 - val_mse: 377726468096.0000\n",
      "Epoch 16/300\n",
      "720/720 [==============================] - 0s 112us/sample - loss: 373902218945.4222 - mae: 537652.3750 - mse: 373902213120.0000 - val_loss: 377573732443.0222 - val_mae: 531622.8125 - val_mse: 377573703680.0000\n",
      "Epoch 17/300\n",
      "720/720 [==============================] - 0s 112us/sample - loss: 373732828046.2222 - mae: 537516.3125 - mse: 373732835328.0000 - val_loss: 377401227127.4667 - val_mae: 531481.5000 - val_mse: 377401212928.0000\n",
      "Epoch 18/300\n",
      "720/720 [==============================] - 0s 115us/sample - loss: 373538579342.2222 - mae: 537364.2500 - mse: 373538586624.0000 - val_loss: 377204611481.6000 - val_mae: 531320.6250 - val_mse: 377204604928.0000\n",
      "Epoch 19/300\n",
      "720/720 [==============================] - 0s 115us/sample - loss: 373328715593.9556 - mae: 537193.8750 - mse: 373328707584.0000 - val_loss: 376992339649.4222 - val_mae: 531146.6875 - val_mse: 376992333824.0000\n",
      "Epoch 20/300\n",
      "720/720 [==============================] - 0s 115us/sample - loss: 373096279062.7556 - mae: 537006.3750 - mse: 373096284160.0000 - val_loss: 376758752961.4222 - val_mae: 530955.3750 - val_mse: 376758730752.0000\n",
      "Epoch 21/300\n",
      "720/720 [==============================] - 0s 114us/sample - loss: 372839800285.8667 - mae: 536799.6875 - mse: 372839809024.0000 - val_loss: 376498579410.4889 - val_mae: 530742.0625 - val_mse: 376498585600.0000\n",
      "Epoch 22/300\n",
      "720/720 [==============================] - 0s 115us/sample - loss: 372551872967.1111 - mae: 536569.5625 - mse: 372551876608.0000 - val_loss: 376204706884.2667 - val_mae: 530501.1250 - val_mse: 376204722176.0000\n",
      "Epoch 23/300\n",
      "720/720 [==============================] - 0s 114us/sample - loss: 372234950337.4222 - mae: 536314.8750 - mse: 372235010048.0000 - val_loss: 375885852763.0222 - val_mae: 530239.5000 - val_mse: 375885856768.0000\n",
      "Epoch 24/300\n",
      "720/720 [==============================] - 0s 114us/sample - loss: 371881251089.0667 - mae: 536034.5625 - mse: 371881213952.0000 - val_loss: 375527888941.5111 - val_mae: 529945.6250 - val_mse: 375527899136.0000\n",
      "Epoch 25/300\n",
      "720/720 [==============================] - 0s 112us/sample - loss: 371497769369.6000 - mae: 535723.7500 - mse: 371497730048.0000 - val_loss: 375150360803.5555 - val_mae: 529635.6250 - val_mse: 375150379008.0000\n",
      "Epoch 26/300\n",
      "720/720 [==============================] - 0s 114us/sample - loss: 371083573111.4667 - mae: 535389.9375 - mse: 371083608064.0000 - val_loss: 374723586366.5778 - val_mae: 529284.9375 - val_mse: 374723608576.0000\n",
      "Epoch 27/300\n",
      "720/720 [==============================] - 0s 113us/sample - loss: 370613219054.9333 - mae: 535018.1250 - mse: 370613256192.0000 - val_loss: 374254585992.5333 - val_mae: 528899.1875 - val_mse: 374254567424.0000\n",
      "Epoch 28/300\n",
      "720/720 [==============================] - 0s 112us/sample - loss: 370106439361.4222 - mae: 534607.6875 - mse: 370106400768.0000 - val_loss: 373743974991.6445 - val_mae: 528479.0000 - val_mse: 373744009216.0000\n",
      "Epoch 29/300\n",
      "720/720 [==============================] - 0s 112us/sample - loss: 369551472503.4667 - mae: 534158.8750 - mse: 369551507456.0000 - val_loss: 373191221065.9556 - val_mae: 528023.6875 - val_mse: 373191213056.0000\n",
      "Epoch 30/300\n",
      "720/720 [==============================] - 0s 116us/sample - loss: 368955298793.2444 - mae: 533670.9375 - mse: 368955293696.0000 - val_loss: 372589221933.5111 - val_mae: 527527.4375 - val_mse: 372589264896.0000\n",
      "Epoch 31/300\n",
      "720/720 [==============================] - 0s 115us/sample - loss: 368293085184.0000 - mae: 533136.9375 - mse: 368293117952.0000 - val_loss: 371925080109.5111 - val_mae: 526979.3125 - val_mse: 371925057536.0000\n",
      "Epoch 32/300\n",
      "720/720 [==============================] - 0s 115us/sample - loss: 367563206382.9333 - mae: 532554.8750 - mse: 367563210752.0000 - val_loss: 371199389787.0222 - val_mae: 526379.8125 - val_mse: 371199410176.0000\n",
      "Epoch 33/300\n",
      "720/720 [==============================] - 0s 121us/sample - loss: 366786411087.6445 - mae: 531917.5000 - mse: 366786412544.0000 - val_loss: 370406521787.7333 - val_mae: 525724.0625 - val_mse: 370406522880.0000\n",
      "Epoch 34/300\n",
      "720/720 [==============================] - 0s 121us/sample - loss: 365942706449.0667 - mae: 531230.7500 - mse: 365942669312.0000 - val_loss: 369576396208.3555 - val_mae: 525036.5625 - val_mse: 369576378368.0000\n",
      "Epoch 35/300\n",
      "720/720 [==============================] - 0s 123us/sample - loss: 364997763982.2222 - mae: 530489.4375 - mse: 364997804032.0000 - val_loss: 368612738844.4445 - val_mae: 524237.3438 - val_mse: 368612737024.0000\n",
      "Epoch 36/300\n",
      "720/720 [==============================] - 0s 118us/sample - loss: 363986110236.4445 - mae: 529671.4375 - mse: 363986124800.0000 - val_loss: 367616196972.0889 - val_mae: 523409.5938 - val_mse: 367616196608.0000\n",
      "Epoch 37/300\n"
     ]
    },
    {
     "name": "stdout",
     "output_type": "stream",
     "text": [
      "720/720 [==============================] - 0s 117us/sample - loss: 362943370581.3334 - mae: 528795.9375 - mse: 362943348736.0000 - val_loss: 366593721412.2667 - val_mae: 522558.9375 - val_mse: 366593736704.0000\n",
      "Epoch 38/300\n",
      "720/720 [==============================] - 0s 112us/sample - loss: 361790232621.5111 - mae: 527868.8750 - mse: 361790177280.0000 - val_loss: 365426297696.7111 - val_mae: 521585.9688 - val_mse: 365426311168.0000\n",
      "Epoch 39/300\n",
      "720/720 [==============================] - 0s 112us/sample - loss: 360561523643.7333 - mae: 526842.5625 - mse: 360561541120.0000 - val_loss: 364215965013.3333 - val_mae: 520575.2812 - val_mse: 364215992320.0000\n",
      "Epoch 40/300\n",
      "720/720 [==============================] - 0s 111us/sample - loss: 359204128904.5333 - mae: 525764.1250 - mse: 359204093952.0000 - val_loss: 362844539380.6222 - val_mae: 519427.8125 - val_mse: 362844520448.0000\n",
      "Epoch 41/300\n",
      "720/720 [==============================] - 0s 116us/sample - loss: 357754312385.4222 - mae: 524568.6250 - mse: 357754273792.0000 - val_loss: 361422769356.8000 - val_mae: 518235.4688 - val_mse: 361422716928.0000\n",
      "Epoch 42/300\n",
      "720/720 [==============================] - 0s 114us/sample - loss: 356215961827.5555 - mae: 523307.6875 - mse: 356215980032.0000 - val_loss: 359887012568.1778 - val_mae: 516944.5000 - val_mse: 359887011840.0000\n",
      "Epoch 43/300\n",
      "720/720 [==============================] - 0s 125us/sample - loss: 354574609794.8444 - mae: 521937.6875 - mse: 354574630912.0000 - val_loss: 358271541430.0444 - val_mae: 515582.9375 - val_mse: 358271549440.0000\n",
      "Epoch 44/300\n",
      "720/720 [==============================] - 0s 127us/sample - loss: 352813646552.1778 - mae: 520498.3438 - mse: 352813613056.0000 - val_loss: 356496557124.2667 - val_mae: 514082.8125 - val_mse: 356496539648.0000\n",
      "Epoch 45/300\n",
      "720/720 [==============================] - 0s 130us/sample - loss: 350949419690.6666 - mae: 518951.5000 - mse: 350949408768.0000 - val_loss: 354678702444.0889 - val_mae: 512542.0000 - val_mse: 354678702080.0000\n",
      "Epoch 46/300\n",
      "720/720 [==============================] - 0s 132us/sample - loss: 348983525376.0000 - mae: 517304.4062 - mse: 348983525376.0000 - val_loss: 352714288150.7556 - val_mae: 510871.6562 - val_mse: 352714293248.0000\n",
      "Epoch 47/300\n",
      "720/720 [==============================] - 0s 131us/sample - loss: 346867383955.9111 - mae: 515534.1250 - mse: 346867367936.0000 - val_loss: 350618517868.0889 - val_mae: 509083.5000 - val_mse: 350618517504.0000\n",
      "Epoch 48/300\n",
      "720/720 [==============================] - 0s 129us/sample - loss: 344574737339.7333 - mae: 513652.1875 - mse: 344574754816.0000 - val_loss: 348315784897.4222 - val_mae: 507111.6562 - val_mse: 348315779072.0000\n",
      "Epoch 49/300\n",
      "720/720 [==============================] - 0s 128us/sample - loss: 342178808900.2667 - mae: 511614.0000 - mse: 342178824192.0000 - val_loss: 345994603542.7556 - val_mae: 505116.1250 - val_mse: 345994592256.0000\n",
      "Epoch 50/300\n",
      "720/720 [==============================] - 0s 129us/sample - loss: 339668311153.7778 - mae: 509488.9688 - mse: 339668336640.0000 - val_loss: 343483518520.8889 - val_mae: 502948.5000 - val_mse: 343483514880.0000\n",
      "Epoch 51/300\n",
      "720/720 [==============================] - 0s 131us/sample - loss: 336930295716.9778 - mae: 507188.5625 - mse: 336930275328.0000 - val_loss: 340755518805.3333 - val_mae: 500582.9375 - val_mse: 340755546112.0000\n",
      "Epoch 52/300\n",
      "720/720 [==============================] - 0s 132us/sample - loss: 334087501323.3777 - mae: 504738.7188 - mse: 334087520256.0000 - val_loss: 338008196892.4445 - val_mae: 498189.2812 - val_mse: 338008178688.0000\n",
      "Epoch 53/300\n",
      "720/720 [==============================] - 0s 131us/sample - loss: 331091345408.0000 - mae: 502189.6562 - mse: 331091345408.0000 - val_loss: 334952024928.7111 - val_mae: 495513.0312 - val_mse: 334952005632.0000\n",
      "Epoch 54/300\n",
      "720/720 [==============================] - 0s 133us/sample - loss: 327877725024.7111 - mae: 499414.8438 - mse: 327877689344.0000 - val_loss: 331872738781.8666 - val_mae: 492801.7812 - val_mse: 331872731136.0000\n",
      "Epoch 55/300\n",
      "720/720 [==============================] - 0s 132us/sample - loss: 324553841049.6000 - mae: 496519.6562 - mse: 324553834496.0000 - val_loss: 328517909071.6445 - val_mae: 489830.8438 - val_mse: 328517877760.0000\n",
      "Epoch 56/300\n",
      "720/720 [==============================] - 0s 130us/sample - loss: 320951835397.6889 - mae: 493400.5625 - mse: 320951877632.0000 - val_loss: 324982330709.3333 - val_mae: 486680.2188 - val_mse: 324982341632.0000\n",
      "Epoch 57/300\n",
      "720/720 [==============================] - 0s 131us/sample - loss: 317161213860.9778 - mae: 490091.8750 - mse: 317161242624.0000 - val_loss: 321280877818.3111 - val_mae: 483359.7812 - val_mse: 321280868352.0000\n",
      "Epoch 58/300\n",
      "720/720 [==============================] - 0s 133us/sample - loss: 313235990846.5778 - mae: 486613.8750 - mse: 313235996672.0000 - val_loss: 317401573330.4889 - val_mae: 479855.1562 - val_mse: 317401563136.0000\n",
      "Epoch 59/300\n",
      "720/720 [==============================] - 0s 131us/sample - loss: 309106531805.8667 - mae: 482955.5000 - mse: 309106540544.0000 - val_loss: 313257149144.1778 - val_mae: 476082.5625 - val_mse: 313257164800.0000\n",
      "Epoch 60/300\n",
      "720/720 [==============================] - 0s 129us/sample - loss: 304731803556.9778 - mae: 479015.8125 - mse: 304731783168.0000 - val_loss: 309052577109.3333 - val_mae: 472224.4375 - val_mse: 309052604416.0000\n",
      "Epoch 61/300\n",
      "720/720 [==============================] - 0s 132us/sample - loss: 300289306715.0222 - mae: 474950.0938 - mse: 300289294336.0000 - val_loss: 304586781855.2889 - val_mae: 468091.7188 - val_mse: 304586752000.0000\n",
      "Epoch 62/300\n",
      "720/720 [==============================] - 0s 133us/sample - loss: 295482763218.4889 - mae: 470591.5625 - mse: 295482785792.0000 - val_loss: 299936063670.0444 - val_mae: 463748.8438 - val_mse: 299936055296.0000\n",
      "Epoch 63/300\n",
      "720/720 [==============================] - 0s 130us/sample - loss: 290534836724.6223 - mae: 466051.8750 - mse: 290534817792.0000 - val_loss: 294941699094.7556 - val_mae: 459039.3438 - val_mse: 294941720576.0000\n",
      "Epoch 64/300\n",
      "720/720 [==============================] - 0s 130us/sample - loss: 285300277612.0889 - mae: 461152.0000 - mse: 285300260864.0000 - val_loss: 289832756110.2222 - val_mae: 454171.2812 - val_mse: 289832730624.0000\n",
      "Epoch 65/300\n",
      "720/720 [==============================] - 0s 134us/sample - loss: 280053163258.3111 - mae: 456137.1250 - mse: 280053186560.0000 - val_loss: 284707516871.1111 - val_mae: 449234.7188 - val_mse: 284707553280.0000\n",
      "Epoch 66/300\n",
      "720/720 [==============================] - 0s 132us/sample - loss: 274376455327.2889 - mae: 450829.5625 - mse: 274376425472.0000 - val_loss: 279149682505.9556 - val_mae: 443819.4375 - val_mse: 279149674496.0000\n",
      "Epoch 67/300\n",
      "720/720 [==============================] - 0s 133us/sample - loss: 268454390078.5778 - mae: 445189.1875 - mse: 268454395904.0000 - val_loss: 273285533240.8889 - val_mae: 438033.2500 - val_mse: 273285545984.0000\n",
      "Epoch 68/300\n",
      "720/720 [==============================] - 0s 128us/sample - loss: 262494242588.4445 - mae: 439231.4375 - mse: 262494273536.0000 - val_loss: 267449753417.9556 - val_mae: 432198.0938 - val_mse: 267449745408.0000\n",
      "Epoch 69/300\n",
      "720/720 [==============================] - 0s 134us/sample - loss: 256149443197.1556 - mae: 433036.8750 - mse: 256149438464.0000 - val_loss: 261159618514.4889 - val_mae: 425819.1875 - val_mse: 261159616512.0000\n",
      "Epoch 70/300\n",
      "720/720 [==============================] - 0s 130us/sample - loss: 249575940642.1333 - mae: 426404.2188 - mse: 249575915520.0000 - val_loss: 254693988397.5111 - val_mae: 419161.2500 - val_mse: 254693982208.0000\n",
      "Epoch 71/300\n",
      "720/720 [==============================] - 0s 131us/sample - loss: 242893982560.7111 - mae: 419472.4062 - mse: 242893979648.0000 - val_loss: 248229396662.0444 - val_mae: 412396.9688 - val_mse: 248229396480.0000\n",
      "Epoch 72/300\n",
      "720/720 [==============================] - 0s 133us/sample - loss: 235929084450.1333 - mae: 412316.3438 - mse: 235929059328.0000 - val_loss: 241282787282.4889 - val_mae: 405002.5000 - val_mse: 241282793472.0000\n",
      "Epoch 73/300\n",
      "720/720 [==============================] - 0s 129us/sample - loss: 228602607115.3777 - mae: 404673.9062 - mse: 228602609664.0000 - val_loss: 234111832519.1111 - val_mae: 397224.9375 - val_mse: 234111827968.0000\n"
     ]
    },
    {
     "name": "stdout",
     "output_type": "stream",
     "text": [
      "Epoch 74/300\n",
      "720/720 [==============================] - 0s 130us/sample - loss: 221172596371.9111 - mae: 396615.5625 - mse: 221172563968.0000 - val_loss: 226975005991.8222 - val_mae: 389330.2812 - val_mse: 226975023104.0000\n",
      "Epoch 75/300\n",
      "720/720 [==============================] - 0s 131us/sample - loss: 213767216969.9555 - mae: 388362.8438 - mse: 213767192576.0000 - val_loss: 219613949132.8000 - val_mae: 381061.3438 - val_mse: 219613970432.0000\n",
      "Epoch 76/300\n",
      "720/720 [==============================] - 0s 130us/sample - loss: 205925653253.6889 - mae: 379672.8438 - mse: 205925695488.0000 - val_loss: 211892212349.1555 - val_mae: 372326.3438 - val_mse: 211892207616.0000\n",
      "Epoch 77/300\n",
      "720/720 [==============================] - 0s 133us/sample - loss: 198017612003.5555 - mae: 370515.7812 - mse: 198017613824.0000 - val_loss: 204188439711.2889 - val_mae: 363397.9688 - val_mse: 204188434432.0000\n",
      "Epoch 78/300\n",
      "720/720 [==============================] - 0s 130us/sample - loss: 189964029496.8889 - mae: 360975.1250 - mse: 189964009472.0000 - val_loss: 196296421284.9778 - val_mae: 354012.8125 - val_mse: 196296409088.0000\n",
      "Epoch 79/300\n",
      "720/720 [==============================] - 0s 136us/sample - loss: 181780270284.8000 - mae: 351005.6562 - mse: 181780250624.0000 - val_loss: 188307604366.2222 - val_mae: 344246.0938 - val_mse: 188307603456.0000\n",
      "Epoch 80/300\n",
      "720/720 [==============================] - 0s 134us/sample - loss: 173626428620.8000 - mae: 340779.2812 - mse: 173626425344.0000 - val_loss: 180205961580.0889 - val_mae: 334043.0312 - val_mse: 180205961216.0000\n",
      "Epoch 81/300\n",
      "720/720 [==============================] - 0s 130us/sample - loss: 165148515805.8667 - mae: 330090.9688 - mse: 165148524544.0000 - val_loss: 171986818935.4667 - val_mae: 323355.0312 - val_mse: 171986812928.0000\n",
      "Epoch 82/300\n",
      "720/720 [==============================] - 0s 130us/sample - loss: 156695122193.0667 - mae: 318949.8438 - mse: 156695117824.0000 - val_loss: 163670935870.5778 - val_mae: 312271.5625 - val_mse: 163670917120.0000\n",
      "Epoch 83/300\n",
      "720/720 [==============================] - 0s 134us/sample - loss: 148177092425.9555 - mae: 307433.4062 - mse: 148177092608.0000 - val_loss: 155344323470.2222 - val_mae: 300986.6562 - val_mse: 155344306176.0000\n",
      "Epoch 84/300\n",
      "720/720 [==============================] - 0s 130us/sample - loss: 139764518820.9778 - mae: 295428.0625 - mse: 139764531200.0000 - val_loss: 147187427464.5333 - val_mae: 289729.7188 - val_mse: 147187417088.0000\n",
      "Epoch 85/300\n",
      "720/720 [==============================] - 0s 129us/sample - loss: 131340711435.3778 - mae: 283586.4688 - mse: 131340705792.0000 - val_loss: 138890558577.7778 - val_mae: 278123.5312 - val_mse: 138890559488.0000\n",
      "Epoch 86/300\n",
      "720/720 [==============================] - 0s 132us/sample - loss: 122759001247.2889 - mae: 271277.8125 - mse: 122759004160.0000 - val_loss: 130364660576.7111 - val_mae: 265892.7188 - val_mse: 130364653568.0000\n",
      "Epoch 87/300\n",
      "720/720 [==============================] - 0s 134us/sample - loss: 114348340929.4222 - mae: 258381.6406 - mse: 114348335104.0000 - val_loss: 122421553834.6667 - val_mae: 253962.7812 - val_mse: 122421551104.0000\n",
      "Epoch 88/300\n",
      "720/720 [==============================] - 0s 133us/sample - loss: 106453804464.3556 - mae: 246103.4844 - mse: 106453811200.0000 - val_loss: 114636955192.8889 - val_mae: 241934.7500 - val_mse: 114636947456.0000\n",
      "Epoch 89/300\n",
      "720/720 [==============================] - 0s 135us/sample - loss: 98746978030.9333 - mae: 234382.2656 - mse: 98746974208.0000 - val_loss: 106919865912.8889 - val_mae: 230023.6875 - val_mse: 106919870464.0000\n",
      "Epoch 90/300\n",
      "720/720 [==============================] - 0s 144us/sample - loss: 90923824833.4222 - mae: 223052.1719 - mse: 90923819008.0000 - val_loss: 99151548051.9111 - val_mae: 217731.0469 - val_mse: 99151552512.0000\n",
      "Epoch 91/300\n",
      "720/720 [==============================] - 0s 140us/sample - loss: 83476986447.6444 - mae: 212250.7812 - mse: 83476979712.0000 - val_loss: 91972850119.1111 - val_mae: 205927.6719 - val_mse: 91972853760.0000\n",
      "Epoch 92/300\n",
      "720/720 [==============================] - 0s 143us/sample - loss: 76910582169.6000 - mae: 202418.4375 - mse: 76910575616.0000 - val_loss: 85967466313.9556 - val_mae: 195747.4375 - val_mse: 85967470592.0000\n",
      "Epoch 93/300\n",
      "720/720 [==============================] - 0s 127us/sample - loss: 70736802065.0667 - mae: 193385.8438 - mse: 70736805888.0000 - val_loss: 79653932509.8667 - val_mae: 185532.4375 - val_mse: 79653937152.0000\n",
      "Epoch 94/300\n",
      "720/720 [==============================] - 0s 130us/sample - loss: 64848959533.5111 - mae: 184805.9219 - mse: 64848961536.0000 - val_loss: 73870730808.8889 - val_mae: 176276.2656 - val_mse: 73870729216.0000\n",
      "Epoch 95/300\n",
      "720/720 [==============================] - 0s 132us/sample - loss: 59744415880.5333 - mae: 176937.1094 - mse: 59744415744.0000 - val_loss: 69073242703.6444 - val_mae: 168648.2344 - val_mse: 69073240064.0000\n",
      "Epoch 96/300\n",
      "720/720 [==============================] - 0s 132us/sample - loss: 55173842261.3333 - mae: 170810.5781 - mse: 55173844992.0000 - val_loss: 64360559775.2889 - val_mae: 162746.8594 - val_mse: 64360558592.0000\n",
      "Epoch 97/300\n",
      "720/720 [==============================] - 0s 128us/sample - loss: 51373211465.9556 - mae: 165138.9531 - mse: 51373211648.0000 - val_loss: 60568518747.0222 - val_mae: 158171.7969 - val_mse: 60568518656.0000\n",
      "Epoch 98/300\n",
      "720/720 [==============================] - 0s 131us/sample - loss: 48354098380.8000 - mae: 160804.6250 - mse: 48354095104.0000 - val_loss: 57825935314.4889 - val_mae: 155437.1719 - val_mse: 57825935360.0000\n",
      "Epoch 99/300\n",
      "720/720 [==============================] - 0s 132us/sample - loss: 46359386521.6000 - mae: 158099.7188 - mse: 46359388160.0000 - val_loss: 55892515999.2889 - val_mae: 153986.2500 - val_mse: 55892512768.0000\n",
      "Epoch 100/300\n",
      "720/720 [==============================] - 0s 135us/sample - loss: 45068695688.5333 - mae: 156694.6250 - mse: 45068697600.0000 - val_loss: 54572185827.5556 - val_mae: 153794.5938 - val_mse: 54572187648.0000\n",
      "Epoch 101/300\n",
      "720/720 [==============================] - 0s 129us/sample - loss: 44183492380.4444 - mae: 155961.4844 - mse: 44183490560.0000 - val_loss: 53506069435.7333 - val_mae: 154303.6094 - val_mse: 53506064384.0000\n",
      "Epoch 102/300\n",
      "720/720 [==============================] - 0s 131us/sample - loss: 43838883976.5333 - mae: 156040.3125 - mse: 43838877696.0000 - val_loss: 53180557539.5556 - val_mae: 154963.6094 - val_mse: 53180555264.0000\n",
      "Epoch 103/300\n",
      "720/720 [==============================] - 0s 128us/sample - loss: 43756941129.9556 - mae: 156117.0938 - mse: 43756937216.0000 - val_loss: 53102602740.6222 - val_mae: 155191.3750 - val_mse: 53102604288.0000\n",
      "Epoch 104/300\n",
      "720/720 [==============================] - 0s 133us/sample - loss: 43729668141.5111 - mae: 156131.6250 - mse: 43729666048.0000 - val_loss: 52991702266.3111 - val_mae: 155556.5156 - val_mse: 52991705088.0000\n",
      "Epoch 105/300\n",
      "720/720 [==============================] - 0s 138us/sample - loss: 43723709826.8444 - mae: 156145.7188 - mse: 43723710464.0000 - val_loss: 52937788438.7556 - val_mae: 155764.8281 - val_mse: 52937785344.0000\n",
      "Epoch 106/300\n",
      "720/720 [==============================] - 0s 138us/sample - loss: 43723785693.8667 - mae: 156316.1562 - mse: 43723788288.0000 - val_loss: 52937229562.3111 - val_mae: 155767.0938 - val_mse: 52937232384.0000\n",
      "Epoch 107/300\n",
      "720/720 [==============================] - 0s 136us/sample - loss: 43715855928.8889 - mae: 156338.2500 - mse: 43715854336.0000 - val_loss: 52942652393.2444 - val_mae: 155745.2812 - val_mse: 52942647296.0000\n",
      "Epoch 108/300\n",
      "720/720 [==============================] - 0s 138us/sample - loss: 43714452320.7111 - mae: 156187.2812 - mse: 43714453504.0000 - val_loss: 52863323067.7333 - val_mae: 156099.7031 - val_mse: 52863324160.0000\n",
      "Epoch 109/300\n",
      "720/720 [==============================] - 0s 135us/sample - loss: 43697192595.9111 - mae: 156264.4531 - mse: 43697192960.0000 - val_loss: 52850726957.5111 - val_mae: 156166.8281 - val_mse: 52850728960.0000\n",
      "Epoch 110/300\n",
      "720/720 [==============================] - 0s 132us/sample - loss: 43694296450.8444 - mae: 156254.8906 - mse: 43694297088.0000 - val_loss: 52839752408.1778 - val_mae: 156231.2656 - val_mse: 52839747584.0000\n"
     ]
    },
    {
     "name": "stdout",
     "output_type": "stream",
     "text": [
      "Epoch 111/300\n",
      "720/720 [==============================] - 0s 130us/sample - loss: 43702524586.6667 - mae: 156281.6719 - mse: 43702525952.0000 - val_loss: 52880716231.1111 - val_mae: 156010.7969 - val_mse: 52880711680.0000\n",
      "Epoch 112/300\n",
      "720/720 [==============================] - 0s 129us/sample - loss: 43730043653.6889 - mae: 156239.7344 - mse: 43730046976.0000 - val_loss: 52867917232.3556 - val_mae: 156075.8906 - val_mse: 52867919872.0000\n",
      "Epoch 113/300\n",
      "720/720 [==============================] - 0s 135us/sample - loss: 43704067959.4667 - mae: 156272.2969 - mse: 43704066048.0000 - val_loss: 52872397983.2889 - val_mae: 156052.8906 - val_mse: 52872400896.0000\n",
      "Epoch 114/300\n",
      "720/720 [==============================] - 0s 128us/sample - loss: 43698780615.1111 - mae: 156267.1094 - mse: 43698778112.0000 - val_loss: 52865678085.6889 - val_mae: 156087.4375 - val_mse: 52865679360.0000\n",
      "Epoch 115/300\n",
      "720/720 [==============================] - 0s 132us/sample - loss: 43719852760.1778 - mae: 156263.4844 - mse: 43719847936.0000 - val_loss: 52899662051.5556 - val_mae: 155924.0156 - val_mse: 52899663872.0000\n",
      "Epoch 116/300\n",
      "720/720 [==============================] - 0s 130us/sample - loss: 43715778241.4222 - mae: 156262.3750 - mse: 43715780608.0000 - val_loss: 52858897840.3556 - val_mae: 156122.8594 - val_mse: 52858896384.0000\n",
      "Epoch 117/300\n",
      "720/720 [==============================] - 0s 136us/sample - loss: 43713762372.2667 - mae: 156334.1719 - mse: 43713765376.0000 - val_loss: 52885865904.3556 - val_mae: 155985.0938 - val_mse: 52885868544.0000\n",
      "Epoch 118/300\n",
      "720/720 [==============================] - 0s 133us/sample - loss: 43675830590.5778 - mae: 156305.8906 - mse: 43675832320.0000 - val_loss: 52969461532.4444 - val_mae: 155640.2969 - val_mse: 52969463808.0000\n",
      "Epoch 119/300\n",
      "720/720 [==============================] - 0s 132us/sample - loss: 43731220161.4222 - mae: 156257.9531 - mse: 43731218432.0000 - val_loss: 52955231846.4000 - val_mae: 155695.4688 - val_mse: 52955230208.0000\n",
      "Epoch 120/300\n",
      "720/720 [==============================] - 0s 133us/sample - loss: 43709334141.1556 - mae: 156229.6094 - mse: 43709333504.0000 - val_loss: 52889234909.8667 - val_mae: 155969.5938 - val_mse: 52889235456.0000\n",
      "Epoch 121/300\n",
      "720/720 [==============================] - 0s 137us/sample - loss: 43704461084.4444 - mae: 156230.5781 - mse: 43704459264.0000 - val_loss: 52901958451.2000 - val_mae: 155914.0938 - val_mse: 52901957632.0000\n",
      "Epoch 122/300\n",
      "720/720 [==============================] - 0s 131us/sample - loss: 43711753056.7111 - mae: 156361.9688 - mse: 43711754240.0000 - val_loss: 52885926980.2667 - val_mae: 155984.7812 - val_mse: 52885925888.0000\n",
      "Epoch 123/300\n",
      "720/720 [==============================] - 0s 132us/sample - loss: 43711386237.1556 - mae: 156367.5000 - mse: 43711389696.0000 - val_loss: 52910714880.0000 - val_mae: 155876.6719 - val_mse: 52910714880.0000\n",
      "Epoch 124/300\n",
      "720/720 [==============================] - 0s 132us/sample - loss: 43729496018.4889 - mae: 156364.7344 - mse: 43729498112.0000 - val_loss: 52922093659.0222 - val_mae: 155829.0156 - val_mse: 52922089472.0000\n",
      "Epoch 125/300\n",
      "720/720 [==============================] - 0s 132us/sample - loss: 43705003303.8222 - mae: 156215.2500 - mse: 43705004032.0000 - val_loss: 52935113477.6889 - val_mae: 155775.6094 - val_mse: 52935110656.0000\n",
      "Epoch 126/300\n",
      "720/720 [==============================] - 0s 132us/sample - loss: 43699592669.8667 - mae: 156219.5156 - mse: 43699593216.0000 - val_loss: 52927323613.8667 - val_mae: 155807.4062 - val_mse: 52927328256.0000\n",
      "Epoch 127/300\n",
      "720/720 [==============================] - 0s 134us/sample - loss: 43732039998.5778 - mae: 156370.2812 - mse: 43732045824.0000 - val_loss: 52919498160.3556 - val_mae: 155839.7969 - val_mse: 52919496704.0000\n",
      "Epoch 128/300\n",
      "720/720 [==============================] - 0s 130us/sample - loss: 43703914131.9111 - mae: 156166.0938 - mse: 43703918592.0000 - val_loss: 52841707110.4000 - val_mae: 156219.6406 - val_mse: 52841705472.0000\n",
      "Epoch 129/300\n",
      "720/720 [==============================] - 0s 132us/sample - loss: 43713273491.9111 - mae: 156303.8594 - mse: 43713273856.0000 - val_loss: 52806579905.4222 - val_mae: 156441.3281 - val_mse: 52806578176.0000\n",
      "Epoch 130/300\n",
      "720/720 [==============================] - 0s 130us/sample - loss: 43706576440.8889 - mae: 156455.2344 - mse: 43706572800.0000 - val_loss: 52847407012.9778 - val_mae: 156186.0625 - val_mse: 52847407104.0000\n",
      "Epoch 131/300\n",
      "720/720 [==============================] - 0s 133us/sample - loss: 43711728662.7556 - mae: 156311.5156 - mse: 43711725568.0000 - val_loss: 52836328880.3556 - val_mae: 156251.6719 - val_mse: 52836327424.0000\n",
      "Epoch 132/300\n",
      "720/720 [==============================] - 0s 128us/sample - loss: 43718289908.6222 - mae: 156218.2812 - mse: 43718287360.0000 - val_loss: 52847412474.3111 - val_mae: 156186.0156 - val_mse: 52847415296.0000\n",
      "Epoch 133/300\n",
      "720/720 [==============================] - 0s 133us/sample - loss: 43724735010.1333 - mae: 156430.2812 - mse: 43724734464.0000 - val_loss: 52876922971.0222 - val_mae: 156029.8438 - val_mse: 52876926976.0000\n",
      "Epoch 134/300\n",
      "720/720 [==============================] - 0s 134us/sample - loss: 43710691510.0444 - mae: 156281.2188 - mse: 43710697472.0000 - val_loss: 52912715366.4000 - val_mae: 155868.2188 - val_mse: 52912717824.0000\n",
      "Epoch 135/300\n",
      "720/720 [==============================] - 0s 134us/sample - loss: 43701029728.7111 - mae: 156246.9688 - mse: 43701030912.0000 - val_loss: 52895444172.8000 - val_mae: 155942.2969 - val_mse: 52895444992.0000\n",
      "Epoch 136/300\n",
      "720/720 [==============================] - 0s 131us/sample - loss: 43720883677.8667 - mae: 156298.7969 - mse: 43720884224.0000 - val_loss: 52937260600.8889 - val_mae: 155766.9062 - val_mse: 52937261056.0000\n",
      "Epoch 137/300\n",
      "720/720 [==============================] - 0s 129us/sample - loss: 43703690626.8444 - mae: 156212.6719 - mse: 43703689216.0000 - val_loss: 52925405957.6889 - val_mae: 155815.2656 - val_mse: 52925407232.0000\n",
      "Epoch 138/300\n",
      "720/720 [==============================] - 0s 134us/sample - loss: 43705034433.4222 - mae: 156259.2500 - mse: 43705028608.0000 - val_loss: 52928298188.8000 - val_mae: 155803.3750 - val_mse: 52928294912.0000\n",
      "Epoch 139/300\n",
      "720/720 [==============================] - 0s 130us/sample - loss: 43739517474.1333 - mae: 156372.0469 - mse: 43739516928.0000 - val_loss: 52924032432.3556 - val_mae: 155820.9375 - val_mse: 52924035072.0000\n",
      "Epoch 140/300\n",
      "720/720 [==============================] - 0s 129us/sample - loss: 43701134040.1778 - mae: 156196.8281 - mse: 43701137408.0000 - val_loss: 52888241038.2222 - val_mae: 155973.9531 - val_mse: 52888240128.0000\n",
      "Epoch 141/300\n",
      "720/720 [==============================] - 0s 130us/sample - loss: 43696090999.4667 - mae: 156320.6562 - mse: 43696091136.0000 - val_loss: 52899185914.3111 - val_mae: 155926.0312 - val_mse: 52899192832.0000\n",
      "Epoch 142/300\n",
      "720/720 [==============================] - 0s 136us/sample - loss: 43732390274.8444 - mae: 156281.7969 - mse: 43732389888.0000 - val_loss: 52885246953.2444 - val_mae: 155988.1094 - val_mse: 52885250048.0000\n",
      "Epoch 143/300\n",
      "720/720 [==============================] - 0s 132us/sample - loss: 43721071001.6000 - mae: 156414.9844 - mse: 43721068544.0000 - val_loss: 52889116034.8444 - val_mae: 155970.0938 - val_mse: 52889120768.0000\n",
      "Epoch 144/300\n",
      "720/720 [==============================] - 0s 139us/sample - loss: 43714811221.3333 - mae: 156356.5156 - mse: 43714813952.0000 - val_loss: 52893853104.3556 - val_mae: 155949.2500 - val_mse: 52893855744.0000\n",
      "Epoch 145/300\n",
      "720/720 [==============================] - 0s 144us/sample - loss: 43709455564.8000 - mae: 156333.0000 - mse: 43709452288.0000 - val_loss: 52884853191.1111 - val_mae: 155990.0469 - val_mse: 52884848640.0000\n",
      "Epoch 146/300\n",
      "720/720 [==============================] - 0s 145us/sample - loss: 43703272561.7778 - mae: 156206.3438 - mse: 43703271424.0000 - val_loss: 52869079404.0889 - val_mae: 156069.7812 - val_mse: 52869079040.0000\n",
      "Epoch 147/300\n",
      "720/720 [==============================] - 0s 141us/sample - loss: 43705908064.7111 - mae: 156312.7656 - mse: 43705905152.0000 - val_loss: 52863419278.2222 - val_mae: 156099.0625 - val_mse: 52863418368.0000\n",
      "Epoch 148/300\n"
     ]
    },
    {
     "name": "stdout",
     "output_type": "stream",
     "text": [
      "720/720 [==============================] - 0s 136us/sample - loss: 43704969079.4667 - mae: 156277.7344 - mse: 43704975360.0000 - val_loss: 52844457164.8000 - val_mae: 156203.2812 - val_mse: 52844462080.0000\n",
      "Epoch 149/300\n",
      "720/720 [==============================] - 0s 131us/sample - loss: 43697748104.5333 - mae: 156345.6875 - mse: 43697737728.0000 - val_loss: 52928746382.2222 - val_mae: 155801.5312 - val_mse: 52928745472.0000\n",
      "Epoch 150/300\n",
      "720/720 [==============================] - 0s 134us/sample - loss: 43709985132.0889 - mae: 156182.9531 - mse: 43709988864.0000 - val_loss: 52865505507.5556 - val_mae: 156088.2188 - val_mse: 52865507328.0000\n",
      "Epoch 151/300\n",
      "720/720 [==============================] - 0s 130us/sample - loss: 43715686582.0444 - mae: 156317.9531 - mse: 43715686400.0000 - val_loss: 52870777423.6444 - val_mae: 156061.0781 - val_mse: 52870778880.0000\n",
      "Epoch 152/300\n",
      "720/720 [==============================] - 0s 132us/sample - loss: 43709487513.6000 - mae: 156294.7188 - mse: 43709489152.0000 - val_loss: 52854705538.8444 - val_mae: 156144.9375 - val_mse: 52854710272.0000\n",
      "Epoch 153/300\n",
      "720/720 [==============================] - 0s 132us/sample - loss: 43728542469.6889 - mae: 156302.7344 - mse: 43728539648.0000 - val_loss: 52851679960.1778 - val_mae: 156161.1719 - val_mse: 52851679232.0000\n",
      "Epoch 154/300\n",
      "720/720 [==============================] - 0s 135us/sample - loss: 43713812525.5111 - mae: 156308.0156 - mse: 43713814528.0000 - val_loss: 52839463230.5778 - val_mae: 156232.8438 - val_mse: 52839464960.0000\n",
      "Epoch 155/300\n",
      "720/720 [==============================] - 0s 133us/sample - loss: 43688741910.7556 - mae: 156275.5625 - mse: 43688747008.0000 - val_loss: 52913625042.4889 - val_mae: 155864.3125 - val_mse: 52913618944.0000\n",
      "Epoch 156/300\n",
      "720/720 [==============================] - 0s 135us/sample - loss: 43738795576.8889 - mae: 156337.2812 - mse: 43738791936.0000 - val_loss: 52892079718.4000 - val_mae: 155957.0156 - val_mse: 52892078080.0000\n",
      "Epoch 157/300\n",
      "720/720 [==============================] - 0s 134us/sample - loss: 43698490936.8889 - mae: 156247.1875 - mse: 43698487296.0000 - val_loss: 52911014707.2000 - val_mae: 155875.3438 - val_mse: 52911017984.0000\n",
      "Epoch 158/300\n",
      "720/720 [==============================] - 0s 133us/sample - loss: 43731300033.4222 - mae: 156271.5938 - mse: 43731304448.0000 - val_loss: 52858918684.4444 - val_mae: 156122.6094 - val_mse: 52858912768.0000\n",
      "Epoch 159/300\n",
      "720/720 [==============================] - 0s 135us/sample - loss: 43700740414.5778 - mae: 156235.9844 - mse: 43700740096.0000 - val_loss: 52862854576.3556 - val_mae: 156101.9844 - val_mse: 52862853120.0000\n",
      "Epoch 160/300\n",
      "720/720 [==============================] - 0s 132us/sample - loss: 43739922158.9333 - mae: 156387.7500 - mse: 43739926528.0000 - val_loss: 52872266638.2222 - val_mae: 156053.4062 - val_mse: 52872265728.0000\n",
      "Epoch 161/300\n",
      "720/720 [==============================] - 0s 130us/sample - loss: 43686819111.8222 - mae: 156231.7188 - mse: 43686817792.0000 - val_loss: 52848947473.0667 - val_mae: 156176.9688 - val_mse: 52848947200.0000\n",
      "Epoch 162/300\n",
      "720/720 [==============================] - 0s 135us/sample - loss: 43727552512.0000 - mae: 156337.2031 - mse: 43727552512.0000 - val_loss: 52885367648.7111 - val_mae: 155987.4375 - val_mse: 52885368832.0000\n",
      "Epoch 163/300\n",
      "720/720 [==============================] - 0s 130us/sample - loss: 43713794184.5333 - mae: 156266.9688 - mse: 43713785856.0000 - val_loss: 52866240238.9333 - val_mae: 156084.3594 - val_mse: 52866244608.0000\n",
      "Epoch 164/300\n",
      "720/720 [==============================] - 0s 135us/sample - loss: 43721188556.8000 - mae: 156337.2969 - mse: 43721191424.0000 - val_loss: 52850868224.0000 - val_mae: 156165.8125 - val_mse: 52850868224.0000\n",
      "Epoch 165/300\n",
      "720/720 [==============================] - 0s 139us/sample - loss: 43701595522.8444 - mae: 156310.8438 - mse: 43701596160.0000 - val_loss: 52892526455.4667 - val_mae: 155955.0156 - val_mse: 52892520448.0000\n",
      "Epoch 166/300\n",
      "720/720 [==============================] - 0s 141us/sample - loss: 43720428293.6889 - mae: 156286.9531 - mse: 43720433664.0000 - val_loss: 52918999722.6667 - val_mae: 155841.7812 - val_mse: 52919005184.0000\n",
      "Epoch 167/300\n",
      "720/720 [==============================] - 0s 134us/sample - loss: 43705267359.2889 - mae: 156171.1250 - mse: 43705270272.0000 - val_loss: 52918959672.8889 - val_mae: 155841.9531 - val_mse: 52918964224.0000\n",
      "Epoch 168/300\n",
      "720/720 [==============================] - 0s 139us/sample - loss: 43702337035.3778 - mae: 156228.5938 - mse: 43702333440.0000 - val_loss: 52887324080.3556 - val_mae: 155977.9688 - val_mse: 52887326720.0000\n",
      "Epoch 169/300\n",
      "720/720 [==============================] - 0s 142us/sample - loss: 43708577928.5333 - mae: 156287.5781 - mse: 43708575744.0000 - val_loss: 52871352320.0000 - val_mae: 156058.0469 - val_mse: 52871356416.0000\n",
      "Epoch 170/300\n",
      "720/720 [==============================] - 0s 134us/sample - loss: 43715113779.2000 - mae: 156333.6719 - mse: 43715117056.0000 - val_loss: 52888959294.5778 - val_mae: 155970.7188 - val_mse: 52888961024.0000\n",
      "Epoch 171/300\n",
      "720/720 [==============================] - 0s 134us/sample - loss: 43717173430.0444 - mae: 156297.5938 - mse: 43717173248.0000 - val_loss: 52932171639.4667 - val_mae: 155787.4844 - val_mse: 52932169728.0000\n",
      "Epoch 172/300\n",
      "720/720 [==============================] - 0s 130us/sample - loss: 43691133792.7111 - mae: 156222.7969 - mse: 43691130880.0000 - val_loss: 52957732681.9556 - val_mae: 155685.5625 - val_mse: 52957732864.0000\n",
      "Epoch 173/300\n",
      "720/720 [==============================] - 0s 136us/sample - loss: 43719172642.1333 - mae: 156194.8594 - mse: 43719172096.0000 - val_loss: 52881912172.0889 - val_mae: 156004.5938 - val_mse: 52881911808.0000\n",
      "Epoch 174/300\n",
      "720/720 [==============================] - 0s 132us/sample - loss: 43720401123.5556 - mae: 156305.6406 - mse: 43720400896.0000 - val_loss: 52876387396.2667 - val_mae: 156032.4062 - val_mse: 52876390400.0000\n",
      "Epoch 175/300\n",
      "720/720 [==============================] - 0s 136us/sample - loss: 43698603622.4000 - mae: 156213.5469 - mse: 43698601984.0000 - val_loss: 52852438721.4222 - val_mae: 156156.9219 - val_mse: 52852436992.0000\n",
      "Epoch 176/300\n",
      "720/720 [==============================] - 0s 133us/sample - loss: 43714280379.7333 - mae: 156376.5156 - mse: 43714281472.0000 - val_loss: 52852295270.4000 - val_mae: 156157.6875 - val_mse: 52852297728.0000\n",
      "Epoch 177/300\n",
      "720/720 [==============================] - 0s 133us/sample - loss: 43698600163.5556 - mae: 156333.9375 - mse: 43698601984.0000 - val_loss: 52883667353.6000 - val_mae: 155995.8594 - val_mse: 52883664896.0000\n",
      "Epoch 178/300\n",
      "720/720 [==============================] - 0s 132us/sample - loss: 43717193272.8889 - mae: 156294.1406 - mse: 43717189632.0000 - val_loss: 52849658174.5778 - val_mae: 156172.8125 - val_mse: 52849651712.0000\n",
      "Epoch 179/300\n",
      "720/720 [==============================] - 0s 132us/sample - loss: 43712371734.7556 - mae: 156326.7500 - mse: 43712372736.0000 - val_loss: 52830093767.1111 - val_mae: 156289.2969 - val_mse: 52830097408.0000\n",
      "Epoch 180/300\n",
      "720/720 [==============================] - 0s 132us/sample - loss: 43722524194.1333 - mae: 156363.8281 - mse: 43722522624.0000 - val_loss: 52840007179.3778 - val_mae: 156229.5156 - val_mse: 52840009728.0000\n",
      "Epoch 181/300\n",
      "720/720 [==============================] - 0s 132us/sample - loss: 43684485028.9778 - mae: 156219.9375 - mse: 43684483072.0000 - val_loss: 52808422559.2889 - val_mae: 156428.2031 - val_mse: 52808421376.0000\n",
      "Epoch 182/300\n",
      "720/720 [==============================] - 0s 132us/sample - loss: 43725087948.8000 - mae: 156463.7812 - mse: 43725086720.0000 - val_loss: 52812831766.7556 - val_mae: 156397.5938 - val_mse: 52812828672.0000\n",
      "Epoch 183/300\n",
      "720/720 [==============================] - 0s 132us/sample - loss: 43706587909.6889 - mae: 156432.2344 - mse: 43706589184.0000 - val_loss: 52899787025.0667 - val_mae: 155923.3594 - val_mse: 52899786752.0000\n",
      "Epoch 184/300\n",
      "720/720 [==============================] - 0s 131us/sample - loss: 43707510556.4444 - mae: 156340.6406 - mse: 43707514880.0000 - val_loss: 52891563076.2667 - val_mae: 155959.2188 - val_mse: 52891566080.0000\n",
      "Epoch 185/300\n"
     ]
    },
    {
     "name": "stdout",
     "output_type": "stream",
     "text": [
      "720/720 [==============================] - 0s 133us/sample - loss: 43702524541.1556 - mae: 156263.3906 - mse: 43702525952.0000 - val_loss: 52909192533.3333 - val_mae: 155883.0156 - val_mse: 52909187072.0000\n",
      "Epoch 186/300\n",
      "720/720 [==============================] - 0s 132us/sample - loss: 43713161352.5333 - mae: 156356.4844 - mse: 43713159168.0000 - val_loss: 52915347456.0000 - val_mae: 155857.0469 - val_mse: 52915351552.0000\n",
      "Epoch 187/300\n",
      "720/720 [==============================] - 0s 134us/sample - loss: 43708568917.3333 - mae: 156286.4844 - mse: 43708567552.0000 - val_loss: 52905189467.0222 - val_mae: 155900.0938 - val_mse: 52905189376.0000\n",
      "Epoch 188/300\n",
      "720/720 [==============================] - 0s 130us/sample - loss: 43701490483.2000 - mae: 156133.4375 - mse: 43701497856.0000 - val_loss: 52828944156.4444 - val_mae: 156296.2969 - val_mse: 52828946432.0000\n",
      "Epoch 189/300\n",
      "720/720 [==============================] - 0s 135us/sample - loss: 43715186141.8667 - mae: 156385.0938 - mse: 43715190784.0000 - val_loss: 52875221219.5556 - val_mae: 156038.2500 - val_mse: 52875227136.0000\n",
      "Epoch 190/300\n",
      "720/720 [==============================] - 0s 131us/sample - loss: 43716621926.4000 - mae: 156229.5938 - mse: 43716620288.0000 - val_loss: 52867563337.9556 - val_mae: 156077.4531 - val_mse: 52867559424.0000\n",
      "Epoch 191/300\n",
      "720/720 [==============================] - 0s 133us/sample - loss: 43716976139.3778 - mae: 156268.5781 - mse: 43716972544.0000 - val_loss: 52883780130.1333 - val_mae: 155995.2188 - val_mse: 52883775488.0000\n",
      "Epoch 192/300\n",
      "720/720 [==============================] - 0s 130us/sample - loss: 43704997205.3333 - mae: 156183.5938 - mse: 43704995840.0000 - val_loss: 52850406741.3333 - val_mae: 156168.3750 - val_mse: 52850401280.0000\n",
      "Epoch 193/300\n",
      "720/720 [==============================] - 0s 127us/sample - loss: 43703900114.4889 - mae: 156367.9219 - mse: 43703894016.0000 - val_loss: 52904575886.2222 - val_mae: 155902.7031 - val_mse: 52904579072.0000\n",
      "Epoch 194/300\n",
      "720/720 [==============================] - 0s 134us/sample - loss: 43705652383.2889 - mae: 156219.4062 - mse: 43705655296.0000 - val_loss: 52885733376.0000 - val_mae: 155985.4844 - val_mse: 52885733376.0000\n",
      "Epoch 195/300\n",
      "720/720 [==============================] - 0s 135us/sample - loss: 43704303798.0444 - mae: 156344.7188 - mse: 43704311808.0000 - val_loss: 52925086378.6667 - val_mae: 155816.4844 - val_mse: 52925083648.0000\n",
      "Epoch 196/300\n",
      "720/720 [==============================] - 0s 131us/sample - loss: 43710818986.6667 - mae: 156242.3594 - mse: 43710816256.0000 - val_loss: 52878324349.1556 - val_mae: 156022.5625 - val_mse: 52878323712.0000\n",
      "Epoch 197/300\n",
      "720/720 [==============================] - 0s 133us/sample - loss: 43709850055.1111 - mae: 156293.6875 - mse: 43709845504.0000 - val_loss: 52914811244.0889 - val_mae: 155859.2812 - val_mse: 52914814976.0000\n",
      "Epoch 198/300\n",
      "720/720 [==============================] - 0s 133us/sample - loss: 43722692562.4889 - mae: 156325.3125 - mse: 43722694656.0000 - val_loss: 52940411790.2222 - val_mae: 155754.0938 - val_mse: 52940410880.0000\n",
      "Epoch 199/300\n",
      "720/720 [==============================] - 0s 136us/sample - loss: 43702524495.6444 - mae: 156216.9844 - mse: 43702521856.0000 - val_loss: 52904658443.3778 - val_mae: 155902.3594 - val_mse: 52904660992.0000\n",
      "Epoch 200/300\n",
      "720/720 [==============================] - 0s 145us/sample - loss: 43706058888.5333 - mae: 156234.6406 - mse: 43706052608.0000 - val_loss: 52912288836.2667 - val_mae: 155869.8750 - val_mse: 52912291840.0000\n",
      "Epoch 201/300\n",
      "720/720 [==============================] - 0s 146us/sample - loss: 43730101998.9333 - mae: 156211.9062 - mse: 43730100224.0000 - val_loss: 52935451625.2444 - val_mae: 155774.0938 - val_mse: 52935454720.0000\n",
      "Epoch 202/300\n",
      "720/720 [==============================] - 0s 143us/sample - loss: 43711817318.4000 - mae: 156223.5000 - mse: 43711815680.0000 - val_loss: 52922009008.3556 - val_mae: 155829.2188 - val_mse: 52922003456.0000\n",
      "Epoch 203/300\n",
      "720/720 [==============================] - 0s 135us/sample - loss: 43705250520.1778 - mae: 156198.6406 - mse: 43705257984.0000 - val_loss: 52890898978.1333 - val_mae: 155962.0938 - val_mse: 52890902528.0000\n",
      "Epoch 204/300\n",
      "720/720 [==============================] - 0s 134us/sample - loss: 43720278380.0889 - mae: 156251.5938 - mse: 43720282112.0000 - val_loss: 52902550004.6222 - val_mae: 155911.4062 - val_mse: 52902547456.0000\n",
      "Epoch 205/300\n",
      "720/720 [==============================] - 0s 130us/sample - loss: 43693233447.8222 - mae: 156219.5156 - mse: 43693232128.0000 - val_loss: 52901901835.3778 - val_mae: 155914.1719 - val_mse: 52901904384.0000\n",
      "Epoch 206/300\n",
      "720/720 [==============================] - 0s 134us/sample - loss: 43700503347.2000 - mae: 156299.0156 - mse: 43700502528.0000 - val_loss: 52876280172.0889 - val_mae: 156032.8594 - val_mse: 52876279808.0000\n",
      "Epoch 207/300\n",
      "720/720 [==============================] - 0s 133us/sample - loss: 43707114837.3333 - mae: 156359.0312 - mse: 43707117568.0000 - val_loss: 52938245006.2222 - val_mae: 155762.7969 - val_mse: 52938252288.0000\n",
      "Epoch 208/300\n",
      "720/720 [==============================] - 0s 134us/sample - loss: 43709325494.0444 - mae: 156215.5938 - mse: 43709325312.0000 - val_loss: 52938813622.0444 - val_mae: 155760.5156 - val_mse: 52938809344.0000\n",
      "Epoch 209/300\n",
      "720/720 [==============================] - 0s 133us/sample - loss: 43696854630.4000 - mae: 156194.1094 - mse: 43696857088.0000 - val_loss: 52925003093.3333 - val_mae: 155816.7812 - val_mse: 52925009920.0000\n",
      "Epoch 210/300\n",
      "720/720 [==============================] - 0s 135us/sample - loss: 43713159896.1778 - mae: 156148.1406 - mse: 43713163264.0000 - val_loss: 52905702013.1556 - val_mae: 155897.8750 - val_mse: 52905705472.0000\n",
      "Epoch 211/300\n",
      "720/720 [==============================] - 0s 132us/sample - loss: 43723914490.3111 - mae: 156324.5781 - mse: 43723915264.0000 - val_loss: 52898786508.8000 - val_mae: 155927.6562 - val_mse: 52898783232.0000\n",
      "Epoch 212/300\n",
      "720/720 [==============================] - 0s 132us/sample - loss: 43729739502.9333 - mae: 156148.8594 - mse: 43729739776.0000 - val_loss: 52891389587.9111 - val_mae: 155959.9062 - val_mse: 52891389952.0000\n",
      "Epoch 213/300\n",
      "720/720 [==============================] - 0s 136us/sample - loss: 43715033406.5778 - mae: 156249.9531 - mse: 43715035136.0000 - val_loss: 52885916239.6444 - val_mae: 155984.5312 - val_mse: 52885913600.0000\n",
      "Epoch 214/300\n",
      "720/720 [==============================] - 0s 131us/sample - loss: 43681163901.1556 - mae: 156229.2500 - mse: 43681161216.0000 - val_loss: 52869521772.0889 - val_mae: 156067.2812 - val_mse: 52869521408.0000\n",
      "Epoch 215/300\n",
      "720/720 [==============================] - 0s 137us/sample - loss: 43718581680.3556 - mae: 156321.3594 - mse: 43718582272.0000 - val_loss: 52871174007.4667 - val_mae: 156058.7812 - val_mse: 52871176192.0000\n",
      "Epoch 216/300\n",
      "720/720 [==============================] - 0s 133us/sample - loss: 43702970049.4222 - mae: 156350.0156 - mse: 43702972416.0000 - val_loss: 52918094324.6222 - val_mae: 155845.4844 - val_mse: 52918095872.0000\n",
      "Epoch 217/300\n",
      "720/720 [==============================] - 0s 136us/sample - loss: 43693650011.0222 - mae: 156185.5000 - mse: 43693654016.0000 - val_loss: 52838567298.8444 - val_mae: 156237.9688 - val_mse: 52838567936.0000\n",
      "Epoch 218/300\n",
      "720/720 [==============================] - 0s 132us/sample - loss: 43723619532.8000 - mae: 156405.0469 - mse: 43723620352.0000 - val_loss: 52874884437.3333 - val_mae: 156039.8594 - val_mse: 52874883072.0000\n",
      "Epoch 219/300\n",
      "720/720 [==============================] - 0s 132us/sample - loss: 43714034164.6222 - mae: 156340.4688 - mse: 43714031616.0000 - val_loss: 52925823749.6889 - val_mae: 155813.3906 - val_mse: 52925825024.0000\n",
      "Epoch 220/300\n",
      "720/720 [==============================] - 0s 130us/sample - loss: 43689012610.8444 - mae: 156231.7812 - mse: 43689005056.0000 - val_loss: 52906802289.7778 - val_mae: 155893.1406 - val_mse: 52906803200.0000\n",
      "Epoch 221/300\n",
      "720/720 [==============================] - 0s 132us/sample - loss: 43712631921.7778 - mae: 156268.4062 - mse: 43712634880.0000 - val_loss: 52922964741.6889 - val_mae: 155825.2188 - val_mse: 52922966016.0000\n",
      "Epoch 222/300\n"
     ]
    },
    {
     "name": "stdout",
     "output_type": "stream",
     "text": [
      "720/720 [==============================] - 0s 131us/sample - loss: 43730629791.2889 - mae: 156313.1562 - mse: 43730624512.0000 - val_loss: 52878160600.1778 - val_mae: 156023.2812 - val_mse: 52878159872.0000\n",
      "Epoch 223/300\n",
      "720/720 [==============================] - 0s 134us/sample - loss: 43700476495.6444 - mae: 156166.0625 - mse: 43700482048.0000 - val_loss: 52859188110.2222 - val_mae: 156120.9844 - val_mse: 52859195392.0000\n",
      "Epoch 224/300\n",
      "720/720 [==============================] - 0s 132us/sample - loss: 43716015627.3778 - mae: 156334.3281 - mse: 43716018176.0000 - val_loss: 52828218618.3111 - val_mae: 156300.5938 - val_mse: 52828221440.0000\n",
      "Epoch 225/300\n",
      "720/720 [==============================] - 0s 134us/sample - loss: 43700711424.0000 - mae: 156334.7812 - mse: 43700711424.0000 - val_loss: 52839270991.6444 - val_mae: 156233.7812 - val_mse: 52839272448.0000\n",
      "Epoch 226/300\n",
      "720/720 [==============================] - 0s 133us/sample - loss: 43711940926.5778 - mae: 156338.6719 - mse: 43711942656.0000 - val_loss: 52888584374.0444 - val_mae: 155972.2656 - val_mse: 52888584192.0000\n",
      "Epoch 227/300\n",
      "720/720 [==============================] - 0s 130us/sample - loss: 43708625533.1556 - mae: 156314.0938 - mse: 43708633088.0000 - val_loss: 52865240723.9111 - val_mae: 156089.3750 - val_mse: 52865241088.0000\n",
      "Epoch 228/300\n",
      "720/720 [==============================] - 0s 135us/sample - loss: 43720548989.1556 - mae: 156278.9219 - mse: 43720544256.0000 - val_loss: 52863373038.9333 - val_mae: 156099.0625 - val_mse: 52863369216.0000\n",
      "Epoch 229/300\n",
      "720/720 [==============================] - 0s 132us/sample - loss: 43708809307.0222 - mae: 156312.1406 - mse: 43708809216.0000 - val_loss: 52870078372.9778 - val_mae: 156064.3594 - val_mse: 52870074368.0000\n",
      "Epoch 230/300\n",
      "720/720 [==============================] - 0s 134us/sample - loss: 43695034094.9333 - mae: 156165.4375 - mse: 43695034368.0000 - val_loss: 52832482099.2000 - val_mae: 156274.5938 - val_mse: 52832477184.0000\n",
      "Epoch 231/300\n",
      "720/720 [==============================] - 0s 129us/sample - loss: 43704220421.6889 - mae: 156205.9375 - mse: 43704221696.0000 - val_loss: 52805473075.2000 - val_mae: 156448.7500 - val_mse: 52805476352.0000\n",
      "Epoch 232/300\n",
      "720/720 [==============================] - 0s 136us/sample - loss: 43728461732.9778 - mae: 156365.8438 - mse: 43728457728.0000 - val_loss: 52798525075.9111 - val_mae: 156498.3281 - val_mse: 52798521344.0000\n",
      "Epoch 233/300\n",
      "720/720 [==============================] - 0s 131us/sample - loss: 43703591367.1111 - mae: 156313.5312 - mse: 43703590912.0000 - val_loss: 52826979714.8444 - val_mae: 156308.1875 - val_mse: 52826980352.0000\n",
      "Epoch 234/300\n",
      "720/720 [==============================] - 0s 134us/sample - loss: 43704673985.4222 - mae: 156260.7656 - mse: 43704676352.0000 - val_loss: 52797036407.4667 - val_mae: 156509.0625 - val_mse: 52797038592.0000\n",
      "Epoch 235/300\n",
      "720/720 [==============================] - 0s 133us/sample - loss: 43688109169.7778 - mae: 156290.6562 - mse: 43688108032.0000 - val_loss: 52761085542.4000 - val_mae: 156801.9375 - val_mse: 52761088000.0000\n",
      "Epoch 236/300\n",
      "720/720 [==============================] - 0s 135us/sample - loss: 43761248392.5333 - mae: 156510.5625 - mse: 43761246208.0000 - val_loss: 52761317102.9333 - val_mae: 156799.8750 - val_mse: 52761321472.0000\n",
      "Epoch 237/300\n",
      "720/720 [==============================] - 0s 133us/sample - loss: 43716229256.5333 - mae: 156455.5938 - mse: 43716227072.0000 - val_loss: 52749836288.0000 - val_mae: 156903.4062 - val_mse: 52749840384.0000\n",
      "Epoch 238/300\n",
      "720/720 [==============================] - 0s 132us/sample - loss: 43716612278.0444 - mae: 156516.8906 - mse: 43716612096.0000 - val_loss: 52809817110.7556 - val_mae: 156418.2812 - val_mse: 52809818112.0000\n",
      "Epoch 239/300\n",
      "720/720 [==============================] - 0s 130us/sample - loss: 43735363219.9111 - mae: 156320.0000 - mse: 43735363584.0000 - val_loss: 52795151246.2222 - val_mae: 156522.7812 - val_mse: 52795150336.0000\n",
      "Epoch 240/300\n",
      "720/720 [==============================] - 0s 132us/sample - loss: 43700244434.4889 - mae: 156329.6719 - mse: 43700244480.0000 - val_loss: 52800283989.3333 - val_mae: 156485.6406 - val_mse: 52800286720.0000\n",
      "Epoch 241/300\n",
      "720/720 [==============================] - 0s 134us/sample - loss: 43709921325.5111 - mae: 156316.2500 - mse: 43709919232.0000 - val_loss: 52837060790.0444 - val_mae: 156246.9375 - val_mse: 52837064704.0000\n",
      "Epoch 242/300\n",
      "720/720 [==============================] - 0s 133us/sample - loss: 43710641675.3778 - mae: 156281.5156 - mse: 43710644224.0000 - val_loss: 52820559462.4000 - val_mae: 156348.0938 - val_mse: 52820557824.0000\n",
      "Epoch 243/300\n",
      "720/720 [==============================] - 0s 133us/sample - loss: 43713834643.9111 - mae: 156460.5938 - mse: 43713835008.0000 - val_loss: 52859641856.0000 - val_mae: 156118.5312 - val_mse: 52859637760.0000\n",
      "Epoch 244/300\n",
      "720/720 [==============================] - 0s 132us/sample - loss: 43716339120.3556 - mae: 156353.5625 - mse: 43716337664.0000 - val_loss: 52875668866.8444 - val_mae: 156035.8281 - val_mse: 52875669504.0000\n",
      "Epoch 245/300\n",
      "720/720 [==============================] - 0s 132us/sample - loss: 43684305214.5778 - mae: 156232.1406 - mse: 43684306944.0000 - val_loss: 52945081958.4000 - val_mae: 155735.3281 - val_mse: 52945084416.0000\n",
      "Epoch 246/300\n",
      "720/720 [==============================] - 0s 133us/sample - loss: 43731903374.2222 - mae: 156304.6562 - mse: 43731906560.0000 - val_loss: 52942122279.8222 - val_mae: 155747.1406 - val_mse: 52942123008.0000\n",
      "Epoch 247/300\n",
      "720/720 [==============================] - 0s 132us/sample - loss: 43710633574.4000 - mae: 156320.0938 - mse: 43710640128.0000 - val_loss: 52975482743.4667 - val_mae: 155617.0625 - val_mse: 52975480832.0000\n",
      "Epoch 248/300\n",
      "720/720 [==============================] - 0s 132us/sample - loss: 43721540221.1556 - mae: 156270.1094 - mse: 43721543680.0000 - val_loss: 52941015267.5556 - val_mae: 155751.5781 - val_mse: 52941012992.0000\n",
      "Epoch 249/300\n",
      "720/720 [==============================] - 0s 132us/sample - loss: 43739136182.0444 - mae: 156217.3438 - mse: 43739136000.0000 - val_loss: 52954223593.2444 - val_mae: 155699.1406 - val_mse: 52954222592.0000\n",
      "Epoch 250/300\n",
      "720/720 [==============================] - 0s 129us/sample - loss: 43702245967.6444 - mae: 156212.7969 - mse: 43702243328.0000 - val_loss: 52900752952.8889 - val_mae: 155919.0625 - val_mse: 52900753408.0000\n",
      "Epoch 251/300\n",
      "720/720 [==============================] - 0s 131us/sample - loss: 43728241095.1111 - mae: 156307.7500 - mse: 43728240640.0000 - val_loss: 52864254134.0444 - val_mae: 156094.3594 - val_mse: 52864258048.0000\n",
      "Epoch 252/300\n",
      "720/720 [==============================] - 0s 133us/sample - loss: 43708531598.2222 - mae: 156323.2969 - mse: 43708534784.0000 - val_loss: 52882496807.8222 - val_mae: 156001.4375 - val_mse: 52882497536.0000\n",
      "Epoch 253/300\n",
      "720/720 [==============================] - 0s 137us/sample - loss: 43710890439.1111 - mae: 156237.0000 - mse: 43710889984.0000 - val_loss: 52843608109.5111 - val_mae: 156207.9375 - val_mse: 52843610112.0000\n",
      "Epoch 254/300\n",
      "720/720 [==============================] - 0s 138us/sample - loss: 43719072881.7778 - mae: 156333.5781 - mse: 43719069696.0000 - val_loss: 52894273900.0889 - val_mae: 155947.1719 - val_mse: 52894273536.0000\n",
      "Epoch 255/300\n",
      "720/720 [==============================] - 0s 143us/sample - loss: 43690591482.3111 - mae: 156238.0625 - mse: 43690594304.0000 - val_loss: 52830319320.1778 - val_mae: 156287.6094 - val_mse: 52830318592.0000\n",
      "Epoch 256/300\n",
      "720/720 [==============================] - 0s 149us/sample - loss: 43694962187.3778 - mae: 156399.2656 - mse: 43694964736.0000 - val_loss: 52887570750.5778 - val_mae: 155976.7031 - val_mse: 52887564288.0000\n",
      "Epoch 257/300\n",
      "720/720 [==============================] - 0s 145us/sample - loss: 43725508881.0667 - mae: 156238.1562 - mse: 43725512704.0000 - val_loss: 52887980168.5333 - val_mae: 155974.8750 - val_mse: 52887977984.0000\n",
      "Epoch 258/300\n",
      "720/720 [==============================] - 0s 146us/sample - loss: 43705787733.3333 - mae: 156249.5938 - mse: 43705790464.0000 - val_loss: 52875083411.9111 - val_mae: 156038.7344 - val_mse: 52875083776.0000\n",
      "Epoch 259/300\n"
     ]
    },
    {
     "name": "stdout",
     "output_type": "stream",
     "text": [
      "720/720 [==============================] - 0s 140us/sample - loss: 43698096219.0222 - mae: 156321.2656 - mse: 43698094080.0000 - val_loss: 52857600136.5333 - val_mae: 156129.2500 - val_mse: 52857602048.0000\n",
      "Epoch 260/300\n",
      "720/720 [==============================] - 0s 138us/sample - loss: 43706118872.1778 - mae: 156338.1406 - mse: 43706118144.0000 - val_loss: 52866552900.2667 - val_mae: 156082.4375 - val_mse: 52866551808.0000\n",
      "Epoch 261/300\n",
      "720/720 [==============================] - 0s 133us/sample - loss: 43698200894.5778 - mae: 156349.5625 - mse: 43698192384.0000 - val_loss: 52947760287.2889 - val_mae: 155724.6406 - val_mse: 52947763200.0000\n",
      "Epoch 262/300\n",
      "720/720 [==============================] - 0s 135us/sample - loss: 43718312300.0889 - mae: 156263.1719 - mse: 43718316032.0000 - val_loss: 52894879470.9333 - val_mae: 155944.5156 - val_mse: 52894879744.0000\n",
      "Epoch 263/300\n",
      "720/720 [==============================] - 0s 141us/sample - loss: 43705896686.9333 - mae: 156244.2031 - mse: 43705892864.0000 - val_loss: 52841371602.4889 - val_mae: 156221.1562 - val_mse: 52841373696.0000\n",
      "Epoch 264/300\n",
      "720/720 [==============================] - 0s 136us/sample - loss: 43709960100.9778 - mae: 156275.7812 - mse: 43709956096.0000 - val_loss: 52897656103.8222 - val_mae: 155932.4375 - val_mse: 52897652736.0000\n",
      "Epoch 265/300\n",
      "720/720 [==============================] - 0s 144us/sample - loss: 43735683072.0000 - mae: 156302.4062 - mse: 43735683072.0000 - val_loss: 52904001718.0444 - val_mae: 155905.0312 - val_mse: 52904001536.0000\n",
      "Epoch 266/300\n",
      "720/720 [==============================] - 0s 137us/sample - loss: 43697034672.3556 - mae: 156215.9219 - mse: 43697037312.0000 - val_loss: 52881537888.7111 - val_mae: 156006.1719 - val_mse: 52881539072.0000\n",
      "Epoch 267/300\n",
      "720/720 [==============================] - 0s 133us/sample - loss: 43703715657.9556 - mae: 156281.2500 - mse: 43703713792.0000 - val_loss: 52863056008.5333 - val_mae: 156100.5781 - val_mse: 52863057920.0000\n",
      "Epoch 268/300\n",
      "720/720 [==============================] - 0s 133us/sample - loss: 43717611246.9333 - mae: 156347.0469 - mse: 43717615616.0000 - val_loss: 52847351398.4000 - val_mae: 156185.9375 - val_mse: 52847349760.0000\n",
      "Epoch 269/300\n",
      "720/720 [==============================] - 0s 132us/sample - loss: 43705700260.9778 - mae: 156250.9375 - mse: 43705696256.0000 - val_loss: 52870384480.7111 - val_mae: 156062.6719 - val_mse: 52870389760.0000\n",
      "Epoch 270/300\n",
      "720/720 [==============================] - 0s 136us/sample - loss: 43700923414.7556 - mae: 156256.8125 - mse: 43700920320.0000 - val_loss: 52894796822.7556 - val_mae: 155944.8594 - val_mse: 52894797824.0000\n",
      "Epoch 271/300\n",
      "720/720 [==============================] - 0s 133us/sample - loss: 43693069471.2889 - mae: 156253.1094 - mse: 43693068288.0000 - val_loss: 52845157307.7333 - val_mae: 156198.7812 - val_mse: 52845158400.0000\n",
      "Epoch 272/300\n",
      "720/720 [==============================] - 0s 133us/sample - loss: 43717114811.7333 - mae: 156277.9844 - mse: 43717115904.0000 - val_loss: 52867341061.6889 - val_mae: 156078.3438 - val_mse: 52867342336.0000\n",
      "Epoch 273/300\n",
      "720/720 [==============================] - 0s 132us/sample - loss: 43701011160.1778 - mae: 156284.0469 - mse: 43701010432.0000 - val_loss: 52864073090.8444 - val_mae: 156095.2656 - val_mse: 52864073728.0000\n",
      "Epoch 274/300\n",
      "720/720 [==============================] - 0s 132us/sample - loss: 43705526863.6444 - mae: 156270.7188 - mse: 43705528320.0000 - val_loss: 52926869048.8889 - val_mae: 155809.0000 - val_mse: 52926869504.0000\n",
      "Epoch 275/300\n",
      "720/720 [==============================] - 0s 133us/sample - loss: 43708844441.6000 - mae: 156269.5781 - mse: 43708841984.0000 - val_loss: 52867127978.6667 - val_mae: 156079.4062 - val_mse: 52867129344.0000\n",
      "Epoch 276/300\n",
      "720/720 [==============================] - 0s 134us/sample - loss: 43685141890.8444 - mae: 156286.9062 - mse: 43685138432.0000 - val_loss: 52942400261.6889 - val_mae: 155745.9844 - val_mse: 52942397440.0000\n",
      "Epoch 277/300\n",
      "720/720 [==============================] - 0s 134us/sample - loss: 43723764895.2889 - mae: 156197.3438 - mse: 43723767808.0000 - val_loss: 52901741363.2000 - val_mae: 155914.7344 - val_mse: 52901744640.0000\n",
      "Epoch 278/300\n",
      "720/720 [==============================] - 0s 132us/sample - loss: 43717010272.7111 - mae: 156379.8281 - mse: 43717005312.0000 - val_loss: 52915318784.0000 - val_mae: 155856.9844 - val_mse: 52915322880.0000\n",
      "Epoch 279/300\n",
      "720/720 [==============================] - 0s 132us/sample - loss: 43700472035.5556 - mae: 156213.2031 - mse: 43700469760.0000 - val_loss: 52972740790.0444 - val_mae: 155627.4375 - val_mse: 52972744704.0000\n",
      "Epoch 280/300\n",
      "720/720 [==============================] - 0s 132us/sample - loss: 43698352310.0444 - mae: 156233.7188 - mse: 43698348032.0000 - val_loss: 52977915130.3111 - val_mae: 155607.7812 - val_mse: 52977917952.0000\n",
      "Epoch 281/300\n",
      "720/720 [==============================] - 0s 131us/sample - loss: 43717809129.2444 - mae: 156226.9531 - mse: 43717808128.0000 - val_loss: 52953267495.8222 - val_mae: 155702.8438 - val_mse: 52953268224.0000\n",
      "Epoch 282/300\n",
      "720/720 [==============================] - 0s 132us/sample - loss: 43706317209.6000 - mae: 156110.8281 - mse: 43706318848.0000 - val_loss: 52887204295.1111 - val_mae: 155978.2500 - val_mse: 52887203840.0000\n",
      "Epoch 283/300\n",
      "720/720 [==============================] - 0s 132us/sample - loss: 43734232632.8889 - mae: 156299.4844 - mse: 43734233088.0000 - val_loss: 52903061822.5778 - val_mae: 155909.0469 - val_mse: 52903059456.0000\n",
      "Epoch 284/300\n",
      "720/720 [==============================] - 0s 132us/sample - loss: 43702073480.5333 - mae: 156295.6094 - mse: 43702071296.0000 - val_loss: 52925883733.3333 - val_mae: 155813.0156 - val_mse: 52925878272.0000\n",
      "Epoch 285/300\n",
      "720/720 [==============================] - 0s 132us/sample - loss: 43693760466.4889 - mae: 156221.0156 - mse: 43693760512.0000 - val_loss: 52973548703.2889 - val_mae: 155624.3281 - val_mse: 52973547520.0000\n",
      "Epoch 286/300\n",
      "720/720 [==============================] - 0s 133us/sample - loss: 43704955335.1111 - mae: 156197.1719 - mse: 43704954880.0000 - val_loss: 52976882392.1778 - val_mae: 155611.6719 - val_mse: 52976877568.0000\n",
      "Epoch 287/300\n",
      "720/720 [==============================] - 0s 135us/sample - loss: 43711065474.8444 - mae: 156172.7500 - mse: 43711070208.0000 - val_loss: 52919474767.6444 - val_mae: 155839.5781 - val_mse: 52919468032.0000\n",
      "Epoch 288/300\n",
      "720/720 [==============================] - 0s 131us/sample - loss: 43716241999.6444 - mae: 156384.6406 - mse: 43716239360.0000 - val_loss: 52948834531.5556 - val_mae: 155720.3125 - val_mse: 52948828160.0000\n",
      "Epoch 289/300\n",
      "720/720 [==============================] - 0s 133us/sample - loss: 43704926663.1111 - mae: 156147.7656 - mse: 43704918016.0000 - val_loss: 52888970581.3333 - val_mae: 155970.4375 - val_mse: 52888973312.0000\n",
      "Epoch 290/300\n",
      "720/720 [==============================] - 0s 129us/sample - loss: 43729921092.2667 - mae: 156219.8750 - mse: 43729920000.0000 - val_loss: 52863812676.2667 - val_mae: 156096.5469 - val_mse: 52863811584.0000\n",
      "Epoch 291/300\n",
      "720/720 [==============================] - 0s 129us/sample - loss: 43698349943.4667 - mae: 156248.7656 - mse: 43698352128.0000 - val_loss: 52905542815.2889 - val_mae: 155898.3750 - val_mse: 52905541632.0000\n",
      "Epoch 292/300\n",
      "720/720 [==============================] - 0s 131us/sample - loss: 43702344999.8222 - mae: 156299.2500 - mse: 43702345728.0000 - val_loss: 52852144355.5556 - val_mae: 156158.0938 - val_mse: 52852146176.0000\n",
      "Epoch 293/300\n",
      "720/720 [==============================] - 0s 132us/sample - loss: 43680186732.0889 - mae: 156400.5625 - mse: 43680182272.0000 - val_loss: 52907521456.3556 - val_mae: 155889.9375 - val_mse: 52907520000.0000\n",
      "Epoch 294/300\n",
      "720/720 [==============================] - 0s 132us/sample - loss: 43729885366.0444 - mae: 156373.9375 - mse: 43729879040.0000 - val_loss: 52879013569.4222 - val_mae: 156018.7344 - val_mse: 52879011840.0000\n",
      "Epoch 295/300\n",
      "720/720 [==============================] - 0s 134us/sample - loss: 43700411596.8000 - mae: 156209.7344 - mse: 43700416512.0000 - val_loss: 52830809292.8000 - val_mae: 156284.5156 - val_mse: 52830806016.0000\n",
      "Epoch 296/300\n"
     ]
    },
    {
     "name": "stdout",
     "output_type": "stream",
     "text": [
      "720/720 [==============================] - 0s 132us/sample - loss: 43720674235.7333 - mae: 156395.4375 - mse: 43720675328.0000 - val_loss: 52846501523.9111 - val_mae: 156190.7969 - val_mse: 52846501888.0000\n",
      "Epoch 297/300\n",
      "720/720 [==============================] - 0s 132us/sample - loss: 43684750222.2222 - mae: 156259.7188 - mse: 43684741120.0000 - val_loss: 52881328355.5556 - val_mae: 156007.1094 - val_mse: 52881326080.0000\n",
      "Epoch 298/300\n",
      "720/720 [==============================] - 0s 130us/sample - loss: 43696937278.5778 - mae: 156300.8750 - mse: 43696934912.0000 - val_loss: 52898307458.8444 - val_mae: 155929.5469 - val_mse: 52898304000.0000\n",
      "Epoch 299/300\n",
      "720/720 [==============================] - 0s 132us/sample - loss: 43718590008.8889 - mae: 156294.5625 - mse: 43718586368.0000 - val_loss: 52863082769.0667 - val_mae: 156100.3125 - val_mse: 52863086592.0000\n",
      "Epoch 300/300\n",
      "720/720 [==============================] - 0s 134us/sample - loss: 43712248672.7111 - mae: 156182.8438 - mse: 43712245760.0000 - val_loss: 52853373428.6222 - val_mae: 156151.5469 - val_mse: 52853374976.0000\n"
     ]
    }
   ],
   "source": [
    "EPOCHS = 300\n",
    "model_history = model.fit(x_train, y_train, epochs=EPOCHS, validation_split=0.2, verbose=1)"
   ]
  },
  {
   "cell_type": "code",
   "execution_count": 45,
   "metadata": {},
   "outputs": [
    {
     "name": "stdout",
     "output_type": "stream",
     "text": [
      "3604/1 - 0s - loss: 49450086754.5927 - mae: 158192.7656 - mse: 46361845760.0000\n",
      "Testing set Mean Abs Error: $158192.77\n"
     ]
    }
   ],
   "source": [
    "loss, mae, mse = model.evaluate(x_test, y_test, verbose=2)\n",
    "\n",
    "print(\"Testing set Mean Abs Error: ${:5.2f}\".format(mae))"
   ]
  },
  {
   "cell_type": "code",
   "execution_count": null,
   "metadata": {},
   "outputs": [],
   "source": []
  },
  {
   "cell_type": "code",
   "execution_count": 46,
   "metadata": {},
   "outputs": [
    {
     "data": {
      "text/html": [
       "<div>\n",
       "<style scoped>\n",
       "    .dataframe tbody tr th:only-of-type {\n",
       "        vertical-align: middle;\n",
       "    }\n",
       "\n",
       "    .dataframe tbody tr th {\n",
       "        vertical-align: top;\n",
       "    }\n",
       "\n",
       "    .dataframe thead th {\n",
       "        text-align: right;\n",
       "    }\n",
       "</style>\n",
       "<table border=\"1\" class=\"dataframe\">\n",
       "  <thead>\n",
       "    <tr style=\"text-align: right;\">\n",
       "      <th></th>\n",
       "      <th>loss</th>\n",
       "      <th>mae</th>\n",
       "      <th>mse</th>\n",
       "      <th>val_loss</th>\n",
       "      <th>val_mae</th>\n",
       "      <th>val_mse</th>\n",
       "      <th>epoch</th>\n",
       "    </tr>\n",
       "  </thead>\n",
       "  <tbody>\n",
       "    <tr>\n",
       "      <th>295</th>\n",
       "      <td>4.372067e+10</td>\n",
       "      <td>156395.43750</td>\n",
       "      <td>4.372068e+10</td>\n",
       "      <td>5.284650e+10</td>\n",
       "      <td>156190.796875</td>\n",
       "      <td>5.284650e+10</td>\n",
       "      <td>295</td>\n",
       "    </tr>\n",
       "    <tr>\n",
       "      <th>296</th>\n",
       "      <td>4.368475e+10</td>\n",
       "      <td>156259.71875</td>\n",
       "      <td>4.368474e+10</td>\n",
       "      <td>5.288133e+10</td>\n",
       "      <td>156007.109375</td>\n",
       "      <td>5.288133e+10</td>\n",
       "      <td>296</td>\n",
       "    </tr>\n",
       "    <tr>\n",
       "      <th>297</th>\n",
       "      <td>4.369694e+10</td>\n",
       "      <td>156300.87500</td>\n",
       "      <td>4.369693e+10</td>\n",
       "      <td>5.289831e+10</td>\n",
       "      <td>155929.546875</td>\n",
       "      <td>5.289830e+10</td>\n",
       "      <td>297</td>\n",
       "    </tr>\n",
       "    <tr>\n",
       "      <th>298</th>\n",
       "      <td>4.371859e+10</td>\n",
       "      <td>156294.56250</td>\n",
       "      <td>4.371859e+10</td>\n",
       "      <td>5.286308e+10</td>\n",
       "      <td>156100.312500</td>\n",
       "      <td>5.286309e+10</td>\n",
       "      <td>298</td>\n",
       "    </tr>\n",
       "    <tr>\n",
       "      <th>299</th>\n",
       "      <td>4.371225e+10</td>\n",
       "      <td>156182.84375</td>\n",
       "      <td>4.371225e+10</td>\n",
       "      <td>5.285337e+10</td>\n",
       "      <td>156151.546875</td>\n",
       "      <td>5.285337e+10</td>\n",
       "      <td>299</td>\n",
       "    </tr>\n",
       "  </tbody>\n",
       "</table>\n",
       "</div>"
      ],
      "text/plain": [
       "             loss           mae           mse      val_loss        val_mae  \\\n",
       "295  4.372067e+10  156395.43750  4.372068e+10  5.284650e+10  156190.796875   \n",
       "296  4.368475e+10  156259.71875  4.368474e+10  5.288133e+10  156007.109375   \n",
       "297  4.369694e+10  156300.87500  4.369693e+10  5.289831e+10  155929.546875   \n",
       "298  4.371859e+10  156294.56250  4.371859e+10  5.286308e+10  156100.312500   \n",
       "299  4.371225e+10  156182.84375  4.371225e+10  5.285337e+10  156151.546875   \n",
       "\n",
       "          val_mse  epoch  \n",
       "295  5.284650e+10    295  \n",
       "296  5.288133e+10    296  \n",
       "297  5.289830e+10    297  \n",
       "298  5.286309e+10    298  \n",
       "299  5.285337e+10    299  "
      ]
     },
     "execution_count": 46,
     "metadata": {},
     "output_type": "execute_result"
    }
   ],
   "source": [
    "hist = pd.DataFrame(model_history.history)\n",
    "hist['epoch'] = model_history.epoch\n",
    "hist.tail()"
   ]
  },
  {
   "cell_type": "code",
   "execution_count": 47,
   "metadata": {},
   "outputs": [],
   "source": [
    "def plot_history(history):\n",
    "  hist = pd.DataFrame(history.history)\n",
    "  hist['epoch'] = history.epoch\n",
    "\n",
    "  plt.figure()\n",
    "  plt.xlabel('Epoch')\n",
    "  plt.ylabel('Mean Abs Error [Price]')\n",
    "  plt.plot(hist['epoch'], hist['mae'],\n",
    "           label='Train Error')\n",
    "  plt.plot(hist['epoch'], hist['val_mae'],\n",
    "           label = 'Val Error')\n",
    "  plt.ylim([0,800000])\n",
    "  plt.legend()\n",
    "\n",
    "  plt.figure()\n",
    "  plt.xlabel('Epoch')\n",
    "  plt.ylabel('Mean Square Error [$Price^2$]')\n",
    "  plt.plot(hist['epoch'], hist['mse'],\n",
    "           label='Train Error')\n",
    "  plt.plot(hist['epoch'], hist['val_mse'],\n",
    "           label = 'Val Error')\n",
    "  plt.ylim([40000000000,350000000000])\n",
    "  plt.legend()\n",
    "  plt.show()"
   ]
  },
  {
   "cell_type": "code",
   "execution_count": 48,
   "metadata": {},
   "outputs": [],
   "source": [
    "model2 = tf.keras.Sequential([\n",
    "    tf.keras.layers.Dense(units=128, activation='relu', input_shape= [x_train.shape[1]]),\n",
    "    tf.keras.layers.Dense(units=64, activation='relu'),\n",
    "    tf.keras.layers.Dense(units=32, activation='relu'),\n",
    "    tf.keras.layers.Dense(units=16, activation='relu'),\n",
    "    tf.keras.layers.Dense(units=8, activation='relu'),\n",
    "    tf.keras.layers.Dense(units=1)\n",
    "    ])"
   ]
  },
  {
   "cell_type": "code",
   "execution_count": 49,
   "metadata": {},
   "outputs": [],
   "source": [
    "optimizer = tf.keras.optimizers.Adam(.0001)\n",
    "model2.compile(optimizer=optimizer, loss='mse',metrics=['mae', 'mse'])"
   ]
  },
  {
   "cell_type": "code",
   "execution_count": 50,
   "metadata": {},
   "outputs": [],
   "source": [
    "EPOCHS = 300\n",
    "model2_history = model2.fit(x_train, y_train, epochs=EPOCHS, validation_split=0.2, verbose=0)"
   ]
  },
  {
   "cell_type": "code",
   "execution_count": 51,
   "metadata": {},
   "outputs": [
    {
     "name": "stdout",
     "output_type": "stream",
     "text": [
      "3604/1 - 0s - loss: 49477516134.5705 - mae: 158142.0625 - mse: 46355345408.0000\n",
      "Testing set Mean Abs Error: $158142.06\n"
     ]
    }
   ],
   "source": [
    "loss2, mae2, mse2 = model2.evaluate(x_test, y_test, verbose=2)\n",
    "\n",
    "print(\"Testing set Mean Abs Error: ${:5.2f}\".format(mae2))"
   ]
  },
  {
   "cell_type": "markdown",
   "metadata": {},
   "source": [
    "## Results"
   ]
  },
  {
   "cell_type": "markdown",
   "metadata": {},
   "source": [
    "Your results must include at least one comparison table and two plots (for groups 4 plots required)."
   ]
  },
  {
   "cell_type": "markdown",
   "metadata": {},
   "source": [
    "### Comparison Table"
   ]
  },
  {
   "cell_type": "markdown",
   "metadata": {},
   "source": [
    "You should compare all of the methods in one or multiple tables, showing clearly the method names, the metrics used for comparison and the results (accuracy, scores, loss, etc). You may use [online tools such as this](https://www.tablesgenerator.com/markdown_tables) for generating and editing neatly-formatted tables in Markdown. You can then copy the code to your Markdown cell to generate the plot. Groups should add more rows/columns as required.\n",
    "<br>\n",
    "\n",
    "<b>Notice: </b>You should use at least two different metrics for comparison of your methods."
   ]
  },
  {
   "cell_type": "markdown",
   "metadata": {},
   "source": [
    "Your comparison table HERE:<br><br>\n",
    "\n",
    "| Metric/Method | LogisticRegression | SGDClass. | RidgeClass. | RandomForestClass. |\n",
    "|---------------|--------------------|-----------|-------------|--------------------|\n",
    "| Metric 1      | 0.7211145          | 0.7003898 | 0.7153641   | 0.7702192          |\n",
    "| Metric 2      | 0.7211521          | 0.6378472 | 0.7153612   | 0.7677543          |\n",
    "| Metric 3      | 0.7211989          | 0.6328185 | 0.7702192   | 0.7688967          |"
   ]
  },
  {
   "cell_type": "markdown",
   "metadata": {},
   "source": [
    "| Metric/Method | Tensorflow (RMSprop) | Tensorflow (Adam) | LinearRegression |\n",
    "|---------------|----------------------|-------------------|------------------|\n",
    "| MAE           | \\\\$176,996.28        | \\\\$157,555.37     | \\\\$214,014.24    |\n",
    "| MSE           | \\\\$62,535,426,048    | \\\\$46,116,622,336 | \\\\$396.43        |\n",
    "\n",
    "| Learning Rate/Method | Tensorflow (RMSProp)/MSE | Tensorflow (SGD)/MSE |\n",
    "|----------------------|--------------------------|----------------------|\n",
    "| 0.1                  | \\\\$176,996.28            | \\\\$157,555.38        |\n",
    "| 0.01                 | \\\\$157,961.91            | \\\\$158,490.00        |\n",
    "| 0.001                | \\\\$159,154.00            | \\\\$158,516.08        |\n",
    "| 0.0001               | \\\\$158,048.66            | \\\\$157,900.33        |"
   ]
  },
  {
   "cell_type": "markdown",
   "metadata": {},
   "source": [
    "### Plots"
   ]
  },
  {
   "cell_type": "markdown",
   "metadata": {},
   "source": [
    "Using meaningful plots is an efficient way to visualize and conlude your experiments as well as results. Examples of acceptable plots include but are not limited to:\n",
    "- ROC curve (can be used with classification only)\n",
    "- loss plots (precision/recall for classification, mse or mae for regression)\n",
    "- hyperparameter tuning plots (varying one hyperparameter using for loops on x-axis and accuracy/loss on y-axis)\n",
    "- train/validation/test errors/loss plots, histogram of errors and so on.\n",
    "\n",
    "<b>Notice:</b> All plots should have title, xlabel, ylabel, and (if applicable) legend. Use different colors if you have multiple curves on one plot. Points will be deducted if your plots are incomplete. Check matplotlib documentation, examples from the assignments, and research papers or ML articles and find those plots that are applicable to your project. Individual students should have at least 2 plots while groups should have at least 4 plots.\n"
   ]
  },
  {
   "cell_type": "markdown",
   "metadata": {},
   "source": [
    "## <font color=\"red\"> Required Coding - Groups should add more cell as required"
   ]
  },
  {
   "cell_type": "code",
   "execution_count": 65,
   "metadata": {},
   "outputs": [
    {
     "data": {
      "text/plain": [
       "Text(0.5, 0, 'False Positive Rate')"
      ]
     },
     "execution_count": 65,
     "metadata": {},
     "output_type": "execute_result"
    },
    {
     "data": {
      "image/png": "[encoded data removed]",
      "text/plain": [
       "<Figure size 432x288 with 1 Axes>"
      ]
     },
     "metadata": {
      "needs_background": "light"
     },
     "output_type": "display_data"
    }
   ],
   "source": [
    "# ROC curve for Logistic Regression\n",
    "plt.title('ROC for Logistic Regression')\n",
    "plt.plot(logreg1_fpr, logreg1_tpr, 'salmon', linestyle=\"--\",linewidth=2.5,label = 'AUC_LR1 = %0.7f' % logreg1_roc_auc)\n",
    "plt.plot(logreg2_fpr, logreg2_tpr, 'orange', linewidth=1.6,label = 'AUC_LR2 = %0.7f' % logreg2_roc_auc)\n",
    "plt.plot(logreg3_fpr, logreg3_tpr, 'goldenrod', linewidth=2.1,label = 'AUC_LR3 = %0.7f' % logreg2_roc_auc)\n",
    "plt.legend(loc = 'lower right')\n",
    "plt.plot([0, 1], [0, 1],'r--')\n",
    "plt.xlim([0, 1])\n",
    "plt.ylim([0, 1])\n",
    "plt.ylabel('True Positive Rate')\n",
    "plt.xlabel('False Positive Rate')"
   ]
  },
  {
   "cell_type": "code",
   "execution_count": 53,
   "metadata": {},
   "outputs": [
    {
     "data": {
      "text/plain": [
       "Text(0.5, 0, 'False Positive Rate')"
      ]
     },
     "execution_count": 53,
     "metadata": {},
     "output_type": "execute_result"
    },
    {
     "data": {
      "image/png": "[encoded data removed]",
      "text/plain": [
       "<Figure size 432x288 with 1 Axes>"
      ]
     },
     "metadata": {
      "needs_background": "light"
     },
     "output_type": "display_data"
    }
   ],
   "source": [
    "# ROC curve for SGD Classifier\n",
    "plt.title('ROC for SGDClassifier')\n",
    "plt.plot(sgdR1_fpr,sgdR1_tpr, 'yellowgreen', label = 'AUC_SGD_HINGE = %0.2f' % sgdR1_roc_auc)\n",
    "plt.plot(sgdR2_fpr,sgdR2_tpr, 'green', label = 'AUC_SGD_SQUARED_HINGE = %0.2f' % sgdR2_roc_auc)\n",
    "plt.plot(sgdR3_fpr,sgdR3_tpr, 'teal', label = 'AUC_SGD_PERCEPTRON = %0.2f' % sgdR3_roc_auc)\n",
    "plt.legend(loc = 'lower right')\n",
    "plt.plot([0, 1], [0, 1],'r--')\n",
    "plt.xlim([0, 1])\n",
    "plt.ylim([0, 1])\n",
    "plt.ylabel('True Positive Rate')\n",
    "plt.xlabel('False Positive Rate')"
   ]
  },
  {
   "cell_type": "code",
   "execution_count": 63,
   "metadata": {},
   "outputs": [
    {
     "data": {
      "text/plain": [
       "Text(0.5, 0, 'False Positive Rate')"
      ]
     },
     "execution_count": 63,
     "metadata": {},
     "output_type": "execute_result"
    },
    {
     "data": {
      "image/png": "[encoded data removed]",
      "text/plain": [
       "<Figure size 432x288 with 1 Axes>"
      ]
     },
     "metadata": {
      "needs_background": "light"
     },
     "output_type": "display_data"
    }
   ],
   "source": [
    "# ROC curve for Ridge Classifier\n",
    "plt.title('ROC for Ridge Classifier')\n",
    "plt.plot(ridgeA1_fpr,ridgeA1_tpr, 'teal', linestyle=\"--\",linewidth=2.3,label = 'AUC_RIDGE_ALPHA(1e-2) = %0.7f' % ridgeA1_roc_auc)\n",
    "plt.plot(ridgeA2_fpr,ridgeA2_tpr, 'turquoise', label = 'AUC_RIDGE_ALPHA(1e-1) = %0.7f' % ridgeA2_roc_auc)\n",
    "plt.plot(ridgeA3_fpr,ridgeA3_tpr, 'blue', linestyle=\"-.\", label = 'AUC_RIDGE_ALPHA(1) = %0.7f' % ridgeA3_roc_auc)\n",
    "plt.legend(loc = 'lower right')\n",
    "plt.plot([0, 1], [0, 1],'r--')\n",
    "plt.xlim([0, 1])\n",
    "plt.ylim([0, 1])\n",
    "plt.ylabel('True Positive Rate')\n",
    "plt.xlabel('False Positive Rate')"
   ]
  },
  {
   "cell_type": "code",
   "execution_count": 55,
   "metadata": {},
   "outputs": [
    {
     "data": {
      "text/plain": [
       "Text(0.5, 0, 'False Positive Rate')"
      ]
     },
     "execution_count": 55,
     "metadata": {},
     "output_type": "execute_result"
    },
    {
     "data": {
      "image/png": "[encoded data removed]",
      "text/plain": [
       "<Figure size 432x288 with 1 Axes>"
      ]
     },
     "metadata": {
      "needs_background": "light"
     },
     "output_type": "display_data"
    }
   ],
   "source": [
    "# ROC curve for Random Forest Classifier\n",
    "plt.title('ROC for Random Forest Classifier')\n",
    "plt.plot(rf_fpr, rf_tpr, 'orchid', label = 'AUC_RF1 = %0.4f' % rf_roc_auc)\n",
    "plt.plot(rf2_fpr, rf2_tpr, 'purple', label = 'AUC_RF2 = %0.4f' % rf2_roc_auc)\n",
    "plt.plot(rf3_fpr, rf3_tpr, 'violet', label = 'AUC_RF3 = %0.4f' % rf3_roc_auc)\n",
    "plt.legend(loc = 'lower right')\n",
    "plt.plot([0, 1], [0, 1],'r--')\n",
    "plt.xlim([0, 1])\n",
    "plt.ylim([0, 1])\n",
    "plt.ylabel('True Positive Rate')\n",
    "plt.xlabel('False Positive Rate')"
   ]
  },
  {
   "cell_type": "code",
   "execution_count": 56,
   "metadata": {},
   "outputs": [
    {
     "data": {
      "image/png": "[encoded data removed]",
      "text/plain": [
       "<Figure size 432x288 with 1 Axes>"
      ]
     },
     "metadata": {
      "needs_background": "light"
     },
     "output_type": "display_data"
    },
    {
     "data": {
      "image/png": "[encoded data removed]",
      "text/plain": [
       "<Figure size 432x288 with 1 Axes>"
      ]
     },
     "metadata": {
      "needs_background": "light"
     },
     "output_type": "display_data"
    }
   ],
   "source": [
    "# Plot history for model1 Neural Network\n",
    "plot_history(model_history)"
   ]
  },
  {
   "cell_type": "code",
   "execution_count": 57,
   "metadata": {},
   "outputs": [
    {
     "data": {
      "image/png": "[encoded data removed]",
      "text/plain": [
       "<Figure size 432x288 with 1 Axes>"
      ]
     },
     "metadata": {
      "needs_background": "light"
     },
     "output_type": "display_data"
    },
    {
     "data": {
      "image/png": "[encoded data removed]",
      "text/plain": [
       "<Figure size 432x288 with 1 Axes>"
      ]
     },
     "metadata": {
      "needs_background": "light"
     },
     "output_type": "display_data"
    }
   ],
   "source": [
    "# Plot history for model2 Neural Network\n",
    "plot_history(model2_history)"
   ]
  },
  {
   "cell_type": "markdown",
   "metadata": {},
   "source": [
    "## Discussion"
   ]
  },
  {
   "cell_type": "markdown",
   "metadata": {},
   "source": [
    "Write at least two paragraphs to describe and discuss your results. Make arguments based on your observations and results. Use reasoning and analytical thinking for your discussion.\n",
    "\n",
    "\n",
    "<b>Notice:</b> Having a thorough discussion is VERY important and has a significant impact on your final score!"
   ]
  },
  {
   "cell_type": "markdown",
   "metadata": {},
   "source": [
    "## Grading"
   ]
  },
  {
   "cell_type": "markdown",
   "metadata": {},
   "source": [
    "Project grading rubric (total 100 points - 20% of the final grade):\n",
    "\n",
    "- Project proposal: 10 points\n",
    "\n",
    "- Final submission: 70 points - Breakdown as follows\n",
    "\n",
    "    - 30 points: Methods, hyperparameter tuning and comparison table\n",
    "    \n",
    "    - 20 points: Plots\n",
    "\n",
    "    - 20 points: Discussion (2 paragraphs)\n",
    "    \n",
    "- Project complexity and intellectual efforts judged by the instructor: 20 points\n",
    "    \n",
    "<b>Notice:</b> similar to the assignments, up to 10 points may be deducted if your notebook is not easy to read and/or has spelling/grammatical errors, so proofread your notebook!"
   ]
  },
  {
   "cell_type": "markdown",
   "metadata": {},
   "source": [
    "## How to Submit and Due Date - Late Penalty Will be Strictly Applied!"
   ]
  },
  {
   "cell_type": "markdown",
   "metadata": {},
   "source": [
    "Name your final project notebook ```Lastname-Project.ipynb```. Submit the notebook file with your dataset file in a zip file named EXACTLY as `Lastname-Project.zip` using the ```Final Project``` link on Blackboard. For groups, only one submission is required.\n",
    "\n",
    "<font color=red><b>Project Final Submission Due Date: Monday Dec 9th 11:59PM.</b></font>"
   ]
  }
 ],
 "metadata": {
  "kernelspec": {
   "display_name": "Python 3",
   "language": "python",
   "name": "python3"
  },
  "language_info": {
   "codemirror_mode": {
    "name": "ipython",
    "version": 3
   },
   "file_extension": ".py",
   "mimetype": "text/x-python",
   "name": "python",
   "nbconvert_exporter": "python",
   "pygments_lexer": "ipython3",
   "version": "3.7.5"
  }
 },
 "nbformat": 4,
 "nbformat_minor": 2
}
