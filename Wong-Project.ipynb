{
 "cells": [
  {
   "cell_type": "markdown",
   "metadata": {},
   "source": [
    "# CMSC471 Artificial Intelligence\n",
    "\n",
    "# Project Final Submission"
   ]
  },
  {
   "cell_type": "markdown",
   "metadata": {},
   "source": [
    "## Project Title"
   ]
  },
  {
   "cell_type": "markdown",
   "metadata": {},
   "source": [
    "*Type your name and ID here* (for groups, include all team members' names and IDs AND their role/contribution)\n",
    "<p>Alan Wong - NF55972, - \n",
    "<p>Ching Zheng - JA93772, - \n",
    "<p>Nimish Kapoor - WO69695, - "
   ]
  },
  {
   "cell_type": "markdown",
   "metadata": {},
   "source": [
    "## Problem Description\n",
    "\n",
    "- Specify exactly what ML approach your problem is: Binary classification, multi-class classification, or regression (groups should work on two approaches).\n",
    "\n",
    "\n",
    "- Then, explain the problem further. Be clear and concise.\n",
    "\n",
    "<p>Determining whether someone will be able to pay their statements on time by their due date given their previous history of credit card payments. Of course, the most important factors taken into consideration would be the account balance that they would have held and the status of their bill. Other factors taken into consideration will be, for example, their education, their age, etc. The approach to determining whether or not a given person will default is a binary classification.</p>\n",
    "<p>For the house price dataset, details and features of a home such as: square footage, the number of bathrooms and bedrooms are provided to predict the price of that house. Owning a home is a costly expenditure, and it is ideal to purchase a home when the housing market is in an acceptable state. Thus, we want to predict the future value of that house in the event that the house needs to be sold with regression."
   ]
  },
  {
   "cell_type": "markdown",
   "metadata": {},
   "source": [
    "## Motivation\n",
    "\n",
    "Explain briefly why this problem is important and how you became interested in it. You may use the motivation from the proposal.\n",
    "<p> We as a group are interested in finance and real estate as a possible future career, and are hoping to use this project as a stepping stone into the field of finance and real estate to get a better idea of what might be in store for us. As adults, we would all like to own a home one day, so exploring the housing market data will help us prepare for when it’s time to purchase a home."
   ]
  },
  {
   "cell_type": "markdown",
   "metadata": {},
   "source": [
    "## Dataset\n",
    "\n",
    "- Link to dataset source:\n",
    "<p>Credit Card Default Payment Dataset</p>\n",
    "https://www.kaggle.com/uciml/default-of-credit-card-clients-dataset\n",
    "\n",
    "<p>House Price Prediction Dataset</p>\n",
    "https://www.kaggle.com/shree1992/housedata#data.csv\n",
    "\n",
    "- <b>Label/target</b> description - What column in your dataset you are trying to predict? Specify exactly what your target feature (label) is. It must be one of the dataset columns. For image classification, specify your class labels.\n",
    "<p>For the credit card default payment, the column we are trying to predict is the default.payment.next.month column, labeled \"target\" in the dataset.</p>\n",
    "\n",
    "<p>For the house price dataset, the column we are trying to predict is the \"price\" column.</p>\n",
    "\n",
    "- Feature description: briefly explain each of the features/columns.\n",
    "\n",
    "<p> Credit Card Default Payment:</p>\n",
    "The features contain 6 amounts each for payments, repayment status (categorical here) and the amount of the previous payments (18 in total). These 6 amounts each go from April 2005 to September 2005. Other features also include age, gender, education status, marriage status and their given credit amount. \n",
    "\n",
    "<p>House Price Prediction:</p>\n",
    "The features in the housing dataset contain house details like the number of bedrooms, bathrooms, square feet of living space, above living space, basement space (if it has a basement), a rating of the view, the city in Washington State, the year it was built, and whether or not it's on the water. The dataset also contains the street and time it was sold. "
   ]
  },
  {
   "cell_type": "markdown",
   "metadata": {},
   "source": [
    "- Include the code for loading, showing the data head (if loaded with pandas) and reporting the data shape via sklearn, pandas or tensorflow in the following cell. \n",
    "\n",
    "\n",
    "- For image classification or special non-pandas datasets, show at least one sample of the data.\n",
    "\n",
    "\n",
    "- <b>Your data should be loaded error-free (otherwise your whole project gets zero credit). You should attach the data to your final project submission in a zip file.</b> If your dataset is too large and can't be uploaded in Blackboard, you should email the dataset to the instructor BEFORE the deadline!"
   ]
  },
  {
   "cell_type": "markdown",
   "metadata": {},
   "source": [
    "## <font color=\"red\"> Required Coding"
   ]
  },
  {
   "cell_type": "code",
   "execution_count": 1,
   "metadata": {},
   "outputs": [
    {
     "name": "stdout",
     "output_type": "stream",
     "text": [
      "Shape of Credit Card dataset: (30000, 25)\n",
      "Shape of House Price dataset: (4600, 18)\n"
     ]
    }
   ],
   "source": [
    "# Import necessary Python, sklearn and/or tensorflow/keras modules for loading the dataset\n",
    "import pandas as pd\n",
    "import warnings\n",
    "import matplotlib.pyplot as plt\n",
    "from matplotlib import style\n",
    "style.use('ggplot')\n",
    "import seaborn as sns\n",
    "def ignore_warns(*args, **kwargs):\n",
    "    pass\n",
    "warnings.warn = ignore_warns\n",
    "warnings.filterwarnings(\"ignore\")\n",
    "\n",
    "# Load the data\n",
    "cc_df = pd.read_csv(\"UCI_Credit_Card.csv\")\n",
    "housing_df = pd.read_csv(\"data.csv\")\n",
    "\n",
    "# Print data shape via built-in methods of sklearn, pandas or tensorflow/keras (or other modules)\n",
    "print(f\"Shape of Credit Card dataset: {cc_df.shape}\")\n",
    "print(f\"Shape of House Price dataset: {housing_df.shape}\")"
   ]
  },
  {
   "cell_type": "code",
   "execution_count": 2,
   "metadata": {},
   "outputs": [
    {
     "data": {
      "text/html": [
       "<div>\n",
       "<style scoped>\n",
       "    .dataframe tbody tr th:only-of-type {\n",
       "        vertical-align: middle;\n",
       "    }\n",
       "\n",
       "    .dataframe tbody tr th {\n",
       "        vertical-align: top;\n",
       "    }\n",
       "\n",
       "    .dataframe thead th {\n",
       "        text-align: right;\n",
       "    }\n",
       "</style>\n",
       "<table border=\"1\" class=\"dataframe\">\n",
       "  <thead>\n",
       "    <tr style=\"text-align: right;\">\n",
       "      <th></th>\n",
       "      <th>ID</th>\n",
       "      <th>LIMIT_BAL</th>\n",
       "      <th>SEX</th>\n",
       "      <th>EDUCATION</th>\n",
       "      <th>MARRIAGE</th>\n",
       "      <th>AGE</th>\n",
       "      <th>PAY_0</th>\n",
       "      <th>PAY_2</th>\n",
       "      <th>PAY_3</th>\n",
       "      <th>PAY_4</th>\n",
       "      <th>...</th>\n",
       "      <th>BILL_AMT4</th>\n",
       "      <th>BILL_AMT5</th>\n",
       "      <th>BILL_AMT6</th>\n",
       "      <th>PAY_AMT1</th>\n",
       "      <th>PAY_AMT2</th>\n",
       "      <th>PAY_AMT3</th>\n",
       "      <th>PAY_AMT4</th>\n",
       "      <th>PAY_AMT5</th>\n",
       "      <th>PAY_AMT6</th>\n",
       "      <th>target</th>\n",
       "    </tr>\n",
       "  </thead>\n",
       "  <tbody>\n",
       "    <tr>\n",
       "      <th>0</th>\n",
       "      <td>1</td>\n",
       "      <td>20000.0</td>\n",
       "      <td>2</td>\n",
       "      <td>2</td>\n",
       "      <td>1</td>\n",
       "      <td>24</td>\n",
       "      <td>2</td>\n",
       "      <td>2</td>\n",
       "      <td>-1</td>\n",
       "      <td>-1</td>\n",
       "      <td>...</td>\n",
       "      <td>0.0</td>\n",
       "      <td>0.0</td>\n",
       "      <td>0.0</td>\n",
       "      <td>0.0</td>\n",
       "      <td>689.0</td>\n",
       "      <td>0.0</td>\n",
       "      <td>0.0</td>\n",
       "      <td>0.0</td>\n",
       "      <td>0.0</td>\n",
       "      <td>1</td>\n",
       "    </tr>\n",
       "    <tr>\n",
       "      <th>1</th>\n",
       "      <td>2</td>\n",
       "      <td>120000.0</td>\n",
       "      <td>2</td>\n",
       "      <td>2</td>\n",
       "      <td>2</td>\n",
       "      <td>26</td>\n",
       "      <td>-1</td>\n",
       "      <td>2</td>\n",
       "      <td>0</td>\n",
       "      <td>0</td>\n",
       "      <td>...</td>\n",
       "      <td>3272.0</td>\n",
       "      <td>3455.0</td>\n",
       "      <td>3261.0</td>\n",
       "      <td>0.0</td>\n",
       "      <td>1000.0</td>\n",
       "      <td>1000.0</td>\n",
       "      <td>1000.0</td>\n",
       "      <td>0.0</td>\n",
       "      <td>2000.0</td>\n",
       "      <td>1</td>\n",
       "    </tr>\n",
       "    <tr>\n",
       "      <th>2</th>\n",
       "      <td>3</td>\n",
       "      <td>90000.0</td>\n",
       "      <td>2</td>\n",
       "      <td>2</td>\n",
       "      <td>2</td>\n",
       "      <td>34</td>\n",
       "      <td>0</td>\n",
       "      <td>0</td>\n",
       "      <td>0</td>\n",
       "      <td>0</td>\n",
       "      <td>...</td>\n",
       "      <td>14331.0</td>\n",
       "      <td>14948.0</td>\n",
       "      <td>15549.0</td>\n",
       "      <td>1518.0</td>\n",
       "      <td>1500.0</td>\n",
       "      <td>1000.0</td>\n",
       "      <td>1000.0</td>\n",
       "      <td>1000.0</td>\n",
       "      <td>5000.0</td>\n",
       "      <td>0</td>\n",
       "    </tr>\n",
       "    <tr>\n",
       "      <th>3</th>\n",
       "      <td>4</td>\n",
       "      <td>50000.0</td>\n",
       "      <td>2</td>\n",
       "      <td>2</td>\n",
       "      <td>1</td>\n",
       "      <td>37</td>\n",
       "      <td>0</td>\n",
       "      <td>0</td>\n",
       "      <td>0</td>\n",
       "      <td>0</td>\n",
       "      <td>...</td>\n",
       "      <td>28314.0</td>\n",
       "      <td>28959.0</td>\n",
       "      <td>29547.0</td>\n",
       "      <td>2000.0</td>\n",
       "      <td>2019.0</td>\n",
       "      <td>1200.0</td>\n",
       "      <td>1100.0</td>\n",
       "      <td>1069.0</td>\n",
       "      <td>1000.0</td>\n",
       "      <td>0</td>\n",
       "    </tr>\n",
       "    <tr>\n",
       "      <th>4</th>\n",
       "      <td>5</td>\n",
       "      <td>50000.0</td>\n",
       "      <td>1</td>\n",
       "      <td>2</td>\n",
       "      <td>1</td>\n",
       "      <td>57</td>\n",
       "      <td>-1</td>\n",
       "      <td>0</td>\n",
       "      <td>-1</td>\n",
       "      <td>0</td>\n",
       "      <td>...</td>\n",
       "      <td>20940.0</td>\n",
       "      <td>19146.0</td>\n",
       "      <td>19131.0</td>\n",
       "      <td>2000.0</td>\n",
       "      <td>36681.0</td>\n",
       "      <td>10000.0</td>\n",
       "      <td>9000.0</td>\n",
       "      <td>689.0</td>\n",
       "      <td>679.0</td>\n",
       "      <td>0</td>\n",
       "    </tr>\n",
       "  </tbody>\n",
       "</table>\n",
       "<p>5 rows × 25 columns</p>\n",
       "</div>"
      ],
      "text/plain": [
       "   ID  LIMIT_BAL  SEX  EDUCATION  MARRIAGE  AGE  PAY_0  PAY_2  PAY_3  PAY_4  \\\n",
       "0   1    20000.0    2          2         1   24      2      2     -1     -1   \n",
       "1   2   120000.0    2          2         2   26     -1      2      0      0   \n",
       "2   3    90000.0    2          2         2   34      0      0      0      0   \n",
       "3   4    50000.0    2          2         1   37      0      0      0      0   \n",
       "4   5    50000.0    1          2         1   57     -1      0     -1      0   \n",
       "\n",
       "   ...  BILL_AMT4  BILL_AMT5  BILL_AMT6  PAY_AMT1  PAY_AMT2  PAY_AMT3  \\\n",
       "0  ...        0.0        0.0        0.0       0.0     689.0       0.0   \n",
       "1  ...     3272.0     3455.0     3261.0       0.0    1000.0    1000.0   \n",
       "2  ...    14331.0    14948.0    15549.0    1518.0    1500.0    1000.0   \n",
       "3  ...    28314.0    28959.0    29547.0    2000.0    2019.0    1200.0   \n",
       "4  ...    20940.0    19146.0    19131.0    2000.0   36681.0   10000.0   \n",
       "\n",
       "   PAY_AMT4  PAY_AMT5  PAY_AMT6  target  \n",
       "0       0.0       0.0       0.0       1  \n",
       "1    1000.0       0.0    2000.0       1  \n",
       "2    1000.0    1000.0    5000.0       0  \n",
       "3    1100.0    1069.0    1000.0       0  \n",
       "4    9000.0     689.0     679.0       0  \n",
       "\n",
       "[5 rows x 25 columns]"
      ]
     },
     "execution_count": 2,
     "metadata": {},
     "output_type": "execute_result"
    }
   ],
   "source": [
    "# Show the data head (if pandas is used)\n",
    "# If the dataset contains images or is non-pandas/non-tabular, show at least one sample of the data\n",
    "cc_df.head()"
   ]
  },
  {
   "cell_type": "code",
   "execution_count": 3,
   "metadata": {},
   "outputs": [
    {
     "data": {
      "text/html": [
       "<div>\n",
       "<style scoped>\n",
       "    .dataframe tbody tr th:only-of-type {\n",
       "        vertical-align: middle;\n",
       "    }\n",
       "\n",
       "    .dataframe tbody tr th {\n",
       "        vertical-align: top;\n",
       "    }\n",
       "\n",
       "    .dataframe thead th {\n",
       "        text-align: right;\n",
       "    }\n",
       "</style>\n",
       "<table border=\"1\" class=\"dataframe\">\n",
       "  <thead>\n",
       "    <tr style=\"text-align: right;\">\n",
       "      <th></th>\n",
       "      <th>date</th>\n",
       "      <th>price</th>\n",
       "      <th>bedrooms</th>\n",
       "      <th>bathrooms</th>\n",
       "      <th>sqft_living</th>\n",
       "      <th>sqft_lot</th>\n",
       "      <th>floors</th>\n",
       "      <th>waterfront</th>\n",
       "      <th>view</th>\n",
       "      <th>condition</th>\n",
       "      <th>sqft_above</th>\n",
       "      <th>sqft_basement</th>\n",
       "      <th>yr_built</th>\n",
       "      <th>yr_renovated</th>\n",
       "      <th>street</th>\n",
       "      <th>city</th>\n",
       "      <th>statezip</th>\n",
       "      <th>country</th>\n",
       "    </tr>\n",
       "  </thead>\n",
       "  <tbody>\n",
       "    <tr>\n",
       "      <th>0</th>\n",
       "      <td>2014-05-02 00:00:00</td>\n",
       "      <td>313000.0</td>\n",
       "      <td>3.0</td>\n",
       "      <td>1.50</td>\n",
       "      <td>1340</td>\n",
       "      <td>7912</td>\n",
       "      <td>1.5</td>\n",
       "      <td>0</td>\n",
       "      <td>0</td>\n",
       "      <td>3</td>\n",
       "      <td>1340</td>\n",
       "      <td>0</td>\n",
       "      <td>1955</td>\n",
       "      <td>2005</td>\n",
       "      <td>18810 Densmore Ave N</td>\n",
       "      <td>Shoreline</td>\n",
       "      <td>WA 98133</td>\n",
       "      <td>USA</td>\n",
       "    </tr>\n",
       "    <tr>\n",
       "      <th>1</th>\n",
       "      <td>2014-05-02 00:00:00</td>\n",
       "      <td>2384000.0</td>\n",
       "      <td>5.0</td>\n",
       "      <td>2.50</td>\n",
       "      <td>3650</td>\n",
       "      <td>9050</td>\n",
       "      <td>2.0</td>\n",
       "      <td>0</td>\n",
       "      <td>4</td>\n",
       "      <td>5</td>\n",
       "      <td>3370</td>\n",
       "      <td>280</td>\n",
       "      <td>1921</td>\n",
       "      <td>0</td>\n",
       "      <td>709 W Blaine St</td>\n",
       "      <td>Seattle</td>\n",
       "      <td>WA 98119</td>\n",
       "      <td>USA</td>\n",
       "    </tr>\n",
       "    <tr>\n",
       "      <th>2</th>\n",
       "      <td>2014-05-02 00:00:00</td>\n",
       "      <td>342000.0</td>\n",
       "      <td>3.0</td>\n",
       "      <td>2.00</td>\n",
       "      <td>1930</td>\n",
       "      <td>11947</td>\n",
       "      <td>1.0</td>\n",
       "      <td>0</td>\n",
       "      <td>0</td>\n",
       "      <td>4</td>\n",
       "      <td>1930</td>\n",
       "      <td>0</td>\n",
       "      <td>1966</td>\n",
       "      <td>0</td>\n",
       "      <td>26206-26214 143rd Ave SE</td>\n",
       "      <td>Kent</td>\n",
       "      <td>WA 98042</td>\n",
       "      <td>USA</td>\n",
       "    </tr>\n",
       "    <tr>\n",
       "      <th>3</th>\n",
       "      <td>2014-05-02 00:00:00</td>\n",
       "      <td>420000.0</td>\n",
       "      <td>3.0</td>\n",
       "      <td>2.25</td>\n",
       "      <td>2000</td>\n",
       "      <td>8030</td>\n",
       "      <td>1.0</td>\n",
       "      <td>0</td>\n",
       "      <td>0</td>\n",
       "      <td>4</td>\n",
       "      <td>1000</td>\n",
       "      <td>1000</td>\n",
       "      <td>1963</td>\n",
       "      <td>0</td>\n",
       "      <td>857 170th Pl NE</td>\n",
       "      <td>Bellevue</td>\n",
       "      <td>WA 98008</td>\n",
       "      <td>USA</td>\n",
       "    </tr>\n",
       "    <tr>\n",
       "      <th>4</th>\n",
       "      <td>2014-05-02 00:00:00</td>\n",
       "      <td>550000.0</td>\n",
       "      <td>4.0</td>\n",
       "      <td>2.50</td>\n",
       "      <td>1940</td>\n",
       "      <td>10500</td>\n",
       "      <td>1.0</td>\n",
       "      <td>0</td>\n",
       "      <td>0</td>\n",
       "      <td>4</td>\n",
       "      <td>1140</td>\n",
       "      <td>800</td>\n",
       "      <td>1976</td>\n",
       "      <td>1992</td>\n",
       "      <td>9105 170th Ave NE</td>\n",
       "      <td>Redmond</td>\n",
       "      <td>WA 98052</td>\n",
       "      <td>USA</td>\n",
       "    </tr>\n",
       "  </tbody>\n",
       "</table>\n",
       "</div>"
      ],
      "text/plain": [
       "                  date      price  bedrooms  bathrooms  sqft_living  sqft_lot  \\\n",
       "0  2014-05-02 00:00:00   313000.0       3.0       1.50         1340      7912   \n",
       "1  2014-05-02 00:00:00  2384000.0       5.0       2.50         3650      9050   \n",
       "2  2014-05-02 00:00:00   342000.0       3.0       2.00         1930     11947   \n",
       "3  2014-05-02 00:00:00   420000.0       3.0       2.25         2000      8030   \n",
       "4  2014-05-02 00:00:00   550000.0       4.0       2.50         1940     10500   \n",
       "\n",
       "   floors  waterfront  view  condition  sqft_above  sqft_basement  yr_built  \\\n",
       "0     1.5           0     0          3        1340              0      1955   \n",
       "1     2.0           0     4          5        3370            280      1921   \n",
       "2     1.0           0     0          4        1930              0      1966   \n",
       "3     1.0           0     0          4        1000           1000      1963   \n",
       "4     1.0           0     0          4        1140            800      1976   \n",
       "\n",
       "   yr_renovated                    street       city  statezip country  \n",
       "0          2005      18810 Densmore Ave N  Shoreline  WA 98133     USA  \n",
       "1             0           709 W Blaine St    Seattle  WA 98119     USA  \n",
       "2             0  26206-26214 143rd Ave SE       Kent  WA 98042     USA  \n",
       "3             0           857 170th Pl NE   Bellevue  WA 98008     USA  \n",
       "4          1992         9105 170th Ave NE    Redmond  WA 98052     USA  "
      ]
     },
     "execution_count": 3,
     "metadata": {},
     "output_type": "execute_result"
    }
   ],
   "source": [
    "housing_df.head()"
   ]
  },
  {
   "cell_type": "markdown",
   "metadata": {},
   "source": [
    "## Data Preprocessing"
   ]
  },
  {
   "cell_type": "markdown",
   "metadata": {},
   "source": [
    "List any steps you have taken for preprocessing, such as cleaning, dropping NAs, dropping any redundant/irrelevant column, normalizing/scaling, etc. HERE:\n",
    "\n",
    "- Preprocessing Steps:\n",
    "<br>\n",
    "\n",
    "- Specify the details of data splitting to train/test or cross validation. Mention the ratio for splitting and number of folds for cv.\n",
    "<br>\n",
    "\n",
    "<b>Notice:</b> Each dataset may or may not need specific preprocessing steps. You should decide which preprocessing steps (if any) is required for your particular dataset."
   ]
  },
  {
   "cell_type": "markdown",
   "metadata": {},
   "source": [
    "<h3>Data Processing for Credit Card Dataset</h3>"
   ]
  },
  {
   "cell_type": "markdown",
   "metadata": {},
   "source": [
    "## <font color=\"red\"> Required Coding"
   ]
  },
  {
   "cell_type": "code",
   "execution_count": 4,
   "metadata": {},
   "outputs": [
    {
     "data": {
      "text/plain": [
       "'All preprocessing done through python built-in math functions or pandas'"
      ]
     },
     "execution_count": 4,
     "metadata": {},
     "output_type": "execute_result"
    }
   ],
   "source": [
    "# Import necessary preprocessing modules\n",
    "'''All preprocessing done through python built-in math functions or pandas'''"
   ]
  },
  {
   "cell_type": "code",
   "execution_count": 5,
   "metadata": {},
   "outputs": [
    {
     "data": {
      "text/plain": [
       "ID           0\n",
       "LIMIT_BAL    0\n",
       "SEX          0\n",
       "EDUCATION    0\n",
       "MARRIAGE     0\n",
       "AGE          0\n",
       "PAY_0        0\n",
       "PAY_2        0\n",
       "PAY_3        0\n",
       "PAY_4        0\n",
       "PAY_5        0\n",
       "PAY_6        0\n",
       "BILL_AMT1    0\n",
       "BILL_AMT2    0\n",
       "BILL_AMT3    0\n",
       "BILL_AMT4    0\n",
       "BILL_AMT5    0\n",
       "BILL_AMT6    0\n",
       "PAY_AMT1     0\n",
       "PAY_AMT2     0\n",
       "PAY_AMT3     0\n",
       "PAY_AMT4     0\n",
       "PAY_AMT5     0\n",
       "PAY_AMT6     0\n",
       "target       0\n",
       "dtype: int64"
      ]
     },
     "execution_count": 5,
     "metadata": {},
     "output_type": "execute_result"
    }
   ],
   "source": [
    "# Data Preprocessing code here\n",
    "cc_df.isna().sum()"
   ]
  },
  {
   "cell_type": "code",
   "execution_count": 6,
   "metadata": {},
   "outputs": [],
   "source": [
    "# Rename the PAY_0 column to PAY_1 for consistency\n",
    "cc_df.rename(columns={\"PAY_0\": \"PAY_1\"}, inplace=True)\n",
    "\n",
    "# In Education, 5 and 6 both refer to \"unknown\", so replace all 6's with 5.\n",
    "cc_df[\"EDUCATION\"] = cc_df[\"EDUCATION\"].replace(6, 5)"
   ]
  },
  {
   "cell_type": "code",
   "execution_count": 7,
   "metadata": {},
   "outputs": [],
   "source": [
    "# Limit balance includes individual and supplementary/family credit, so drop that column to remove any dependencies\n",
    "# with others in the family.\n",
    "\n",
    "cc_df.drop([\"ID\", \"LIMIT_BAL\"], axis=1, inplace=True)"
   ]
  },
  {
   "cell_type": "code",
   "execution_count": 8,
   "metadata": {},
   "outputs": [
    {
     "name": "stdout",
     "output_type": "stream",
     "text": [
      "Index(['AGE', 'PAY_1', 'PAY_2', 'PAY_3', 'PAY_4', 'PAY_5', 'PAY_6',\n",
      "       'BILL_AMT1', 'BILL_AMT2', 'BILL_AMT3', 'BILL_AMT4', 'BILL_AMT5',\n",
      "       'BILL_AMT6', 'PAY_AMT1', 'PAY_AMT2', 'PAY_AMT3', 'PAY_AMT4', 'PAY_AMT5',\n",
      "       'PAY_AMT6', 'target', 'SEX_Female', 'SEX_Male', 'EDUCATION_Graduate',\n",
      "       'EDUCATION_High School', 'EDUCATION_Other', 'EDUCATION_Undergraduate',\n",
      "       'EDUCATION_Unknown', 'MARRIAGE_Married', 'MARRIAGE_Other',\n",
      "       'MARRIAGE_Single'],\n",
      "      dtype='object')\n",
      "(30000, 30)\n"
     ]
    },
    {
     "data": {
      "text/html": [
       "<div>\n",
       "<style scoped>\n",
       "    .dataframe tbody tr th:only-of-type {\n",
       "        vertical-align: middle;\n",
       "    }\n",
       "\n",
       "    .dataframe tbody tr th {\n",
       "        vertical-align: top;\n",
       "    }\n",
       "\n",
       "    .dataframe thead th {\n",
       "        text-align: right;\n",
       "    }\n",
       "</style>\n",
       "<table border=\"1\" class=\"dataframe\">\n",
       "  <thead>\n",
       "    <tr style=\"text-align: right;\">\n",
       "      <th></th>\n",
       "      <th>AGE</th>\n",
       "      <th>PAY_1</th>\n",
       "      <th>PAY_2</th>\n",
       "      <th>PAY_3</th>\n",
       "      <th>PAY_4</th>\n",
       "      <th>PAY_5</th>\n",
       "      <th>PAY_6</th>\n",
       "      <th>BILL_AMT1</th>\n",
       "      <th>BILL_AMT2</th>\n",
       "      <th>BILL_AMT3</th>\n",
       "      <th>...</th>\n",
       "      <th>SEX_Female</th>\n",
       "      <th>SEX_Male</th>\n",
       "      <th>EDUCATION_Graduate</th>\n",
       "      <th>EDUCATION_High School</th>\n",
       "      <th>EDUCATION_Other</th>\n",
       "      <th>EDUCATION_Undergraduate</th>\n",
       "      <th>EDUCATION_Unknown</th>\n",
       "      <th>MARRIAGE_Married</th>\n",
       "      <th>MARRIAGE_Other</th>\n",
       "      <th>MARRIAGE_Single</th>\n",
       "    </tr>\n",
       "  </thead>\n",
       "  <tbody>\n",
       "    <tr>\n",
       "      <th>0</th>\n",
       "      <td>24</td>\n",
       "      <td>2</td>\n",
       "      <td>2</td>\n",
       "      <td>-1</td>\n",
       "      <td>-1</td>\n",
       "      <td>-2</td>\n",
       "      <td>-2</td>\n",
       "      <td>3913.0</td>\n",
       "      <td>3102.0</td>\n",
       "      <td>689.0</td>\n",
       "      <td>...</td>\n",
       "      <td>1</td>\n",
       "      <td>0</td>\n",
       "      <td>0</td>\n",
       "      <td>0</td>\n",
       "      <td>0</td>\n",
       "      <td>1</td>\n",
       "      <td>0</td>\n",
       "      <td>1</td>\n",
       "      <td>0</td>\n",
       "      <td>0</td>\n",
       "    </tr>\n",
       "    <tr>\n",
       "      <th>1</th>\n",
       "      <td>26</td>\n",
       "      <td>-1</td>\n",
       "      <td>2</td>\n",
       "      <td>0</td>\n",
       "      <td>0</td>\n",
       "      <td>0</td>\n",
       "      <td>2</td>\n",
       "      <td>2682.0</td>\n",
       "      <td>1725.0</td>\n",
       "      <td>2682.0</td>\n",
       "      <td>...</td>\n",
       "      <td>1</td>\n",
       "      <td>0</td>\n",
       "      <td>0</td>\n",
       "      <td>0</td>\n",
       "      <td>0</td>\n",
       "      <td>1</td>\n",
       "      <td>0</td>\n",
       "      <td>0</td>\n",
       "      <td>0</td>\n",
       "      <td>1</td>\n",
       "    </tr>\n",
       "    <tr>\n",
       "      <th>2</th>\n",
       "      <td>34</td>\n",
       "      <td>0</td>\n",
       "      <td>0</td>\n",
       "      <td>0</td>\n",
       "      <td>0</td>\n",
       "      <td>0</td>\n",
       "      <td>0</td>\n",
       "      <td>29239.0</td>\n",
       "      <td>14027.0</td>\n",
       "      <td>13559.0</td>\n",
       "      <td>...</td>\n",
       "      <td>1</td>\n",
       "      <td>0</td>\n",
       "      <td>0</td>\n",
       "      <td>0</td>\n",
       "      <td>0</td>\n",
       "      <td>1</td>\n",
       "      <td>0</td>\n",
       "      <td>0</td>\n",
       "      <td>0</td>\n",
       "      <td>1</td>\n",
       "    </tr>\n",
       "    <tr>\n",
       "      <th>3</th>\n",
       "      <td>37</td>\n",
       "      <td>0</td>\n",
       "      <td>0</td>\n",
       "      <td>0</td>\n",
       "      <td>0</td>\n",
       "      <td>0</td>\n",
       "      <td>0</td>\n",
       "      <td>46990.0</td>\n",
       "      <td>48233.0</td>\n",
       "      <td>49291.0</td>\n",
       "      <td>...</td>\n",
       "      <td>1</td>\n",
       "      <td>0</td>\n",
       "      <td>0</td>\n",
       "      <td>0</td>\n",
       "      <td>0</td>\n",
       "      <td>1</td>\n",
       "      <td>0</td>\n",
       "      <td>1</td>\n",
       "      <td>0</td>\n",
       "      <td>0</td>\n",
       "    </tr>\n",
       "    <tr>\n",
       "      <th>4</th>\n",
       "      <td>57</td>\n",
       "      <td>-1</td>\n",
       "      <td>0</td>\n",
       "      <td>-1</td>\n",
       "      <td>0</td>\n",
       "      <td>0</td>\n",
       "      <td>0</td>\n",
       "      <td>8617.0</td>\n",
       "      <td>5670.0</td>\n",
       "      <td>35835.0</td>\n",
       "      <td>...</td>\n",
       "      <td>0</td>\n",
       "      <td>1</td>\n",
       "      <td>0</td>\n",
       "      <td>0</td>\n",
       "      <td>0</td>\n",
       "      <td>1</td>\n",
       "      <td>0</td>\n",
       "      <td>1</td>\n",
       "      <td>0</td>\n",
       "      <td>0</td>\n",
       "    </tr>\n",
       "  </tbody>\n",
       "</table>\n",
       "<p>5 rows × 30 columns</p>\n",
       "</div>"
      ],
      "text/plain": [
       "   AGE  PAY_1  PAY_2  PAY_3  PAY_4  PAY_5  PAY_6  BILL_AMT1  BILL_AMT2  \\\n",
       "0   24      2      2     -1     -1     -2     -2     3913.0     3102.0   \n",
       "1   26     -1      2      0      0      0      2     2682.0     1725.0   \n",
       "2   34      0      0      0      0      0      0    29239.0    14027.0   \n",
       "3   37      0      0      0      0      0      0    46990.0    48233.0   \n",
       "4   57     -1      0     -1      0      0      0     8617.0     5670.0   \n",
       "\n",
       "   BILL_AMT3  ...  SEX_Female  SEX_Male  EDUCATION_Graduate  \\\n",
       "0      689.0  ...           1         0                   0   \n",
       "1     2682.0  ...           1         0                   0   \n",
       "2    13559.0  ...           1         0                   0   \n",
       "3    49291.0  ...           1         0                   0   \n",
       "4    35835.0  ...           0         1                   0   \n",
       "\n",
       "   EDUCATION_High School  EDUCATION_Other  EDUCATION_Undergraduate  \\\n",
       "0                      0                0                        1   \n",
       "1                      0                0                        1   \n",
       "2                      0                0                        1   \n",
       "3                      0                0                        1   \n",
       "4                      0                0                        1   \n",
       "\n",
       "   EDUCATION_Unknown  MARRIAGE_Married  MARRIAGE_Other  MARRIAGE_Single  \n",
       "0                  0                 1               0                0  \n",
       "1                  0                 0               0                1  \n",
       "2                  0                 0               0                1  \n",
       "3                  0                 1               0                0  \n",
       "4                  0                 1               0                0  \n",
       "\n",
       "[5 rows x 30 columns]"
      ]
     },
     "execution_count": 8,
     "metadata": {},
     "output_type": "execute_result"
    }
   ],
   "source": [
    "cc_df[\"SEX\"] = cc_df[\"SEX\"].map(lambda x: {1: \"Male\", 2: \"Female\"}.get(x))\n",
    "cc_df[\"EDUCATION\"] = cc_df[\"EDUCATION\"].map(lambda x: {1: \"Graduate\", 2: \"Undergraduate\", \n",
    "                                                       3: \"High School\", 4: \"Other\", 5: \"Unknown\"}.get(x))\n",
    "cc_df[\"MARRIAGE\"] = cc_df[\"MARRIAGE\"].map(lambda x: {1: \"Married\", 2: \"Single\", 3: \"Other\"}.get(x))\n",
    "cc_df = pd.get_dummies(cc_df)\n",
    "print(cc_df.columns)\n",
    "print(cc_df.shape)\n",
    "cc_df.head()"
   ]
  },
  {
   "cell_type": "code",
   "execution_count": 9,
   "metadata": {},
   "outputs": [
    {
     "name": "stdout",
     "output_type": "stream",
     "text": [
      "Shape of Features: (30000, 29)\n",
      "Shape of Label: (30000,)\n"
     ]
    }
   ],
   "source": [
    "X = cc_df.drop(\"target\", axis=1)\n",
    "y = cc_df[\"target\"]\n",
    "\n",
    "print(f\"Shape of Features: {X.shape}\")\n",
    "print(f\"Shape of Label: {y.shape}\")\n",
    "\n",
    "cross_val_results = []"
   ]
  },
  {
   "cell_type": "code",
   "execution_count": 10,
   "metadata": {},
   "outputs": [
    {
     "name": "stdout",
     "output_type": "stream",
     "text": [
      "(30000, 29)\n"
     ]
    },
    {
     "data": {
      "text/html": [
       "<div>\n",
       "<style scoped>\n",
       "    .dataframe tbody tr th:only-of-type {\n",
       "        vertical-align: middle;\n",
       "    }\n",
       "\n",
       "    .dataframe tbody tr th {\n",
       "        vertical-align: top;\n",
       "    }\n",
       "\n",
       "    .dataframe thead th {\n",
       "        text-align: right;\n",
       "    }\n",
       "</style>\n",
       "<table border=\"1\" class=\"dataframe\">\n",
       "  <thead>\n",
       "    <tr style=\"text-align: right;\">\n",
       "      <th></th>\n",
       "      <th>AGE</th>\n",
       "      <th>PAY_1</th>\n",
       "      <th>PAY_2</th>\n",
       "      <th>PAY_3</th>\n",
       "      <th>PAY_4</th>\n",
       "      <th>PAY_5</th>\n",
       "      <th>PAY_6</th>\n",
       "      <th>BILL_AMT1</th>\n",
       "      <th>BILL_AMT2</th>\n",
       "      <th>BILL_AMT3</th>\n",
       "      <th>...</th>\n",
       "      <th>SEX_Female</th>\n",
       "      <th>SEX_Male</th>\n",
       "      <th>EDUCATION_Graduate</th>\n",
       "      <th>EDUCATION_High School</th>\n",
       "      <th>EDUCATION_Other</th>\n",
       "      <th>EDUCATION_Undergraduate</th>\n",
       "      <th>EDUCATION_Unknown</th>\n",
       "      <th>MARRIAGE_Married</th>\n",
       "      <th>MARRIAGE_Other</th>\n",
       "      <th>MARRIAGE_Single</th>\n",
       "    </tr>\n",
       "  </thead>\n",
       "  <tbody>\n",
       "    <tr>\n",
       "      <th>0</th>\n",
       "      <td>-1.245999</td>\n",
       "      <td>1.794534</td>\n",
       "      <td>1.782318</td>\n",
       "      <td>-0.696652</td>\n",
       "      <td>-0.666588</td>\n",
       "      <td>-1.530021</td>\n",
       "      <td>-1.486016</td>\n",
       "      <td>-0.642490</td>\n",
       "      <td>-0.647388</td>\n",
       "      <td>-0.667982</td>\n",
       "      <td>...</td>\n",
       "      <td>0.810147</td>\n",
       "      <td>-0.810147</td>\n",
       "      <td>-0.738362</td>\n",
       "      <td>-0.442744</td>\n",
       "      <td>-0.064162</td>\n",
       "      <td>1.066882</td>\n",
       "      <td>-0.105622</td>\n",
       "      <td>1.093761</td>\n",
       "      <td>-0.104324</td>\n",
       "      <td>-1.066454</td>\n",
       "    </tr>\n",
       "    <tr>\n",
       "      <th>1</th>\n",
       "      <td>-1.029030</td>\n",
       "      <td>-0.874977</td>\n",
       "      <td>1.782318</td>\n",
       "      <td>0.138862</td>\n",
       "      <td>0.188743</td>\n",
       "      <td>0.234913</td>\n",
       "      <td>1.992282</td>\n",
       "      <td>-0.659208</td>\n",
       "      <td>-0.666735</td>\n",
       "      <td>-0.639244</td>\n",
       "      <td>...</td>\n",
       "      <td>0.810147</td>\n",
       "      <td>-0.810147</td>\n",
       "      <td>-0.738362</td>\n",
       "      <td>-0.442744</td>\n",
       "      <td>-0.064162</td>\n",
       "      <td>1.066882</td>\n",
       "      <td>-0.105622</td>\n",
       "      <td>-0.914246</td>\n",
       "      <td>-0.104324</td>\n",
       "      <td>0.937656</td>\n",
       "    </tr>\n",
       "    <tr>\n",
       "      <th>2</th>\n",
       "      <td>-0.161154</td>\n",
       "      <td>0.014860</td>\n",
       "      <td>0.111734</td>\n",
       "      <td>0.138862</td>\n",
       "      <td>0.188743</td>\n",
       "      <td>0.234913</td>\n",
       "      <td>0.253133</td>\n",
       "      <td>-0.298555</td>\n",
       "      <td>-0.493891</td>\n",
       "      <td>-0.482400</td>\n",
       "      <td>...</td>\n",
       "      <td>0.810147</td>\n",
       "      <td>-0.810147</td>\n",
       "      <td>-0.738362</td>\n",
       "      <td>-0.442744</td>\n",
       "      <td>-0.064162</td>\n",
       "      <td>1.066882</td>\n",
       "      <td>-0.105622</td>\n",
       "      <td>-0.914246</td>\n",
       "      <td>-0.104324</td>\n",
       "      <td>0.937656</td>\n",
       "    </tr>\n",
       "    <tr>\n",
       "      <th>3</th>\n",
       "      <td>0.164300</td>\n",
       "      <td>0.014860</td>\n",
       "      <td>0.111734</td>\n",
       "      <td>0.138862</td>\n",
       "      <td>0.188743</td>\n",
       "      <td>0.234913</td>\n",
       "      <td>0.253133</td>\n",
       "      <td>-0.057490</td>\n",
       "      <td>-0.013292</td>\n",
       "      <td>0.032846</td>\n",
       "      <td>...</td>\n",
       "      <td>0.810147</td>\n",
       "      <td>-0.810147</td>\n",
       "      <td>-0.738362</td>\n",
       "      <td>-0.442744</td>\n",
       "      <td>-0.064162</td>\n",
       "      <td>1.066882</td>\n",
       "      <td>-0.105622</td>\n",
       "      <td>1.093761</td>\n",
       "      <td>-0.104324</td>\n",
       "      <td>-1.066454</td>\n",
       "    </tr>\n",
       "    <tr>\n",
       "      <th>4</th>\n",
       "      <td>2.333990</td>\n",
       "      <td>-0.874977</td>\n",
       "      <td>0.111734</td>\n",
       "      <td>-0.696652</td>\n",
       "      <td>0.188743</td>\n",
       "      <td>0.234913</td>\n",
       "      <td>0.253133</td>\n",
       "      <td>-0.578608</td>\n",
       "      <td>-0.611308</td>\n",
       "      <td>-0.161186</td>\n",
       "      <td>...</td>\n",
       "      <td>-1.234302</td>\n",
       "      <td>1.234302</td>\n",
       "      <td>-0.738362</td>\n",
       "      <td>-0.442744</td>\n",
       "      <td>-0.064162</td>\n",
       "      <td>1.066882</td>\n",
       "      <td>-0.105622</td>\n",
       "      <td>1.093761</td>\n",
       "      <td>-0.104324</td>\n",
       "      <td>-1.066454</td>\n",
       "    </tr>\n",
       "  </tbody>\n",
       "</table>\n",
       "<p>5 rows × 29 columns</p>\n",
       "</div>"
      ],
      "text/plain": [
       "        AGE     PAY_1     PAY_2     PAY_3     PAY_4     PAY_5     PAY_6  \\\n",
       "0 -1.245999  1.794534  1.782318 -0.696652 -0.666588 -1.530021 -1.486016   \n",
       "1 -1.029030 -0.874977  1.782318  0.138862  0.188743  0.234913  1.992282   \n",
       "2 -0.161154  0.014860  0.111734  0.138862  0.188743  0.234913  0.253133   \n",
       "3  0.164300  0.014860  0.111734  0.138862  0.188743  0.234913  0.253133   \n",
       "4  2.333990 -0.874977  0.111734 -0.696652  0.188743  0.234913  0.253133   \n",
       "\n",
       "   BILL_AMT1  BILL_AMT2  BILL_AMT3  ...  SEX_Female  SEX_Male  \\\n",
       "0  -0.642490  -0.647388  -0.667982  ...    0.810147 -0.810147   \n",
       "1  -0.659208  -0.666735  -0.639244  ...    0.810147 -0.810147   \n",
       "2  -0.298555  -0.493891  -0.482400  ...    0.810147 -0.810147   \n",
       "3  -0.057490  -0.013292   0.032846  ...    0.810147 -0.810147   \n",
       "4  -0.578608  -0.611308  -0.161186  ...   -1.234302  1.234302   \n",
       "\n",
       "   EDUCATION_Graduate  EDUCATION_High School  EDUCATION_Other  \\\n",
       "0           -0.738362              -0.442744        -0.064162   \n",
       "1           -0.738362              -0.442744        -0.064162   \n",
       "2           -0.738362              -0.442744        -0.064162   \n",
       "3           -0.738362              -0.442744        -0.064162   \n",
       "4           -0.738362              -0.442744        -0.064162   \n",
       "\n",
       "   EDUCATION_Undergraduate  EDUCATION_Unknown  MARRIAGE_Married  \\\n",
       "0                 1.066882          -0.105622          1.093761   \n",
       "1                 1.066882          -0.105622         -0.914246   \n",
       "2                 1.066882          -0.105622         -0.914246   \n",
       "3                 1.066882          -0.105622          1.093761   \n",
       "4                 1.066882          -0.105622          1.093761   \n",
       "\n",
       "   MARRIAGE_Other  MARRIAGE_Single  \n",
       "0       -0.104324        -1.066454  \n",
       "1       -0.104324         0.937656  \n",
       "2       -0.104324         0.937656  \n",
       "3       -0.104324        -1.066454  \n",
       "4       -0.104324        -1.066454  \n",
       "\n",
       "[5 rows x 29 columns]"
      ]
     },
     "execution_count": 10,
     "metadata": {},
     "output_type": "execute_result"
    }
   ],
   "source": [
    "X = (X - X.mean())/X.std()\n",
    "print(X.shape)\n",
    "X.head()"
   ]
  },
  {
   "cell_type": "code",
   "execution_count": 11,
   "metadata": {},
   "outputs": [
    {
     "name": "stdout",
     "output_type": "stream",
     "text": [
      "(21000, 29)\n",
      "(21000,)\n",
      "(9000, 29)\n",
      "(9000,)\n"
     ]
    }
   ],
   "source": [
    "# Split to train/test sets code here (if applicable)\n",
    "from sklearn.model_selection import train_test_split\n",
    "\n",
    "X_train, X_test, y_train, y_test = train_test_split(X, y, test_size=0.30, random_state=42)\n",
    "\n",
    "print(X_train.shape)\n",
    "print(y_train.shape)\n",
    "print(X_test.shape)\n",
    "print(y_test.shape)"
   ]
  },
  {
   "cell_type": "markdown",
   "metadata": {},
   "source": [
    "## Methods\n",
    "\n",
    "List your sklearn and tensorflow methods HERE:\n",
    "\n",
    "1- Sklearn Method No.1: Logistic Regression (Credit Card Default Dataset)\n",
    "\n",
    "2- Sklearn Method No.2: Stochastic Gradient Descent Classifier (Credit Card Default Dataset)\n",
    "\n",
    "3- Sklearn Method No.3: Ridge Classifier (Credit Card Default Dataset)\n",
    "\n",
    "4- Sklearn Method No.4: Random Forest Classifier (Credit Card Default Dataset)\n",
    "\n",
    "5- Sklearn Method No.5: Linear Regression (House Price Dataset)\n",
    "\n",
    "6- Tensorflow Method: Sequential Neural Network (House Price Dataset)\n",
    "\n",
    "Individual students need to work with 2 sklearn methods and 1 tensorflow method.\n",
    "\n",
    "Groups should take 2 approaches (both classification and regression) on 1 or 2 datasets, and for each approach (classification/regression) should use 3 methods as described above (6 methods totally).\n",
    "\n",
    "<b>Notice:</b> You should fine-tune at least one hyperparameter of each method by using multiple values (at least 3 different values)."
   ]
  },
  {
   "cell_type": "markdown",
   "metadata": {},
   "source": [
    "## <font color=\"red\"> Required Coding - Groups should add more cell as required"
   ]
  },
  {
   "cell_type": "code",
   "execution_count": 12,
   "metadata": {},
   "outputs": [],
   "source": [
    "# Import any necessary method/algorithm modules from sklearn and tf/keras here\n",
    "from sklearn.model_selection import cross_val_score\n",
    "from sklearn.linear_model import LogisticRegression, SGDClassifier, RidgeClassifier\n",
    "from sklearn.ensemble import RandomForestClassifier\n",
    "import sklearn.metrics as metrics\n",
    "\n",
    "import tensorflow as tf"
   ]
  },
  {
   "cell_type": "markdown",
   "metadata": {},
   "source": [
    "The sklearn method are included along with tuned hyperparameters."
   ]
  },
  {
   "cell_type": "code",
   "execution_count": 13,
   "metadata": {},
   "outputs": [
    {
     "name": "stdout",
     "output_type": "stream",
     "text": [
      "Mean AUC Score for Logistic Regression with 150 iterations: 0.7211145654616251\n"
     ]
    }
   ],
   "source": [
    "# Sklearn Method 1 code here \n",
    "logreg1_clf = LogisticRegression(solver=\"saga\",penalty=\"l1\", random_state=42, max_iter=150)\n",
    "\n",
    "logreg1_cv_score = cross_val_score(logreg1_clf, X, y, scoring=\"roc_auc\", cv=10)\n",
    "cross_val_results.append(logreg1_cv_score)\n",
    "print(f\"Mean AUC Score for Logistic Regression with 150 iterations: {logreg1_cv_score.mean()}\")"
   ]
  },
  {
   "cell_type": "code",
   "execution_count": 14,
   "metadata": {},
   "outputs": [
    {
     "name": "stdout",
     "output_type": "stream",
     "text": [
      "Mean AUC Score for Logistic Regression with 200 iterations: 0.7211521455060186\n"
     ]
    }
   ],
   "source": [
    "logreg2_clf = LogisticRegression(solver=\"saga\",penalty=\"l1\",random_state=42, max_iter=200)\n",
    "\n",
    "logreg_cv_score2 = cross_val_score(logreg2_clf, X, y, scoring=\"roc_auc\", cv=10)\n",
    "cross_val_results.append(logreg_cv_score2)\n",
    "print(f\"Mean AUC Score for Logistic Regression with 200 iterations: {logreg_cv_score2.mean()}\")"
   ]
  },
  {
   "cell_type": "code",
   "execution_count": 15,
   "metadata": {},
   "outputs": [
    {
     "name": "stdout",
     "output_type": "stream",
     "text": [
      "Mean AUC Score for Logistic Regression with 300 iterations: 0.7211989420475644\n"
     ]
    }
   ],
   "source": [
    "logreg3_clf = LogisticRegression(solver=\"saga\",penalty=\"l1\",random_state=42, max_iter=300)\n",
    "\n",
    "logreg3_cv_score = cross_val_score(logreg3_clf, X, y, scoring=\"roc_auc\", cv=10)\n",
    "cross_val_results.append(logreg3_cv_score)\n",
    "print(f\"Mean AUC Score for Logistic Regression with 300 iterations: {logreg3_cv_score.mean()}\")"
   ]
  },
  {
   "cell_type": "code",
   "execution_count": 16,
   "metadata": {},
   "outputs": [
    {
     "name": "stdout",
     "output_type": "stream",
     "text": [
      "Mean AUC Score for SGD with hinge loss: 0.7003898450248925\n"
     ]
    }
   ],
   "source": [
    "# Sklearn Method 2 code here \n",
    "sgdR1_clf = SGDClassifier(loss = 'hinge',random_state =42)\n",
    "sgdR1_cv_score = cross_val_score(sgdR1_clf,X,y,cv=10,scoring = 'roc_auc')\n",
    "cross_val_results.append(sgdR1_cv_score)\n",
    "print(f\"Mean AUC Score for SGD with hinge loss: {sgdR1_cv_score.mean()}\")"
   ]
  },
  {
   "cell_type": "code",
   "execution_count": 17,
   "metadata": {},
   "outputs": [
    {
     "name": "stdout",
     "output_type": "stream",
     "text": [
      "Mean AUC Score for SGD with squared_hinge loss: 0.6378472697704847\n"
     ]
    }
   ],
   "source": [
    "sgdR2_clf = SGDClassifier(loss = 'squared_hinge',random_state =42)\n",
    "sgdR2_cv_score = cross_val_score(sgdR2_clf,X,y,cv=10,scoring = 'roc_auc')\n",
    "cross_val_results.append(sgdR2_cv_score)\n",
    "print(f\"Mean AUC Score for SGD with squared_hinge loss: {sgdR2_cv_score.mean()}\")"
   ]
  },
  {
   "cell_type": "code",
   "execution_count": 18,
   "metadata": {},
   "outputs": [
    {
     "name": "stdout",
     "output_type": "stream",
     "text": [
      "Mean AUC Score for SGD with perceptron loss: 0.6328185364220558\n"
     ]
    }
   ],
   "source": [
    "sgdR3_clf = SGDClassifier(loss='perceptron',random_state=42)\n",
    "sgdR3_cv_score = cross_val_score(sgdR3_clf,X,y,cv=10,scoring='roc_auc')\n",
    "cross_val_results.append(sgdR3_cv_score)\n",
    "print(f\"Mean AUC Score for SGD with perceptron loss: {sgdR3_cv_score.mean()}\")"
   ]
  },
  {
   "cell_type": "code",
   "execution_count": 19,
   "metadata": {},
   "outputs": [
    {
     "name": "stdout",
     "output_type": "stream",
     "text": [
      "Mean AUC Score for Ridge with alpha(1e-2): 0.7153641869820431\n"
     ]
    }
   ],
   "source": [
    "# Sklearn Method 3 code here\n",
    "ridgeA1_clf = RidgeClassifier(alpha = 1e-2)\n",
    "ridgeA1_cv_score = cross_val_score(ridgeA1_clf,X,y,cv=10,scoring = 'roc_auc')\n",
    "cross_val_results.append(ridgeA1_cv_score)\n",
    "print(f\"Mean AUC Score for Ridge with alpha(1e-2): {ridgeA1_cv_score.mean()}\")"
   ]
  },
  {
   "cell_type": "code",
   "execution_count": 20,
   "metadata": {},
   "outputs": [
    {
     "name": "stdout",
     "output_type": "stream",
     "text": [
      "Mean AUC Score with Ridge with alpha(1e-1): 0.7153637349823081\n"
     ]
    }
   ],
   "source": [
    "ridgeA2_clf = RidgeClassifier(alpha = 1e-1)\n",
    "ridgeA2_cv_score = cross_val_score(ridgeA2_clf,X,y,cv=10,scoring = 'roc_auc')\n",
    "cross_val_results.append(ridgeA2_cv_score)\n",
    "print(f\"Mean AUC Score with Ridge with alpha(1e-1): {ridgeA2_cv_score.mean()}\")"
   ]
  },
  {
   "cell_type": "code",
   "execution_count": 21,
   "metadata": {},
   "outputs": [
    {
     "name": "stdout",
     "output_type": "stream",
     "text": [
      "Mean AUC Score with Ridge with alpha(1): 0.7153612868750263\n"
     ]
    }
   ],
   "source": [
    "ridgeA3_clf = RidgeClassifier(alpha = 1)\n",
    "ridgeA3_cv_score = cross_val_score(ridgeA3_clf,X,y,cv=10,scoring = 'roc_auc')\n",
    "cross_val_results.append(ridgeA3_cv_score)\n",
    "print(f\"Mean AUC Score with Ridge with alpha(1): {ridgeA3_cv_score.mean()}\")"
   ]
  },
  {
   "cell_type": "code",
   "execution_count": 22,
   "metadata": {},
   "outputs": [
    {
     "name": "stdout",
     "output_type": "stream",
     "text": [
      "Mean AUC Score for Random Forest: 0.7700885741103347\n"
     ]
    }
   ],
   "source": [
    "# Sklearn Method 4 code here \n",
    "rf_clf = RandomForestClassifier(n_estimators=100, max_leaf_nodes=16, n_jobs=-1)\n",
    "rf_clf_score = cross_val_score(rf_clf, X, y, scoring=\"roc_auc\", cv=10)\n",
    "\n",
    "cross_val_results.append(rf_clf_score)\n",
    "print(f\"Mean AUC Score for Random Forest: {rf_clf_score.mean()}\")"
   ]
  },
  {
   "cell_type": "code",
   "execution_count": 23,
   "metadata": {},
   "outputs": [
    {
     "name": "stdout",
     "output_type": "stream",
     "text": [
      "Mean AUC Score for Random Forest: 0.7681967144698918\n"
     ]
    }
   ],
   "source": [
    "rf2_clf = RandomForestClassifier(n_estimators=25, max_leaf_nodes=12, n_jobs=-1)\n",
    "rf2_clf_score = cross_val_score(rf2_clf, X, y, scoring=\"roc_auc\", cv=10)\n",
    "\n",
    "cross_val_results.append(rf2_clf_score)\n",
    "print(f\"Mean AUC Score for Random Forest: {rf2_clf_score.mean()}\")"
   ]
  },
  {
   "cell_type": "code",
   "execution_count": 24,
   "metadata": {},
   "outputs": [
    {
     "name": "stdout",
     "output_type": "stream",
     "text": [
      "Mean AUC Score for Random Forest: 0.7688027006081065\n"
     ]
    }
   ],
   "source": [
    "rf3_clf = RandomForestClassifier(n_estimators=50, max_leaf_nodes=12, n_jobs=-1)\n",
    "rf3_clf_score = cross_val_score(rf3_clf, X, y, scoring=\"roc_auc\", cv=10)\n",
    "\n",
    "cross_val_results.append(rf3_clf_score)\n",
    "print(f\"Mean AUC Score for Random Forest: {rf3_clf_score.mean()}\")"
   ]
  },
  {
   "cell_type": "code",
   "execution_count": 25,
   "metadata": {},
   "outputs": [
    {
     "data": {
      "text/plain": [
       "(0.5, 0.9)"
      ]
     },
     "execution_count": 25,
     "metadata": {},
     "output_type": "execute_result"
    },
    {
     "data": {
      "image/png": "[encoded data removed]",
      "text/plain": [
       "<Figure size 1008x504 with 1 Axes>"
      ]
     },
     "metadata": {
      "needs_background": "light"
     },
     "output_type": "display_data"
    }
   ],
   "source": [
    "algo_names = [\"LogisticRegression(1)\", \"LogisticRegression(2)\",\"LogisticRegression(3)\",\n",
    "              \"SGDClassifier(1)\", \"SGDClassifier(2)\" ,\"SGDClassifier(3)\",\n",
    "              \"RidgeClassifier(1)\", \"RidgeClassifier(2)\", \"RidgeClassifier(3)\",\n",
    "              \"RandomForestClassifier(1)\", \"RandomForestClassifier(2)\", \"RandomForestClassifier(3)\"\n",
    "             ]\n",
    "\n",
    "fig = plt.figure(figsize=(14, 7))\n",
    "fig.suptitle(\"Comparison of different Algorithms and different Hyperparamters\", fontsize=22)\n",
    "ax = fig.add_subplot(111)\n",
    "sns.boxplot(x=algo_names, y=cross_val_results)\n",
    "ax.set_xticklabels(algo_names)\n",
    "ax.set_xlabel(\"Algorithm\", fontsize=14)\n",
    "ax.set_ylabel(\"Mean AUC Score\", fontsize=18)\n",
    "ax.set_xticklabels(ax.get_xticklabels(), rotation=45)   # Creates the x_ticks to be tilted on it's diagonal.\n",
    "plt.ylim((0.5, 0.9))"
   ]
  },
  {
   "cell_type": "code",
   "execution_count": 26,
   "metadata": {},
   "outputs": [
    {
     "data": {
      "text/plain": [
       "RandomForestClassifier(bootstrap=True, class_weight=None, criterion='gini',\n",
       "                       max_depth=None, max_features='auto', max_leaf_nodes=12,\n",
       "                       min_impurity_decrease=0.0, min_impurity_split=None,\n",
       "                       min_samples_leaf=1, min_samples_split=2,\n",
       "                       min_weight_fraction_leaf=0.0, n_estimators=50, n_jobs=-1,\n",
       "                       oob_score=False, random_state=None, verbose=0,\n",
       "                       warm_start=False)"
      ]
     },
     "execution_count": 26,
     "metadata": {},
     "output_type": "execute_result"
    }
   ],
   "source": [
    "logreg1_clf.fit(X_train, y_train)\n",
    "logreg2_clf.fit(X_train, y_train)\n",
    "logreg3_clf.fit(X_train, y_train)\n",
    "\n",
    "sgdR1_clf.fit(X_train, y_train)\n",
    "sgdR2_clf.fit(X_train, y_train)\n",
    "sgdR3_clf.fit(X_train, y_train)\n",
    "\n",
    "ridgeA1_clf.fit(X_train,y_train)\n",
    "ridgeA2_clf.fit(X_train,y_train)\n",
    "ridgeA3_clf.fit(X_train,y_train)\n",
    "\n",
    "rf_clf.fit(X_train, y_train)\n",
    "rf2_clf.fit(X_train, y_train)\n",
    "rf3_clf.fit(X_train, y_train)"
   ]
  },
  {
   "cell_type": "code",
   "execution_count": 27,
   "metadata": {},
   "outputs": [],
   "source": [
    "logreg1_probs = logreg1_clf.predict_proba(X_test)\n",
    "logreg1_preds = logreg1_probs[:,1]\n",
    "logreg1_fpr, logreg1_tpr, logreg1_threshold = metrics.roc_curve(y_test, logreg1_preds)\n",
    "logreg1_roc_auc = metrics.auc(logreg1_fpr, logreg1_tpr)\n",
    "\n",
    "logreg2_probs = logreg2_clf.predict_proba(X_test)\n",
    "logreg2_preds = logreg2_probs[:,1]\n",
    "logreg2_fpr, logreg2_tpr, logreg2_threshold = metrics.roc_curve(y_test, logreg2_preds)\n",
    "logreg2_roc_auc = metrics.auc(logreg2_fpr, logreg2_tpr)\n",
    "\n",
    "logreg3_probs = logreg3_clf.predict_proba(X_test)\n",
    "logreg3_preds = logreg3_probs[:,1]\n",
    "logreg3_fpr, logreg3_tpr, logreg3_threshold = metrics.roc_curve(y_test, logreg3_preds)\n",
    "logreg3_roc_auc = metrics.auc(logreg3_fpr, logreg3_tpr)\n",
    "\n",
    "sgdR1_probs = sgdR1_clf.decision_function(X_test)\n",
    "sgdR1_fpr, sgdR1_tpr, sgdR1_threshold = metrics.roc_curve(y_test, sgdR1_probs)\n",
    "sgdR1_roc_auc = metrics.auc(sgdR1_fpr,sgdR1_tpr)\n",
    "\n",
    "sgdR2_probs = sgdR2_clf.decision_function(X_test)\n",
    "sgdR2_fpr, sgdR2_tpr, sgdR2_threshold = metrics.roc_curve(y_test, sgdR2_probs)\n",
    "sgdR2_roc_auc = metrics.auc(sgdR2_fpr,sgdR2_tpr)\n",
    "\n",
    "sgdR3_probs = sgdR3_clf.decision_function(X_test)\n",
    "sgdR3_fpr, sgdR3_tpr, sgdR3_threshold = metrics.roc_curve(y_test, sgdR3_probs)\n",
    "sgdR3_roc_auc = metrics.auc(sgdR3_fpr,sgdR3_tpr)\n",
    "\n",
    "ridgeA1_probs = ridgeA1_clf.decision_function(X_test)\n",
    "ridgeA1_fpr, ridgeA1_tpr, ridgeA1_threshold = metrics.roc_curve(y_test, ridgeA1_probs)\n",
    "ridgeA1_roc_auc = metrics.auc(ridgeA1_fpr,ridgeA1_tpr)\n",
    "\n",
    "ridgeA2_probs = ridgeA1_clf.decision_function(X_test)\n",
    "ridgeA2_fpr, ridgeA2_tpr, ridgeA2_threshold = metrics.roc_curve(y_test, ridgeA2_probs)\n",
    "ridgeA2_roc_auc = metrics.auc(ridgeA2_fpr,ridgeA2_tpr)\n",
    "\n",
    "ridgeA3_probs = ridgeA3_clf.decision_function(X_test)\n",
    "ridgeA3_fpr, ridgeA3_tpr, ridgeA3_threshold = metrics.roc_curve(y_test, ridgeA3_probs)\n",
    "ridgeA3_roc_auc = metrics.auc(ridgeA3_fpr,ridgeA3_tpr)\n",
    "\n",
    "rf_probs = rf_clf.predict_proba(X_test)\n",
    "rf_preds = rf_probs[:,1]\n",
    "rf_fpr, rf_tpr, rf_threshold = metrics.roc_curve(y_test, rf_preds)\n",
    "rf_roc_auc = metrics.auc(rf_fpr, rf_tpr)\n",
    "\n",
    "rf2_probs = rf2_clf.predict_proba(X_test)\n",
    "rf2_preds = rf2_probs[:,1]\n",
    "rf2_fpr, rf2_tpr, rf2_threshold = metrics.roc_curve(y_test, rf2_preds)\n",
    "rf2_roc_auc = metrics.auc(rf2_fpr, rf2_tpr)\n",
    "\n",
    "rf3_probs = rf3_clf.predict_proba(X_test)\n",
    "rf3_preds = rf3_probs[:,1]\n",
    "rf3_fpr, rf3_tpr, rf3_threshold = metrics.roc_curve(y_test, rf3_preds)\n",
    "rf3_roc_auc = metrics.auc(rf3_fpr, rf3_tpr)"
   ]
  },
  {
   "cell_type": "markdown",
   "metadata": {},
   "source": [
    "<h3> Data Processing for Housing Dataset </h3>"
   ]
  },
  {
   "cell_type": "code",
   "execution_count": 28,
   "metadata": {},
   "outputs": [
    {
     "data": {
      "text/html": [
       "<div>\n",
       "<style scoped>\n",
       "    .dataframe tbody tr th:only-of-type {\n",
       "        vertical-align: middle;\n",
       "    }\n",
       "\n",
       "    .dataframe tbody tr th {\n",
       "        vertical-align: top;\n",
       "    }\n",
       "\n",
       "    .dataframe thead th {\n",
       "        text-align: right;\n",
       "    }\n",
       "</style>\n",
       "<table border=\"1\" class=\"dataframe\">\n",
       "  <thead>\n",
       "    <tr style=\"text-align: right;\">\n",
       "      <th></th>\n",
       "      <th>date</th>\n",
       "      <th>price</th>\n",
       "      <th>bedrooms</th>\n",
       "      <th>bathrooms</th>\n",
       "      <th>sqft_living</th>\n",
       "      <th>sqft_lot</th>\n",
       "      <th>floors</th>\n",
       "      <th>waterfront</th>\n",
       "      <th>view</th>\n",
       "      <th>condition</th>\n",
       "      <th>sqft_above</th>\n",
       "      <th>sqft_basement</th>\n",
       "      <th>yr_built</th>\n",
       "      <th>yr_renovated</th>\n",
       "      <th>street</th>\n",
       "      <th>city</th>\n",
       "      <th>statezip</th>\n",
       "      <th>country</th>\n",
       "    </tr>\n",
       "  </thead>\n",
       "  <tbody>\n",
       "    <tr>\n",
       "      <th>0</th>\n",
       "      <td>2014-05-02 00:00:00</td>\n",
       "      <td>313000.0</td>\n",
       "      <td>3.0</td>\n",
       "      <td>1.50</td>\n",
       "      <td>1340</td>\n",
       "      <td>7912</td>\n",
       "      <td>1.5</td>\n",
       "      <td>0</td>\n",
       "      <td>0</td>\n",
       "      <td>3</td>\n",
       "      <td>1340</td>\n",
       "      <td>0</td>\n",
       "      <td>1955</td>\n",
       "      <td>2005</td>\n",
       "      <td>18810 Densmore Ave N</td>\n",
       "      <td>Shoreline</td>\n",
       "      <td>WA 98133</td>\n",
       "      <td>USA</td>\n",
       "    </tr>\n",
       "    <tr>\n",
       "      <th>1</th>\n",
       "      <td>2014-05-02 00:00:00</td>\n",
       "      <td>2384000.0</td>\n",
       "      <td>5.0</td>\n",
       "      <td>2.50</td>\n",
       "      <td>3650</td>\n",
       "      <td>9050</td>\n",
       "      <td>2.0</td>\n",
       "      <td>0</td>\n",
       "      <td>4</td>\n",
       "      <td>5</td>\n",
       "      <td>3370</td>\n",
       "      <td>280</td>\n",
       "      <td>1921</td>\n",
       "      <td>0</td>\n",
       "      <td>709 W Blaine St</td>\n",
       "      <td>Seattle</td>\n",
       "      <td>WA 98119</td>\n",
       "      <td>USA</td>\n",
       "    </tr>\n",
       "    <tr>\n",
       "      <th>2</th>\n",
       "      <td>2014-05-02 00:00:00</td>\n",
       "      <td>342000.0</td>\n",
       "      <td>3.0</td>\n",
       "      <td>2.00</td>\n",
       "      <td>1930</td>\n",
       "      <td>11947</td>\n",
       "      <td>1.0</td>\n",
       "      <td>0</td>\n",
       "      <td>0</td>\n",
       "      <td>4</td>\n",
       "      <td>1930</td>\n",
       "      <td>0</td>\n",
       "      <td>1966</td>\n",
       "      <td>0</td>\n",
       "      <td>26206-26214 143rd Ave SE</td>\n",
       "      <td>Kent</td>\n",
       "      <td>WA 98042</td>\n",
       "      <td>USA</td>\n",
       "    </tr>\n",
       "    <tr>\n",
       "      <th>3</th>\n",
       "      <td>2014-05-02 00:00:00</td>\n",
       "      <td>420000.0</td>\n",
       "      <td>3.0</td>\n",
       "      <td>2.25</td>\n",
       "      <td>2000</td>\n",
       "      <td>8030</td>\n",
       "      <td>1.0</td>\n",
       "      <td>0</td>\n",
       "      <td>0</td>\n",
       "      <td>4</td>\n",
       "      <td>1000</td>\n",
       "      <td>1000</td>\n",
       "      <td>1963</td>\n",
       "      <td>0</td>\n",
       "      <td>857 170th Pl NE</td>\n",
       "      <td>Bellevue</td>\n",
       "      <td>WA 98008</td>\n",
       "      <td>USA</td>\n",
       "    </tr>\n",
       "    <tr>\n",
       "      <th>4</th>\n",
       "      <td>2014-05-02 00:00:00</td>\n",
       "      <td>550000.0</td>\n",
       "      <td>4.0</td>\n",
       "      <td>2.50</td>\n",
       "      <td>1940</td>\n",
       "      <td>10500</td>\n",
       "      <td>1.0</td>\n",
       "      <td>0</td>\n",
       "      <td>0</td>\n",
       "      <td>4</td>\n",
       "      <td>1140</td>\n",
       "      <td>800</td>\n",
       "      <td>1976</td>\n",
       "      <td>1992</td>\n",
       "      <td>9105 170th Ave NE</td>\n",
       "      <td>Redmond</td>\n",
       "      <td>WA 98052</td>\n",
       "      <td>USA</td>\n",
       "    </tr>\n",
       "  </tbody>\n",
       "</table>\n",
       "</div>"
      ],
      "text/plain": [
       "                  date      price  bedrooms  bathrooms  sqft_living  sqft_lot  \\\n",
       "0  2014-05-02 00:00:00   313000.0       3.0       1.50         1340      7912   \n",
       "1  2014-05-02 00:00:00  2384000.0       5.0       2.50         3650      9050   \n",
       "2  2014-05-02 00:00:00   342000.0       3.0       2.00         1930     11947   \n",
       "3  2014-05-02 00:00:00   420000.0       3.0       2.25         2000      8030   \n",
       "4  2014-05-02 00:00:00   550000.0       4.0       2.50         1940     10500   \n",
       "\n",
       "   floors  waterfront  view  condition  sqft_above  sqft_basement  yr_built  \\\n",
       "0     1.5           0     0          3        1340              0      1955   \n",
       "1     2.0           0     4          5        3370            280      1921   \n",
       "2     1.0           0     0          4        1930              0      1966   \n",
       "3     1.0           0     0          4        1000           1000      1963   \n",
       "4     1.0           0     0          4        1140            800      1976   \n",
       "\n",
       "   yr_renovated                    street       city  statezip country  \n",
       "0          2005      18810 Densmore Ave N  Shoreline  WA 98133     USA  \n",
       "1             0           709 W Blaine St    Seattle  WA 98119     USA  \n",
       "2             0  26206-26214 143rd Ave SE       Kent  WA 98042     USA  \n",
       "3             0           857 170th Pl NE   Bellevue  WA 98008     USA  \n",
       "4          1992         9105 170th Ave NE    Redmond  WA 98052     USA  "
      ]
     },
     "execution_count": 28,
     "metadata": {},
     "output_type": "execute_result"
    }
   ],
   "source": [
    "housing_df.head()"
   ]
  },
  {
   "cell_type": "code",
   "execution_count": 29,
   "metadata": {},
   "outputs": [
    {
     "data": {
      "text/plain": [
       "date             0\n",
       "price            0\n",
       "bedrooms         0\n",
       "bathrooms        0\n",
       "sqft_living      0\n",
       "sqft_lot         0\n",
       "floors           0\n",
       "waterfront       0\n",
       "view             0\n",
       "condition        0\n",
       "sqft_above       0\n",
       "sqft_basement    0\n",
       "yr_built         0\n",
       "yr_renovated     0\n",
       "street           0\n",
       "city             0\n",
       "statezip         0\n",
       "country          0\n",
       "dtype: int64"
      ]
     },
     "execution_count": 29,
     "metadata": {},
     "output_type": "execute_result"
    }
   ],
   "source": [
    "housing_df.isna().sum()"
   ]
  },
  {
   "cell_type": "code",
   "execution_count": 30,
   "metadata": {},
   "outputs": [
    {
     "name": "stdout",
     "output_type": "stream",
     "text": [
      "(4600, 16)\n"
     ]
    },
    {
     "data": {
      "text/html": [
       "<div>\n",
       "<style scoped>\n",
       "    .dataframe tbody tr th:only-of-type {\n",
       "        vertical-align: middle;\n",
       "    }\n",
       "\n",
       "    .dataframe tbody tr th {\n",
       "        vertical-align: top;\n",
       "    }\n",
       "\n",
       "    .dataframe thead th {\n",
       "        text-align: right;\n",
       "    }\n",
       "</style>\n",
       "<table border=\"1\" class=\"dataframe\">\n",
       "  <thead>\n",
       "    <tr style=\"text-align: right;\">\n",
       "      <th></th>\n",
       "      <th>price</th>\n",
       "      <th>bedrooms</th>\n",
       "      <th>bathrooms</th>\n",
       "      <th>sqft_living</th>\n",
       "      <th>sqft_lot</th>\n",
       "      <th>floors</th>\n",
       "      <th>waterfront</th>\n",
       "      <th>view</th>\n",
       "      <th>condition</th>\n",
       "      <th>sqft_above</th>\n",
       "      <th>sqft_basement</th>\n",
       "      <th>yr_built</th>\n",
       "      <th>yr_renovated</th>\n",
       "      <th>street</th>\n",
       "      <th>city</th>\n",
       "      <th>statezip</th>\n",
       "    </tr>\n",
       "  </thead>\n",
       "  <tbody>\n",
       "    <tr>\n",
       "      <th>0</th>\n",
       "      <td>313000.0</td>\n",
       "      <td>3.0</td>\n",
       "      <td>1.50</td>\n",
       "      <td>1340</td>\n",
       "      <td>7912</td>\n",
       "      <td>1.5</td>\n",
       "      <td>0</td>\n",
       "      <td>0</td>\n",
       "      <td>3</td>\n",
       "      <td>1340</td>\n",
       "      <td>0</td>\n",
       "      <td>1955</td>\n",
       "      <td>2005</td>\n",
       "      <td>18810 Densmore Ave N</td>\n",
       "      <td>Shoreline</td>\n",
       "      <td>WA 98133</td>\n",
       "    </tr>\n",
       "    <tr>\n",
       "      <th>1</th>\n",
       "      <td>2384000.0</td>\n",
       "      <td>5.0</td>\n",
       "      <td>2.50</td>\n",
       "      <td>3650</td>\n",
       "      <td>9050</td>\n",
       "      <td>2.0</td>\n",
       "      <td>0</td>\n",
       "      <td>4</td>\n",
       "      <td>5</td>\n",
       "      <td>3370</td>\n",
       "      <td>280</td>\n",
       "      <td>1921</td>\n",
       "      <td>0</td>\n",
       "      <td>709 W Blaine St</td>\n",
       "      <td>Seattle</td>\n",
       "      <td>WA 98119</td>\n",
       "    </tr>\n",
       "    <tr>\n",
       "      <th>2</th>\n",
       "      <td>342000.0</td>\n",
       "      <td>3.0</td>\n",
       "      <td>2.00</td>\n",
       "      <td>1930</td>\n",
       "      <td>11947</td>\n",
       "      <td>1.0</td>\n",
       "      <td>0</td>\n",
       "      <td>0</td>\n",
       "      <td>4</td>\n",
       "      <td>1930</td>\n",
       "      <td>0</td>\n",
       "      <td>1966</td>\n",
       "      <td>0</td>\n",
       "      <td>26206-26214 143rd Ave SE</td>\n",
       "      <td>Kent</td>\n",
       "      <td>WA 98042</td>\n",
       "    </tr>\n",
       "    <tr>\n",
       "      <th>3</th>\n",
       "      <td>420000.0</td>\n",
       "      <td>3.0</td>\n",
       "      <td>2.25</td>\n",
       "      <td>2000</td>\n",
       "      <td>8030</td>\n",
       "      <td>1.0</td>\n",
       "      <td>0</td>\n",
       "      <td>0</td>\n",
       "      <td>4</td>\n",
       "      <td>1000</td>\n",
       "      <td>1000</td>\n",
       "      <td>1963</td>\n",
       "      <td>0</td>\n",
       "      <td>857 170th Pl NE</td>\n",
       "      <td>Bellevue</td>\n",
       "      <td>WA 98008</td>\n",
       "    </tr>\n",
       "    <tr>\n",
       "      <th>4</th>\n",
       "      <td>550000.0</td>\n",
       "      <td>4.0</td>\n",
       "      <td>2.50</td>\n",
       "      <td>1940</td>\n",
       "      <td>10500</td>\n",
       "      <td>1.0</td>\n",
       "      <td>0</td>\n",
       "      <td>0</td>\n",
       "      <td>4</td>\n",
       "      <td>1140</td>\n",
       "      <td>800</td>\n",
       "      <td>1976</td>\n",
       "      <td>1992</td>\n",
       "      <td>9105 170th Ave NE</td>\n",
       "      <td>Redmond</td>\n",
       "      <td>WA 98052</td>\n",
       "    </tr>\n",
       "  </tbody>\n",
       "</table>\n",
       "</div>"
      ],
      "text/plain": [
       "       price  bedrooms  bathrooms  sqft_living  sqft_lot  floors  waterfront  \\\n",
       "0   313000.0       3.0       1.50         1340      7912     1.5           0   \n",
       "1  2384000.0       5.0       2.50         3650      9050     2.0           0   \n",
       "2   342000.0       3.0       2.00         1930     11947     1.0           0   \n",
       "3   420000.0       3.0       2.25         2000      8030     1.0           0   \n",
       "4   550000.0       4.0       2.50         1940     10500     1.0           0   \n",
       "\n",
       "   view  condition  sqft_above  sqft_basement  yr_built  yr_renovated  \\\n",
       "0     0          3        1340              0      1955          2005   \n",
       "1     4          5        3370            280      1921             0   \n",
       "2     0          4        1930              0      1966             0   \n",
       "3     0          4        1000           1000      1963             0   \n",
       "4     0          4        1140            800      1976          1992   \n",
       "\n",
       "                     street       city  statezip  \n",
       "0      18810 Densmore Ave N  Shoreline  WA 98133  \n",
       "1           709 W Blaine St    Seattle  WA 98119  \n",
       "2  26206-26214 143rd Ave SE       Kent  WA 98042  \n",
       "3           857 170th Pl NE   Bellevue  WA 98008  \n",
       "4         9105 170th Ave NE    Redmond  WA 98052  "
      ]
     },
     "execution_count": 30,
     "metadata": {},
     "output_type": "execute_result"
    }
   ],
   "source": [
    "# Knowing that every house sold here is in Washington State, drop the country column\n",
    "# Drop the time, too\n",
    "housing_df.drop([\"country\", \"date\"], axis=1, inplace=True)\n",
    "print(housing_df.shape)\n",
    "housing_df.head()"
   ]
  },
  {
   "cell_type": "code",
   "execution_count": 31,
   "metadata": {},
   "outputs": [
    {
     "name": "stdout",
     "output_type": "stream",
     "text": [
      "0    4567\n",
      "1      33\n",
      "Name: waterfront, dtype: int64\n",
      "\n",
      "0    4140\n",
      "2     205\n",
      "3     116\n",
      "4      70\n",
      "1      69\n",
      "Name: view, dtype: int64\n",
      "\n",
      "3    2875\n",
      "4    1252\n",
      "5     435\n",
      "2      32\n",
      "1       6\n",
      "Name: condition, dtype: int64\n"
     ]
    }
   ],
   "source": [
    "print(housing_df[\"waterfront\"].value_counts())\n",
    "print()\n",
    "print(housing_df[\"view\"].value_counts())\n",
    "print()\n",
    "print(housing_df[\"condition\"].value_counts())"
   ]
  },
  {
   "cell_type": "code",
   "execution_count": 32,
   "metadata": {},
   "outputs": [
    {
     "data": {
      "text/html": [
       "<div>\n",
       "<style scoped>\n",
       "    .dataframe tbody tr th:only-of-type {\n",
       "        vertical-align: middle;\n",
       "    }\n",
       "\n",
       "    .dataframe tbody tr th {\n",
       "        vertical-align: top;\n",
       "    }\n",
       "\n",
       "    .dataframe thead th {\n",
       "        text-align: right;\n",
       "    }\n",
       "</style>\n",
       "<table border=\"1\" class=\"dataframe\">\n",
       "  <thead>\n",
       "    <tr style=\"text-align: right;\">\n",
       "      <th></th>\n",
       "      <th>price</th>\n",
       "      <th>bedrooms</th>\n",
       "      <th>bathrooms</th>\n",
       "      <th>sqft_living</th>\n",
       "      <th>sqft_lot</th>\n",
       "      <th>floors</th>\n",
       "      <th>waterfront</th>\n",
       "      <th>view</th>\n",
       "      <th>condition</th>\n",
       "      <th>sqft_above</th>\n",
       "      <th>sqft_basement</th>\n",
       "      <th>yr_built</th>\n",
       "      <th>yr_renovated</th>\n",
       "      <th>city</th>\n",
       "      <th>statezip</th>\n",
       "    </tr>\n",
       "  </thead>\n",
       "  <tbody>\n",
       "    <tr>\n",
       "      <th>0</th>\n",
       "      <td>313000.0</td>\n",
       "      <td>3.0</td>\n",
       "      <td>1.50</td>\n",
       "      <td>1340</td>\n",
       "      <td>7912</td>\n",
       "      <td>1.5</td>\n",
       "      <td>0</td>\n",
       "      <td>0</td>\n",
       "      <td>3</td>\n",
       "      <td>1340</td>\n",
       "      <td>0</td>\n",
       "      <td>1955</td>\n",
       "      <td>2005</td>\n",
       "      <td>36</td>\n",
       "      <td>62</td>\n",
       "    </tr>\n",
       "    <tr>\n",
       "      <th>1</th>\n",
       "      <td>2384000.0</td>\n",
       "      <td>5.0</td>\n",
       "      <td>2.50</td>\n",
       "      <td>3650</td>\n",
       "      <td>9050</td>\n",
       "      <td>2.0</td>\n",
       "      <td>0</td>\n",
       "      <td>4</td>\n",
       "      <td>5</td>\n",
       "      <td>3370</td>\n",
       "      <td>280</td>\n",
       "      <td>1921</td>\n",
       "      <td>0</td>\n",
       "      <td>35</td>\n",
       "      <td>58</td>\n",
       "    </tr>\n",
       "    <tr>\n",
       "      <th>2</th>\n",
       "      <td>342000.0</td>\n",
       "      <td>3.0</td>\n",
       "      <td>2.00</td>\n",
       "      <td>1930</td>\n",
       "      <td>11947</td>\n",
       "      <td>1.0</td>\n",
       "      <td>0</td>\n",
       "      <td>0</td>\n",
       "      <td>4</td>\n",
       "      <td>1930</td>\n",
       "      <td>0</td>\n",
       "      <td>1966</td>\n",
       "      <td>0</td>\n",
       "      <td>18</td>\n",
       "      <td>26</td>\n",
       "    </tr>\n",
       "    <tr>\n",
       "      <th>3</th>\n",
       "      <td>420000.0</td>\n",
       "      <td>3.0</td>\n",
       "      <td>2.25</td>\n",
       "      <td>2000</td>\n",
       "      <td>8030</td>\n",
       "      <td>1.0</td>\n",
       "      <td>0</td>\n",
       "      <td>0</td>\n",
       "      <td>4</td>\n",
       "      <td>1000</td>\n",
       "      <td>1000</td>\n",
       "      <td>1963</td>\n",
       "      <td>0</td>\n",
       "      <td>3</td>\n",
       "      <td>7</td>\n",
       "    </tr>\n",
       "    <tr>\n",
       "      <th>4</th>\n",
       "      <td>550000.0</td>\n",
       "      <td>4.0</td>\n",
       "      <td>2.50</td>\n",
       "      <td>1940</td>\n",
       "      <td>10500</td>\n",
       "      <td>1.0</td>\n",
       "      <td>0</td>\n",
       "      <td>0</td>\n",
       "      <td>4</td>\n",
       "      <td>1140</td>\n",
       "      <td>800</td>\n",
       "      <td>1976</td>\n",
       "      <td>1992</td>\n",
       "      <td>31</td>\n",
       "      <td>31</td>\n",
       "    </tr>\n",
       "  </tbody>\n",
       "</table>\n",
       "</div>"
      ],
      "text/plain": [
       "       price  bedrooms  bathrooms  sqft_living  sqft_lot  floors  waterfront  \\\n",
       "0   313000.0       3.0       1.50         1340      7912     1.5           0   \n",
       "1  2384000.0       5.0       2.50         3650      9050     2.0           0   \n",
       "2   342000.0       3.0       2.00         1930     11947     1.0           0   \n",
       "3   420000.0       3.0       2.25         2000      8030     1.0           0   \n",
       "4   550000.0       4.0       2.50         1940     10500     1.0           0   \n",
       "\n",
       "   view  condition  sqft_above  sqft_basement  yr_built  yr_renovated  city  \\\n",
       "0     0          3        1340              0      1955          2005    36   \n",
       "1     4          5        3370            280      1921             0    35   \n",
       "2     0          4        1930              0      1966             0    18   \n",
       "3     0          4        1000           1000      1963             0     3   \n",
       "4     0          4        1140            800      1976          1992    31   \n",
       "\n",
       "   statezip  \n",
       "0        62  \n",
       "1        58  \n",
       "2        26  \n",
       "3         7  \n",
       "4        31  "
      ]
     },
     "execution_count": 32,
     "metadata": {},
     "output_type": "execute_result"
    }
   ],
   "source": [
    "# Set city, statezip, and street into categories\n",
    "housing_df['city'] = pd.Categorical(housing_df.city).codes\n",
    "housing_df['statezip'] = pd.Categorical(housing_df.statezip).codes\n",
    "housing_df.drop(\"street\", axis=1, inplace=True)\n",
    "housing_df.head()"
   ]
  },
  {
   "cell_type": "code",
   "execution_count": 33,
   "metadata": {},
   "outputs": [
    {
     "name": "stdout",
     "output_type": "stream",
     "text": [
      "(4504, 15)\n"
     ]
    },
    {
     "data": {
      "text/html": [
       "<div>\n",
       "<style scoped>\n",
       "    .dataframe tbody tr th:only-of-type {\n",
       "        vertical-align: middle;\n",
       "    }\n",
       "\n",
       "    .dataframe tbody tr th {\n",
       "        vertical-align: top;\n",
       "    }\n",
       "\n",
       "    .dataframe thead th {\n",
       "        text-align: right;\n",
       "    }\n",
       "</style>\n",
       "<table border=\"1\" class=\"dataframe\">\n",
       "  <thead>\n",
       "    <tr style=\"text-align: right;\">\n",
       "      <th></th>\n",
       "      <th>price</th>\n",
       "      <th>bedrooms</th>\n",
       "      <th>bathrooms</th>\n",
       "      <th>sqft_living</th>\n",
       "      <th>sqft_lot</th>\n",
       "      <th>floors</th>\n",
       "      <th>waterfront</th>\n",
       "      <th>view</th>\n",
       "      <th>condition</th>\n",
       "      <th>sqft_above</th>\n",
       "      <th>sqft_basement</th>\n",
       "      <th>yr_built</th>\n",
       "      <th>yr_renovated</th>\n",
       "      <th>city</th>\n",
       "      <th>statezip</th>\n",
       "    </tr>\n",
       "  </thead>\n",
       "  <tbody>\n",
       "    <tr>\n",
       "      <th>0</th>\n",
       "      <td>313000.0</td>\n",
       "      <td>3.0</td>\n",
       "      <td>1.50</td>\n",
       "      <td>1340</td>\n",
       "      <td>7912</td>\n",
       "      <td>1.5</td>\n",
       "      <td>0</td>\n",
       "      <td>0</td>\n",
       "      <td>3</td>\n",
       "      <td>1340</td>\n",
       "      <td>0</td>\n",
       "      <td>1955</td>\n",
       "      <td>2005</td>\n",
       "      <td>36</td>\n",
       "      <td>62</td>\n",
       "    </tr>\n",
       "    <tr>\n",
       "      <th>1</th>\n",
       "      <td>342000.0</td>\n",
       "      <td>3.0</td>\n",
       "      <td>2.00</td>\n",
       "      <td>1930</td>\n",
       "      <td>11947</td>\n",
       "      <td>1.0</td>\n",
       "      <td>0</td>\n",
       "      <td>0</td>\n",
       "      <td>4</td>\n",
       "      <td>1930</td>\n",
       "      <td>0</td>\n",
       "      <td>1966</td>\n",
       "      <td>0</td>\n",
       "      <td>18</td>\n",
       "      <td>26</td>\n",
       "    </tr>\n",
       "    <tr>\n",
       "      <th>2</th>\n",
       "      <td>420000.0</td>\n",
       "      <td>3.0</td>\n",
       "      <td>2.25</td>\n",
       "      <td>2000</td>\n",
       "      <td>8030</td>\n",
       "      <td>1.0</td>\n",
       "      <td>0</td>\n",
       "      <td>0</td>\n",
       "      <td>4</td>\n",
       "      <td>1000</td>\n",
       "      <td>1000</td>\n",
       "      <td>1963</td>\n",
       "      <td>0</td>\n",
       "      <td>3</td>\n",
       "      <td>7</td>\n",
       "    </tr>\n",
       "    <tr>\n",
       "      <th>3</th>\n",
       "      <td>550000.0</td>\n",
       "      <td>4.0</td>\n",
       "      <td>2.50</td>\n",
       "      <td>1940</td>\n",
       "      <td>10500</td>\n",
       "      <td>1.0</td>\n",
       "      <td>0</td>\n",
       "      <td>0</td>\n",
       "      <td>4</td>\n",
       "      <td>1140</td>\n",
       "      <td>800</td>\n",
       "      <td>1976</td>\n",
       "      <td>1992</td>\n",
       "      <td>31</td>\n",
       "      <td>31</td>\n",
       "    </tr>\n",
       "    <tr>\n",
       "      <th>4</th>\n",
       "      <td>490000.0</td>\n",
       "      <td>2.0</td>\n",
       "      <td>1.00</td>\n",
       "      <td>880</td>\n",
       "      <td>6380</td>\n",
       "      <td>1.0</td>\n",
       "      <td>0</td>\n",
       "      <td>0</td>\n",
       "      <td>3</td>\n",
       "      <td>880</td>\n",
       "      <td>0</td>\n",
       "      <td>1938</td>\n",
       "      <td>1994</td>\n",
       "      <td>35</td>\n",
       "      <td>54</td>\n",
       "    </tr>\n",
       "  </tbody>\n",
       "</table>\n",
       "</div>"
      ],
      "text/plain": [
       "      price  bedrooms  bathrooms  sqft_living  sqft_lot  floors  waterfront  \\\n",
       "0  313000.0       3.0       1.50         1340      7912     1.5           0   \n",
       "1  342000.0       3.0       2.00         1930     11947     1.0           0   \n",
       "2  420000.0       3.0       2.25         2000      8030     1.0           0   \n",
       "3  550000.0       4.0       2.50         1940     10500     1.0           0   \n",
       "4  490000.0       2.0       1.00          880      6380     1.0           0   \n",
       "\n",
       "   view  condition  sqft_above  sqft_basement  yr_built  yr_renovated  city  \\\n",
       "0     0          3        1340              0      1955          2005    36   \n",
       "1     0          4        1930              0      1966             0    18   \n",
       "2     0          4        1000           1000      1963             0     3   \n",
       "3     0          4        1140            800      1976          1992    31   \n",
       "4     0          3         880              0      1938          1994    35   \n",
       "\n",
       "   statezip  \n",
       "0        62  \n",
       "1        26  \n",
       "2         7  \n",
       "3        31  \n",
       "4        54  "
      ]
     },
     "execution_count": 33,
     "metadata": {},
     "output_type": "execute_result"
    }
   ],
   "source": [
    "# Removing outliers\n",
    "housing_df = housing_df.drop(housing_df[housing_df[\"price\"] < 1000].index).reset_index(drop=True)\n",
    "housing_df = housing_df.drop(housing_df[housing_df[\"price\"] > 2000000].index).reset_index(drop=True)\n",
    "print(housing_df.shape)\n",
    "housing_df.head()"
   ]
  },
  {
   "cell_type": "code",
   "execution_count": 34,
   "metadata": {},
   "outputs": [
    {
     "name": "stdout",
     "output_type": "stream",
     "text": [
      "(4504, 14)\n",
      "(4504,)\n"
     ]
    }
   ],
   "source": [
    "x = housing_df.drop(\"price\", axis=1)\n",
    "y = housing_df.price\n",
    "\n",
    "print(x.shape)\n",
    "print(y.shape)"
   ]
  },
  {
   "cell_type": "code",
   "execution_count": 35,
   "metadata": {},
   "outputs": [
    {
     "ename": "NameError",
     "evalue": "name 'np' is not defined",
     "output_type": "error",
     "traceback": [
      "\u001b[1;31m---------------------------------------------------------------------------\u001b[0m",
      "\u001b[1;31mNameError\u001b[0m                                 Traceback (most recent call last)",
      "\u001b[1;32m<ipython-input-35-3029c427e91d>\u001b[0m in \u001b[0;36m<module>\u001b[1;34m\u001b[0m\n\u001b[0;32m      1\u001b[0m \u001b[0mtrain_data\u001b[0m\u001b[1;33m,\u001b[0m\u001b[0mtest_data\u001b[0m\u001b[1;33m=\u001b[0m\u001b[0mtrain_test_split\u001b[0m\u001b[1;33m(\u001b[0m\u001b[0mhousing_df\u001b[0m\u001b[1;33m,\u001b[0m\u001b[0mtrain_size\u001b[0m\u001b[1;33m=\u001b[0m\u001b[1;36m0.2\u001b[0m\u001b[1;33m,\u001b[0m\u001b[0mrandom_state\u001b[0m\u001b[1;33m=\u001b[0m\u001b[1;36m3\u001b[0m\u001b[1;33m)\u001b[0m\u001b[1;33m\u001b[0m\u001b[1;33m\u001b[0m\u001b[0m\n\u001b[0;32m      2\u001b[0m \u001b[1;33m\u001b[0m\u001b[0m\n\u001b[1;32m----> 3\u001b[1;33m \u001b[0mx_train\u001b[0m\u001b[1;33m=\u001b[0m\u001b[0mnp\u001b[0m\u001b[1;33m.\u001b[0m\u001b[0marray\u001b[0m\u001b[1;33m(\u001b[0m\u001b[0mtrain_data\u001b[0m\u001b[1;33m[\u001b[0m\u001b[1;34m'sqft_living'\u001b[0m\u001b[1;33m]\u001b[0m\u001b[1;33m)\u001b[0m\u001b[1;33m.\u001b[0m\u001b[0mreshape\u001b[0m\u001b[1;33m(\u001b[0m\u001b[1;33m-\u001b[0m\u001b[1;36m1\u001b[0m\u001b[1;33m,\u001b[0m\u001b[1;36m1\u001b[0m\u001b[1;33m)\u001b[0m\u001b[1;33m\u001b[0m\u001b[1;33m\u001b[0m\u001b[0m\n\u001b[0m\u001b[0;32m      4\u001b[0m \u001b[0my_train\u001b[0m\u001b[1;33m=\u001b[0m\u001b[0mnp\u001b[0m\u001b[1;33m.\u001b[0m\u001b[0marray\u001b[0m\u001b[1;33m(\u001b[0m\u001b[0mtrain_data\u001b[0m\u001b[1;33m[\u001b[0m\u001b[1;34m'price'\u001b[0m\u001b[1;33m]\u001b[0m\u001b[1;33m)\u001b[0m\u001b[1;33m.\u001b[0m\u001b[0mreshape\u001b[0m\u001b[1;33m(\u001b[0m\u001b[1;33m-\u001b[0m\u001b[1;36m1\u001b[0m\u001b[1;33m,\u001b[0m\u001b[1;36m1\u001b[0m\u001b[1;33m)\u001b[0m\u001b[1;33m\u001b[0m\u001b[1;33m\u001b[0m\u001b[0m\n\u001b[0;32m      5\u001b[0m \u001b[0mx_test\u001b[0m\u001b[1;33m=\u001b[0m\u001b[0mnp\u001b[0m\u001b[1;33m.\u001b[0m\u001b[0marray\u001b[0m\u001b[1;33m(\u001b[0m\u001b[0mtest_data\u001b[0m\u001b[1;33m[\u001b[0m\u001b[1;34m'sqft_living'\u001b[0m\u001b[1;33m]\u001b[0m\u001b[1;33m)\u001b[0m\u001b[1;33m.\u001b[0m\u001b[0mreshape\u001b[0m\u001b[1;33m(\u001b[0m\u001b[1;33m-\u001b[0m\u001b[1;36m1\u001b[0m\u001b[1;33m,\u001b[0m\u001b[1;36m1\u001b[0m\u001b[1;33m)\u001b[0m\u001b[1;33m\u001b[0m\u001b[1;33m\u001b[0m\u001b[0m\n",
      "\u001b[1;31mNameError\u001b[0m: name 'np' is not defined"
     ]
    }
   ],
   "source": [
    "train_data,test_data=train_test_split(housing_df,train_size=0.2,random_state=3)\n",
    "\n",
    "x_train=np.array(train_data['sqft_living']).reshape(-1,1)\n",
    "y_train=np.array(train_data['price']).reshape(-1,1)\n",
    "x_test=np.array(test_data['sqft_living']).reshape(-1,1)\n",
    "y_test=np.array(test_data['price']).reshape(-1,1)\n"
   ]
  },
  {
   "cell_type": "code",
   "execution_count": null,
   "metadata": {},
   "outputs": [],
   "source": [
    "import numpy as np\n",
    "from sklearn.linear_model import LinearRegression\n",
    "import tensorflow as tf"
   ]
  },
  {
   "cell_type": "code",
   "execution_count": null,
   "metadata": {},
   "outputs": [],
   "source": [
    "reg = LinearRegression()\n",
    "reg.fit(x_train,y_train)"
   ]
  },
  {
   "cell_type": "code",
   "execution_count": null,
   "metadata": {},
   "outputs": [],
   "source": [
    "pred = reg.predict(x_test)"
   ]
  },
  {
   "cell_type": "code",
   "execution_count": null,
   "metadata": {},
   "outputs": [],
   "source": [
    "accuracy = reg.score(x_test, y_test)\n",
    "print(f\"Accuracy: {accuracy}\")"
   ]
  },
  {
   "cell_type": "code",
   "execution_count": null,
   "metadata": {},
   "outputs": [],
   "source": [
    "mse=metrics.mean_squared_error(y_test,pred)\n",
    "print(f\"MSE: ${round(np.sqrt(mse),2)}\")\n",
    "\n",
    "mae=metrics.mean_absolute_error(y_test, pred)\n",
    "print(f\"AE: ${round(np.sqrt(mae),2)}\")\n"
   ]
  },
  {
   "cell_type": "code",
   "execution_count": null,
   "metadata": {},
   "outputs": [],
   "source": [
    "model = tf.keras.Sequential([\n",
    "    tf.keras.layers.Dense(128, activation='relu', input_shape=[x_train.shape[1]]),\n",
    "    tf.keras.layers.Dense(64, activation='relu'),\n",
    "    tf.keras.layers.Dense(32, activation='relu'),\n",
    "    tf.keras.layers.Dense(16, activation='relu'),\n",
    "    tf.keras.layers.Dense(8, activation='relu'),\n",
    "    tf.keras.layers.Dense(1)\n",
    "    ]) "
   ]
  },
  {
   "cell_type": "code",
   "execution_count": null,
   "metadata": {},
   "outputs": [],
   "source": [
    "optimizer = tf.keras.optimizers.RMSprop(.0001)\n",
    "model.compile(optimizer=optimizer, loss='mse',metrics=['mae', 'mse'])"
   ]
  },
  {
   "cell_type": "code",
   "execution_count": null,
   "metadata": {},
   "outputs": [],
   "source": [
    "model.summary()"
   ]
  },
  {
   "cell_type": "code",
   "execution_count": null,
   "metadata": {},
   "outputs": [],
   "source": [
    "EPOCHS = 300\n",
    "model_history = model.fit(x_train, y_train, epochs=EPOCHS, validation_split=0.2, verbose=1)"
   ]
  },
  {
   "cell_type": "code",
   "execution_count": null,
   "metadata": {},
   "outputs": [],
   "source": [
    "loss, mae, mse = model.evaluate(x_test, y_test, verbose=2)\n",
    "\n",
    "print(\"Testing set Mean Abs Error: ${:5.2f}\".format(mae))"
   ]
  },
  {
   "cell_type": "code",
   "execution_count": null,
   "metadata": {},
   "outputs": [],
   "source": []
  },
  {
   "cell_type": "code",
   "execution_count": null,
   "metadata": {},
   "outputs": [],
   "source": [
    "hist = pd.DataFrame(model_history.history)\n",
    "hist['epoch'] = model_history.epoch\n",
    "hist.tail()"
   ]
  },
  {
   "cell_type": "code",
   "execution_count": null,
   "metadata": {},
   "outputs": [],
   "source": [
    "def plot_history(history):\n",
    "  hist = pd.DataFrame(history.history)\n",
    "  hist['epoch'] = history.epoch\n",
    "\n",
    "  plt.figure()\n",
    "  plt.xlabel('Epoch')\n",
    "  plt.ylabel('Mean Abs Error [Price]')\n",
    "  plt.plot(hist['epoch'], hist['mae'],\n",
    "           label='Train Error')\n",
    "  plt.plot(hist['epoch'], hist['val_mae'],\n",
    "           label = 'Val Error')\n",
    "  plt.ylim([0,800000])\n",
    "  plt.legend()\n",
    "\n",
    "  plt.figure()\n",
    "  plt.xlabel('Epoch')\n",
    "  plt.ylabel('Mean Square Error [$Price^2$]')\n",
    "  plt.plot(hist['epoch'], hist['mse'],\n",
    "           label='Train Error')\n",
    "  plt.plot(hist['epoch'], hist['val_mse'],\n",
    "           label = 'Val Error')\n",
    "  plt.ylim([40000000000,350000000000])\n",
    "  plt.legend()\n",
    "  plt.show()"
   ]
  },
  {
   "cell_type": "code",
   "execution_count": null,
   "metadata": {},
   "outputs": [],
   "source": [
    "model2 = tf.keras.Sequential([\n",
    "    tf.keras.layers.Dense(units=128, activation='relu', input_shape= [x_train.shape[1]]),\n",
    "    tf.keras.layers.Dense(units=64, activation='relu'),\n",
    "    tf.keras.layers.Dense(units=32, activation='relu'),\n",
    "    tf.keras.layers.Dense(units=16, activation='relu'),\n",
    "    tf.keras.layers.Dense(units=8, activation='relu'),\n",
    "    tf.keras.layers.Dense(units=1)\n",
    "    ])"
   ]
  },
  {
   "cell_type": "code",
   "execution_count": null,
   "metadata": {},
   "outputs": [],
   "source": [
    "optimizer = tf.keras.optimizers.Adam(.0001)\n",
    "model2.compile(optimizer=optimizer, loss='mse',metrics=['mae', 'mse'])"
   ]
  },
  {
   "cell_type": "code",
   "execution_count": null,
   "metadata": {},
   "outputs": [],
   "source": [
    "EPOCHS = 300\n",
    "model2_history = model2.fit(x_train, y_train, epochs=EPOCHS, validation_split=0.2, verbose=0)"
   ]
  },
  {
   "cell_type": "code",
   "execution_count": null,
   "metadata": {},
   "outputs": [],
   "source": [
    "loss2, mae2, mse2 = model2.evaluate(x_test, y_test, verbose=2)\n",
    "\n",
    "print(\"Testing set Mean Abs Error: ${:5.2f}\".format(mae2))"
   ]
  },
  {
   "cell_type": "markdown",
   "metadata": {},
   "source": [
    "## Results"
   ]
  },
  {
   "cell_type": "markdown",
   "metadata": {},
   "source": [
    "Your results must include at least one comparison table and two plots (for groups 4 plots required)."
   ]
  },
  {
   "cell_type": "markdown",
   "metadata": {},
   "source": [
    "### Comparison Table"
   ]
  },
  {
   "cell_type": "markdown",
   "metadata": {},
   "source": [
    "You should compare all of the methods in one or multiple tables, showing clearly the method names, the metrics used for comparison and the results (accuracy, scores, loss, etc). You may use [online tools such as this](https://www.tablesgenerator.com/markdown_tables) for generating and editing neatly-formatted tables in Markdown. You can then copy the code to your Markdown cell to generate the plot. Groups should add more rows/columns as required.\n",
    "<br>\n",
    "\n",
    "<b>Notice: </b>You should use at least two different metrics for comparison of your methods."
   ]
  },
  {
   "cell_type": "markdown",
   "metadata": {},
   "source": [
    "Your comparison table HERE:<br><br>\n",
    "\n",
    "| Metric/Method | LogisticRegression | SGDClass. | RidgeClass. | RandomForestClass. |\n",
    "|---------------|--------------------|-----------|-------------|--------------------|\n",
    "| Metric 1      | 0.7211145          | 0.7003898 | 0.7153641   | 0.7702192          |\n",
    "| Metric 2      | 0.7211521          | 0.6378472 | 0.7153612   | 0.7677543          |\n",
    "| Metric 3      | 0.7211989          | 0.6328185 | 0.7702192   | 0.7688967          |"
   ]
  },
  {
   "cell_type": "markdown",
   "metadata": {},
   "source": [
    "| Metric/Method | Tensorflow (RMSprop) | Tensorflow (Adam) | LinearRegression |\n",
    "|---------------|----------------------|-------------------|------------------|\n",
    "| MAE           | \\\\$176,996.28        | \\\\$157,555.37     | \\\\$214,014.24    |\n",
    "| MSE           | \\\\$62,535,426,048    | \\\\$46,116,622,336 | \\\\$396.43        |\n",
    "\n",
    "| Learning Rate/Method | Tensorflow (RMSProp)/MSE | Tensorflow (SGD)/MSE |\n",
    "|----------------------|--------------------------|----------------------|\n",
    "| 0.1                  | \\\\$176,996.28            | \\\\$157,555.38        |\n",
    "| 0.01                 | \\\\$157,961.91            | \\\\$158,490.00        |\n",
    "| 0.001                | \\\\$159,154.00            | \\\\$158,516.08        |\n",
    "| 0.0001               | \\\\$158,048.66            | \\\\$157,900.33        |"
   ]
  },
  {
   "cell_type": "markdown",
   "metadata": {},
   "source": [
    "### Plots"
   ]
  },
  {
   "cell_type": "markdown",
   "metadata": {},
   "source": [
    "Using meaningful plots is an efficient way to visualize and conlude your experiments as well as results. Examples of acceptable plots include but are not limited to:\n",
    "- ROC curve (can be used with classification only)\n",
    "- loss plots (precision/recall for classification, mse or mae for regression)\n",
    "- hyperparameter tuning plots (varying one hyperparameter using for loops on x-axis and accuracy/loss on y-axis)\n",
    "- train/validation/test errors/loss plots, histogram of errors and so on.\n",
    "\n",
    "<b>Notice:</b> All plots should have title, xlabel, ylabel, and (if applicable) legend. Use different colors if you have multiple curves on one plot. Points will be deducted if your plots are incomplete. Check matplotlib documentation, examples from the assignments, and research papers or ML articles and find those plots that are applicable to your project. Individual students should have at least 2 plots while groups should have at least 4 plots.\n"
   ]
  },
  {
   "cell_type": "markdown",
   "metadata": {},
   "source": [
    "## <font color=\"red\"> Required Coding - Groups should add more cell as required"
   ]
  },
  {
   "cell_type": "code",
   "execution_count": null,
   "metadata": {},
   "outputs": [],
   "source": [
    "# ROC curve for Logistic Regression\n",
    "plt.title('ROC for Logistic Regression')\n",
    "plt.plot(logreg1_fpr, logreg1_tpr, 'salmon', linewidth=2.5,label = 'AUC_LR1 = %0.6f' % logreg1_roc_auc)\n",
    "plt.plot(logreg2_fpr, logreg2_tpr, 'orange', linewidth=1.6,label = 'AUC_LR2 = %0.6f' % logreg2_roc_auc)\n",
    "plt.plot(logreg3_fpr, logreg3_tpr, 'goldenrod', linewidth=2.5,label = 'AUC_LR3 = %0.6f' % logreg2_roc_auc)\n",
    "plt.legend(loc = 'lower right')\n",
    "plt.plot([0, 1], [0, 1],'r--')\n",
    "plt.xlim([0, 1])\n",
    "plt.ylim([0, 1])\n",
    "plt.ylabel('True Positive Rate')\n",
    "plt.xlabel('False Positive Rate')"
   ]
  },
  {
   "cell_type": "code",
   "execution_count": null,
   "metadata": {},
   "outputs": [],
   "source": [
    "# ROC curve for SGD Classifier\n",
    "plt.title('ROC for SGDClassifier')\n",
    "plt.plot(sgdR1_fpr,sgdR1_tpr, 'yellowgreen', label = 'AUC_SGD_HINGE = %0.2f' % sgdR1_roc_auc)\n",
    "plt.plot(sgdR2_fpr,sgdR2_tpr, 'green', label = 'AUC_SGD_SQUARED_HINGE = %0.2f' % sgdR2_roc_auc)\n",
    "plt.plot(sgdR3_fpr,sgdR3_tpr, 'teal', label = 'AUC_SGD_PERCEPTRON = %0.2f' % sgdR3_roc_auc)\n",
    "plt.legend(loc = 'lower right')\n",
    "plt.plot([0, 1], [0, 1],'r--')\n",
    "plt.xlim([0, 1])\n",
    "plt.ylim([0, 1])\n",
    "plt.ylabel('True Positive Rate')\n",
    "plt.xlabel('False Positive Rate')"
   ]
  },
  {
   "cell_type": "code",
   "execution_count": null,
   "metadata": {},
   "outputs": [],
   "source": [
    "# ROC curve for Ridge Classifier\n",
    "plt.title('ROC for Ridge Classifier')\n",
    "plt.plot(ridgeA1_fpr,ridgeA1_tpr, 'teal', label = 'AUC_RIDGE_ALPHA(1e-2) = %0.7f' % ridgeA1_roc_auc)\n",
    "plt.plot(ridgeA2_fpr,ridgeA2_tpr, 'turquoise', label = 'AUC_RIDGE_ALPHA(1e-1) = %0.7f' % ridgeA2_roc_auc)\n",
    "plt.plot(ridgeA3_fpr,ridgeA3_tpr, 'cyan', label = 'AUC_RIDGE_ALPHA(1) = %0.7f' % ridgeA3_roc_auc)\n",
    "plt.legend(loc = 'lower right')\n",
    "plt.plot([0, 1], [0, 1],'r--')\n",
    "plt.xlim([0, 1])\n",
    "plt.ylim([0, 1])\n",
    "plt.ylabel('True Positive Rate')\n",
    "plt.xlabel('False Positive Rate')"
   ]
  },
  {
   "cell_type": "code",
   "execution_count": null,
   "metadata": {},
   "outputs": [],
   "source": [
    "# ROC curve for Random Forest Classifier\n",
    "plt.title('ROC for Random Forest Classifier')\n",
    "plt.plot(rf_fpr, rf_tpr, 'orchid', label = 'AUC_RF1 = %0.4f' % rf_roc_auc)\n",
    "plt.plot(rf2_fpr, rf2_tpr, 'purple', label = 'AUC_RF2 = %0.4f' % rf2_roc_auc)\n",
    "plt.plot(rf3_fpr, rf3_tpr, 'violet', label = 'AUC_RF3 = %0.4f' % rf3_roc_auc)\n",
    "plt.legend(loc = 'lower right')\n",
    "plt.plot([0, 1], [0, 1],'r--')\n",
    "plt.xlim([0, 1])\n",
    "plt.ylim([0, 1])\n",
    "plt.ylabel('True Positive Rate')\n",
    "plt.xlabel('False Positive Rate')"
   ]
  },
  {
   "cell_type": "code",
   "execution_count": null,
   "metadata": {},
   "outputs": [],
   "source": [
    "# Plot history for model1 Neural Network\n",
    "plot_history(model_history)"
   ]
  },
  {
   "cell_type": "code",
   "execution_count": null,
   "metadata": {},
   "outputs": [],
   "source": [
    "# Plot history for model2 Neural Network\n",
    "plot_history(model2_history)"
   ]
  },
  {
   "cell_type": "markdown",
   "metadata": {},
   "source": [
    "## Discussion"
   ]
  },
  {
   "cell_type": "markdown",
   "metadata": {},
   "source": [
    "Write at least two paragraphs to describe and discuss your results. Make arguments based on your observations and results. Use reasoning and analytical thinking for your discussion.\n",
    "\n",
    "\n",
    "<b>Notice:</b> Having a thorough discussion is VERY important and has a significant impact on your final score!"
   ]
  },
  {
   "cell_type": "markdown",
   "metadata": {},
   "source": [
    "## Grading"
   ]
  },
  {
   "cell_type": "markdown",
   "metadata": {},
   "source": [
    "Project grading rubric (total 100 points - 20% of the final grade):\n",
    "\n",
    "- Project proposal: 10 points\n",
    "\n",
    "- Final submission: 70 points - Breakdown as follows\n",
    "\n",
    "    - 30 points: Methods, hyperparameter tuning and comparison table\n",
    "    \n",
    "    - 20 points: Plots\n",
    "\n",
    "    - 20 points: Discussion (2 paragraphs)\n",
    "    \n",
    "- Project complexity and intellectual efforts judged by the instructor: 20 points\n",
    "    \n",
    "<b>Notice:</b> similar to the assignments, up to 10 points may be deducted if your notebook is not easy to read and/or has spelling/grammatical errors, so proofread your notebook!"
   ]
  },
  {
   "cell_type": "markdown",
   "metadata": {},
   "source": [
    "## How to Submit and Due Date - Late Penalty Will be Strictly Applied!"
   ]
  },
  {
   "cell_type": "markdown",
   "metadata": {},
   "source": [
    "Name your final project notebook ```Lastname-Project.ipynb```. Submit the notebook file with your dataset file in a zip file named EXACTLY as `Lastname-Project.zip` using the ```Final Project``` link on Blackboard. For groups, only one submission is required.\n",
    "\n",
    "<font color=red><b>Project Final Submission Due Date: Monday Dec 9th 11:59PM.</b></font>"
   ]
  }
 ],
 "metadata": {
  "kernelspec": {
   "display_name": "Python 3",
   "language": "python",
   "name": "python3"
  },
  "language_info": {
   "codemirror_mode": {
    "name": "ipython",
    "version": 3
   },
   "file_extension": ".py",
   "mimetype": "text/x-python",
   "name": "python",
   "nbconvert_exporter": "python",
   "pygments_lexer": "ipython3",
   "version": "3.7.5"
  }
 },
 "nbformat": 4,
 "nbformat_minor": 2
}
