{
 "cells": [
  {
   "cell_type": "markdown",
   "metadata": {},
   "source": [
    "# CMSC471 Artificial Intelligence\n",
    "\n",
    "# Project Final Submission"
   ]
  },
  {
   "cell_type": "markdown",
   "metadata": {},
   "source": [
    "## Project Title"
   ]
  },
  {
   "cell_type": "markdown",
   "metadata": {},
   "source": [
    "*Type your name and ID here* (for groups, include all team members' names and IDs AND their role/contribution)\n",
    "<p>Alan Wong - NF55972, - Contributed in the data proceessing of the two datasets. Developed the models for Logistic regression and Random Forest classification in the credit card dataset.\n",
    "<p>Ching Zheng - JA93772, - Created two different models for the \n",
    "<p>Nimish Kapoor - WO69695, - "
   ]
  },
  {
   "cell_type": "markdown",
   "metadata": {},
   "source": [
    "## Problem Description\n",
    "\n",
    "- Specify exactly what ML approach your problem is: Binary classification, multi-class classification, or regression (groups should work on two approaches).\n",
    "\n",
    "\n",
    "- Then, explain the problem further. Be clear and concise.\n",
    "\n",
    "<p>Determining whether someone will be able to pay their statements on time by their due date given their previous history of credit card payments. Of course, the most important factors taken into consideration would be the account balance that they would have held and the status of their bill. Other factors taken into consideration will be, for example, their education, their age, etc. The approach to determining whether or not a given person will default is a binary classification.</p>\n",
    "<p>For the house price dataset, details and features of a home such as: square footage, the number of bathrooms and bedrooms are provided to predict the price of that house. Owning a home is a costly expenditure, and it is ideal to purchase a home when the housing market is in an acceptable state. Thus, we want to predict the future value of that house in the event that the house needs to be sold with regression."
   ]
  },
  {
   "cell_type": "markdown",
   "metadata": {},
   "source": [
    "## Motivation\n",
    "\n",
    "Explain briefly why this problem is important and how you became interested in it. You may use the motivation from the proposal.\n",
    "<p> We as a group are interested in finance and real estate as a possible future career, and are hoping to use this project as a stepping stone into the field of finance and real estate to get a better idea of what might be in store for us. As adults, we would all like to own a home one day, so exploring the housing market data will help us prepare for when it’s time to purchase a home."
   ]
  },
  {
   "cell_type": "markdown",
   "metadata": {},
   "source": [
    "## Dataset\n",
    "\n",
    "- Link to dataset source:\n",
    "<p>Credit Card Default Payment Dataset</p>\n",
    "https://www.kaggle.com/uciml/default-of-credit-card-clients-dataset\n",
    "\n",
    "<p>House Price Prediction Dataset</p>\n",
    "https://www.kaggle.com/shree1992/housedata#data.csv\n",
    "\n",
    "- <b>Label/target</b> description - What column in your dataset you are trying to predict? Specify exactly what your target feature (label) is. It must be one of the dataset columns. For image classification, specify your class labels.\n",
    "<p>For the credit card default payment, the column we are trying to predict is the default.payment.next.month column, labeled \"target\" in the dataset.</p>\n",
    "\n",
    "<p>For the house price dataset, the column we are trying to predict is the \"price\" column.</p>\n",
    "\n",
    "- Feature description: briefly explain each of the features/columns.\n",
    "\n",
    "<p> Credit Card Default Payment:</p>\n",
    "The features contain 6 amounts each for payments, repayment status (categorical here) and the amount of the previous payments (18 in total). These 6 amounts each go from April 2005 to September 2005. Other features also include age, gender, education status, marriage status and their given credit amount. \n",
    "\n",
    "<p>House Price Prediction:</p>\n",
    "The features in the housing dataset contain house details like the number of bedrooms, bathrooms, square feet of living space, above living space, basement space (if it has a basement), a rating of the view, the city in Washington State, the year it was built, and whether or not it's on the water. The dataset also contains the street and time it was sold. "
   ]
  },
  {
   "cell_type": "markdown",
   "metadata": {},
   "source": [
    "- Include the code for loading, showing the data head (if loaded with pandas) and reporting the data shape via sklearn, pandas or tensorflow in the following cell. \n",
    "\n",
    "\n",
    "- For image classification or special non-pandas datasets, show at least one sample of the data.\n",
    "\n",
    "\n",
    "- <b>Your data should be loaded error-free (otherwise your whole project gets zero credit). You should attach the data to your final project submission in a zip file.</b> If your dataset is too large and can't be uploaded in Blackboard, you should email the dataset to the instructor BEFORE the deadline!"
   ]
  },
  {
   "cell_type": "markdown",
   "metadata": {},
   "source": [
    "## <font color=\"red\"> Required Coding"
   ]
  },
  {
   "cell_type": "code",
   "execution_count": 1,
   "metadata": {},
   "outputs": [
    {
     "name": "stdout",
     "output_type": "stream",
     "text": [
      "Shape of Credit Card dataset: (30000, 25)\n",
      "Shape of House Price dataset: (4600, 18)\n"
     ]
    }
   ],
   "source": [
    "# Import necessary Python, sklearn and/or tensorflow/keras modules for loading the dataset\n",
    "import pandas as pd\n",
    "import numpy as np\n",
    "import matplotlib.pyplot as plt\n",
    "from matplotlib import style\n",
    "style.use('ggplot')\n",
    "import seaborn as sns\n",
    "import warnings\n",
    "def ignore_warns(*args, **kwargs):\n",
    "    pass\n",
    "warnings.warn = ignore_warns\n",
    "warnings.filterwarnings(\"ignore\")\n",
    "\n",
    "# Load the data\n",
    "cc_df = pd.read_csv(\"UCI_Credit_Card.csv\")\n",
    "housing_df = pd.read_csv(\"data.csv\")\n",
    "\n",
    "# Print data shape via built-in methods of sklearn, pandas or tensorflow/keras (or other modules)\n",
    "print(f\"Shape of Credit Card dataset: {cc_df.shape}\")\n",
    "print(f\"Shape of House Price dataset: {housing_df.shape}\")"
   ]
  },
  {
   "cell_type": "code",
   "execution_count": 2,
   "metadata": {},
   "outputs": [
    {
     "data": {
      "text/html": [
       "<div>\n",
       "<style scoped>\n",
       "    .dataframe tbody tr th:only-of-type {\n",
       "        vertical-align: middle;\n",
       "    }\n",
       "\n",
       "    .dataframe tbody tr th {\n",
       "        vertical-align: top;\n",
       "    }\n",
       "\n",
       "    .dataframe thead th {\n",
       "        text-align: right;\n",
       "    }\n",
       "</style>\n",
       "<table border=\"1\" class=\"dataframe\">\n",
       "  <thead>\n",
       "    <tr style=\"text-align: right;\">\n",
       "      <th></th>\n",
       "      <th>ID</th>\n",
       "      <th>LIMIT_BAL</th>\n",
       "      <th>SEX</th>\n",
       "      <th>EDUCATION</th>\n",
       "      <th>MARRIAGE</th>\n",
       "      <th>AGE</th>\n",
       "      <th>PAY_0</th>\n",
       "      <th>PAY_2</th>\n",
       "      <th>PAY_3</th>\n",
       "      <th>PAY_4</th>\n",
       "      <th>...</th>\n",
       "      <th>BILL_AMT4</th>\n",
       "      <th>BILL_AMT5</th>\n",
       "      <th>BILL_AMT6</th>\n",
       "      <th>PAY_AMT1</th>\n",
       "      <th>PAY_AMT2</th>\n",
       "      <th>PAY_AMT3</th>\n",
       "      <th>PAY_AMT4</th>\n",
       "      <th>PAY_AMT5</th>\n",
       "      <th>PAY_AMT6</th>\n",
       "      <th>target</th>\n",
       "    </tr>\n",
       "  </thead>\n",
       "  <tbody>\n",
       "    <tr>\n",
       "      <th>0</th>\n",
       "      <td>1</td>\n",
       "      <td>20000.0</td>\n",
       "      <td>2</td>\n",
       "      <td>2</td>\n",
       "      <td>1</td>\n",
       "      <td>24</td>\n",
       "      <td>2</td>\n",
       "      <td>2</td>\n",
       "      <td>-1</td>\n",
       "      <td>-1</td>\n",
       "      <td>...</td>\n",
       "      <td>0.0</td>\n",
       "      <td>0.0</td>\n",
       "      <td>0.0</td>\n",
       "      <td>0.0</td>\n",
       "      <td>689.0</td>\n",
       "      <td>0.0</td>\n",
       "      <td>0.0</td>\n",
       "      <td>0.0</td>\n",
       "      <td>0.0</td>\n",
       "      <td>1</td>\n",
       "    </tr>\n",
       "    <tr>\n",
       "      <th>1</th>\n",
       "      <td>2</td>\n",
       "      <td>120000.0</td>\n",
       "      <td>2</td>\n",
       "      <td>2</td>\n",
       "      <td>2</td>\n",
       "      <td>26</td>\n",
       "      <td>-1</td>\n",
       "      <td>2</td>\n",
       "      <td>0</td>\n",
       "      <td>0</td>\n",
       "      <td>...</td>\n",
       "      <td>3272.0</td>\n",
       "      <td>3455.0</td>\n",
       "      <td>3261.0</td>\n",
       "      <td>0.0</td>\n",
       "      <td>1000.0</td>\n",
       "      <td>1000.0</td>\n",
       "      <td>1000.0</td>\n",
       "      <td>0.0</td>\n",
       "      <td>2000.0</td>\n",
       "      <td>1</td>\n",
       "    </tr>\n",
       "    <tr>\n",
       "      <th>2</th>\n",
       "      <td>3</td>\n",
       "      <td>90000.0</td>\n",
       "      <td>2</td>\n",
       "      <td>2</td>\n",
       "      <td>2</td>\n",
       "      <td>34</td>\n",
       "      <td>0</td>\n",
       "      <td>0</td>\n",
       "      <td>0</td>\n",
       "      <td>0</td>\n",
       "      <td>...</td>\n",
       "      <td>14331.0</td>\n",
       "      <td>14948.0</td>\n",
       "      <td>15549.0</td>\n",
       "      <td>1518.0</td>\n",
       "      <td>1500.0</td>\n",
       "      <td>1000.0</td>\n",
       "      <td>1000.0</td>\n",
       "      <td>1000.0</td>\n",
       "      <td>5000.0</td>\n",
       "      <td>0</td>\n",
       "    </tr>\n",
       "    <tr>\n",
       "      <th>3</th>\n",
       "      <td>4</td>\n",
       "      <td>50000.0</td>\n",
       "      <td>2</td>\n",
       "      <td>2</td>\n",
       "      <td>1</td>\n",
       "      <td>37</td>\n",
       "      <td>0</td>\n",
       "      <td>0</td>\n",
       "      <td>0</td>\n",
       "      <td>0</td>\n",
       "      <td>...</td>\n",
       "      <td>28314.0</td>\n",
       "      <td>28959.0</td>\n",
       "      <td>29547.0</td>\n",
       "      <td>2000.0</td>\n",
       "      <td>2019.0</td>\n",
       "      <td>1200.0</td>\n",
       "      <td>1100.0</td>\n",
       "      <td>1069.0</td>\n",
       "      <td>1000.0</td>\n",
       "      <td>0</td>\n",
       "    </tr>\n",
       "    <tr>\n",
       "      <th>4</th>\n",
       "      <td>5</td>\n",
       "      <td>50000.0</td>\n",
       "      <td>1</td>\n",
       "      <td>2</td>\n",
       "      <td>1</td>\n",
       "      <td>57</td>\n",
       "      <td>-1</td>\n",
       "      <td>0</td>\n",
       "      <td>-1</td>\n",
       "      <td>0</td>\n",
       "      <td>...</td>\n",
       "      <td>20940.0</td>\n",
       "      <td>19146.0</td>\n",
       "      <td>19131.0</td>\n",
       "      <td>2000.0</td>\n",
       "      <td>36681.0</td>\n",
       "      <td>10000.0</td>\n",
       "      <td>9000.0</td>\n",
       "      <td>689.0</td>\n",
       "      <td>679.0</td>\n",
       "      <td>0</td>\n",
       "    </tr>\n",
       "  </tbody>\n",
       "</table>\n",
       "<p>5 rows × 25 columns</p>\n",
       "</div>"
      ],
      "text/plain": [
       "   ID  LIMIT_BAL  SEX  EDUCATION  MARRIAGE  AGE  PAY_0  PAY_2  PAY_3  PAY_4  \\\n",
       "0   1    20000.0    2          2         1   24      2      2     -1     -1   \n",
       "1   2   120000.0    2          2         2   26     -1      2      0      0   \n",
       "2   3    90000.0    2          2         2   34      0      0      0      0   \n",
       "3   4    50000.0    2          2         1   37      0      0      0      0   \n",
       "4   5    50000.0    1          2         1   57     -1      0     -1      0   \n",
       "\n",
       "   ...  BILL_AMT4  BILL_AMT5  BILL_AMT6  PAY_AMT1  PAY_AMT2  PAY_AMT3  \\\n",
       "0  ...        0.0        0.0        0.0       0.0     689.0       0.0   \n",
       "1  ...     3272.0     3455.0     3261.0       0.0    1000.0    1000.0   \n",
       "2  ...    14331.0    14948.0    15549.0    1518.0    1500.0    1000.0   \n",
       "3  ...    28314.0    28959.0    29547.0    2000.0    2019.0    1200.0   \n",
       "4  ...    20940.0    19146.0    19131.0    2000.0   36681.0   10000.0   \n",
       "\n",
       "   PAY_AMT4  PAY_AMT5  PAY_AMT6  target  \n",
       "0       0.0       0.0       0.0       1  \n",
       "1    1000.0       0.0    2000.0       1  \n",
       "2    1000.0    1000.0    5000.0       0  \n",
       "3    1100.0    1069.0    1000.0       0  \n",
       "4    9000.0     689.0     679.0       0  \n",
       "\n",
       "[5 rows x 25 columns]"
      ]
     },
     "execution_count": 2,
     "metadata": {},
     "output_type": "execute_result"
    }
   ],
   "source": [
    "# Show the data head (if pandas is used)\n",
    "# If the dataset contains images or is non-pandas/non-tabular, show at least one sample of the data\n",
    "cc_df.head()"
   ]
  },
  {
   "cell_type": "code",
   "execution_count": 3,
   "metadata": {},
   "outputs": [
    {
     "data": {
      "text/html": [
       "<div>\n",
       "<style scoped>\n",
       "    .dataframe tbody tr th:only-of-type {\n",
       "        vertical-align: middle;\n",
       "    }\n",
       "\n",
       "    .dataframe tbody tr th {\n",
       "        vertical-align: top;\n",
       "    }\n",
       "\n",
       "    .dataframe thead th {\n",
       "        text-align: right;\n",
       "    }\n",
       "</style>\n",
       "<table border=\"1\" class=\"dataframe\">\n",
       "  <thead>\n",
       "    <tr style=\"text-align: right;\">\n",
       "      <th></th>\n",
       "      <th>date</th>\n",
       "      <th>price</th>\n",
       "      <th>bedrooms</th>\n",
       "      <th>bathrooms</th>\n",
       "      <th>sqft_living</th>\n",
       "      <th>sqft_lot</th>\n",
       "      <th>floors</th>\n",
       "      <th>waterfront</th>\n",
       "      <th>view</th>\n",
       "      <th>condition</th>\n",
       "      <th>sqft_above</th>\n",
       "      <th>sqft_basement</th>\n",
       "      <th>yr_built</th>\n",
       "      <th>yr_renovated</th>\n",
       "      <th>street</th>\n",
       "      <th>city</th>\n",
       "      <th>statezip</th>\n",
       "      <th>country</th>\n",
       "    </tr>\n",
       "  </thead>\n",
       "  <tbody>\n",
       "    <tr>\n",
       "      <th>0</th>\n",
       "      <td>2014-05-02 00:00:00</td>\n",
       "      <td>313000.0</td>\n",
       "      <td>3.0</td>\n",
       "      <td>1.50</td>\n",
       "      <td>1340</td>\n",
       "      <td>7912</td>\n",
       "      <td>1.5</td>\n",
       "      <td>0</td>\n",
       "      <td>0</td>\n",
       "      <td>3</td>\n",
       "      <td>1340</td>\n",
       "      <td>0</td>\n",
       "      <td>1955</td>\n",
       "      <td>2005</td>\n",
       "      <td>18810 Densmore Ave N</td>\n",
       "      <td>Shoreline</td>\n",
       "      <td>WA 98133</td>\n",
       "      <td>USA</td>\n",
       "    </tr>\n",
       "    <tr>\n",
       "      <th>1</th>\n",
       "      <td>2014-05-02 00:00:00</td>\n",
       "      <td>2384000.0</td>\n",
       "      <td>5.0</td>\n",
       "      <td>2.50</td>\n",
       "      <td>3650</td>\n",
       "      <td>9050</td>\n",
       "      <td>2.0</td>\n",
       "      <td>0</td>\n",
       "      <td>4</td>\n",
       "      <td>5</td>\n",
       "      <td>3370</td>\n",
       "      <td>280</td>\n",
       "      <td>1921</td>\n",
       "      <td>0</td>\n",
       "      <td>709 W Blaine St</td>\n",
       "      <td>Seattle</td>\n",
       "      <td>WA 98119</td>\n",
       "      <td>USA</td>\n",
       "    </tr>\n",
       "    <tr>\n",
       "      <th>2</th>\n",
       "      <td>2014-05-02 00:00:00</td>\n",
       "      <td>342000.0</td>\n",
       "      <td>3.0</td>\n",
       "      <td>2.00</td>\n",
       "      <td>1930</td>\n",
       "      <td>11947</td>\n",
       "      <td>1.0</td>\n",
       "      <td>0</td>\n",
       "      <td>0</td>\n",
       "      <td>4</td>\n",
       "      <td>1930</td>\n",
       "      <td>0</td>\n",
       "      <td>1966</td>\n",
       "      <td>0</td>\n",
       "      <td>26206-26214 143rd Ave SE</td>\n",
       "      <td>Kent</td>\n",
       "      <td>WA 98042</td>\n",
       "      <td>USA</td>\n",
       "    </tr>\n",
       "    <tr>\n",
       "      <th>3</th>\n",
       "      <td>2014-05-02 00:00:00</td>\n",
       "      <td>420000.0</td>\n",
       "      <td>3.0</td>\n",
       "      <td>2.25</td>\n",
       "      <td>2000</td>\n",
       "      <td>8030</td>\n",
       "      <td>1.0</td>\n",
       "      <td>0</td>\n",
       "      <td>0</td>\n",
       "      <td>4</td>\n",
       "      <td>1000</td>\n",
       "      <td>1000</td>\n",
       "      <td>1963</td>\n",
       "      <td>0</td>\n",
       "      <td>857 170th Pl NE</td>\n",
       "      <td>Bellevue</td>\n",
       "      <td>WA 98008</td>\n",
       "      <td>USA</td>\n",
       "    </tr>\n",
       "    <tr>\n",
       "      <th>4</th>\n",
       "      <td>2014-05-02 00:00:00</td>\n",
       "      <td>550000.0</td>\n",
       "      <td>4.0</td>\n",
       "      <td>2.50</td>\n",
       "      <td>1940</td>\n",
       "      <td>10500</td>\n",
       "      <td>1.0</td>\n",
       "      <td>0</td>\n",
       "      <td>0</td>\n",
       "      <td>4</td>\n",
       "      <td>1140</td>\n",
       "      <td>800</td>\n",
       "      <td>1976</td>\n",
       "      <td>1992</td>\n",
       "      <td>9105 170th Ave NE</td>\n",
       "      <td>Redmond</td>\n",
       "      <td>WA 98052</td>\n",
       "      <td>USA</td>\n",
       "    </tr>\n",
       "  </tbody>\n",
       "</table>\n",
       "</div>"
      ],
      "text/plain": [
       "                  date      price  bedrooms  bathrooms  sqft_living  sqft_lot  \\\n",
       "0  2014-05-02 00:00:00   313000.0       3.0       1.50         1340      7912   \n",
       "1  2014-05-02 00:00:00  2384000.0       5.0       2.50         3650      9050   \n",
       "2  2014-05-02 00:00:00   342000.0       3.0       2.00         1930     11947   \n",
       "3  2014-05-02 00:00:00   420000.0       3.0       2.25         2000      8030   \n",
       "4  2014-05-02 00:00:00   550000.0       4.0       2.50         1940     10500   \n",
       "\n",
       "   floors  waterfront  view  condition  sqft_above  sqft_basement  yr_built  \\\n",
       "0     1.5           0     0          3        1340              0      1955   \n",
       "1     2.0           0     4          5        3370            280      1921   \n",
       "2     1.0           0     0          4        1930              0      1966   \n",
       "3     1.0           0     0          4        1000           1000      1963   \n",
       "4     1.0           0     0          4        1140            800      1976   \n",
       "\n",
       "   yr_renovated                    street       city  statezip country  \n",
       "0          2005      18810 Densmore Ave N  Shoreline  WA 98133     USA  \n",
       "1             0           709 W Blaine St    Seattle  WA 98119     USA  \n",
       "2             0  26206-26214 143rd Ave SE       Kent  WA 98042     USA  \n",
       "3             0           857 170th Pl NE   Bellevue  WA 98008     USA  \n",
       "4          1992         9105 170th Ave NE    Redmond  WA 98052     USA  "
      ]
     },
     "execution_count": 3,
     "metadata": {},
     "output_type": "execute_result"
    }
   ],
   "source": [
    "housing_df.head()"
   ]
  },
  {
   "cell_type": "markdown",
   "metadata": {},
   "source": [
    "## Data Preprocessing"
   ]
  },
  {
   "cell_type": "markdown",
   "metadata": {},
   "source": [
    "List any steps you have taken for preprocessing, such as cleaning, dropping NAs, dropping any redundant/irrelevant column, normalizing/scaling, etc. HERE:\n",
    "\n",
    "- Preprocessing Steps:\n",
    "<br>\n",
    "\n",
    "- Specify the details of data splitting to train/test or cross validation. Mention the ratio for splitting and number of folds for cv.\n",
    "<br>\n",
    "\n",
    "<b>Notice:</b> Each dataset may or may not need specific preprocessing steps. You should decide which preprocessing steps (if any) is required for your particular dataset."
   ]
  },
  {
   "cell_type": "markdown",
   "metadata": {},
   "source": [
    "<h3>Data Processing for Credit Card Dataset</h3>"
   ]
  },
  {
   "cell_type": "markdown",
   "metadata": {},
   "source": [
    "## <font color=\"red\"> Required Coding"
   ]
  },
  {
   "cell_type": "code",
   "execution_count": 4,
   "metadata": {},
   "outputs": [
    {
     "data": {
      "text/plain": [
       "'All preprocessing done through python built-in math functions or pandas'"
      ]
     },
     "execution_count": 4,
     "metadata": {},
     "output_type": "execute_result"
    }
   ],
   "source": [
    "# Import necessary preprocessing modules\n",
    "'''All preprocessing done through python built-in math functions or pandas'''"
   ]
  },
  {
   "cell_type": "code",
   "execution_count": 5,
   "metadata": {},
   "outputs": [
    {
     "data": {
      "text/plain": [
       "ID           0\n",
       "LIMIT_BAL    0\n",
       "SEX          0\n",
       "EDUCATION    0\n",
       "MARRIAGE     0\n",
       "AGE          0\n",
       "PAY_0        0\n",
       "PAY_2        0\n",
       "PAY_3        0\n",
       "PAY_4        0\n",
       "PAY_5        0\n",
       "PAY_6        0\n",
       "BILL_AMT1    0\n",
       "BILL_AMT2    0\n",
       "BILL_AMT3    0\n",
       "BILL_AMT4    0\n",
       "BILL_AMT5    0\n",
       "BILL_AMT6    0\n",
       "PAY_AMT1     0\n",
       "PAY_AMT2     0\n",
       "PAY_AMT3     0\n",
       "PAY_AMT4     0\n",
       "PAY_AMT5     0\n",
       "PAY_AMT6     0\n",
       "target       0\n",
       "dtype: int64"
      ]
     },
     "execution_count": 5,
     "metadata": {},
     "output_type": "execute_result"
    }
   ],
   "source": [
    "# Data Preprocessing code here\n",
    "cc_df.isna().sum()"
   ]
  },
  {
   "cell_type": "code",
   "execution_count": 6,
   "metadata": {},
   "outputs": [],
   "source": [
    "# Rename the PAY_0 column to PAY_1 for consistency\n",
    "cc_df.rename(columns={\"PAY_0\": \"PAY_1\"}, inplace=True)\n",
    "\n",
    "# In Education, 5 and 6 both refer to \"unknown\", so replace all 6's with 5.\n",
    "cc_df[\"EDUCATION\"] = cc_df[\"EDUCATION\"].replace(6, 5)"
   ]
  },
  {
   "cell_type": "code",
   "execution_count": 7,
   "metadata": {},
   "outputs": [],
   "source": [
    "# Limit balance includes individual and supplementary/family credit, so drop that column to remove any dependencies\n",
    "# with others in the family.\n",
    "\n",
    "cc_df.drop([\"ID\", \"LIMIT_BAL\"], axis=1, inplace=True)"
   ]
  },
  {
   "cell_type": "code",
   "execution_count": 8,
   "metadata": {},
   "outputs": [
    {
     "name": "stdout",
     "output_type": "stream",
     "text": [
      "Index(['AGE', 'PAY_1', 'PAY_2', 'PAY_3', 'PAY_4', 'PAY_5', 'PAY_6',\n",
      "       'BILL_AMT1', 'BILL_AMT2', 'BILL_AMT3', 'BILL_AMT4', 'BILL_AMT5',\n",
      "       'BILL_AMT6', 'PAY_AMT1', 'PAY_AMT2', 'PAY_AMT3', 'PAY_AMT4', 'PAY_AMT5',\n",
      "       'PAY_AMT6', 'target', 'SEX_Female', 'SEX_Male', 'EDUCATION_Graduate',\n",
      "       'EDUCATION_High School', 'EDUCATION_Other', 'EDUCATION_Undergraduate',\n",
      "       'EDUCATION_Unknown', 'MARRIAGE_Married', 'MARRIAGE_Other',\n",
      "       'MARRIAGE_Single'],\n",
      "      dtype='object')\n",
      "(30000, 30)\n"
     ]
    },
    {
     "data": {
      "text/html": [
       "<div>\n",
       "<style scoped>\n",
       "    .dataframe tbody tr th:only-of-type {\n",
       "        vertical-align: middle;\n",
       "    }\n",
       "\n",
       "    .dataframe tbody tr th {\n",
       "        vertical-align: top;\n",
       "    }\n",
       "\n",
       "    .dataframe thead th {\n",
       "        text-align: right;\n",
       "    }\n",
       "</style>\n",
       "<table border=\"1\" class=\"dataframe\">\n",
       "  <thead>\n",
       "    <tr style=\"text-align: right;\">\n",
       "      <th></th>\n",
       "      <th>AGE</th>\n",
       "      <th>PAY_1</th>\n",
       "      <th>PAY_2</th>\n",
       "      <th>PAY_3</th>\n",
       "      <th>PAY_4</th>\n",
       "      <th>PAY_5</th>\n",
       "      <th>PAY_6</th>\n",
       "      <th>BILL_AMT1</th>\n",
       "      <th>BILL_AMT2</th>\n",
       "      <th>BILL_AMT3</th>\n",
       "      <th>...</th>\n",
       "      <th>SEX_Female</th>\n",
       "      <th>SEX_Male</th>\n",
       "      <th>EDUCATION_Graduate</th>\n",
       "      <th>EDUCATION_High School</th>\n",
       "      <th>EDUCATION_Other</th>\n",
       "      <th>EDUCATION_Undergraduate</th>\n",
       "      <th>EDUCATION_Unknown</th>\n",
       "      <th>MARRIAGE_Married</th>\n",
       "      <th>MARRIAGE_Other</th>\n",
       "      <th>MARRIAGE_Single</th>\n",
       "    </tr>\n",
       "  </thead>\n",
       "  <tbody>\n",
       "    <tr>\n",
       "      <th>0</th>\n",
       "      <td>24</td>\n",
       "      <td>2</td>\n",
       "      <td>2</td>\n",
       "      <td>-1</td>\n",
       "      <td>-1</td>\n",
       "      <td>-2</td>\n",
       "      <td>-2</td>\n",
       "      <td>3913.0</td>\n",
       "      <td>3102.0</td>\n",
       "      <td>689.0</td>\n",
       "      <td>...</td>\n",
       "      <td>1</td>\n",
       "      <td>0</td>\n",
       "      <td>0</td>\n",
       "      <td>0</td>\n",
       "      <td>0</td>\n",
       "      <td>1</td>\n",
       "      <td>0</td>\n",
       "      <td>1</td>\n",
       "      <td>0</td>\n",
       "      <td>0</td>\n",
       "    </tr>\n",
       "    <tr>\n",
       "      <th>1</th>\n",
       "      <td>26</td>\n",
       "      <td>-1</td>\n",
       "      <td>2</td>\n",
       "      <td>0</td>\n",
       "      <td>0</td>\n",
       "      <td>0</td>\n",
       "      <td>2</td>\n",
       "      <td>2682.0</td>\n",
       "      <td>1725.0</td>\n",
       "      <td>2682.0</td>\n",
       "      <td>...</td>\n",
       "      <td>1</td>\n",
       "      <td>0</td>\n",
       "      <td>0</td>\n",
       "      <td>0</td>\n",
       "      <td>0</td>\n",
       "      <td>1</td>\n",
       "      <td>0</td>\n",
       "      <td>0</td>\n",
       "      <td>0</td>\n",
       "      <td>1</td>\n",
       "    </tr>\n",
       "    <tr>\n",
       "      <th>2</th>\n",
       "      <td>34</td>\n",
       "      <td>0</td>\n",
       "      <td>0</td>\n",
       "      <td>0</td>\n",
       "      <td>0</td>\n",
       "      <td>0</td>\n",
       "      <td>0</td>\n",
       "      <td>29239.0</td>\n",
       "      <td>14027.0</td>\n",
       "      <td>13559.0</td>\n",
       "      <td>...</td>\n",
       "      <td>1</td>\n",
       "      <td>0</td>\n",
       "      <td>0</td>\n",
       "      <td>0</td>\n",
       "      <td>0</td>\n",
       "      <td>1</td>\n",
       "      <td>0</td>\n",
       "      <td>0</td>\n",
       "      <td>0</td>\n",
       "      <td>1</td>\n",
       "    </tr>\n",
       "    <tr>\n",
       "      <th>3</th>\n",
       "      <td>37</td>\n",
       "      <td>0</td>\n",
       "      <td>0</td>\n",
       "      <td>0</td>\n",
       "      <td>0</td>\n",
       "      <td>0</td>\n",
       "      <td>0</td>\n",
       "      <td>46990.0</td>\n",
       "      <td>48233.0</td>\n",
       "      <td>49291.0</td>\n",
       "      <td>...</td>\n",
       "      <td>1</td>\n",
       "      <td>0</td>\n",
       "      <td>0</td>\n",
       "      <td>0</td>\n",
       "      <td>0</td>\n",
       "      <td>1</td>\n",
       "      <td>0</td>\n",
       "      <td>1</td>\n",
       "      <td>0</td>\n",
       "      <td>0</td>\n",
       "    </tr>\n",
       "    <tr>\n",
       "      <th>4</th>\n",
       "      <td>57</td>\n",
       "      <td>-1</td>\n",
       "      <td>0</td>\n",
       "      <td>-1</td>\n",
       "      <td>0</td>\n",
       "      <td>0</td>\n",
       "      <td>0</td>\n",
       "      <td>8617.0</td>\n",
       "      <td>5670.0</td>\n",
       "      <td>35835.0</td>\n",
       "      <td>...</td>\n",
       "      <td>0</td>\n",
       "      <td>1</td>\n",
       "      <td>0</td>\n",
       "      <td>0</td>\n",
       "      <td>0</td>\n",
       "      <td>1</td>\n",
       "      <td>0</td>\n",
       "      <td>1</td>\n",
       "      <td>0</td>\n",
       "      <td>0</td>\n",
       "    </tr>\n",
       "  </tbody>\n",
       "</table>\n",
       "<p>5 rows × 30 columns</p>\n",
       "</div>"
      ],
      "text/plain": [
       "   AGE  PAY_1  PAY_2  PAY_3  PAY_4  PAY_5  PAY_6  BILL_AMT1  BILL_AMT2  \\\n",
       "0   24      2      2     -1     -1     -2     -2     3913.0     3102.0   \n",
       "1   26     -1      2      0      0      0      2     2682.0     1725.0   \n",
       "2   34      0      0      0      0      0      0    29239.0    14027.0   \n",
       "3   37      0      0      0      0      0      0    46990.0    48233.0   \n",
       "4   57     -1      0     -1      0      0      0     8617.0     5670.0   \n",
       "\n",
       "   BILL_AMT3  ...  SEX_Female  SEX_Male  EDUCATION_Graduate  \\\n",
       "0      689.0  ...           1         0                   0   \n",
       "1     2682.0  ...           1         0                   0   \n",
       "2    13559.0  ...           1         0                   0   \n",
       "3    49291.0  ...           1         0                   0   \n",
       "4    35835.0  ...           0         1                   0   \n",
       "\n",
       "   EDUCATION_High School  EDUCATION_Other  EDUCATION_Undergraduate  \\\n",
       "0                      0                0                        1   \n",
       "1                      0                0                        1   \n",
       "2                      0                0                        1   \n",
       "3                      0                0                        1   \n",
       "4                      0                0                        1   \n",
       "\n",
       "   EDUCATION_Unknown  MARRIAGE_Married  MARRIAGE_Other  MARRIAGE_Single  \n",
       "0                  0                 1               0                0  \n",
       "1                  0                 0               0                1  \n",
       "2                  0                 0               0                1  \n",
       "3                  0                 1               0                0  \n",
       "4                  0                 1               0                0  \n",
       "\n",
       "[5 rows x 30 columns]"
      ]
     },
     "execution_count": 8,
     "metadata": {},
     "output_type": "execute_result"
    }
   ],
   "source": [
    "cc_df[\"SEX\"] = cc_df[\"SEX\"].map(lambda x: {1: \"Male\", 2: \"Female\"}.get(x))\n",
    "cc_df[\"EDUCATION\"] = cc_df[\"EDUCATION\"].map(lambda x: {1: \"Graduate\", 2: \"Undergraduate\", \n",
    "                                                       3: \"High School\", 4: \"Other\", 5: \"Unknown\"}.get(x))\n",
    "cc_df[\"MARRIAGE\"] = cc_df[\"MARRIAGE\"].map(lambda x: {1: \"Married\", 2: \"Single\", 3: \"Other\"}.get(x))\n",
    "cc_df = pd.get_dummies(cc_df)\n",
    "print(cc_df.columns)\n",
    "print(cc_df.shape)\n",
    "cc_df.head()"
   ]
  },
  {
   "cell_type": "code",
   "execution_count": 9,
   "metadata": {},
   "outputs": [
    {
     "name": "stdout",
     "output_type": "stream",
     "text": [
      "Shape of Features: (30000, 29)\n",
      "Shape of Label: (30000,)\n"
     ]
    }
   ],
   "source": [
    "X = cc_df.drop(\"target\", axis=1)\n",
    "y = cc_df[\"target\"]\n",
    "\n",
    "print(f\"Shape of Features: {X.shape}\")\n",
    "print(f\"Shape of Label: {y.shape}\")\n",
    "\n",
    "cross_val_results = []"
   ]
  },
  {
   "cell_type": "code",
   "execution_count": 10,
   "metadata": {},
   "outputs": [
    {
     "name": "stdout",
     "output_type": "stream",
     "text": [
      "(30000, 29)\n"
     ]
    },
    {
     "data": {
      "text/html": [
       "<div>\n",
       "<style scoped>\n",
       "    .dataframe tbody tr th:only-of-type {\n",
       "        vertical-align: middle;\n",
       "    }\n",
       "\n",
       "    .dataframe tbody tr th {\n",
       "        vertical-align: top;\n",
       "    }\n",
       "\n",
       "    .dataframe thead th {\n",
       "        text-align: right;\n",
       "    }\n",
       "</style>\n",
       "<table border=\"1\" class=\"dataframe\">\n",
       "  <thead>\n",
       "    <tr style=\"text-align: right;\">\n",
       "      <th></th>\n",
       "      <th>AGE</th>\n",
       "      <th>PAY_1</th>\n",
       "      <th>PAY_2</th>\n",
       "      <th>PAY_3</th>\n",
       "      <th>PAY_4</th>\n",
       "      <th>PAY_5</th>\n",
       "      <th>PAY_6</th>\n",
       "      <th>BILL_AMT1</th>\n",
       "      <th>BILL_AMT2</th>\n",
       "      <th>BILL_AMT3</th>\n",
       "      <th>...</th>\n",
       "      <th>SEX_Female</th>\n",
       "      <th>SEX_Male</th>\n",
       "      <th>EDUCATION_Graduate</th>\n",
       "      <th>EDUCATION_High School</th>\n",
       "      <th>EDUCATION_Other</th>\n",
       "      <th>EDUCATION_Undergraduate</th>\n",
       "      <th>EDUCATION_Unknown</th>\n",
       "      <th>MARRIAGE_Married</th>\n",
       "      <th>MARRIAGE_Other</th>\n",
       "      <th>MARRIAGE_Single</th>\n",
       "    </tr>\n",
       "  </thead>\n",
       "  <tbody>\n",
       "    <tr>\n",
       "      <th>0</th>\n",
       "      <td>-1.245999</td>\n",
       "      <td>1.794534</td>\n",
       "      <td>1.782318</td>\n",
       "      <td>-0.696652</td>\n",
       "      <td>-0.666588</td>\n",
       "      <td>-1.530021</td>\n",
       "      <td>-1.486016</td>\n",
       "      <td>-0.642490</td>\n",
       "      <td>-0.647388</td>\n",
       "      <td>-0.667982</td>\n",
       "      <td>...</td>\n",
       "      <td>0.810147</td>\n",
       "      <td>-0.810147</td>\n",
       "      <td>-0.738362</td>\n",
       "      <td>-0.442744</td>\n",
       "      <td>-0.064162</td>\n",
       "      <td>1.066882</td>\n",
       "      <td>-0.105622</td>\n",
       "      <td>1.093761</td>\n",
       "      <td>-0.104324</td>\n",
       "      <td>-1.066454</td>\n",
       "    </tr>\n",
       "    <tr>\n",
       "      <th>1</th>\n",
       "      <td>-1.029030</td>\n",
       "      <td>-0.874977</td>\n",
       "      <td>1.782318</td>\n",
       "      <td>0.138862</td>\n",
       "      <td>0.188743</td>\n",
       "      <td>0.234913</td>\n",
       "      <td>1.992282</td>\n",
       "      <td>-0.659208</td>\n",
       "      <td>-0.666735</td>\n",
       "      <td>-0.639244</td>\n",
       "      <td>...</td>\n",
       "      <td>0.810147</td>\n",
       "      <td>-0.810147</td>\n",
       "      <td>-0.738362</td>\n",
       "      <td>-0.442744</td>\n",
       "      <td>-0.064162</td>\n",
       "      <td>1.066882</td>\n",
       "      <td>-0.105622</td>\n",
       "      <td>-0.914246</td>\n",
       "      <td>-0.104324</td>\n",
       "      <td>0.937656</td>\n",
       "    </tr>\n",
       "    <tr>\n",
       "      <th>2</th>\n",
       "      <td>-0.161154</td>\n",
       "      <td>0.014860</td>\n",
       "      <td>0.111734</td>\n",
       "      <td>0.138862</td>\n",
       "      <td>0.188743</td>\n",
       "      <td>0.234913</td>\n",
       "      <td>0.253133</td>\n",
       "      <td>-0.298555</td>\n",
       "      <td>-0.493891</td>\n",
       "      <td>-0.482400</td>\n",
       "      <td>...</td>\n",
       "      <td>0.810147</td>\n",
       "      <td>-0.810147</td>\n",
       "      <td>-0.738362</td>\n",
       "      <td>-0.442744</td>\n",
       "      <td>-0.064162</td>\n",
       "      <td>1.066882</td>\n",
       "      <td>-0.105622</td>\n",
       "      <td>-0.914246</td>\n",
       "      <td>-0.104324</td>\n",
       "      <td>0.937656</td>\n",
       "    </tr>\n",
       "    <tr>\n",
       "      <th>3</th>\n",
       "      <td>0.164300</td>\n",
       "      <td>0.014860</td>\n",
       "      <td>0.111734</td>\n",
       "      <td>0.138862</td>\n",
       "      <td>0.188743</td>\n",
       "      <td>0.234913</td>\n",
       "      <td>0.253133</td>\n",
       "      <td>-0.057490</td>\n",
       "      <td>-0.013292</td>\n",
       "      <td>0.032846</td>\n",
       "      <td>...</td>\n",
       "      <td>0.810147</td>\n",
       "      <td>-0.810147</td>\n",
       "      <td>-0.738362</td>\n",
       "      <td>-0.442744</td>\n",
       "      <td>-0.064162</td>\n",
       "      <td>1.066882</td>\n",
       "      <td>-0.105622</td>\n",
       "      <td>1.093761</td>\n",
       "      <td>-0.104324</td>\n",
       "      <td>-1.066454</td>\n",
       "    </tr>\n",
       "    <tr>\n",
       "      <th>4</th>\n",
       "      <td>2.333990</td>\n",
       "      <td>-0.874977</td>\n",
       "      <td>0.111734</td>\n",
       "      <td>-0.696652</td>\n",
       "      <td>0.188743</td>\n",
       "      <td>0.234913</td>\n",
       "      <td>0.253133</td>\n",
       "      <td>-0.578608</td>\n",
       "      <td>-0.611308</td>\n",
       "      <td>-0.161186</td>\n",
       "      <td>...</td>\n",
       "      <td>-1.234302</td>\n",
       "      <td>1.234302</td>\n",
       "      <td>-0.738362</td>\n",
       "      <td>-0.442744</td>\n",
       "      <td>-0.064162</td>\n",
       "      <td>1.066882</td>\n",
       "      <td>-0.105622</td>\n",
       "      <td>1.093761</td>\n",
       "      <td>-0.104324</td>\n",
       "      <td>-1.066454</td>\n",
       "    </tr>\n",
       "  </tbody>\n",
       "</table>\n",
       "<p>5 rows × 29 columns</p>\n",
       "</div>"
      ],
      "text/plain": [
       "        AGE     PAY_1     PAY_2     PAY_3     PAY_4     PAY_5     PAY_6  \\\n",
       "0 -1.245999  1.794534  1.782318 -0.696652 -0.666588 -1.530021 -1.486016   \n",
       "1 -1.029030 -0.874977  1.782318  0.138862  0.188743  0.234913  1.992282   \n",
       "2 -0.161154  0.014860  0.111734  0.138862  0.188743  0.234913  0.253133   \n",
       "3  0.164300  0.014860  0.111734  0.138862  0.188743  0.234913  0.253133   \n",
       "4  2.333990 -0.874977  0.111734 -0.696652  0.188743  0.234913  0.253133   \n",
       "\n",
       "   BILL_AMT1  BILL_AMT2  BILL_AMT3  ...  SEX_Female  SEX_Male  \\\n",
       "0  -0.642490  -0.647388  -0.667982  ...    0.810147 -0.810147   \n",
       "1  -0.659208  -0.666735  -0.639244  ...    0.810147 -0.810147   \n",
       "2  -0.298555  -0.493891  -0.482400  ...    0.810147 -0.810147   \n",
       "3  -0.057490  -0.013292   0.032846  ...    0.810147 -0.810147   \n",
       "4  -0.578608  -0.611308  -0.161186  ...   -1.234302  1.234302   \n",
       "\n",
       "   EDUCATION_Graduate  EDUCATION_High School  EDUCATION_Other  \\\n",
       "0           -0.738362              -0.442744        -0.064162   \n",
       "1           -0.738362              -0.442744        -0.064162   \n",
       "2           -0.738362              -0.442744        -0.064162   \n",
       "3           -0.738362              -0.442744        -0.064162   \n",
       "4           -0.738362              -0.442744        -0.064162   \n",
       "\n",
       "   EDUCATION_Undergraduate  EDUCATION_Unknown  MARRIAGE_Married  \\\n",
       "0                 1.066882          -0.105622          1.093761   \n",
       "1                 1.066882          -0.105622         -0.914246   \n",
       "2                 1.066882          -0.105622         -0.914246   \n",
       "3                 1.066882          -0.105622          1.093761   \n",
       "4                 1.066882          -0.105622          1.093761   \n",
       "\n",
       "   MARRIAGE_Other  MARRIAGE_Single  \n",
       "0       -0.104324        -1.066454  \n",
       "1       -0.104324         0.937656  \n",
       "2       -0.104324         0.937656  \n",
       "3       -0.104324        -1.066454  \n",
       "4       -0.104324        -1.066454  \n",
       "\n",
       "[5 rows x 29 columns]"
      ]
     },
     "execution_count": 10,
     "metadata": {},
     "output_type": "execute_result"
    }
   ],
   "source": [
    "X = (X - X.mean())/X.std()\n",
    "print(X.shape)\n",
    "X.head()"
   ]
  },
  {
   "cell_type": "code",
   "execution_count": 11,
   "metadata": {},
   "outputs": [
    {
     "name": "stdout",
     "output_type": "stream",
     "text": [
      "(21000, 29)\n",
      "(21000,)\n",
      "(9000, 29)\n",
      "(9000,)\n"
     ]
    }
   ],
   "source": [
    "# Split to train/test sets code here (if applicable)\n",
    "from sklearn.model_selection import train_test_split\n",
    "\n",
    "X_train, X_test, y_train, y_test = train_test_split(X, y, test_size=0.30, random_state=42)\n",
    "\n",
    "print(X_train.shape)\n",
    "print(y_train.shape)\n",
    "print(X_test.shape)\n",
    "print(y_test.shape)"
   ]
  },
  {
   "cell_type": "markdown",
   "metadata": {},
   "source": [
    "## Methods\n",
    "\n",
    "List your sklearn and tensorflow methods HERE:\n",
    "\n",
    "1- Sklearn Method No.1: Logistic Regression (Credit Card Default Dataset)\n",
    "\n",
    "2- Sklearn Method No.2: Stochastic Gradient Descent Classifier (Credit Card Default Dataset)\n",
    "\n",
    "3- Sklearn Method No.3: Ridge Classifier (Credit Card Default Dataset)\n",
    "\n",
    "4- Sklearn Method No.4: Random Forest Classifier (Credit Card Default Dataset)\n",
    "\n",
    "5- Sklearn Method No.5: Linear Regression (House Price Dataset)\n",
    "\n",
    "6- Tensorflow Method: Sequential Neural Network (House Price Dataset)\n",
    "\n",
    "Individual students need to work with 2 sklearn methods and 1 tensorflow method.\n",
    "\n",
    "Groups should take 2 approaches (both classification and regression) on 1 or 2 datasets, and for each approach (classification/regression) should use 3 methods as described above (6 methods totally).\n",
    "\n",
    "<b>Notice:</b> You should fine-tune at least one hyperparameter of each method by using multiple values (at least 3 different values)."
   ]
  },
  {
   "cell_type": "markdown",
   "metadata": {},
   "source": [
    "## <font color=\"red\"> Required Coding - Groups should add more cell as required"
   ]
  },
  {
   "cell_type": "code",
   "execution_count": 12,
   "metadata": {},
   "outputs": [],
   "source": [
    "# Import any necessary method/algorithm modules from sklearn and tf/keras here\n",
    "from sklearn.model_selection import cross_val_score\n",
    "from sklearn.linear_model import LogisticRegression, SGDClassifier, RidgeClassifier\n",
    "from sklearn.ensemble import RandomForestClassifier\n",
    "import sklearn.metrics as metrics\n",
    "\n",
    "import tensorflow as tf"
   ]
  },
  {
   "cell_type": "markdown",
   "metadata": {},
   "source": [
    "The sklearn method are included along with tuned hyperparameters."
   ]
  },
  {
   "cell_type": "code",
   "execution_count": 13,
   "metadata": {},
   "outputs": [
    {
     "name": "stdout",
     "output_type": "stream",
     "text": [
      "Mean AUC Score for Logistic Regression with 150 iterations: 0.7211145654616251\n"
     ]
    }
   ],
   "source": [
    "# Sklearn Method 1 code here \n",
    "logreg1_clf = LogisticRegression(solver=\"saga\",penalty=\"l1\", random_state=42, max_iter=150)\n",
    "\n",
    "logreg1_cv_score = cross_val_score(logreg1_clf, X, y, scoring=\"roc_auc\", cv=10)\n",
    "cross_val_results.append(logreg1_cv_score)\n",
    "print(f\"Mean AUC Score for Logistic Regression with 150 iterations: {logreg1_cv_score.mean()}\")"
   ]
  },
  {
   "cell_type": "code",
   "execution_count": 14,
   "metadata": {},
   "outputs": [
    {
     "name": "stdout",
     "output_type": "stream",
     "text": [
      "Mean AUC Score for Logistic Regression with 200 iterations: 0.7211521455060186\n"
     ]
    }
   ],
   "source": [
    "logreg2_clf = LogisticRegression(solver=\"saga\",penalty=\"l1\",random_state=42, max_iter=200)\n",
    "\n",
    "logreg_cv_score2 = cross_val_score(logreg2_clf, X, y, scoring=\"roc_auc\", cv=10)\n",
    "cross_val_results.append(logreg_cv_score2)\n",
    "print(f\"Mean AUC Score for Logistic Regression with 200 iterations: {logreg_cv_score2.mean()}\")"
   ]
  },
  {
   "cell_type": "code",
   "execution_count": 15,
   "metadata": {},
   "outputs": [
    {
     "name": "stdout",
     "output_type": "stream",
     "text": [
      "Mean AUC Score for Logistic Regression with 300 iterations: 0.7211989420475644\n"
     ]
    }
   ],
   "source": [
    "logreg3_clf = LogisticRegression(solver=\"saga\",penalty=\"l1\",random_state=42, max_iter=300)\n",
    "\n",
    "logreg3_cv_score = cross_val_score(logreg3_clf, X, y, scoring=\"roc_auc\", cv=10)\n",
    "cross_val_results.append(logreg3_cv_score)\n",
    "print(f\"Mean AUC Score for Logistic Regression with 300 iterations: {logreg3_cv_score.mean()}\")"
   ]
  },
  {
   "cell_type": "code",
   "execution_count": 16,
   "metadata": {},
   "outputs": [
    {
     "name": "stdout",
     "output_type": "stream",
     "text": [
      "Mean AUC Score for SGD with hinge loss: 0.7003898450248925\n"
     ]
    }
   ],
   "source": [
    "# Sklearn Method 2 code here \n",
    "sgdR1_clf = SGDClassifier(loss = 'hinge',random_state =42)\n",
    "sgdR1_cv_score = cross_val_score(sgdR1_clf,X,y,cv=10,scoring = 'roc_auc')\n",
    "cross_val_results.append(sgdR1_cv_score)\n",
    "print(f\"Mean AUC Score for SGD with hinge loss: {sgdR1_cv_score.mean()}\")"
   ]
  },
  {
   "cell_type": "code",
   "execution_count": 17,
   "metadata": {},
   "outputs": [
    {
     "name": "stdout",
     "output_type": "stream",
     "text": [
      "Mean AUC Score for SGD with squared_hinge loss: 0.6378472697704847\n"
     ]
    }
   ],
   "source": [
    "sgdR2_clf = SGDClassifier(loss = 'squared_hinge',random_state =42)\n",
    "sgdR2_cv_score = cross_val_score(sgdR2_clf,X,y,cv=10,scoring = 'roc_auc')\n",
    "cross_val_results.append(sgdR2_cv_score)\n",
    "print(f\"Mean AUC Score for SGD with squared_hinge loss: {sgdR2_cv_score.mean()}\")"
   ]
  },
  {
   "cell_type": "code",
   "execution_count": 18,
   "metadata": {},
   "outputs": [
    {
     "name": "stdout",
     "output_type": "stream",
     "text": [
      "Mean AUC Score for SGD with perceptron loss: 0.6328185364220558\n"
     ]
    }
   ],
   "source": [
    "sgdR3_clf = SGDClassifier(loss='perceptron',random_state=42)\n",
    "sgdR3_cv_score = cross_val_score(sgdR3_clf,X,y,cv=10,scoring='roc_auc')\n",
    "cross_val_results.append(sgdR3_cv_score)\n",
    "print(f\"Mean AUC Score for SGD with perceptron loss: {sgdR3_cv_score.mean()}\")"
   ]
  },
  {
   "cell_type": "code",
   "execution_count": 19,
   "metadata": {},
   "outputs": [
    {
     "name": "stdout",
     "output_type": "stream",
     "text": [
      "Mean AUC Score for Ridge with alpha(1e-2): 0.7153641869820431\n"
     ]
    }
   ],
   "source": [
    "# Sklearn Method 3 code here\n",
    "ridgeA1_clf = RidgeClassifier(alpha = 1e-2)\n",
    "ridgeA1_cv_score = cross_val_score(ridgeA1_clf,X,y,cv=10,scoring = 'roc_auc')\n",
    "cross_val_results.append(ridgeA1_cv_score)\n",
    "print(f\"Mean AUC Score for Ridge with alpha(1e-2): {ridgeA1_cv_score.mean()}\")"
   ]
  },
  {
   "cell_type": "code",
   "execution_count": 20,
   "metadata": {},
   "outputs": [
    {
     "name": "stdout",
     "output_type": "stream",
     "text": [
      "Mean AUC Score with Ridge with alpha(1e-1): 0.7153637349823081\n"
     ]
    }
   ],
   "source": [
    "ridgeA2_clf = RidgeClassifier(alpha = 1e-1)\n",
    "ridgeA2_cv_score = cross_val_score(ridgeA2_clf,X,y,cv=10,scoring = 'roc_auc')\n",
    "cross_val_results.append(ridgeA2_cv_score)\n",
    "print(f\"Mean AUC Score with Ridge with alpha(1e-1): {ridgeA2_cv_score.mean()}\")"
   ]
  },
  {
   "cell_type": "code",
   "execution_count": 21,
   "metadata": {},
   "outputs": [
    {
     "name": "stdout",
     "output_type": "stream",
     "text": [
      "Mean AUC Score with Ridge with alpha(1): 0.7153612868750263\n"
     ]
    }
   ],
   "source": [
    "ridgeA3_clf = RidgeClassifier(alpha = 1)\n",
    "ridgeA3_cv_score = cross_val_score(ridgeA3_clf,X,y,cv=10,scoring = 'roc_auc')\n",
    "cross_val_results.append(ridgeA3_cv_score)\n",
    "print(f\"Mean AUC Score with Ridge with alpha(1): {ridgeA3_cv_score.mean()}\")"
   ]
  },
  {
   "cell_type": "code",
   "execution_count": 22,
   "metadata": {},
   "outputs": [
    {
     "name": "stdout",
     "output_type": "stream",
     "text": [
      "Mean AUC Score for Random Forest: 0.770521658741853\n"
     ]
    }
   ],
   "source": [
    "# Sklearn Method 4 code here \n",
    "rf_clf = RandomForestClassifier(n_estimators=100, max_leaf_nodes=16, n_jobs=-1)\n",
    "rf_clf_score = cross_val_score(rf_clf, X, y, scoring=\"roc_auc\", cv=10)\n",
    "\n",
    "cross_val_results.append(rf_clf_score)\n",
    "print(f\"Mean AUC Score for Random Forest: {rf_clf_score.mean()}\")"
   ]
  },
  {
   "cell_type": "code",
   "execution_count": 23,
   "metadata": {},
   "outputs": [
    {
     "name": "stdout",
     "output_type": "stream",
     "text": [
      "Mean AUC Score for Random Forest: 0.7697702783028644\n"
     ]
    }
   ],
   "source": [
    "rf2_clf = RandomForestClassifier(n_estimators=50, max_leaf_nodes=16, n_jobs=-1)\n",
    "rf2_clf_score = cross_val_score(rf2_clf, X, y, scoring=\"roc_auc\", cv=10)\n",
    "\n",
    "cross_val_results.append(rf2_clf_score)\n",
    "print(f\"Mean AUC Score for Random Forest: {rf2_clf_score.mean()}\")"
   ]
  },
  {
   "cell_type": "code",
   "execution_count": 24,
   "metadata": {},
   "outputs": [
    {
     "name": "stdout",
     "output_type": "stream",
     "text": [
      "Mean AUC Score for Random Forest: 0.7693576707622661\n"
     ]
    }
   ],
   "source": [
    "rf3_clf = RandomForestClassifier(n_estimators=25, max_leaf_nodes=16, n_jobs=-1)\n",
    "rf3_clf_score = cross_val_score(rf3_clf, X, y, scoring=\"roc_auc\", cv=10)\n",
    "\n",
    "cross_val_results.append(rf3_clf_score)\n",
    "print(f\"Mean AUC Score for Random Forest: {rf3_clf_score.mean()}\")"
   ]
  },
  {
   "cell_type": "code",
   "execution_count": 25,
   "metadata": {},
   "outputs": [
    {
     "data": {
      "text/plain": [
       "(0.5, 0.9)"
      ]
     },
     "execution_count": 25,
     "metadata": {},
     "output_type": "execute_result"
    },
    {
     "data": {
      "image/png": "[encoded data removed]",
      "text/plain": [
       "<Figure size 1008x504 with 1 Axes>"
      ]
     },
     "metadata": {
      "needs_background": "light"
     },
     "output_type": "display_data"
    }
   ],
   "source": [
    "algo_names = [\"LogisticRegression(1)\", \"LogisticRegression(2)\",\"LogisticRegression(3)\",\n",
    "              \"SGDClassifier(1)\", \"SGDClassifier(2)\" ,\"SGDClassifier(3)\",\n",
    "              \"RidgeClassifier(1)\", \"RidgeClassifier(2)\", \"RidgeClassifier(3)\",\n",
    "              \"RandomForestClassifier(1)\", \"RandomForestClassifier(2)\", \"RandomForestClassifier(3)\"\n",
    "             ]\n",
    "\n",
    "fig = plt.figure(figsize=(14, 7))\n",
    "fig.suptitle(\"Comparison of different Algorithms and different Hyperparamters\", fontsize=22)\n",
    "ax = fig.add_subplot(111)\n",
    "sns.boxplot(x=algo_names, y=cross_val_results)\n",
    "ax.set_xticklabels(algo_names)\n",
    "ax.set_xlabel(\"Algorithm\", fontsize=14)\n",
    "ax.set_ylabel(\"Mean AUC Score\", fontsize=18)\n",
    "ax.set_xticklabels(ax.get_xticklabels(), rotation=45)   # Creates the x_ticks to be tilted on it's diagonal.\n",
    "plt.ylim((0.5, 0.9))"
   ]
  },
  {
   "cell_type": "code",
   "execution_count": 26,
   "metadata": {},
   "outputs": [
    {
     "data": {
      "text/plain": [
       "RandomForestClassifier(bootstrap=True, class_weight=None, criterion='gini',\n",
       "                       max_depth=None, max_features='auto', max_leaf_nodes=16,\n",
       "                       min_impurity_decrease=0.0, min_impurity_split=None,\n",
       "                       min_samples_leaf=1, min_samples_split=2,\n",
       "                       min_weight_fraction_leaf=0.0, n_estimators=25, n_jobs=-1,\n",
       "                       oob_score=False, random_state=None, verbose=0,\n",
       "                       warm_start=False)"
      ]
     },
     "execution_count": 26,
     "metadata": {},
     "output_type": "execute_result"
    }
   ],
   "source": [
    "logreg1_clf.fit(X_train, y_train)\n",
    "logreg2_clf.fit(X_train, y_train)\n",
    "logreg3_clf.fit(X_train, y_train)\n",
    "\n",
    "sgdR1_clf.fit(X_train, y_train)\n",
    "sgdR2_clf.fit(X_train, y_train)\n",
    "sgdR3_clf.fit(X_train, y_train)\n",
    "\n",
    "ridgeA1_clf.fit(X_train,y_train)\n",
    "ridgeA2_clf.fit(X_train,y_train)\n",
    "ridgeA3_clf.fit(X_train,y_train)\n",
    "\n",
    "rf_clf.fit(X_train, y_train)\n",
    "rf2_clf.fit(X_train, y_train)\n",
    "rf3_clf.fit(X_train, y_train)"
   ]
  },
  {
   "cell_type": "markdown",
   "metadata": {},
   "source": [
    "<p>Calculate the metrics for each tuned hyperparameter for each method.</p>"
   ]
  },
  {
   "cell_type": "code",
   "execution_count": 27,
   "metadata": {},
   "outputs": [],
   "source": [
    "logreg1_probs = logreg1_clf.predict_proba(X_test)\n",
    "logreg1_preds = logreg1_probs[:,1]\n",
    "logreg1_fpr, logreg1_tpr, logreg1_threshold = metrics.roc_curve(y_test, logreg1_preds)\n",
    "logreg1_roc_auc = metrics.auc(logreg1_fpr, logreg1_tpr)\n",
    "\n",
    "logreg2_probs = logreg2_clf.predict_proba(X_test)\n",
    "logreg2_preds = logreg2_probs[:,1]\n",
    "logreg2_fpr, logreg2_tpr, logreg2_threshold = metrics.roc_curve(y_test, logreg2_preds)\n",
    "logreg2_roc_auc = metrics.auc(logreg2_fpr, logreg2_tpr)\n",
    "\n",
    "logreg3_probs = logreg3_clf.predict_proba(X_test)\n",
    "logreg3_preds = logreg3_probs[:,1]\n",
    "logreg3_fpr, logreg3_tpr, logreg3_threshold = metrics.roc_curve(y_test, logreg3_preds)\n",
    "logreg3_roc_auc = metrics.auc(logreg3_fpr, logreg3_tpr)\n",
    "\n",
    "sgdR1_probs = sgdR1_clf.decision_function(X_test)\n",
    "sgdR1_fpr, sgdR1_tpr, sgdR1_threshold = metrics.roc_curve(y_test, sgdR1_probs)\n",
    "sgdR1_roc_auc = metrics.auc(sgdR1_fpr,sgdR1_tpr)\n",
    "\n",
    "sgdR2_probs = sgdR2_clf.decision_function(X_test)\n",
    "sgdR2_fpr, sgdR2_tpr, sgdR2_threshold = metrics.roc_curve(y_test, sgdR2_probs)\n",
    "sgdR2_roc_auc = metrics.auc(sgdR2_fpr,sgdR2_tpr)\n",
    "\n",
    "sgdR3_probs = sgdR3_clf.decision_function(X_test)\n",
    "sgdR3_fpr, sgdR3_tpr, sgdR3_threshold = metrics.roc_curve(y_test, sgdR3_probs)\n",
    "sgdR3_roc_auc = metrics.auc(sgdR3_fpr,sgdR3_tpr)\n",
    "\n",
    "ridgeA1_probs = ridgeA1_clf.decision_function(X_test)\n",
    "ridgeA1_fpr, ridgeA1_tpr, ridgeA1_threshold = metrics.roc_curve(y_test, ridgeA1_probs)\n",
    "ridgeA1_roc_auc = metrics.auc(ridgeA1_fpr,ridgeA1_tpr)\n",
    "\n",
    "ridgeA2_probs = ridgeA1_clf.decision_function(X_test)\n",
    "ridgeA2_fpr, ridgeA2_tpr, ridgeA2_threshold = metrics.roc_curve(y_test, ridgeA2_probs)\n",
    "ridgeA2_roc_auc = metrics.auc(ridgeA2_fpr,ridgeA2_tpr)\n",
    "\n",
    "ridgeA3_probs = ridgeA3_clf.decision_function(X_test)\n",
    "ridgeA3_fpr, ridgeA3_tpr, ridgeA3_threshold = metrics.roc_curve(y_test, ridgeA3_probs)\n",
    "ridgeA3_roc_auc = metrics.auc(ridgeA3_fpr,ridgeA3_tpr)\n",
    "\n",
    "rf_probs = rf_clf.predict_proba(X_test)\n",
    "rf_preds = rf_probs[:,1]\n",
    "rf_fpr, rf_tpr, rf_threshold = metrics.roc_curve(y_test, rf_preds)\n",
    "rf_roc_auc = metrics.auc(rf_fpr, rf_tpr)\n",
    "\n",
    "rf2_probs = rf2_clf.predict_proba(X_test)\n",
    "rf2_preds = rf2_probs[:,1]\n",
    "rf2_fpr, rf2_tpr, rf2_threshold = metrics.roc_curve(y_test, rf2_preds)\n",
    "rf2_roc_auc = metrics.auc(rf2_fpr, rf2_tpr)\n",
    "\n",
    "rf3_probs = rf3_clf.predict_proba(X_test)\n",
    "rf3_preds = rf3_probs[:,1]\n",
    "rf3_fpr, rf3_tpr, rf3_threshold = metrics.roc_curve(y_test, rf3_preds)\n",
    "rf3_roc_auc = metrics.auc(rf3_fpr, rf3_tpr)"
   ]
  },
  {
   "cell_type": "markdown",
   "metadata": {},
   "source": [
    "<h3> Data Processing for Housing Dataset </h3>"
   ]
  },
  {
   "cell_type": "code",
   "execution_count": 28,
   "metadata": {},
   "outputs": [
    {
     "data": {
      "text/html": [
       "<div>\n",
       "<style scoped>\n",
       "    .dataframe tbody tr th:only-of-type {\n",
       "        vertical-align: middle;\n",
       "    }\n",
       "\n",
       "    .dataframe tbody tr th {\n",
       "        vertical-align: top;\n",
       "    }\n",
       "\n",
       "    .dataframe thead th {\n",
       "        text-align: right;\n",
       "    }\n",
       "</style>\n",
       "<table border=\"1\" class=\"dataframe\">\n",
       "  <thead>\n",
       "    <tr style=\"text-align: right;\">\n",
       "      <th></th>\n",
       "      <th>date</th>\n",
       "      <th>price</th>\n",
       "      <th>bedrooms</th>\n",
       "      <th>bathrooms</th>\n",
       "      <th>sqft_living</th>\n",
       "      <th>sqft_lot</th>\n",
       "      <th>floors</th>\n",
       "      <th>waterfront</th>\n",
       "      <th>view</th>\n",
       "      <th>condition</th>\n",
       "      <th>sqft_above</th>\n",
       "      <th>sqft_basement</th>\n",
       "      <th>yr_built</th>\n",
       "      <th>yr_renovated</th>\n",
       "      <th>street</th>\n",
       "      <th>city</th>\n",
       "      <th>statezip</th>\n",
       "      <th>country</th>\n",
       "    </tr>\n",
       "  </thead>\n",
       "  <tbody>\n",
       "    <tr>\n",
       "      <th>0</th>\n",
       "      <td>2014-05-02 00:00:00</td>\n",
       "      <td>313000.0</td>\n",
       "      <td>3.0</td>\n",
       "      <td>1.50</td>\n",
       "      <td>1340</td>\n",
       "      <td>7912</td>\n",
       "      <td>1.5</td>\n",
       "      <td>0</td>\n",
       "      <td>0</td>\n",
       "      <td>3</td>\n",
       "      <td>1340</td>\n",
       "      <td>0</td>\n",
       "      <td>1955</td>\n",
       "      <td>2005</td>\n",
       "      <td>18810 Densmore Ave N</td>\n",
       "      <td>Shoreline</td>\n",
       "      <td>WA 98133</td>\n",
       "      <td>USA</td>\n",
       "    </tr>\n",
       "    <tr>\n",
       "      <th>1</th>\n",
       "      <td>2014-05-02 00:00:00</td>\n",
       "      <td>2384000.0</td>\n",
       "      <td>5.0</td>\n",
       "      <td>2.50</td>\n",
       "      <td>3650</td>\n",
       "      <td>9050</td>\n",
       "      <td>2.0</td>\n",
       "      <td>0</td>\n",
       "      <td>4</td>\n",
       "      <td>5</td>\n",
       "      <td>3370</td>\n",
       "      <td>280</td>\n",
       "      <td>1921</td>\n",
       "      <td>0</td>\n",
       "      <td>709 W Blaine St</td>\n",
       "      <td>Seattle</td>\n",
       "      <td>WA 98119</td>\n",
       "      <td>USA</td>\n",
       "    </tr>\n",
       "    <tr>\n",
       "      <th>2</th>\n",
       "      <td>2014-05-02 00:00:00</td>\n",
       "      <td>342000.0</td>\n",
       "      <td>3.0</td>\n",
       "      <td>2.00</td>\n",
       "      <td>1930</td>\n",
       "      <td>11947</td>\n",
       "      <td>1.0</td>\n",
       "      <td>0</td>\n",
       "      <td>0</td>\n",
       "      <td>4</td>\n",
       "      <td>1930</td>\n",
       "      <td>0</td>\n",
       "      <td>1966</td>\n",
       "      <td>0</td>\n",
       "      <td>26206-26214 143rd Ave SE</td>\n",
       "      <td>Kent</td>\n",
       "      <td>WA 98042</td>\n",
       "      <td>USA</td>\n",
       "    </tr>\n",
       "    <tr>\n",
       "      <th>3</th>\n",
       "      <td>2014-05-02 00:00:00</td>\n",
       "      <td>420000.0</td>\n",
       "      <td>3.0</td>\n",
       "      <td>2.25</td>\n",
       "      <td>2000</td>\n",
       "      <td>8030</td>\n",
       "      <td>1.0</td>\n",
       "      <td>0</td>\n",
       "      <td>0</td>\n",
       "      <td>4</td>\n",
       "      <td>1000</td>\n",
       "      <td>1000</td>\n",
       "      <td>1963</td>\n",
       "      <td>0</td>\n",
       "      <td>857 170th Pl NE</td>\n",
       "      <td>Bellevue</td>\n",
       "      <td>WA 98008</td>\n",
       "      <td>USA</td>\n",
       "    </tr>\n",
       "    <tr>\n",
       "      <th>4</th>\n",
       "      <td>2014-05-02 00:00:00</td>\n",
       "      <td>550000.0</td>\n",
       "      <td>4.0</td>\n",
       "      <td>2.50</td>\n",
       "      <td>1940</td>\n",
       "      <td>10500</td>\n",
       "      <td>1.0</td>\n",
       "      <td>0</td>\n",
       "      <td>0</td>\n",
       "      <td>4</td>\n",
       "      <td>1140</td>\n",
       "      <td>800</td>\n",
       "      <td>1976</td>\n",
       "      <td>1992</td>\n",
       "      <td>9105 170th Ave NE</td>\n",
       "      <td>Redmond</td>\n",
       "      <td>WA 98052</td>\n",
       "      <td>USA</td>\n",
       "    </tr>\n",
       "  </tbody>\n",
       "</table>\n",
       "</div>"
      ],
      "text/plain": [
       "                  date      price  bedrooms  bathrooms  sqft_living  sqft_lot  \\\n",
       "0  2014-05-02 00:00:00   313000.0       3.0       1.50         1340      7912   \n",
       "1  2014-05-02 00:00:00  2384000.0       5.0       2.50         3650      9050   \n",
       "2  2014-05-02 00:00:00   342000.0       3.0       2.00         1930     11947   \n",
       "3  2014-05-02 00:00:00   420000.0       3.0       2.25         2000      8030   \n",
       "4  2014-05-02 00:00:00   550000.0       4.0       2.50         1940     10500   \n",
       "\n",
       "   floors  waterfront  view  condition  sqft_above  sqft_basement  yr_built  \\\n",
       "0     1.5           0     0          3        1340              0      1955   \n",
       "1     2.0           0     4          5        3370            280      1921   \n",
       "2     1.0           0     0          4        1930              0      1966   \n",
       "3     1.0           0     0          4        1000           1000      1963   \n",
       "4     1.0           0     0          4        1140            800      1976   \n",
       "\n",
       "   yr_renovated                    street       city  statezip country  \n",
       "0          2005      18810 Densmore Ave N  Shoreline  WA 98133     USA  \n",
       "1             0           709 W Blaine St    Seattle  WA 98119     USA  \n",
       "2             0  26206-26214 143rd Ave SE       Kent  WA 98042     USA  \n",
       "3             0           857 170th Pl NE   Bellevue  WA 98008     USA  \n",
       "4          1992         9105 170th Ave NE    Redmond  WA 98052     USA  "
      ]
     },
     "execution_count": 28,
     "metadata": {},
     "output_type": "execute_result"
    }
   ],
   "source": [
    "housing_df.head()"
   ]
  },
  {
   "cell_type": "code",
   "execution_count": 29,
   "metadata": {},
   "outputs": [
    {
     "data": {
      "text/plain": [
       "date             0\n",
       "price            0\n",
       "bedrooms         0\n",
       "bathrooms        0\n",
       "sqft_living      0\n",
       "sqft_lot         0\n",
       "floors           0\n",
       "waterfront       0\n",
       "view             0\n",
       "condition        0\n",
       "sqft_above       0\n",
       "sqft_basement    0\n",
       "yr_built         0\n",
       "yr_renovated     0\n",
       "street           0\n",
       "city             0\n",
       "statezip         0\n",
       "country          0\n",
       "dtype: int64"
      ]
     },
     "execution_count": 29,
     "metadata": {},
     "output_type": "execute_result"
    }
   ],
   "source": [
    "housing_df.isna().sum()"
   ]
  },
  {
   "cell_type": "code",
   "execution_count": 30,
   "metadata": {},
   "outputs": [
    {
     "name": "stdout",
     "output_type": "stream",
     "text": [
      "(4600, 16)\n"
     ]
    },
    {
     "data": {
      "text/html": [
       "<div>\n",
       "<style scoped>\n",
       "    .dataframe tbody tr th:only-of-type {\n",
       "        vertical-align: middle;\n",
       "    }\n",
       "\n",
       "    .dataframe tbody tr th {\n",
       "        vertical-align: top;\n",
       "    }\n",
       "\n",
       "    .dataframe thead th {\n",
       "        text-align: right;\n",
       "    }\n",
       "</style>\n",
       "<table border=\"1\" class=\"dataframe\">\n",
       "  <thead>\n",
       "    <tr style=\"text-align: right;\">\n",
       "      <th></th>\n",
       "      <th>price</th>\n",
       "      <th>bedrooms</th>\n",
       "      <th>bathrooms</th>\n",
       "      <th>sqft_living</th>\n",
       "      <th>sqft_lot</th>\n",
       "      <th>floors</th>\n",
       "      <th>waterfront</th>\n",
       "      <th>view</th>\n",
       "      <th>condition</th>\n",
       "      <th>sqft_above</th>\n",
       "      <th>sqft_basement</th>\n",
       "      <th>yr_built</th>\n",
       "      <th>yr_renovated</th>\n",
       "      <th>street</th>\n",
       "      <th>city</th>\n",
       "      <th>statezip</th>\n",
       "    </tr>\n",
       "  </thead>\n",
       "  <tbody>\n",
       "    <tr>\n",
       "      <th>0</th>\n",
       "      <td>313000.0</td>\n",
       "      <td>3.0</td>\n",
       "      <td>1.50</td>\n",
       "      <td>1340</td>\n",
       "      <td>7912</td>\n",
       "      <td>1.5</td>\n",
       "      <td>0</td>\n",
       "      <td>0</td>\n",
       "      <td>3</td>\n",
       "      <td>1340</td>\n",
       "      <td>0</td>\n",
       "      <td>1955</td>\n",
       "      <td>2005</td>\n",
       "      <td>18810 Densmore Ave N</td>\n",
       "      <td>Shoreline</td>\n",
       "      <td>WA 98133</td>\n",
       "    </tr>\n",
       "    <tr>\n",
       "      <th>1</th>\n",
       "      <td>2384000.0</td>\n",
       "      <td>5.0</td>\n",
       "      <td>2.50</td>\n",
       "      <td>3650</td>\n",
       "      <td>9050</td>\n",
       "      <td>2.0</td>\n",
       "      <td>0</td>\n",
       "      <td>4</td>\n",
       "      <td>5</td>\n",
       "      <td>3370</td>\n",
       "      <td>280</td>\n",
       "      <td>1921</td>\n",
       "      <td>0</td>\n",
       "      <td>709 W Blaine St</td>\n",
       "      <td>Seattle</td>\n",
       "      <td>WA 98119</td>\n",
       "    </tr>\n",
       "    <tr>\n",
       "      <th>2</th>\n",
       "      <td>342000.0</td>\n",
       "      <td>3.0</td>\n",
       "      <td>2.00</td>\n",
       "      <td>1930</td>\n",
       "      <td>11947</td>\n",
       "      <td>1.0</td>\n",
       "      <td>0</td>\n",
       "      <td>0</td>\n",
       "      <td>4</td>\n",
       "      <td>1930</td>\n",
       "      <td>0</td>\n",
       "      <td>1966</td>\n",
       "      <td>0</td>\n",
       "      <td>26206-26214 143rd Ave SE</td>\n",
       "      <td>Kent</td>\n",
       "      <td>WA 98042</td>\n",
       "    </tr>\n",
       "    <tr>\n",
       "      <th>3</th>\n",
       "      <td>420000.0</td>\n",
       "      <td>3.0</td>\n",
       "      <td>2.25</td>\n",
       "      <td>2000</td>\n",
       "      <td>8030</td>\n",
       "      <td>1.0</td>\n",
       "      <td>0</td>\n",
       "      <td>0</td>\n",
       "      <td>4</td>\n",
       "      <td>1000</td>\n",
       "      <td>1000</td>\n",
       "      <td>1963</td>\n",
       "      <td>0</td>\n",
       "      <td>857 170th Pl NE</td>\n",
       "      <td>Bellevue</td>\n",
       "      <td>WA 98008</td>\n",
       "    </tr>\n",
       "    <tr>\n",
       "      <th>4</th>\n",
       "      <td>550000.0</td>\n",
       "      <td>4.0</td>\n",
       "      <td>2.50</td>\n",
       "      <td>1940</td>\n",
       "      <td>10500</td>\n",
       "      <td>1.0</td>\n",
       "      <td>0</td>\n",
       "      <td>0</td>\n",
       "      <td>4</td>\n",
       "      <td>1140</td>\n",
       "      <td>800</td>\n",
       "      <td>1976</td>\n",
       "      <td>1992</td>\n",
       "      <td>9105 170th Ave NE</td>\n",
       "      <td>Redmond</td>\n",
       "      <td>WA 98052</td>\n",
       "    </tr>\n",
       "  </tbody>\n",
       "</table>\n",
       "</div>"
      ],
      "text/plain": [
       "       price  bedrooms  bathrooms  sqft_living  sqft_lot  floors  waterfront  \\\n",
       "0   313000.0       3.0       1.50         1340      7912     1.5           0   \n",
       "1  2384000.0       5.0       2.50         3650      9050     2.0           0   \n",
       "2   342000.0       3.0       2.00         1930     11947     1.0           0   \n",
       "3   420000.0       3.0       2.25         2000      8030     1.0           0   \n",
       "4   550000.0       4.0       2.50         1940     10500     1.0           0   \n",
       "\n",
       "   view  condition  sqft_above  sqft_basement  yr_built  yr_renovated  \\\n",
       "0     0          3        1340              0      1955          2005   \n",
       "1     4          5        3370            280      1921             0   \n",
       "2     0          4        1930              0      1966             0   \n",
       "3     0          4        1000           1000      1963             0   \n",
       "4     0          4        1140            800      1976          1992   \n",
       "\n",
       "                     street       city  statezip  \n",
       "0      18810 Densmore Ave N  Shoreline  WA 98133  \n",
       "1           709 W Blaine St    Seattle  WA 98119  \n",
       "2  26206-26214 143rd Ave SE       Kent  WA 98042  \n",
       "3           857 170th Pl NE   Bellevue  WA 98008  \n",
       "4         9105 170th Ave NE    Redmond  WA 98052  "
      ]
     },
     "execution_count": 30,
     "metadata": {},
     "output_type": "execute_result"
    }
   ],
   "source": [
    "# Knowing that every house sold here is in Washington State, drop the country column\n",
    "# Drop the time, too\n",
    "housing_df.drop([\"country\", \"date\"], axis=1, inplace=True)\n",
    "print(housing_df.shape)\n",
    "housing_df.head()"
   ]
  },
  {
   "cell_type": "code",
   "execution_count": 31,
   "metadata": {},
   "outputs": [
    {
     "name": "stdout",
     "output_type": "stream",
     "text": [
      "0    4567\n",
      "1      33\n",
      "Name: waterfront, dtype: int64\n",
      "\n",
      "0    4140\n",
      "2     205\n",
      "3     116\n",
      "4      70\n",
      "1      69\n",
      "Name: view, dtype: int64\n",
      "\n",
      "3    2875\n",
      "4    1252\n",
      "5     435\n",
      "2      32\n",
      "1       6\n",
      "Name: condition, dtype: int64\n"
     ]
    }
   ],
   "source": [
    "print(housing_df[\"waterfront\"].value_counts())\n",
    "print()\n",
    "print(housing_df[\"view\"].value_counts())\n",
    "print()\n",
    "print(housing_df[\"condition\"].value_counts())"
   ]
  },
  {
   "cell_type": "code",
   "execution_count": 32,
   "metadata": {},
   "outputs": [
    {
     "data": {
      "text/html": [
       "<div>\n",
       "<style scoped>\n",
       "    .dataframe tbody tr th:only-of-type {\n",
       "        vertical-align: middle;\n",
       "    }\n",
       "\n",
       "    .dataframe tbody tr th {\n",
       "        vertical-align: top;\n",
       "    }\n",
       "\n",
       "    .dataframe thead th {\n",
       "        text-align: right;\n",
       "    }\n",
       "</style>\n",
       "<table border=\"1\" class=\"dataframe\">\n",
       "  <thead>\n",
       "    <tr style=\"text-align: right;\">\n",
       "      <th></th>\n",
       "      <th>price</th>\n",
       "      <th>bedrooms</th>\n",
       "      <th>bathrooms</th>\n",
       "      <th>sqft_living</th>\n",
       "      <th>sqft_lot</th>\n",
       "      <th>floors</th>\n",
       "      <th>waterfront</th>\n",
       "      <th>view</th>\n",
       "      <th>condition</th>\n",
       "      <th>sqft_above</th>\n",
       "      <th>sqft_basement</th>\n",
       "      <th>yr_built</th>\n",
       "      <th>yr_renovated</th>\n",
       "      <th>city</th>\n",
       "      <th>statezip</th>\n",
       "    </tr>\n",
       "  </thead>\n",
       "  <tbody>\n",
       "    <tr>\n",
       "      <th>0</th>\n",
       "      <td>313000.0</td>\n",
       "      <td>3.0</td>\n",
       "      <td>1.50</td>\n",
       "      <td>1340</td>\n",
       "      <td>7912</td>\n",
       "      <td>1.5</td>\n",
       "      <td>0</td>\n",
       "      <td>0</td>\n",
       "      <td>3</td>\n",
       "      <td>1340</td>\n",
       "      <td>0</td>\n",
       "      <td>1955</td>\n",
       "      <td>2005</td>\n",
       "      <td>36</td>\n",
       "      <td>62</td>\n",
       "    </tr>\n",
       "    <tr>\n",
       "      <th>1</th>\n",
       "      <td>2384000.0</td>\n",
       "      <td>5.0</td>\n",
       "      <td>2.50</td>\n",
       "      <td>3650</td>\n",
       "      <td>9050</td>\n",
       "      <td>2.0</td>\n",
       "      <td>0</td>\n",
       "      <td>4</td>\n",
       "      <td>5</td>\n",
       "      <td>3370</td>\n",
       "      <td>280</td>\n",
       "      <td>1921</td>\n",
       "      <td>0</td>\n",
       "      <td>35</td>\n",
       "      <td>58</td>\n",
       "    </tr>\n",
       "    <tr>\n",
       "      <th>2</th>\n",
       "      <td>342000.0</td>\n",
       "      <td>3.0</td>\n",
       "      <td>2.00</td>\n",
       "      <td>1930</td>\n",
       "      <td>11947</td>\n",
       "      <td>1.0</td>\n",
       "      <td>0</td>\n",
       "      <td>0</td>\n",
       "      <td>4</td>\n",
       "      <td>1930</td>\n",
       "      <td>0</td>\n",
       "      <td>1966</td>\n",
       "      <td>0</td>\n",
       "      <td>18</td>\n",
       "      <td>26</td>\n",
       "    </tr>\n",
       "    <tr>\n",
       "      <th>3</th>\n",
       "      <td>420000.0</td>\n",
       "      <td>3.0</td>\n",
       "      <td>2.25</td>\n",
       "      <td>2000</td>\n",
       "      <td>8030</td>\n",
       "      <td>1.0</td>\n",
       "      <td>0</td>\n",
       "      <td>0</td>\n",
       "      <td>4</td>\n",
       "      <td>1000</td>\n",
       "      <td>1000</td>\n",
       "      <td>1963</td>\n",
       "      <td>0</td>\n",
       "      <td>3</td>\n",
       "      <td>7</td>\n",
       "    </tr>\n",
       "    <tr>\n",
       "      <th>4</th>\n",
       "      <td>550000.0</td>\n",
       "      <td>4.0</td>\n",
       "      <td>2.50</td>\n",
       "      <td>1940</td>\n",
       "      <td>10500</td>\n",
       "      <td>1.0</td>\n",
       "      <td>0</td>\n",
       "      <td>0</td>\n",
       "      <td>4</td>\n",
       "      <td>1140</td>\n",
       "      <td>800</td>\n",
       "      <td>1976</td>\n",
       "      <td>1992</td>\n",
       "      <td>31</td>\n",
       "      <td>31</td>\n",
       "    </tr>\n",
       "  </tbody>\n",
       "</table>\n",
       "</div>"
      ],
      "text/plain": [
       "       price  bedrooms  bathrooms  sqft_living  sqft_lot  floors  waterfront  \\\n",
       "0   313000.0       3.0       1.50         1340      7912     1.5           0   \n",
       "1  2384000.0       5.0       2.50         3650      9050     2.0           0   \n",
       "2   342000.0       3.0       2.00         1930     11947     1.0           0   \n",
       "3   420000.0       3.0       2.25         2000      8030     1.0           0   \n",
       "4   550000.0       4.0       2.50         1940     10500     1.0           0   \n",
       "\n",
       "   view  condition  sqft_above  sqft_basement  yr_built  yr_renovated  city  \\\n",
       "0     0          3        1340              0      1955          2005    36   \n",
       "1     4          5        3370            280      1921             0    35   \n",
       "2     0          4        1930              0      1966             0    18   \n",
       "3     0          4        1000           1000      1963             0     3   \n",
       "4     0          4        1140            800      1976          1992    31   \n",
       "\n",
       "   statezip  \n",
       "0        62  \n",
       "1        58  \n",
       "2        26  \n",
       "3         7  \n",
       "4        31  "
      ]
     },
     "execution_count": 32,
     "metadata": {},
     "output_type": "execute_result"
    }
   ],
   "source": [
    "# Set city, statezip, and street into categories\n",
    "housing_df['city'] = pd.Categorical(housing_df.city).codes\n",
    "housing_df['statezip'] = pd.Categorical(housing_df.statezip).codes\n",
    "housing_df.drop(\"street\", axis=1, inplace=True)\n",
    "housing_df.head()"
   ]
  },
  {
   "cell_type": "code",
   "execution_count": 33,
   "metadata": {},
   "outputs": [
    {
     "name": "stdout",
     "output_type": "stream",
     "text": [
      "(4504, 15)\n"
     ]
    },
    {
     "data": {
      "text/html": [
       "<div>\n",
       "<style scoped>\n",
       "    .dataframe tbody tr th:only-of-type {\n",
       "        vertical-align: middle;\n",
       "    }\n",
       "\n",
       "    .dataframe tbody tr th {\n",
       "        vertical-align: top;\n",
       "    }\n",
       "\n",
       "    .dataframe thead th {\n",
       "        text-align: right;\n",
       "    }\n",
       "</style>\n",
       "<table border=\"1\" class=\"dataframe\">\n",
       "  <thead>\n",
       "    <tr style=\"text-align: right;\">\n",
       "      <th></th>\n",
       "      <th>price</th>\n",
       "      <th>bedrooms</th>\n",
       "      <th>bathrooms</th>\n",
       "      <th>sqft_living</th>\n",
       "      <th>sqft_lot</th>\n",
       "      <th>floors</th>\n",
       "      <th>waterfront</th>\n",
       "      <th>view</th>\n",
       "      <th>condition</th>\n",
       "      <th>sqft_above</th>\n",
       "      <th>sqft_basement</th>\n",
       "      <th>yr_built</th>\n",
       "      <th>yr_renovated</th>\n",
       "      <th>city</th>\n",
       "      <th>statezip</th>\n",
       "    </tr>\n",
       "  </thead>\n",
       "  <tbody>\n",
       "    <tr>\n",
       "      <th>0</th>\n",
       "      <td>313000.0</td>\n",
       "      <td>3.0</td>\n",
       "      <td>1.50</td>\n",
       "      <td>1340</td>\n",
       "      <td>7912</td>\n",
       "      <td>1.5</td>\n",
       "      <td>0</td>\n",
       "      <td>0</td>\n",
       "      <td>3</td>\n",
       "      <td>1340</td>\n",
       "      <td>0</td>\n",
       "      <td>1955</td>\n",
       "      <td>2005</td>\n",
       "      <td>36</td>\n",
       "      <td>62</td>\n",
       "    </tr>\n",
       "    <tr>\n",
       "      <th>1</th>\n",
       "      <td>342000.0</td>\n",
       "      <td>3.0</td>\n",
       "      <td>2.00</td>\n",
       "      <td>1930</td>\n",
       "      <td>11947</td>\n",
       "      <td>1.0</td>\n",
       "      <td>0</td>\n",
       "      <td>0</td>\n",
       "      <td>4</td>\n",
       "      <td>1930</td>\n",
       "      <td>0</td>\n",
       "      <td>1966</td>\n",
       "      <td>0</td>\n",
       "      <td>18</td>\n",
       "      <td>26</td>\n",
       "    </tr>\n",
       "    <tr>\n",
       "      <th>2</th>\n",
       "      <td>420000.0</td>\n",
       "      <td>3.0</td>\n",
       "      <td>2.25</td>\n",
       "      <td>2000</td>\n",
       "      <td>8030</td>\n",
       "      <td>1.0</td>\n",
       "      <td>0</td>\n",
       "      <td>0</td>\n",
       "      <td>4</td>\n",
       "      <td>1000</td>\n",
       "      <td>1000</td>\n",
       "      <td>1963</td>\n",
       "      <td>0</td>\n",
       "      <td>3</td>\n",
       "      <td>7</td>\n",
       "    </tr>\n",
       "    <tr>\n",
       "      <th>3</th>\n",
       "      <td>550000.0</td>\n",
       "      <td>4.0</td>\n",
       "      <td>2.50</td>\n",
       "      <td>1940</td>\n",
       "      <td>10500</td>\n",
       "      <td>1.0</td>\n",
       "      <td>0</td>\n",
       "      <td>0</td>\n",
       "      <td>4</td>\n",
       "      <td>1140</td>\n",
       "      <td>800</td>\n",
       "      <td>1976</td>\n",
       "      <td>1992</td>\n",
       "      <td>31</td>\n",
       "      <td>31</td>\n",
       "    </tr>\n",
       "    <tr>\n",
       "      <th>4</th>\n",
       "      <td>490000.0</td>\n",
       "      <td>2.0</td>\n",
       "      <td>1.00</td>\n",
       "      <td>880</td>\n",
       "      <td>6380</td>\n",
       "      <td>1.0</td>\n",
       "      <td>0</td>\n",
       "      <td>0</td>\n",
       "      <td>3</td>\n",
       "      <td>880</td>\n",
       "      <td>0</td>\n",
       "      <td>1938</td>\n",
       "      <td>1994</td>\n",
       "      <td>35</td>\n",
       "      <td>54</td>\n",
       "    </tr>\n",
       "  </tbody>\n",
       "</table>\n",
       "</div>"
      ],
      "text/plain": [
       "      price  bedrooms  bathrooms  sqft_living  sqft_lot  floors  waterfront  \\\n",
       "0  313000.0       3.0       1.50         1340      7912     1.5           0   \n",
       "1  342000.0       3.0       2.00         1930     11947     1.0           0   \n",
       "2  420000.0       3.0       2.25         2000      8030     1.0           0   \n",
       "3  550000.0       4.0       2.50         1940     10500     1.0           0   \n",
       "4  490000.0       2.0       1.00          880      6380     1.0           0   \n",
       "\n",
       "   view  condition  sqft_above  sqft_basement  yr_built  yr_renovated  city  \\\n",
       "0     0          3        1340              0      1955          2005    36   \n",
       "1     0          4        1930              0      1966             0    18   \n",
       "2     0          4        1000           1000      1963             0     3   \n",
       "3     0          4        1140            800      1976          1992    31   \n",
       "4     0          3         880              0      1938          1994    35   \n",
       "\n",
       "   statezip  \n",
       "0        62  \n",
       "1        26  \n",
       "2         7  \n",
       "3        31  \n",
       "4        54  "
      ]
     },
     "execution_count": 33,
     "metadata": {},
     "output_type": "execute_result"
    }
   ],
   "source": [
    "# Removing outliers\n",
    "housing_df = housing_df.drop(housing_df[housing_df[\"price\"] < 1000].index).reset_index(drop=True)\n",
    "housing_df = housing_df.drop(housing_df[housing_df[\"price\"] > 2000000].index).reset_index(drop=True)\n",
    "print(housing_df.shape)\n",
    "housing_df.head()"
   ]
  },
  {
   "cell_type": "code",
   "execution_count": 34,
   "metadata": {},
   "outputs": [
    {
     "name": "stdout",
     "output_type": "stream",
     "text": [
      "(4504, 14)\n",
      "(4504,)\n"
     ]
    }
   ],
   "source": [
    "x = housing_df.drop(\"price\", axis=1)\n",
    "y = housing_df.price\n",
    "\n",
    "print(x.shape)\n",
    "print(y.shape)"
   ]
  },
  {
   "cell_type": "code",
   "execution_count": 35,
   "metadata": {},
   "outputs": [],
   "source": [
    "train_data,test_data=train_test_split(housing_df,train_size=0.2,random_state=3)\n",
    "\n",
    "x_train=np.array(train_data['sqft_living']).reshape(-1,1)\n",
    "y_train=np.array(train_data['price']).reshape(-1,1)\n",
    "x_test=np.array(test_data['sqft_living']).reshape(-1,1)\n",
    "y_test=np.array(test_data['price']).reshape(-1,1)\n"
   ]
  },
  {
   "cell_type": "code",
   "execution_count": 36,
   "metadata": {},
   "outputs": [],
   "source": [
    "import numpy as np\n",
    "from sklearn.linear_model import LinearRegression\n",
    "import tensorflow as tf"
   ]
  },
  {
   "cell_type": "code",
   "execution_count": 37,
   "metadata": {},
   "outputs": [
    {
     "data": {
      "text/plain": [
       "LinearRegression(copy_X=True, fit_intercept=True, n_jobs=None, normalize=False)"
      ]
     },
     "execution_count": 37,
     "metadata": {},
     "output_type": "execute_result"
    }
   ],
   "source": [
    "reg = LinearRegression()\n",
    "reg.fit(x_train,y_train)"
   ]
  },
  {
   "cell_type": "code",
   "execution_count": 38,
   "metadata": {},
   "outputs": [],
   "source": [
    "pred = reg.predict(x_test)"
   ]
  },
  {
   "cell_type": "code",
   "execution_count": 39,
   "metadata": {},
   "outputs": [
    {
     "name": "stdout",
     "output_type": "stream",
     "text": [
      "Accuracy: 0.4505877490127017\n"
     ]
    }
   ],
   "source": [
    "accuracy = reg.score(x_test, y_test)\n",
    "print(f\"Accuracy: {accuracy}\")"
   ]
  },
  {
   "cell_type": "code",
   "execution_count": 40,
   "metadata": {},
   "outputs": [
    {
     "name": "stdout",
     "output_type": "stream",
     "text": [
      "MSE: $214014.24\n",
      "MAE: $396.43\n"
     ]
    }
   ],
   "source": [
    "mse=metrics.mean_squared_error(y_test,pred)\n",
    "print(f\"MSE: ${round(np.sqrt(mse),2)}\")\n",
    "\n",
    "mae=metrics.mean_absolute_error(y_test, pred)\n",
    "print(f\"MAE: ${round(np.sqrt(mae),2)}\")\n"
   ]
  },
  {
   "cell_type": "code",
   "execution_count": 41,
   "metadata": {},
   "outputs": [],
   "source": [
    "model = tf.keras.Sequential([\n",
    "    tf.keras.layers.Dense(128, activation='relu', input_shape=[x_train.shape[1]]),\n",
    "    tf.keras.layers.Dense(64, activation='relu'),\n",
    "    tf.keras.layers.Dense(32, activation='relu'),\n",
    "    tf.keras.layers.Dense(16, activation='relu'),\n",
    "    tf.keras.layers.Dense(8, activation='relu'),\n",
    "    tf.keras.layers.Dense(1)\n",
    "    ]) "
   ]
  },
  {
   "cell_type": "code",
   "execution_count": 42,
   "metadata": {},
   "outputs": [],
   "source": [
    "optimizer = tf.keras.optimizers.RMSprop(.0001)\n",
    "model.compile(optimizer=optimizer, loss='mse',metrics=['mae', 'mse'])"
   ]
  },
  {
   "cell_type": "code",
   "execution_count": 43,
   "metadata": {},
   "outputs": [
    {
     "name": "stdout",
     "output_type": "stream",
     "text": [
      "Model: \"sequential\"\n",
      "_________________________________________________________________\n",
      "Layer (type)                 Output Shape              Param #   \n",
      "=================================================================\n",
      "dense (Dense)                (None, 128)               256       \n",
      "_________________________________________________________________\n",
      "dense_1 (Dense)              (None, 64)                8256      \n",
      "_________________________________________________________________\n",
      "dense_2 (Dense)              (None, 32)                2080      \n",
      "_________________________________________________________________\n",
      "dense_3 (Dense)              (None, 16)                528       \n",
      "_________________________________________________________________\n",
      "dense_4 (Dense)              (None, 8)                 136       \n",
      "_________________________________________________________________\n",
      "dense_5 (Dense)              (None, 1)                 9         \n",
      "=================================================================\n",
      "Total params: 11,265\n",
      "Trainable params: 11,265\n",
      "Non-trainable params: 0\n",
      "_________________________________________________________________\n"
     ]
    }
   ],
   "source": [
    "model.summary()"
   ]
  },
  {
   "cell_type": "code",
   "execution_count": 44,
   "metadata": {},
   "outputs": [
    {
     "name": "stdout",
     "output_type": "stream",
     "text": [
      "Train on 720 samples, validate on 180 samples\n",
      "Epoch 1/300\n",
      "720/720 [==============================] - 1s 2ms/sample - loss: 374691422754.1333 - mae: 538285.0000 - mse: 374691397632.0000 - val_loss: 378312279836.4445 - val_mae: 532226.8750 - val_mse: 378312261632.0000\n",
      "Epoch 2/300\n",
      "720/720 [==============================] - 0s 114us/sample - loss: 374503008574.5778 - mae: 538133.7500 - mse: 374502981632.0000 - val_loss: 378141784655.6445 - val_mae: 532087.4375 - val_mse: 378141802496.0000\n",
      "Epoch 3/300\n",
      "720/720 [==============================] - 0s 116us/sample - loss: 374320547612.4445 - mae: 537989.2500 - mse: 374320529408.0000 - val_loss: 377960867066.3111 - val_mae: 531939.5625 - val_mse: 377960857600.0000\n",
      "Epoch 4/300\n",
      "720/720 [==============================] - 0s 115us/sample - loss: 374126134340.2667 - mae: 537833.5000 - mse: 374126149632.0000 - val_loss: 377768472302.9333 - val_mae: 531782.1875 - val_mse: 377768476672.0000\n",
      "Epoch 5/300\n",
      "720/720 [==============================] - 0s 114us/sample - loss: 373911457336.8889 - mae: 537659.3750 - mse: 373911453696.0000 - val_loss: 377540190025.9556 - val_mae: 531595.3125 - val_mse: 377540182016.0000\n",
      "Epoch 6/300\n",
      "720/720 [==============================] - 0s 116us/sample - loss: 373650397593.6000 - mae: 537452.2500 - mse: 373650423808.0000 - val_loss: 377272393545.9556 - val_mae: 531376.0625 - val_mse: 377272401920.0000\n",
      "Epoch 7/300\n",
      "720/720 [==============================] - 0s 118us/sample - loss: 373371641673.9556 - mae: 537224.4375 - mse: 373371633664.0000 - val_loss: 376993708259.5555 - val_mae: 531147.8750 - val_mse: 376993677312.0000\n",
      "Epoch 8/300\n",
      "720/720 [==============================] - 0s 118us/sample - loss: 373054022178.1333 - mae: 536974.0625 - mse: 373054013440.0000 - val_loss: 376666743694.2222 - val_mae: 530879.9375 - val_mse: 376666750976.0000\n",
      "Epoch 9/300\n",
      "720/720 [==============================] - 0s 118us/sample - loss: 372699600577.4222 - mae: 536686.1250 - mse: 372699594752.0000 - val_loss: 376313219208.5333 - val_mae: 530590.1250 - val_mse: 376313217024.0000\n",
      "Epoch 10/300\n",
      "720/720 [==============================] - 0s 116us/sample - loss: 372303314579.9111 - mae: 536368.2500 - mse: 372303298560.0000 - val_loss: 375902932536.8889 - val_mae: 530253.5625 - val_mse: 375902928896.0000\n",
      "Epoch 11/300\n",
      "720/720 [==============================] - 0s 114us/sample - loss: 371842814953.2444 - mae: 536004.7500 - mse: 371842809856.0000 - val_loss: 375431271401.2444 - val_mae: 529866.3750 - val_mse: 375431299072.0000\n",
      "Epoch 12/300\n",
      "720/720 [==============================] - 0s 121us/sample - loss: 371340992694.0444 - mae: 535599.4375 - mse: 371340935168.0000 - val_loss: 374929836896.7111 - val_mae: 529454.5000 - val_mse: 374929850368.0000\n",
      "Epoch 13/300\n",
      "720/720 [==============================] - 0s 116us/sample - loss: 370782904137.9556 - mae: 535146.6875 - mse: 370782863360.0000 - val_loss: 374360568263.1111 - val_mae: 528986.4375 - val_mse: 374360539136.0000\n",
      "Epoch 14/300\n",
      "720/720 [==============================] - 0s 121us/sample - loss: 370150569119.2889 - mae: 534643.8750 - mse: 370150604800.0000 - val_loss: 373709931952.3555 - val_mae: 528451.0000 - val_mse: 373709930496.0000\n",
      "Epoch 15/300\n",
      "720/720 [==============================] - 0s 114us/sample - loss: 369458964070.4000 - mae: 534079.3125 - mse: 369458937856.0000 - val_loss: 373016786079.2889 - val_mae: 527880.0000 - val_mse: 373016788992.0000\n",
      "Epoch 16/300\n",
      "720/720 [==============================] - 0s 116us/sample - loss: 368688136920.1778 - mae: 533461.1250 - mse: 368688168960.0000 - val_loss: 372239345618.4889 - val_mae: 527238.8125 - val_mse: 372239368192.0000\n",
      "Epoch 17/300\n",
      "720/720 [==============================] - 0s 115us/sample - loss: 367823449110.7556 - mae: 532772.5625 - mse: 367823421440.0000 - val_loss: 371377035309.5111 - val_mae: 526526.6875 - val_mse: 371377012736.0000\n",
      "Epoch 18/300\n",
      "720/720 [==============================] - 0s 114us/sample - loss: 366904883427.5555 - mae: 532022.2500 - mse: 366904836096.0000 - val_loss: 370459891393.4222 - val_mae: 525768.2500 - val_mse: 370459901952.0000\n",
      "Epoch 19/300\n",
      "720/720 [==============================] - 0s 112us/sample - loss: 365921142192.3555 - mae: 531208.6250 - mse: 365921107968.0000 - val_loss: 369460531108.9778 - val_mae: 524940.5625 - val_mse: 369460510720.0000\n",
      "Epoch 20/300\n",
      "720/720 [==============================] - 0s 115us/sample - loss: 364810650692.2667 - mae: 530309.2500 - mse: 364810633216.0000 - val_loss: 368339154079.2889 - val_mae: 524010.2812 - val_mse: 368339156992.0000\n",
      "Epoch 21/300\n",
      "720/720 [==============================] - 0s 115us/sample - loss: 363569158553.6000 - mae: 529311.5625 - mse: 363569217536.0000 - val_loss: 367089107672.1778 - val_mae: 522971.3438 - val_mse: 367089123328.0000\n",
      "Epoch 22/300\n",
      "720/720 [==============================] - 0s 115us/sample - loss: 362217933664.7111 - mae: 528220.3125 - mse: 362217897984.0000 - val_loss: 365730154268.4445 - val_mae: 521839.4375 - val_mse: 365730168832.0000\n",
      "Epoch 23/300\n",
      "720/720 [==============================] - 0s 114us/sample - loss: 360763883520.0000 - mae: 527017.0000 - mse: 360763883520.0000 - val_loss: 364265199297.4222 - val_mae: 520616.5625 - val_mse: 364265242624.0000\n",
      "Epoch 24/300\n",
      "720/720 [==============================] - 0s 115us/sample - loss: 359140696610.1333 - mae: 525706.5625 - mse: 359140655104.0000 - val_loss: 362630636794.3111 - val_mae: 519248.6562 - val_mse: 362630610944.0000\n",
      "Epoch 25/300\n",
      "720/720 [==============================] - 0s 116us/sample - loss: 357410446449.7778 - mae: 524261.1562 - mse: 357410439168.0000 - val_loss: 360919399719.8222 - val_mae: 517812.7500 - val_mse: 360919400448.0000\n",
      "Epoch 26/300\n",
      "720/720 [==============================] - 0s 114us/sample - loss: 355510610238.5778 - mae: 522726.6562 - mse: 355510648832.0000 - val_loss: 359003417986.8444 - val_mae: 516200.3125 - val_mse: 359003422720.0000\n",
      "Epoch 27/300\n",
      "720/720 [==============================] - 0s 116us/sample - loss: 353472075821.5111 - mae: 521039.7188 - mse: 353472020480.0000 - val_loss: 356980064256.0000 - val_mae: 514492.0000 - val_mse: 356980064256.0000\n",
      "Epoch 28/300\n",
      "720/720 [==============================] - 0s 116us/sample - loss: 351274640634.3111 - mae: 519230.1250 - mse: 351274598400.0000 - val_loss: 354801231098.3111 - val_mae: 512646.0312 - val_mse: 354801254400.0000\n",
      "Epoch 29/300\n",
      "720/720 [==============================] - 0s 121us/sample - loss: 348951393803.3777 - mae: 517269.6875 - mse: 348951445504.0000 - val_loss: 352458937685.3333 - val_mae: 510654.1875 - val_mse: 352458932224.0000\n",
      "Epoch 30/300\n",
      "720/720 [==============================] - 0s 119us/sample - loss: 346381939143.1111 - mae: 515142.2188 - mse: 346381942784.0000 - val_loss: 349902752972.8000 - val_mae: 508471.5625 - val_mse: 349902766080.0000\n",
      "Epoch 31/300\n",
      "720/720 [==============================] - 0s 118us/sample - loss: 343647458281.2444 - mae: 512848.6250 - mse: 343647420416.0000 - val_loss: 347258903301.6889 - val_mae: 506204.1875 - val_mse: 347258880000.0000\n",
      "Epoch 32/300\n",
      "720/720 [==============================] - 0s 118us/sample - loss: 340787467241.2444 - mae: 510429.0625 - mse: 340787462144.0000 - val_loss: 344348233636.9778 - val_mae: 503696.0938 - val_mse: 344348229632.0000\n",
      "Epoch 33/300\n",
      "720/720 [==============================] - 0s 112us/sample - loss: 337677304172.0889 - mae: 507802.5625 - mse: 337677320192.0000 - val_loss: 341281222382.9333 - val_mae: 501039.8750 - val_mse: 341281210368.0000\n",
      "Epoch 34/300\n",
      "720/720 [==============================] - 0s 114us/sample - loss: 334368868488.5333 - mae: 504967.7188 - mse: 334368899072.0000 - val_loss: 337992758795.3778 - val_mae: 498175.9688 - val_mse: 337992744960.0000\n",
      "Epoch 35/300\n",
      "720/720 [==============================] - 0s 114us/sample - loss: 330771764565.3334 - mae: 501952.5312 - mse: 330771726336.0000 - val_loss: 334420093610.6667 - val_mae: 495045.9062 - val_mse: 334420115456.0000\n",
      "Epoch 36/300\n",
      "720/720 [==============================] - 0s 114us/sample - loss: 327013954719.2889 - mae: 498675.0312 - mse: 327013957632.0000 - val_loss: 330671666699.3778 - val_mae: 491740.3438 - val_mse: 330671652864.0000\n",
      "Epoch 37/300\n"
     ]
    },
    {
     "name": "stdout",
     "output_type": "stream",
     "text": [
      "720/720 [==============================] - 0s 114us/sample - loss: 322994018713.6000 - mae: 495199.1875 - mse: 322994012160.0000 - val_loss: 326680534129.7778 - val_mae: 488196.2188 - val_mse: 326680510464.0000\n",
      "Epoch 38/300\n",
      "720/720 [==============================] - 0s 115us/sample - loss: 318746192190.5778 - mae: 491458.3438 - mse: 318746165248.0000 - val_loss: 322487165474.1334 - val_mae: 484444.5625 - val_mse: 322487156736.0000\n",
      "Epoch 39/300\n",
      "720/720 [==============================] - 0s 114us/sample - loss: 314189994029.5111 - mae: 487479.5000 - mse: 314190004224.0000 - val_loss: 317887194362.3111 - val_mae: 480295.5000 - val_mse: 317887217664.0000\n",
      "Epoch 40/300\n",
      "720/720 [==============================] - 0s 114us/sample - loss: 309398197589.3334 - mae: 483178.2812 - mse: 309398208512.0000 - val_loss: 313310762325.3333 - val_mae: 476131.8125 - val_mse: 313310773248.0000\n",
      "Epoch 41/300\n",
      "720/720 [==============================] - 0s 114us/sample - loss: 304398124100.2667 - mae: 478692.2188 - mse: 304398106624.0000 - val_loss: 308235661038.9333 - val_mae: 471471.3750 - val_mse: 308235665408.0000\n",
      "Epoch 42/300\n",
      "720/720 [==============================] - 0s 114us/sample - loss: 299081038415.6445 - mae: 473827.8750 - mse: 299081007104.0000 - val_loss: 303016924501.3333 - val_mae: 466630.6562 - val_mse: 303016902656.0000\n",
      "Epoch 43/300\n",
      "720/720 [==============================] - 0s 115us/sample - loss: 293446942720.0000 - mae: 468738.5312 - mse: 293446942720.0000 - val_loss: 297414838044.4445 - val_mae: 461377.7812 - val_mse: 297414819840.0000\n",
      "Epoch 44/300\n",
      "720/720 [==============================] - 0s 115us/sample - loss: 287588911604.6223 - mae: 463262.7188 - mse: 287588909056.0000 - val_loss: 291645784428.0889 - val_mae: 455905.0625 - val_mse: 291645816832.0000\n",
      "Epoch 45/300\n",
      "720/720 [==============================] - 0s 114us/sample - loss: 281301283271.1111 - mae: 457474.9375 - mse: 281301254144.0000 - val_loss: 285485637814.0444 - val_mae: 449988.0312 - val_mse: 285485629440.0000\n",
      "Epoch 46/300\n",
      "720/720 [==============================] - 0s 115us/sample - loss: 274819576263.1111 - mae: 451311.8750 - mse: 274819612672.0000 - val_loss: 279141735901.8666 - val_mae: 443812.0312 - val_mse: 279141744640.0000\n",
      "Epoch 47/300\n",
      "720/720 [==============================] - 0s 114us/sample - loss: 268106557758.5778 - mae: 444806.0938 - mse: 268106547200.0000 - val_loss: 272369744827.7333 - val_mae: 437123.1250 - val_mse: 272369762304.0000\n",
      "Epoch 48/300\n",
      "720/720 [==============================] - 0s 115us/sample - loss: 261057815802.3111 - mae: 437863.9062 - mse: 261057822720.0000 - val_loss: 265442134880.7111 - val_mae: 430172.8750 - val_mse: 265442115584.0000\n",
      "Epoch 49/300\n",
      "720/720 [==============================] - 0s 115us/sample - loss: 253638329412.2667 - mae: 430573.2812 - mse: 253638295552.0000 - val_loss: 258170596192.7111 - val_mae: 422754.7500 - val_mse: 258170601472.0000\n",
      "Epoch 50/300\n",
      "720/720 [==============================] - 0s 114us/sample - loss: 246071984128.0000 - mae: 422786.7500 - mse: 246071984128.0000 - val_loss: 250848233608.5333 - val_mae: 415150.9375 - val_mse: 250848231424.0000\n",
      "Epoch 51/300\n",
      "720/720 [==============================] - 0s 114us/sample - loss: 238105585982.5778 - mae: 414729.9688 - mse: 238105608192.0000 - val_loss: 242811967897.6000 - val_mae: 406642.3438 - val_mse: 242811961344.0000\n",
      "Epoch 52/300\n",
      "720/720 [==============================] - 0s 115us/sample - loss: 230027459151.6444 - mae: 405957.5625 - mse: 230027427840.0000 - val_loss: 235050717457.0667 - val_mae: 398252.4375 - val_mse: 235050713088.0000\n",
      "Epoch 53/300\n",
      "720/720 [==============================] - 0s 114us/sample - loss: 221422460745.9555 - mae: 396986.6250 - mse: 221422436352.0000 - val_loss: 226379551539.2000 - val_mae: 388664.9688 - val_mse: 226379546624.0000\n",
      "Epoch 54/300\n",
      "720/720 [==============================] - 0s 114us/sample - loss: 212604646923.3777 - mae: 387190.6562 - mse: 212604649472.0000 - val_loss: 217880680857.6000 - val_mae: 379119.1562 - val_mse: 217880690688.0000\n",
      "Epoch 55/300\n",
      "720/720 [==============================] - 0s 115us/sample - loss: 203667618383.6444 - mae: 377100.0938 - mse: 203667619840.0000 - val_loss: 209099417918.5778 - val_mae: 369115.8125 - val_mse: 209099423744.0000\n",
      "Epoch 56/300\n",
      "720/720 [==============================] - 0s 115us/sample - loss: 194716969642.6667 - mae: 366529.8125 - mse: 194716975104.0000 - val_loss: 200204734555.0222 - val_mae: 358692.6875 - val_mse: 200204730368.0000\n",
      "Epoch 57/300\n",
      "720/720 [==============================] - 0s 114us/sample - loss: 185478017479.1111 - mae: 355316.5625 - mse: 185477988352.0000 - val_loss: 191296611396.2667 - val_mae: 347933.9062 - val_mse: 191296618496.0000\n",
      "Epoch 58/300\n",
      "720/720 [==============================] - 0s 115us/sample - loss: 175963572360.5333 - mae: 343806.8125 - mse: 175963570176.0000 - val_loss: 181778384668.4445 - val_mae: 336048.8750 - val_mse: 181778382848.0000\n",
      "Epoch 59/300\n",
      "720/720 [==============================] - 0s 115us/sample - loss: 166165074557.1555 - mae: 331534.6562 - mse: 166165086208.0000 - val_loss: 172328135156.6222 - val_mae: 323806.9688 - val_mse: 172328140800.0000\n",
      "Epoch 60/300\n",
      "720/720 [==============================] - 0s 114us/sample - loss: 156623532123.0222 - mae: 318923.5938 - mse: 156623552512.0000 - val_loss: 162947527839.2889 - val_mae: 311294.4062 - val_mse: 162947530752.0000\n",
      "Epoch 61/300\n",
      "720/720 [==============================] - 0s 112us/sample - loss: 147042081541.6889 - mae: 305696.5000 - mse: 147042058240.0000 - val_loss: 153720961160.5333 - val_mae: 298783.9375 - val_mse: 153720946688.0000\n",
      "Epoch 62/300\n",
      "720/720 [==============================] - 0s 115us/sample - loss: 137294059201.4222 - mae: 292274.3750 - mse: 137294061568.0000 - val_loss: 144133496740.9778 - val_mae: 285457.7500 - val_mse: 144133488640.0000\n",
      "Epoch 63/300\n",
      "720/720 [==============================] - 0s 115us/sample - loss: 127838158483.9111 - mae: 278428.3438 - mse: 127838142464.0000 - val_loss: 134739648603.0222 - val_mae: 272239.7812 - val_mse: 134739640320.0000\n",
      "Epoch 64/300\n",
      "720/720 [==============================] - 0s 114us/sample - loss: 118172667812.9778 - mae: 264045.2188 - mse: 118172663808.0000 - val_loss: 125448958134.0444 - val_mae: 258560.6719 - val_mse: 125448953856.0000\n",
      "Epoch 65/300\n",
      "720/720 [==============================] - 0s 115us/sample - loss: 108827209819.0222 - mae: 249817.3281 - mse: 108827197440.0000 - val_loss: 116193453488.3556 - val_mae: 244317.9844 - val_mse: 116193460224.0000\n",
      "Epoch 66/300\n",
      "720/720 [==============================] - 0s 115us/sample - loss: 100024952058.3111 - mae: 236252.4375 - mse: 100024942592.0000 - val_loss: 107869287128.1778 - val_mae: 231489.8594 - val_mse: 107869282304.0000\n",
      "Epoch 67/300\n",
      "720/720 [==============================] - 0s 114us/sample - loss: 91464486638.9333 - mae: 223519.9844 - mse: 91464491008.0000 - val_loss: 99267232290.1333 - val_mae: 217918.5312 - val_mse: 99267231744.0000\n",
      "Epoch 68/300\n",
      "720/720 [==============================] - 0s 118us/sample - loss: 83242240682.6667 - mae: 211158.0156 - mse: 83242246144.0000 - val_loss: 91232155875.5556 - val_mae: 204688.6250 - val_mse: 91232157696.0000\n",
      "Epoch 69/300\n",
      "720/720 [==============================] - 0s 143us/sample - loss: 75367384132.2667 - mae: 200217.8906 - mse: 75367374848.0000 - val_loss: 83686105725.1555 - val_mae: 191929.6250 - val_mse: 83686105088.0000\n",
      "Epoch 70/300\n",
      "720/720 [==============================] - 0s 140us/sample - loss: 68279184702.5778 - mae: 189694.1094 - mse: 68279173120.0000 - val_loss: 76975181687.4667 - val_mae: 181242.9531 - val_mse: 76975185920.0000\n",
      "Epoch 71/300\n",
      "720/720 [==============================] - 0s 132us/sample - loss: 62241915790.2222 - mae: 180331.7188 - mse: 62241910784.0000 - val_loss: 71029503863.4667 - val_mae: 171648.1250 - val_mse: 71029506048.0000\n",
      "Epoch 72/300\n",
      "720/720 [==============================] - 0s 129us/sample - loss: 56744508939.3778 - mae: 172856.5469 - mse: 56744505344.0000 - val_loss: 65652737865.9556 - val_mae: 164287.4219 - val_mse: 65652740096.0000\n",
      "Epoch 73/300\n",
      "720/720 [==============================] - 0s 132us/sample - loss: 52204315716.2667 - mae: 166501.1406 - mse: 52204318720.0000 - val_loss: 61280939440.3556 - val_mae: 158941.1250 - val_mse: 61280935936.0000\n"
     ]
    },
    {
     "name": "stdout",
     "output_type": "stream",
     "text": [
      "Epoch 74/300\n",
      "720/720 [==============================] - 0s 126us/sample - loss: 48717519075.5556 - mae: 161077.4375 - mse: 48717524992.0000 - val_loss: 57777698679.4667 - val_mae: 155399.5781 - val_mse: 57777700864.0000\n",
      "Epoch 75/300\n",
      "720/720 [==============================] - 0s 127us/sample - loss: 46146557223.8222 - mae: 157992.9375 - mse: 46146560000.0000 - val_loss: 55538678397.1556 - val_mae: 153804.3438 - val_mse: 55538679808.0000\n",
      "Epoch 76/300\n",
      "720/720 [==============================] - 0s 127us/sample - loss: 44863171606.7556 - mae: 156577.0469 - mse: 44863168512.0000 - val_loss: 54318936473.6000 - val_mae: 153849.6719 - val_mse: 54318931968.0000\n",
      "Epoch 77/300\n",
      "720/720 [==============================] - 0s 132us/sample - loss: 44157539032.1778 - mae: 156022.6406 - mse: 44157542400.0000 - val_loss: 53603359948.8000 - val_mae: 154175.9531 - val_mse: 53603360768.0000\n",
      "Epoch 78/300\n",
      "720/720 [==============================] - 0s 129us/sample - loss: 43881447059.9111 - mae: 156064.9844 - mse: 43881451520.0000 - val_loss: 53269936355.5556 - val_mae: 154741.0938 - val_mse: 53269938176.0000\n",
      "Epoch 79/300\n",
      "720/720 [==============================] - 0s 127us/sample - loss: 43786662980.2667 - mae: 156179.4375 - mse: 43786661888.0000 - val_loss: 53161342566.4000 - val_mae: 155018.2188 - val_mse: 53161345024.0000\n",
      "Epoch 80/300\n",
      "720/720 [==============================] - 0s 118us/sample - loss: 43753174539.3778 - mae: 156163.8281 - mse: 43753172992.0000 - val_loss: 53127198401.4222 - val_mae: 155117.6719 - val_mse: 53127204864.0000\n",
      "Epoch 81/300\n",
      "720/720 [==============================] - 0s 133us/sample - loss: 43754687965.8667 - mae: 156151.5312 - mse: 43754684416.0000 - val_loss: 52983678202.3111 - val_mae: 155586.5000 - val_mse: 52983676928.0000\n",
      "Epoch 82/300\n",
      "720/720 [==============================] - 0s 127us/sample - loss: 43734292343.4667 - mae: 156160.7656 - mse: 43734290432.0000 - val_loss: 52894239220.6222 - val_mae: 155947.6719 - val_mse: 52894240768.0000\n",
      "Epoch 83/300\n",
      "720/720 [==============================] - 0s 129us/sample - loss: 43712090749.1556 - mae: 156251.9688 - mse: 43712081920.0000 - val_loss: 52842157397.3333 - val_mae: 156217.0781 - val_mse: 52842156032.0000\n",
      "Epoch 84/300\n",
      "720/720 [==============================] - 0s 129us/sample - loss: 43708158407.1111 - mae: 156222.7344 - mse: 43708157952.0000 - val_loss: 52840102661.6889 - val_mae: 156229.2969 - val_mse: 52840103936.0000\n",
      "Epoch 85/300\n",
      "720/720 [==============================] - 0s 129us/sample - loss: 43703949175.4667 - mae: 156420.9844 - mse: 43703951360.0000 - val_loss: 52871125219.5556 - val_mae: 156059.5156 - val_mse: 52871118848.0000\n",
      "Epoch 86/300\n",
      "720/720 [==============================] - 0s 127us/sample - loss: 43716827909.6889 - mae: 156374.4844 - mse: 43716829184.0000 - val_loss: 52901371539.9111 - val_mae: 155916.6719 - val_mse: 52901376000.0000\n",
      "Epoch 87/300\n",
      "720/720 [==============================] - 0s 126us/sample - loss: 43698098449.0667 - mae: 156288.7656 - mse: 43698098176.0000 - val_loss: 52899701100.0889 - val_mae: 155923.9062 - val_mse: 52899704832.0000\n",
      "Epoch 88/300\n",
      "720/720 [==============================] - 0s 132us/sample - loss: 43733054441.2444 - mae: 156178.8438 - mse: 43733057536.0000 - val_loss: 52902573215.2889 - val_mae: 155911.5000 - val_mse: 52902567936.0000\n",
      "Epoch 89/300\n",
      "720/720 [==============================] - 0s 139us/sample - loss: 43690594030.9333 - mae: 156308.8594 - mse: 43690602496.0000 - val_loss: 52979476252.4444 - val_mae: 155602.2812 - val_mse: 52979478528.0000\n",
      "Epoch 90/300\n",
      "720/720 [==============================] - 0s 134us/sample - loss: 43719783219.2000 - mae: 156240.4375 - mse: 43719782400.0000 - val_loss: 52943032411.0222 - val_mae: 155743.8125 - val_mse: 52943032320.0000\n",
      "Epoch 91/300\n",
      "720/720 [==============================] - 0s 140us/sample - loss: 43683495207.8222 - mae: 156226.4844 - mse: 43683491840.0000 - val_loss: 53060172913.7778 - val_mae: 155323.6406 - val_mse: 53060177920.0000\n",
      "Epoch 92/300\n",
      "720/720 [==============================] - 0s 134us/sample - loss: 43743070799.6444 - mae: 156180.6719 - mse: 43743068160.0000 - val_loss: 52906939915.3778 - val_mae: 155892.8125 - val_mse: 52906938368.0000\n",
      "Epoch 93/300\n",
      "720/720 [==============================] - 0s 130us/sample - loss: 43720055011.5556 - mae: 156268.5781 - mse: 43720052736.0000 - val_loss: 52898142435.5556 - val_mae: 155930.6406 - val_mse: 52898148352.0000\n",
      "Epoch 94/300\n",
      "720/720 [==============================] - 0s 129us/sample - loss: 43732655126.7556 - mae: 156257.4375 - mse: 43732652032.0000 - val_loss: 52898790877.8667 - val_mae: 155927.8281 - val_mse: 52898787328.0000\n",
      "Epoch 95/300\n",
      "720/720 [==============================] - 0s 129us/sample - loss: 43711022330.3111 - mae: 156157.2031 - mse: 43711025152.0000 - val_loss: 52892121497.6000 - val_mae: 155956.9062 - val_mse: 52892123136.0000\n",
      "Epoch 96/300\n",
      "720/720 [==============================] - 0s 127us/sample - loss: 43722789319.1111 - mae: 156258.5781 - mse: 43722788864.0000 - val_loss: 52847919195.0222 - val_mae: 156183.2188 - val_mse: 52847923200.0000\n",
      "Epoch 97/300\n",
      "720/720 [==============================] - 0s 129us/sample - loss: 43705318331.7333 - mae: 156190.3594 - mse: 43705319424.0000 - val_loss: 52795209773.5111 - val_mae: 156522.8281 - val_mse: 52795211776.0000\n",
      "Epoch 98/300\n",
      "720/720 [==============================] - 0s 126us/sample - loss: 43710544918.7556 - mae: 156395.8594 - mse: 43710545920.0000 - val_loss: 52783281402.3111 - val_mae: 156615.5625 - val_mse: 52783284224.0000\n",
      "Epoch 99/300\n",
      "720/720 [==============================] - 0s 132us/sample - loss: 43710369518.9333 - mae: 156544.7500 - mse: 43710373888.0000 - val_loss: 52910251849.9556 - val_mae: 155878.7188 - val_mse: 52910247936.0000\n",
      "Epoch 100/300\n",
      "720/720 [==============================] - 0s 129us/sample - loss: 43681925347.5556 - mae: 156205.4062 - mse: 43681927168.0000 - val_loss: 52930763616.7111 - val_mae: 155793.3594 - val_mse: 52930764800.0000\n",
      "Epoch 101/300\n",
      "720/720 [==============================] - 0s 129us/sample - loss: 43720535062.7556 - mae: 156176.7031 - mse: 43720536064.0000 - val_loss: 52864915410.4889 - val_mae: 156091.4688 - val_mse: 52864913408.0000\n",
      "Epoch 102/300\n",
      "720/720 [==============================] - 0s 127us/sample - loss: 43735715111.8222 - mae: 156385.2500 - mse: 43735715840.0000 - val_loss: 52837994587.0222 - val_mae: 156241.7812 - val_mse: 52837994496.0000\n",
      "Epoch 103/300\n",
      "720/720 [==============================] - 0s 129us/sample - loss: 43706616854.7556 - mae: 156343.9844 - mse: 43706617856.0000 - val_loss: 52866726206.5778 - val_mae: 156082.0625 - val_mse: 52866727936.0000\n",
      "Epoch 104/300\n",
      "720/720 [==============================] - 0s 129us/sample - loss: 43716594164.6222 - mae: 156382.8750 - mse: 43716595712.0000 - val_loss: 52935120304.3556 - val_mae: 155775.6406 - val_mse: 52935122944.0000\n",
      "Epoch 105/300\n",
      "720/720 [==============================] - 0s 126us/sample - loss: 43698050753.4222 - mae: 156282.8438 - mse: 43698049024.0000 - val_loss: 52962537107.9111 - val_mae: 155667.0469 - val_mse: 52962537472.0000\n",
      "Epoch 106/300\n",
      "720/720 [==============================] - 0s 129us/sample - loss: 43717505615.6444 - mae: 156243.0938 - mse: 43717496832.0000 - val_loss: 52878964053.3333 - val_mae: 156019.6562 - val_mse: 52878966784.0000\n",
      "Epoch 107/300\n",
      "720/720 [==============================] - 0s 129us/sample - loss: 43728417496.1778 - mae: 156417.4219 - mse: 43728420864.0000 - val_loss: 52875894875.0222 - val_mae: 156035.1406 - val_mse: 52875894784.0000\n",
      "Epoch 108/300\n",
      "720/720 [==============================] - 0s 129us/sample - loss: 43716427320.8889 - mae: 156252.4688 - mse: 43716427776.0000 - val_loss: 52905734235.0222 - val_mae: 155897.9062 - val_mse: 52905738240.0000\n",
      "Epoch 109/300\n",
      "720/720 [==============================] - 0s 126us/sample - loss: 43691444633.6000 - mae: 156289.4375 - mse: 43691446272.0000 - val_loss: 52994024607.2889 - val_mae: 155547.8906 - val_mse: 52994023424.0000\n",
      "Epoch 110/300\n",
      "720/720 [==============================] - 0s 130us/sample - loss: 43715935618.8444 - mae: 156229.2188 - mse: 43715928064.0000 - val_loss: 52978276579.5556 - val_mae: 155606.7656 - val_mse: 52978278400.0000\n",
      "Epoch 111/300\n"
     ]
    },
    {
     "name": "stdout",
     "output_type": "stream",
     "text": [
      "720/720 [==============================] - 0s 126us/sample - loss: 43724336651.3778 - mae: 156183.6562 - mse: 43724333056.0000 - val_loss: 52894785718.0444 - val_mae: 155945.2188 - val_mse: 52894781440.0000\n",
      "Epoch 112/300\n",
      "720/720 [==============================] - 0s 127us/sample - loss: 43735619174.4000 - mae: 156226.8281 - mse: 43735617536.0000 - val_loss: 52855317390.2222 - val_mae: 156141.8281 - val_mse: 52855320576.0000\n",
      "Epoch 113/300\n",
      "720/720 [==============================] - 0s 127us/sample - loss: 43730696692.6222 - mae: 156445.2031 - mse: 43730698240.0000 - val_loss: 52888500178.4889 - val_mae: 155972.8281 - val_mse: 52888502272.0000\n",
      "Epoch 114/300\n",
      "720/720 [==============================] - 0s 130us/sample - loss: 43708704267.3778 - mae: 156248.5469 - mse: 43708702720.0000 - val_loss: 52901214435.5556 - val_mae: 155917.3125 - val_mse: 52901212160.0000\n",
      "Epoch 115/300\n",
      "720/720 [==============================] - 0s 129us/sample - loss: 43707055945.9556 - mae: 156304.3125 - mse: 43707056128.0000 - val_loss: 52902890063.6444 - val_mae: 155910.0938 - val_mse: 52902891520.0000\n",
      "Epoch 116/300\n",
      "720/720 [==============================] - 0s 127us/sample - loss: 43734440163.5556 - mae: 156328.8281 - mse: 43734437888.0000 - val_loss: 52904790698.6667 - val_mae: 155901.9375 - val_mse: 52904787968.0000\n",
      "Epoch 117/300\n",
      "720/720 [==============================] - 0s 126us/sample - loss: 43703052060.4444 - mae: 156241.2812 - mse: 43703054336.0000 - val_loss: 52856725230.9333 - val_mae: 156134.3125 - val_mse: 52856729600.0000\n",
      "Epoch 118/300\n",
      "720/720 [==============================] - 0s 126us/sample - loss: 43738350751.2889 - mae: 156189.0938 - mse: 43738349568.0000 - val_loss: 52831682742.0444 - val_mae: 156279.7656 - val_mse: 52831678464.0000\n",
      "Epoch 119/300\n",
      "720/720 [==============================] - 0s 127us/sample - loss: 43725313001.2444 - mae: 156316.8281 - mse: 43725312000.0000 - val_loss: 52866449499.0222 - val_mae: 156083.4375 - val_mse: 52866453504.0000\n",
      "Epoch 120/300\n",
      "720/720 [==============================] - 0s 125us/sample - loss: 43723401079.4667 - mae: 156261.5625 - mse: 43723399168.0000 - val_loss: 52871384359.8222 - val_mae: 156058.0625 - val_mse: 52871385088.0000\n",
      "Epoch 121/300\n",
      "720/720 [==============================] - 0s 132us/sample - loss: 43726976159.2889 - mae: 156272.6719 - mse: 43726979072.0000 - val_loss: 52840209248.7111 - val_mae: 156228.5156 - val_mse: 52840210432.0000\n",
      "Epoch 122/300\n",
      "720/720 [==============================] - 0s 129us/sample - loss: 43725630122.6667 - mae: 156407.8594 - mse: 43725635584.0000 - val_loss: 52796626170.3111 - val_mae: 156512.4219 - val_mse: 52796628992.0000\n",
      "Epoch 123/300\n",
      "720/720 [==============================] - 0s 127us/sample - loss: 43773134984.5333 - mae: 156338.0000 - mse: 43773132800.0000 - val_loss: 52857372489.9556 - val_mae: 156130.8906 - val_mse: 52857368576.0000\n",
      "Epoch 124/300\n",
      "720/720 [==============================] - 0s 127us/sample - loss: 43706171574.0444 - mae: 156287.9844 - mse: 43706171392.0000 - val_loss: 52854984977.0667 - val_mae: 156143.5469 - val_mse: 52854988800.0000\n",
      "Epoch 125/300\n",
      "720/720 [==============================] - 0s 130us/sample - loss: 43725549454.2222 - mae: 156352.5938 - mse: 43725545472.0000 - val_loss: 52842963308.0889 - val_mae: 156212.1719 - val_mse: 52842958848.0000\n",
      "Epoch 126/300\n",
      "720/720 [==============================] - 0s 129us/sample - loss: 43701838142.5778 - mae: 156338.9844 - mse: 43701837824.0000 - val_loss: 52881914265.6000 - val_mae: 156004.7500 - val_mse: 52881911808.0000\n",
      "Epoch 127/300\n",
      "720/720 [==============================] - 0s 133us/sample - loss: 43707410568.5333 - mae: 156078.8594 - mse: 43707408384.0000 - val_loss: 52826601699.5556 - val_mae: 156310.8906 - val_mse: 52826599424.0000\n",
      "Epoch 128/300\n",
      "720/720 [==============================] - 0s 126us/sample - loss: 43728456635.7333 - mae: 156360.5938 - mse: 43728457728.0000 - val_loss: 52844546639.6444 - val_mae: 156202.8438 - val_mse: 52844548096.0000\n",
      "Epoch 129/300\n",
      "720/720 [==============================] - 0s 129us/sample - loss: 43719591708.4444 - mae: 156447.3594 - mse: 43719585792.0000 - val_loss: 52846652529.7778 - val_mae: 156190.4844 - val_mse: 52846653440.0000\n",
      "Epoch 130/300\n",
      "720/720 [==============================] - 0s 127us/sample - loss: 43689143955.9111 - mae: 156369.8594 - mse: 43689144320.0000 - val_loss: 52921062741.3333 - val_mae: 155833.2812 - val_mse: 52921061376.0000\n",
      "Epoch 131/300\n",
      "720/720 [==============================] - 0s 129us/sample - loss: 43712641524.6222 - mae: 156345.7344 - mse: 43712638976.0000 - val_loss: 52906762786.1333 - val_mae: 155893.4688 - val_mse: 52906762240.0000\n",
      "Epoch 132/300\n",
      "720/720 [==============================] - 0s 129us/sample - loss: 43716051672.1778 - mae: 156378.0312 - mse: 43716050944.0000 - val_loss: 52958721001.2444 - val_mae: 155681.7812 - val_mse: 52958720000.0000\n",
      "Epoch 133/300\n",
      "720/720 [==============================] - 0s 132us/sample - loss: 43721664102.4000 - mae: 156256.5469 - mse: 43721662464.0000 - val_loss: 52961278543.6444 - val_mae: 155671.8438 - val_mse: 52961280000.0000\n",
      "Epoch 134/300\n",
      "720/720 [==============================] - 0s 126us/sample - loss: 43708633270.0444 - mae: 156237.1406 - mse: 43708628992.0000 - val_loss: 52939634733.5111 - val_mae: 155757.3438 - val_mse: 52939632640.0000\n",
      "Epoch 135/300\n",
      "720/720 [==============================] - 0s 132us/sample - loss: 43715281988.2667 - mae: 156243.3594 - mse: 43715280896.0000 - val_loss: 52925922963.9111 - val_mae: 155813.1406 - val_mse: 52925923328.0000\n",
      "Epoch 136/300\n",
      "720/720 [==============================] - 0s 129us/sample - loss: 43736486434.1333 - mae: 156318.7500 - mse: 43736494080.0000 - val_loss: 52941746449.0667 - val_mae: 155748.8594 - val_mse: 52941746176.0000\n",
      "Epoch 137/300\n",
      "720/720 [==============================] - 0s 127us/sample - loss: 43699404800.0000 - mae: 156256.5781 - mse: 43699400704.0000 - val_loss: 52947981471.2889 - val_mae: 155724.0000 - val_mse: 52947980288.0000\n",
      "Epoch 138/300\n",
      "720/720 [==============================] - 0s 129us/sample - loss: 43747745974.0444 - mae: 156290.8438 - mse: 43747745792.0000 - val_loss: 52844476461.5111 - val_mae: 156203.2031 - val_mse: 52844474368.0000\n",
      "Epoch 139/300\n",
      "720/720 [==============================] - 0s 127us/sample - loss: 43738456064.0000 - mae: 156394.2812 - mse: 43738456064.0000 - val_loss: 52916819922.4889 - val_mae: 155850.9062 - val_mse: 52916817920.0000\n",
      "Epoch 140/300\n",
      "720/720 [==============================] - 0s 127us/sample - loss: 43709844866.8444 - mae: 156226.1562 - mse: 43709845504.0000 - val_loss: 52915337261.5111 - val_mae: 155857.1562 - val_mse: 52915339264.0000\n",
      "Epoch 141/300\n",
      "720/720 [==============================] - 0s 126us/sample - loss: 43713293971.9111 - mae: 156331.6406 - mse: 43713286144.0000 - val_loss: 52941879432.5333 - val_mae: 155748.3125 - val_mse: 52941881344.0000\n",
      "Epoch 142/300\n",
      "720/720 [==============================] - 0s 132us/sample - loss: 43702092413.1556 - mae: 156219.5938 - mse: 43702091776.0000 - val_loss: 52886258028.0889 - val_mae: 155983.0625 - val_mse: 52886253568.0000\n",
      "Epoch 143/300\n",
      "720/720 [==============================] - 0s 129us/sample - loss: 43712823113.9556 - mae: 156119.8281 - mse: 43712819200.0000 - val_loss: 52842486078.5778 - val_mae: 156214.9219 - val_mse: 52842487808.0000\n",
      "Epoch 144/300\n",
      "720/720 [==============================] - 0s 129us/sample - loss: 43708948206.9333 - mae: 156402.5469 - mse: 43708948480.0000 - val_loss: 52881937931.3778 - val_mae: 156004.5625 - val_mse: 52881936384.0000\n",
      "Epoch 145/300\n",
      "720/720 [==============================] - 0s 133us/sample - loss: 43726684524.0889 - mae: 156284.4375 - mse: 43726684160.0000 - val_loss: 52956185122.1333 - val_mae: 155691.6562 - val_mse: 52956188672.0000\n",
      "Epoch 146/300\n",
      "720/720 [==============================] - 0s 134us/sample - loss: 43718133259.3778 - mae: 156101.5625 - mse: 43718139904.0000 - val_loss: 52909157398.7556 - val_mae: 155883.2500 - val_mse: 52909158400.0000\n",
      "Epoch 147/300\n",
      "720/720 [==============================] - 0s 132us/sample - loss: 43716788497.0667 - mae: 156306.6719 - mse: 43716784128.0000 - val_loss: 52876215728.3556 - val_mae: 156033.3594 - val_mse: 52876214272.0000\n",
      "Epoch 148/300\n"
     ]
    },
    {
     "name": "stdout",
     "output_type": "stream",
     "text": [
      "720/720 [==============================] - 0s 130us/sample - loss: 43724569349.6889 - mae: 156274.4844 - mse: 43724566528.0000 - val_loss: 52881081776.3556 - val_mae: 156008.8438 - val_mse: 52881080320.0000\n",
      "Epoch 149/300\n",
      "720/720 [==============================] - 0s 133us/sample - loss: 43709303648.7111 - mae: 156288.0938 - mse: 43709300736.0000 - val_loss: 52945998643.2000 - val_mae: 155731.8594 - val_mse: 52946006016.0000\n",
      "Epoch 150/300\n",
      "720/720 [==============================] - 0s 132us/sample - loss: 43732799670.0444 - mae: 156104.5938 - mse: 43732799488.0000 - val_loss: 52995860252.4444 - val_mae: 155541.0156 - val_mse: 52995858432.0000\n",
      "Epoch 151/300\n",
      "720/720 [==============================] - 0s 127us/sample - loss: 43758125420.0889 - mae: 156173.4844 - mse: 43758120960.0000 - val_loss: 52996575869.1556 - val_mae: 155538.3906 - val_mse: 52996575232.0000\n",
      "Epoch 152/300\n",
      "720/720 [==============================] - 0s 129us/sample - loss: 43706584177.7778 - mae: 156113.5938 - mse: 43706585088.0000 - val_loss: 52902344021.3333 - val_mae: 155912.3594 - val_mse: 52902342656.0000\n",
      "Epoch 153/300\n",
      "720/720 [==============================] - 0s 129us/sample - loss: 43666130170.3111 - mae: 156052.6406 - mse: 43666128896.0000 - val_loss: 52761745544.5333 - val_mae: 156796.2812 - val_mse: 52761747456.0000\n",
      "Epoch 154/300\n",
      "720/720 [==============================] - 0s 132us/sample - loss: 43738103716.9778 - mae: 156403.8906 - mse: 43738103808.0000 - val_loss: 52799536150.7556 - val_mae: 156491.2656 - val_mse: 52799537152.0000\n",
      "Epoch 155/300\n",
      "720/720 [==============================] - 0s 127us/sample - loss: 43697546308.2667 - mae: 156440.0000 - mse: 43697549312.0000 - val_loss: 52878064025.6000 - val_mae: 156023.9844 - val_mse: 52878061568.0000\n",
      "Epoch 156/300\n",
      "720/720 [==============================] - 0s 129us/sample - loss: 43698078515.2000 - mae: 156069.5938 - mse: 43698077696.0000 - val_loss: 52808881402.3111 - val_mae: 156425.0625 - val_mse: 52808880128.0000\n",
      "Epoch 157/300\n",
      "720/720 [==============================] - 0s 127us/sample - loss: 43732398899.2000 - mae: 156359.8594 - mse: 43732398080.0000 - val_loss: 52884712834.8444 - val_mae: 155990.6719 - val_mse: 52884713472.0000\n",
      "Epoch 158/300\n",
      "720/720 [==============================] - 0s 129us/sample - loss: 43708058692.2667 - mae: 156293.8281 - mse: 43708059648.0000 - val_loss: 52899512411.0222 - val_mae: 155924.5625 - val_mse: 52899512320.0000\n",
      "Epoch 159/300\n",
      "720/720 [==============================] - 0s 132us/sample - loss: 43727012204.0889 - mae: 156158.4375 - mse: 43727011840.0000 - val_loss: 52853693189.6889 - val_mae: 156150.2188 - val_mse: 52853690368.0000\n",
      "Epoch 160/300\n",
      "720/720 [==============================] - 0s 130us/sample - loss: 43728895544.8889 - mae: 156252.4375 - mse: 43728900096.0000 - val_loss: 52890892697.6000 - val_mae: 155962.1875 - val_mse: 52890894336.0000\n",
      "Epoch 161/300\n",
      "720/720 [==============================] - 0s 127us/sample - loss: 43710673806.2222 - mae: 156304.7031 - mse: 43710676992.0000 - val_loss: 52877282599.8222 - val_mae: 156027.8906 - val_mse: 52877283328.0000\n",
      "Epoch 162/300\n",
      "720/720 [==============================] - 0s 127us/sample - loss: 43735771181.5111 - mae: 156320.3750 - mse: 43735769088.0000 - val_loss: 52834929959.8222 - val_mae: 156259.9844 - val_mse: 52834930688.0000\n",
      "Epoch 163/300\n",
      "720/720 [==============================] - 0s 132us/sample - loss: 43708923175.8222 - mae: 156350.1719 - mse: 43708919808.0000 - val_loss: 52868027278.2222 - val_mae: 156075.1406 - val_mse: 52868030464.0000\n",
      "Epoch 164/300\n",
      "720/720 [==============================] - 0s 129us/sample - loss: 43723214392.8889 - mae: 156270.8750 - mse: 43723214848.0000 - val_loss: 52815419983.6444 - val_mae: 156380.7812 - val_mse: 52815421440.0000\n",
      "Epoch 165/300\n",
      "720/720 [==============================] - 0s 129us/sample - loss: 43723764076.0889 - mae: 156394.8281 - mse: 43723767808.0000 - val_loss: 52806872996.9778 - val_mae: 156439.0781 - val_mse: 52806877184.0000\n",
      "Epoch 166/300\n",
      "720/720 [==============================] - 0s 129us/sample - loss: 43710495311.6444 - mae: 156386.2812 - mse: 43710500864.0000 - val_loss: 52848354099.2000 - val_mae: 156180.4062 - val_mse: 52848357376.0000\n",
      "Epoch 167/300\n",
      "720/720 [==============================] - 0s 133us/sample - loss: 43713146333.8667 - mae: 156381.5156 - mse: 43713146880.0000 - val_loss: 52886499236.9778 - val_mae: 155981.7500 - val_mse: 52886499328.0000\n",
      "Epoch 168/300\n",
      "720/720 [==============================] - 0s 130us/sample - loss: 43724567893.3333 - mae: 156333.7656 - mse: 43724562432.0000 - val_loss: 52855984583.1111 - val_mae: 156138.0625 - val_mse: 52855988224.0000\n",
      "Epoch 169/300\n",
      "720/720 [==============================] - 0s 126us/sample - loss: 43688464019.9111 - mae: 156383.0781 - mse: 43688460288.0000 - val_loss: 52920918562.1333 - val_mae: 155833.7812 - val_mse: 52920913920.0000\n",
      "Epoch 170/300\n",
      "720/720 [==============================] - 0s 125us/sample - loss: 43744324266.6667 - mae: 156279.1250 - mse: 43744321536.0000 - val_loss: 52913768311.4667 - val_mae: 155863.6875 - val_mse: 52913766400.0000\n",
      "Epoch 171/300\n",
      "720/720 [==============================] - 0s 132us/sample - loss: 43721030951.8222 - mae: 156237.2812 - mse: 43721023488.0000 - val_loss: 52863871112.5333 - val_mae: 156096.6406 - val_mse: 52863873024.0000\n",
      "Epoch 172/300\n",
      "720/720 [==============================] - 0s 129us/sample - loss: 43701709300.6222 - mae: 156309.0156 - mse: 43701710848.0000 - val_loss: 52959045222.4000 - val_mae: 155680.4375 - val_mse: 52959047680.0000\n",
      "Epoch 173/300\n",
      "720/720 [==============================] - 0s 130us/sample - loss: 43697993136.3556 - mae: 156132.2812 - mse: 43697999872.0000 - val_loss: 52836581831.1111 - val_mae: 156249.9844 - val_mse: 52836581376.0000\n",
      "Epoch 174/300\n",
      "720/720 [==============================] - 0s 130us/sample - loss: 43691502159.6444 - mae: 156195.3125 - mse: 43691503616.0000 - val_loss: 52772066645.3333 - val_mae: 156707.6250 - val_mse: 52772069376.0000\n",
      "Epoch 175/300\n",
      "720/720 [==============================] - 0s 133us/sample - loss: 43720414276.2667 - mae: 156471.2500 - mse: 43720417280.0000 - val_loss: 52855709331.9111 - val_mae: 156139.4844 - val_mse: 52855709696.0000\n",
      "Epoch 176/300\n",
      "720/720 [==============================] - 0s 129us/sample - loss: 43699358924.8000 - mae: 156312.3750 - mse: 43699359744.0000 - val_loss: 52947919394.1333 - val_mae: 155724.1719 - val_mse: 52947914752.0000\n",
      "Epoch 177/300\n",
      "720/720 [==============================] - 0s 130us/sample - loss: 43746402850.1333 - mae: 156302.5938 - mse: 43746398208.0000 - val_loss: 52948869848.1778 - val_mae: 155720.3750 - val_mse: 52948869120.0000\n",
      "Epoch 178/300\n",
      "720/720 [==============================] - 0s 129us/sample - loss: 43703285714.4889 - mae: 156242.0625 - mse: 43703287808.0000 - val_loss: 52916154094.9333 - val_mae: 155853.6406 - val_mse: 52916150272.0000\n",
      "Epoch 179/300\n",
      "720/720 [==============================] - 0s 129us/sample - loss: 43703742190.9333 - mae: 156273.4688 - mse: 43703742464.0000 - val_loss: 52888666749.1556 - val_mae: 155971.9688 - val_mse: 52888666112.0000\n",
      "Epoch 180/300\n",
      "720/720 [==============================] - 0s 130us/sample - loss: 43715507996.4444 - mae: 156097.5156 - mse: 43715506176.0000 - val_loss: 52837224174.9333 - val_mae: 156246.0938 - val_mse: 52837220352.0000\n",
      "Epoch 181/300\n",
      "720/720 [==============================] - 0s 130us/sample - loss: 43703839402.6667 - mae: 156327.7656 - mse: 43703840768.0000 - val_loss: 52844552556.0889 - val_mae: 156202.5938 - val_mse: 52844548096.0000\n",
      "Epoch 182/300\n",
      "720/720 [==============================] - 0s 127us/sample - loss: 43734469836.8000 - mae: 156451.2188 - mse: 43734478848.0000 - val_loss: 52863735307.3778 - val_mae: 156097.2812 - val_mse: 52863733760.0000\n",
      "Epoch 183/300\n",
      "720/720 [==============================] - 0s 132us/sample - loss: 43726066301.1556 - mae: 156303.4531 - mse: 43726069760.0000 - val_loss: 52880011355.0222 - val_mae: 156014.0625 - val_mse: 52880007168.0000\n",
      "Epoch 184/300\n",
      "720/720 [==============================] - 0s 129us/sample - loss: 43709621179.7333 - mae: 156305.3281 - mse: 43709620224.0000 - val_loss: 52924270637.5111 - val_mae: 155819.8594 - val_mse: 52924268544.0000\n",
      "Epoch 185/300\n"
     ]
    },
    {
     "name": "stdout",
     "output_type": "stream",
     "text": [
      "720/720 [==============================] - 0s 127us/sample - loss: 43700014148.2667 - mae: 156252.5938 - mse: 43700011008.0000 - val_loss: 52912736028.4444 - val_mae: 155867.9844 - val_mse: 52912734208.0000\n",
      "Epoch 186/300\n",
      "720/720 [==============================] - 0s 130us/sample - loss: 43734630035.9111 - mae: 156233.7812 - mse: 43734634496.0000 - val_loss: 52912890038.0444 - val_mae: 155867.3438 - val_mse: 52912885760.0000\n",
      "Epoch 187/300\n",
      "720/720 [==============================] - 0s 127us/sample - loss: 43705333350.4000 - mae: 156197.1562 - mse: 43705327616.0000 - val_loss: 52861417153.4222 - val_mae: 156109.3594 - val_mse: 52861419520.0000\n",
      "Epoch 188/300\n",
      "720/720 [==============================] - 0s 132us/sample - loss: 43711450635.3778 - mae: 156291.9219 - mse: 43711451136.0000 - val_loss: 52906432830.5778 - val_mae: 155894.7344 - val_mse: 52906430464.0000\n",
      "Epoch 189/300\n",
      "720/720 [==============================] - 0s 130us/sample - loss: 43705114532.9778 - mae: 156263.6406 - mse: 43705110528.0000 - val_loss: 52862937315.5556 - val_mae: 156101.4062 - val_mse: 52862935040.0000\n",
      "Epoch 190/300\n",
      "720/720 [==============================] - 0s 132us/sample - loss: 43698820255.2889 - mae: 156285.8438 - mse: 43698814976.0000 - val_loss: 52948308423.1111 - val_mae: 155722.5781 - val_mse: 52948312064.0000\n",
      "Epoch 191/300\n",
      "720/720 [==============================] - 0s 130us/sample - loss: 43734593991.1111 - mae: 156195.3906 - mse: 43734593536.0000 - val_loss: 52936842171.7333 - val_mae: 155768.4844 - val_mse: 52936839168.0000\n",
      "Epoch 192/300\n",
      "720/720 [==============================] - 0s 127us/sample - loss: 43731003710.5778 - mae: 156183.6094 - mse: 43731005440.0000 - val_loss: 52882745753.6000 - val_mae: 156000.3438 - val_mse: 52882747392.0000\n",
      "Epoch 193/300\n",
      "720/720 [==============================] - 0s 130us/sample - loss: 43693493316.2667 - mae: 156261.1562 - mse: 43693494272.0000 - val_loss: 52945513676.8000 - val_mae: 155733.6875 - val_mse: 52945514496.0000\n",
      "Epoch 194/300\n",
      "720/720 [==============================] - 0s 126us/sample - loss: 43691923046.4000 - mae: 156096.7500 - mse: 43691921408.0000 - val_loss: 52865674444.8000 - val_mae: 156087.1406 - val_mse: 52865671168.0000\n",
      "Epoch 195/300\n",
      "720/720 [==============================] - 0s 134us/sample - loss: 43703020657.7778 - mae: 156435.0625 - mse: 43703025664.0000 - val_loss: 52939109899.3778 - val_mae: 155759.2812 - val_mse: 52939112448.0000\n",
      "Epoch 196/300\n",
      "720/720 [==============================] - 0s 133us/sample - loss: 43713539640.8889 - mae: 156246.5312 - mse: 43713536000.0000 - val_loss: 52865007980.0889 - val_mae: 156090.5938 - val_mse: 52865007616.0000\n",
      "Epoch 197/300\n",
      "720/720 [==============================] - 0s 132us/sample - loss: 43723996364.8000 - mae: 156297.2812 - mse: 43723997184.0000 - val_loss: 52863583937.4222 - val_mae: 156098.0156 - val_mse: 52863586304.0000\n",
      "Epoch 198/300\n",
      "720/720 [==============================] - 0s 129us/sample - loss: 43734101560.8889 - mae: 156391.2656 - mse: 43734097920.0000 - val_loss: 52840985941.3333 - val_mae: 156223.5625 - val_mse: 52840984576.0000\n",
      "Epoch 199/300\n",
      "720/720 [==============================] - 0s 129us/sample - loss: 43707168449.4222 - mae: 156305.1562 - mse: 43707166720.0000 - val_loss: 52837763572.6222 - val_mae: 156242.7969 - val_mse: 52837761024.0000\n",
      "Epoch 200/300\n",
      "720/720 [==============================] - 0s 127us/sample - loss: 43705099787.3778 - mae: 156253.5938 - mse: 43705098240.0000 - val_loss: 52833351361.4222 - val_mae: 156269.3594 - val_mse: 52833353728.0000\n",
      "Epoch 201/300\n",
      "720/720 [==============================] - 0s 130us/sample - loss: 43734602638.2222 - mae: 156394.5469 - mse: 43734601728.0000 - val_loss: 52877346406.4000 - val_mae: 156027.4219 - val_mse: 52877344768.0000\n",
      "Epoch 202/300\n",
      "720/720 [==============================] - 0s 134us/sample - loss: 43694304460.8000 - mae: 156234.3594 - mse: 43694301184.0000 - val_loss: 52841393720.8889 - val_mae: 156221.1562 - val_mse: 52841398272.0000\n",
      "Epoch 203/300\n",
      "720/720 [==============================] - 0s 133us/sample - loss: 43723144305.7778 - mae: 156322.1406 - mse: 43723145216.0000 - val_loss: 52831545116.4444 - val_mae: 156280.2812 - val_mse: 52831539200.0000\n",
      "Epoch 204/300\n",
      "720/720 [==============================] - 0s 140us/sample - loss: 43718159382.7556 - mae: 156311.6719 - mse: 43718156288.0000 - val_loss: 52863495736.8889 - val_mae: 156098.4375 - val_mse: 52863492096.0000\n",
      "Epoch 205/300\n",
      "720/720 [==============================] - 0s 132us/sample - loss: 43714245973.3333 - mae: 156311.3906 - mse: 43714244608.0000 - val_loss: 52850446062.9333 - val_mae: 156168.0625 - val_mse: 52850450432.0000\n",
      "Epoch 206/300\n",
      "720/720 [==============================] - 0s 133us/sample - loss: 43704366785.4222 - mae: 156300.7344 - mse: 43704365056.0000 - val_loss: 52877058685.1556 - val_mae: 156028.8438 - val_mse: 52877053952.0000\n",
      "Epoch 207/300\n",
      "720/720 [==============================] - 0s 132us/sample - loss: 43718255229.1556 - mae: 156374.1406 - mse: 43718254592.0000 - val_loss: 52893762901.3333 - val_mae: 155949.4844 - val_mse: 52893769728.0000\n",
      "Epoch 208/300\n",
      "720/720 [==============================] - 0s 129us/sample - loss: 43711762386.4889 - mae: 156272.7344 - mse: 43711766528.0000 - val_loss: 52947621933.5111 - val_mae: 155725.2500 - val_mse: 52947619840.0000\n",
      "Epoch 209/300\n",
      "720/720 [==============================] - 0s 129us/sample - loss: 43726089511.8222 - mae: 156309.8125 - mse: 43726086144.0000 - val_loss: 52949639532.0889 - val_mae: 155717.2500 - val_mse: 52949639168.0000\n",
      "Epoch 210/300\n",
      "720/720 [==============================] - 0s 132us/sample - loss: 43701664062.5778 - mae: 156199.0156 - mse: 43701665792.0000 - val_loss: 52878511217.7778 - val_mae: 156021.5000 - val_mse: 52878512128.0000\n",
      "Epoch 211/300\n",
      "720/720 [==============================] - 0s 126us/sample - loss: 43731314733.5111 - mae: 156436.1719 - mse: 43731320832.0000 - val_loss: 52853200031.2889 - val_mae: 156152.6719 - val_mse: 52853198848.0000\n",
      "Epoch 212/300\n",
      "720/720 [==============================] - 0s 129us/sample - loss: 43704433186.1333 - mae: 156221.0938 - mse: 43704430592.0000 - val_loss: 52820665412.2667 - val_mae: 156347.4375 - val_mse: 52820660224.0000\n",
      "Epoch 213/300\n",
      "720/720 [==============================] - 0s 130us/sample - loss: 43716000699.7333 - mae: 156313.7812 - mse: 43716005888.0000 - val_loss: 52798362601.2444 - val_mae: 156499.4844 - val_mse: 52798365696.0000\n",
      "Epoch 214/300\n",
      "720/720 [==============================] - 0s 130us/sample - loss: 43723946666.6667 - mae: 156297.0625 - mse: 43723943936.0000 - val_loss: 52805587308.0889 - val_mae: 156447.9531 - val_mse: 52805582848.0000\n",
      "Epoch 215/300\n",
      "720/720 [==============================] - 0s 130us/sample - loss: 43726040541.8667 - mae: 156357.6875 - mse: 43726036992.0000 - val_loss: 52826545265.7778 - val_mae: 156310.8906 - val_mse: 52826542080.0000\n",
      "Epoch 216/300\n",
      "720/720 [==============================] - 0s 127us/sample - loss: 43757728563.2000 - mae: 156300.0938 - mse: 43757735936.0000 - val_loss: 52839579921.0667 - val_mae: 156231.8594 - val_mse: 52839579648.0000\n",
      "Epoch 217/300\n",
      "720/720 [==============================] - 0s 130us/sample - loss: 43683615584.7111 - mae: 156359.8281 - mse: 43683610624.0000 - val_loss: 52950668811.3778 - val_mae: 155713.1719 - val_mse: 52950671360.0000\n",
      "Epoch 218/300\n",
      "720/720 [==============================] - 0s 132us/sample - loss: 43714466975.2889 - mae: 156233.3281 - mse: 43714473984.0000 - val_loss: 52904663176.5333 - val_mae: 155902.2500 - val_mse: 52904660992.0000\n",
      "Epoch 219/300\n",
      "720/720 [==============================] - 0s 125us/sample - loss: 43736618507.3778 - mae: 156357.1094 - mse: 43736625152.0000 - val_loss: 52887352024.1778 - val_mae: 155977.7188 - val_mse: 52887347200.0000\n",
      "Epoch 220/300\n",
      "720/720 [==============================] - 0s 126us/sample - loss: 43692247449.6000 - mae: 156332.1250 - mse: 43692253184.0000 - val_loss: 52955456580.2667 - val_mae: 155694.3438 - val_mse: 52955451392.0000\n",
      "Epoch 221/300\n",
      "720/720 [==============================] - 0s 130us/sample - loss: 43711872204.8000 - mae: 156190.5938 - mse: 43711873024.0000 - val_loss: 52851635177.2444 - val_mae: 156161.1406 - val_mse: 52851634176.0000\n",
      "Epoch 222/300\n"
     ]
    },
    {
     "name": "stdout",
     "output_type": "stream",
     "text": [
      "720/720 [==============================] - 0s 129us/sample - loss: 43723513127.8222 - mae: 156295.9062 - mse: 43723509760.0000 - val_loss: 52859086165.3333 - val_mae: 156121.4375 - val_mse: 52859084800.0000\n",
      "Epoch 223/300\n",
      "720/720 [==============================] - 0s 126us/sample - loss: 43718099308.0889 - mae: 156345.6406 - mse: 43718094848.0000 - val_loss: 52855918136.8889 - val_mae: 156138.1875 - val_mse: 52855918592.0000\n",
      "Epoch 224/300\n",
      "720/720 [==============================] - 0s 125us/sample - loss: 43701088711.1111 - mae: 156282.7188 - mse: 43701092352.0000 - val_loss: 52883343769.6000 - val_mae: 155997.1875 - val_mse: 52883345408.0000\n",
      "Epoch 225/300\n",
      "720/720 [==============================] - 0s 127us/sample - loss: 43706337325.5111 - mae: 156282.9375 - mse: 43706335232.0000 - val_loss: 52922459841.4222 - val_mae: 155827.2500 - val_mse: 52922458112.0000\n",
      "Epoch 226/300\n",
      "720/720 [==============================] - 0s 127us/sample - loss: 43713022725.6889 - mae: 156296.4844 - mse: 43713019904.0000 - val_loss: 52966011790.2222 - val_mae: 155653.3125 - val_mse: 52966006784.0000\n",
      "Epoch 227/300\n",
      "720/720 [==============================] - 0s 126us/sample - loss: 43701925842.4889 - mae: 156129.5156 - mse: 43701927936.0000 - val_loss: 52920063590.4000 - val_mae: 155837.1719 - val_mse: 52920061952.0000\n",
      "Epoch 228/300\n",
      "720/720 [==============================] - 0s 129us/sample - loss: 43721843825.7778 - mae: 156188.8281 - mse: 43721842688.0000 - val_loss: 52876673934.2222 - val_mae: 156030.7188 - val_mse: 52876668928.0000\n",
      "Epoch 229/300\n",
      "720/720 [==============================] - 0s 130us/sample - loss: 43750553645.5111 - mae: 156380.9688 - mse: 43750551552.0000 - val_loss: 52847932029.1556 - val_mae: 156182.5938 - val_mse: 52847927296.0000\n",
      "Epoch 230/300\n",
      "720/720 [==============================] - 0s 126us/sample - loss: 43695327732.6222 - mae: 156254.0469 - mse: 43695325184.0000 - val_loss: 52873672658.4889 - val_mae: 156045.9219 - val_mse: 52873670656.0000\n",
      "Epoch 231/300\n",
      "720/720 [==============================] - 0s 132us/sample - loss: 43724587736.1778 - mae: 156294.8594 - mse: 43724591104.0000 - val_loss: 52863990624.7111 - val_mae: 156095.7344 - val_mse: 52863995904.0000\n",
      "Epoch 232/300\n",
      "720/720 [==============================] - 0s 129us/sample - loss: 43711409447.8222 - mae: 156280.2031 - mse: 43711410176.0000 - val_loss: 52938874515.9111 - val_mae: 155760.1719 - val_mse: 52938874880.0000\n",
      "Epoch 233/300\n",
      "720/720 [==============================] - 0s 126us/sample - loss: 43734727475.2000 - mae: 156317.9375 - mse: 43734728704.0000 - val_loss: 52921448857.6000 - val_mae: 155831.4375 - val_mse: 52921450496.0000\n",
      "Epoch 234/300\n",
      "720/720 [==============================] - 0s 129us/sample - loss: 43717447998.5778 - mae: 156242.6562 - mse: 43717455872.0000 - val_loss: 52900756229.6889 - val_mae: 155919.0156 - val_mse: 52900753408.0000\n",
      "Epoch 235/300\n",
      "720/720 [==============================] - 0s 129us/sample - loss: 43726227410.4889 - mae: 156454.4375 - mse: 43726229504.0000 - val_loss: 52934482420.6222 - val_mae: 155777.9219 - val_mse: 52934479872.0000\n",
      "Epoch 236/300\n",
      "720/720 [==============================] - 0s 129us/sample - loss: 43711020327.8222 - mae: 156276.0938 - mse: 43711021056.0000 - val_loss: 52911141865.2444 - val_mae: 155874.6250 - val_mse: 52911140864.0000\n",
      "Epoch 237/300\n",
      "720/720 [==============================] - 0s 126us/sample - loss: 43724649039.6444 - mae: 156266.5156 - mse: 43724648448.0000 - val_loss: 52882232115.2000 - val_mae: 156002.7188 - val_mse: 52882227200.0000\n",
      "Epoch 238/300\n",
      "720/720 [==============================] - 0s 130us/sample - loss: 43702747227.0222 - mae: 156234.1719 - mse: 43702747136.0000 - val_loss: 52857408352.7111 - val_mae: 156130.2344 - val_mse: 52857409536.0000\n",
      "Epoch 239/300\n",
      "720/720 [==============================] - 0s 130us/sample - loss: 43720629543.8222 - mae: 156181.9375 - mse: 43720634368.0000 - val_loss: 52807308993.4222 - val_mae: 156435.7500 - val_mse: 52807311360.0000\n",
      "Epoch 240/300\n",
      "720/720 [==============================] - 0s 126us/sample - loss: 43686558196.6222 - mae: 156319.7344 - mse: 43686559744.0000 - val_loss: 52879657642.6667 - val_mae: 156015.5938 - val_mse: 52879663104.0000\n",
      "Epoch 241/300\n",
      "720/720 [==============================] - 0s 129us/sample - loss: 43723629181.1556 - mae: 156326.8438 - mse: 43723628544.0000 - val_loss: 52858242844.4444 - val_mae: 156125.7969 - val_mse: 52858245120.0000\n",
      "Epoch 242/300\n",
      "720/720 [==============================] - 0s 127us/sample - loss: 43717068936.5333 - mae: 156233.6406 - mse: 43717066752.0000 - val_loss: 52824686683.0222 - val_mae: 156322.2656 - val_mse: 52824682496.0000\n",
      "Epoch 243/300\n",
      "720/720 [==============================] - 0s 130us/sample - loss: 43719364471.4667 - mae: 156315.6562 - mse: 43719364608.0000 - val_loss: 52869046727.1111 - val_mae: 156069.5625 - val_mse: 52869046272.0000\n",
      "Epoch 244/300\n",
      "720/720 [==============================] - 0s 127us/sample - loss: 43694802761.9556 - mae: 156221.0625 - mse: 43694800896.0000 - val_loss: 52901405400.1778 - val_mae: 155916.2031 - val_mse: 52901404672.0000\n",
      "Epoch 245/300\n",
      "720/720 [==============================] - 0s 129us/sample - loss: 43717592223.2889 - mae: 156399.9375 - mse: 43717586944.0000 - val_loss: 52925133983.2889 - val_mae: 155816.1562 - val_mse: 52925136896.0000\n",
      "Epoch 246/300\n",
      "720/720 [==============================] - 0s 127us/sample - loss: 43723472577.4222 - mae: 156312.9375 - mse: 43723468800.0000 - val_loss: 52958299659.3778 - val_mae: 155683.1562 - val_mse: 52958302208.0000\n",
      "Epoch 247/300\n",
      "720/720 [==============================] - 0s 127us/sample - loss: 43718805003.3778 - mae: 156247.5000 - mse: 43718803456.0000 - val_loss: 52949073737.9556 - val_mae: 155719.4219 - val_mse: 52949073920.0000\n",
      "Epoch 248/300\n",
      "720/720 [==============================] - 0s 132us/sample - loss: 43716207684.2667 - mae: 156223.7031 - mse: 43716206592.0000 - val_loss: 52948331360.7111 - val_mae: 155722.3594 - val_mse: 52948328448.0000\n",
      "Epoch 249/300\n",
      "720/720 [==============================] - 0s 127us/sample - loss: 43694908575.2889 - mae: 156192.5000 - mse: 43694911488.0000 - val_loss: 52839253424.3556 - val_mae: 156233.7188 - val_mse: 52839247872.0000\n",
      "Epoch 250/300\n",
      "720/720 [==============================] - 0s 127us/sample - loss: 43709847506.4889 - mae: 156240.1719 - mse: 43709845504.0000 - val_loss: 52826020249.6000 - val_mae: 156313.9688 - val_mse: 52826021888.0000\n",
      "Epoch 251/300\n",
      "720/720 [==============================] - 0s 127us/sample - loss: 43712503079.8222 - mae: 156392.2031 - mse: 43712499712.0000 - val_loss: 52887440952.8889 - val_mae: 155977.2188 - val_mse: 52887441408.0000\n",
      "Epoch 252/300\n",
      "720/720 [==============================] - 0s 129us/sample - loss: 43756854294.7556 - mae: 156175.4531 - mse: 43756859392.0000 - val_loss: 52918338355.2000 - val_mae: 155844.3281 - val_mse: 52918337536.0000\n",
      "Epoch 253/300\n",
      "720/720 [==============================] - 0s 129us/sample - loss: 43733184193.4222 - mae: 156300.8438 - mse: 43733184512.0000 - val_loss: 52910213529.6000 - val_mae: 155878.5156 - val_mse: 52910211072.0000\n",
      "Epoch 254/300\n",
      "720/720 [==============================] - 0s 127us/sample - loss: 43707868046.2222 - mae: 156272.9375 - mse: 43707871232.0000 - val_loss: 52949739292.4444 - val_mae: 155716.7500 - val_mse: 52949737472.0000\n",
      "Epoch 255/300\n",
      "720/720 [==============================] - 0s 127us/sample - loss: 43743966367.2889 - mae: 156231.4375 - mse: 43743965184.0000 - val_loss: 52904468206.9333 - val_mae: 155902.9844 - val_mse: 52904464384.0000\n",
      "Epoch 256/300\n",
      "720/720 [==============================] - 0s 130us/sample - loss: 43683315256.8889 - mae: 156224.8281 - mse: 43683307520.0000 - val_loss: 52946161208.8889 - val_mae: 155730.9375 - val_mse: 52946157568.0000\n",
      "Epoch 257/300\n",
      "720/720 [==============================] - 0s 129us/sample - loss: 43714173428.6222 - mae: 156134.4688 - mse: 43714170880.0000 - val_loss: 52890147589.6889 - val_mae: 155965.2500 - val_mse: 52890144768.0000\n",
      "Epoch 258/300\n",
      "720/720 [==============================] - 0s 129us/sample - loss: 43706997851.0222 - mae: 156205.0156 - mse: 43706998784.0000 - val_loss: 52847069866.6667 - val_mae: 156187.5156 - val_mse: 52847067136.0000\n",
      "Epoch 259/300\n"
     ]
    },
    {
     "name": "stdout",
     "output_type": "stream",
     "text": [
      "720/720 [==============================] - 0s 129us/sample - loss: 43698756994.8444 - mae: 156348.6094 - mse: 43698761728.0000 - val_loss: 52920104641.4222 - val_mae: 155836.9531 - val_mse: 52920102912.0000\n",
      "Epoch 260/300\n",
      "720/720 [==============================] - 0s 133us/sample - loss: 43750766637.5111 - mae: 156140.0938 - mse: 43750768640.0000 - val_loss: 52921597132.8000 - val_mae: 155830.7188 - val_mse: 52921593856.0000\n",
      "Epoch 261/300\n",
      "720/720 [==============================] - 0s 136us/sample - loss: 43691258038.0444 - mae: 156227.2812 - mse: 43691253760.0000 - val_loss: 52883531184.3556 - val_mae: 155996.1406 - val_mse: 52883533824.0000\n",
      "Epoch 262/300\n",
      "720/720 [==============================] - 0s 133us/sample - loss: 43707716039.1111 - mae: 156194.2656 - mse: 43707719680.0000 - val_loss: 52799319699.9111 - val_mae: 156492.4062 - val_mse: 52799320064.0000\n",
      "Epoch 263/300\n",
      "720/720 [==============================] - 0s 130us/sample - loss: 43712859659.3778 - mae: 156333.7969 - mse: 43712856064.0000 - val_loss: 52811451414.7556 - val_mae: 156406.7656 - val_mse: 52811448320.0000\n",
      "Epoch 264/300\n",
      "720/720 [==============================] - 0s 127us/sample - loss: 43700482503.1111 - mae: 156307.4688 - mse: 43700486144.0000 - val_loss: 52874869509.6889 - val_mae: 156039.7031 - val_mse: 52874870784.0000\n",
      "Epoch 265/300\n",
      "720/720 [==============================] - 0s 129us/sample - loss: 43715554963.9111 - mae: 156329.5312 - mse: 43715555328.0000 - val_loss: 52898438439.8222 - val_mae: 155928.9531 - val_mse: 52898439168.0000\n",
      "Epoch 266/300\n",
      "720/720 [==============================] - 0s 129us/sample - loss: 43717763299.5556 - mae: 156299.4375 - mse: 43717758976.0000 - val_loss: 52881687984.3556 - val_mae: 156005.3281 - val_mse: 52881686528.0000\n",
      "Epoch 267/300\n",
      "720/720 [==============================] - 0s 127us/sample - loss: 43734134510.9333 - mae: 156364.2031 - mse: 43734138880.0000 - val_loss: 52933716559.6444 - val_mae: 155780.9375 - val_mse: 52933713920.0000\n",
      "Epoch 268/300\n",
      "720/720 [==============================] - 0s 129us/sample - loss: 43711500652.0889 - mae: 156265.8281 - mse: 43711500288.0000 - val_loss: 52975265473.4222 - val_mae: 155617.7812 - val_mse: 52975263744.0000\n",
      "Epoch 269/300\n",
      "720/720 [==============================] - 0s 127us/sample - loss: 43718991689.9556 - mae: 156191.6562 - mse: 43718991872.0000 - val_loss: 52989644071.8222 - val_mae: 155563.7500 - val_mse: 52989636608.0000\n",
      "Epoch 270/300\n",
      "720/720 [==============================] - 0s 130us/sample - loss: 43709901846.7556 - mae: 156244.3125 - mse: 43709898752.0000 - val_loss: 52979753688.1778 - val_mae: 155600.8125 - val_mse: 52979757056.0000\n",
      "Epoch 271/300\n",
      "720/720 [==============================] - 0s 130us/sample - loss: 43746936467.9111 - mae: 156178.9219 - mse: 43746938880.0000 - val_loss: 52984086436.9778 - val_mae: 155584.4844 - val_mse: 52984086528.0000\n",
      "Epoch 272/300\n",
      "720/720 [==============================] - 0s 130us/sample - loss: 43751347541.3333 - mae: 156257.5625 - mse: 43751350272.0000 - val_loss: 52917184284.4444 - val_mae: 155849.0938 - val_mse: 52917186560.0000\n",
      "Epoch 273/300\n",
      "720/720 [==============================] - 0s 129us/sample - loss: 43706381061.6889 - mae: 156192.4844 - mse: 43706380288.0000 - val_loss: 52929370339.5556 - val_mae: 155798.6562 - val_mse: 52929372160.0000\n",
      "Epoch 274/300\n",
      "720/720 [==============================] - 0s 129us/sample - loss: 43702217932.8000 - mae: 156142.4219 - mse: 43702214656.0000 - val_loss: 52905078601.9556 - val_mae: 155900.3438 - val_mse: 52905078784.0000\n",
      "Epoch 275/300\n",
      "720/720 [==============================] - 0s 127us/sample - loss: 43698753444.9778 - mae: 156317.6719 - mse: 43698753536.0000 - val_loss: 52918331801.6000 - val_mae: 155844.2812 - val_mse: 52918333440.0000\n",
      "Epoch 276/300\n",
      "720/720 [==============================] - 0s 129us/sample - loss: 43689005738.6667 - mae: 156162.8281 - mse: 43689009152.0000 - val_loss: 52823834988.0889 - val_mae: 156327.4062 - val_mse: 52823834624.0000\n",
      "Epoch 277/300\n",
      "720/720 [==============================] - 0s 127us/sample - loss: 43706676474.3111 - mae: 156431.4531 - mse: 43706679296.0000 - val_loss: 52918823776.7111 - val_mae: 155842.2500 - val_mse: 52918820864.0000\n",
      "Epoch 278/300\n",
      "720/720 [==============================] - 0s 126us/sample - loss: 43732312610.1333 - mae: 156367.5781 - mse: 43732312064.0000 - val_loss: 52891203902.5778 - val_mae: 155960.5625 - val_mse: 52891205632.0000\n",
      "Epoch 279/300\n",
      "720/720 [==============================] - 0s 127us/sample - loss: 43704552425.2444 - mae: 156277.9062 - mse: 43704553472.0000 - val_loss: 52915806208.0000 - val_mae: 155854.8594 - val_mse: 52915810304.0000\n",
      "Epoch 280/300\n",
      "720/720 [==============================] - 0s 129us/sample - loss: 43769187259.7333 - mae: 156257.5938 - mse: 43769180160.0000 - val_loss: 52989235564.0889 - val_mae: 155565.2188 - val_mse: 52989227008.0000\n",
      "Epoch 281/300\n",
      "720/720 [==============================] - 0s 127us/sample - loss: 43753869312.0000 - mae: 156176.6562 - mse: 43753873408.0000 - val_loss: 52924126913.4222 - val_mae: 155820.2188 - val_mse: 52924125184.0000\n",
      "Epoch 282/300\n",
      "720/720 [==============================] - 0s 133us/sample - loss: 43695235618.1333 - mae: 156150.2656 - mse: 43695235072.0000 - val_loss: 52877721326.9333 - val_mae: 156025.1875 - val_mse: 52877717504.0000\n",
      "Epoch 283/300\n",
      "720/720 [==============================] - 0s 127us/sample - loss: 43719436151.4667 - mae: 156205.4844 - mse: 43719434240.0000 - val_loss: 52865403653.6889 - val_mae: 156088.1719 - val_mse: 52865404928.0000\n",
      "Epoch 284/300\n",
      "720/720 [==============================] - 0s 130us/sample - loss: 43700819558.4000 - mae: 156226.0156 - mse: 43700826112.0000 - val_loss: 52885599846.4000 - val_mae: 155985.7344 - val_mse: 52885594112.0000\n",
      "Epoch 285/300\n",
      "720/720 [==============================] - 0s 127us/sample - loss: 43708009403.7333 - mae: 156209.0312 - mse: 43708006400.0000 - val_loss: 52842075113.2444 - val_mae: 156216.7969 - val_mse: 52842074112.0000\n",
      "Epoch 286/300\n",
      "720/720 [==============================] - 0s 130us/sample - loss: 43708588032.0000 - mae: 156301.7656 - mse: 43708592128.0000 - val_loss: 52860662761.2444 - val_mae: 156112.9062 - val_mse: 52860661760.0000\n",
      "Epoch 287/300\n",
      "720/720 [==============================] - 0s 127us/sample - loss: 43712327088.3556 - mae: 156331.8438 - mse: 43712323584.0000 - val_loss: 52889390375.8222 - val_mae: 155968.5156 - val_mse: 52889391104.0000\n",
      "Epoch 288/300\n",
      "720/720 [==============================] - 0s 129us/sample - loss: 43701566941.8667 - mae: 156232.6875 - mse: 43701563392.0000 - val_loss: 52827763780.2667 - val_mae: 156303.0781 - val_mse: 52827766784.0000\n",
      "Epoch 289/300\n",
      "720/720 [==============================] - 0s 127us/sample - loss: 43706017382.4000 - mae: 156254.1406 - mse: 43706015744.0000 - val_loss: 52799297854.5778 - val_mae: 156492.4531 - val_mse: 52799303680.0000\n",
      "Epoch 290/300\n",
      "720/720 [==============================] - 0s 129us/sample - loss: 43718019481.6000 - mae: 156376.6094 - mse: 43718017024.0000 - val_loss: 52797263780.9778 - val_mae: 156507.1250 - val_mse: 52797263872.0000\n",
      "Epoch 291/300\n",
      "720/720 [==============================] - 0s 127us/sample - loss: 43751065691.0222 - mae: 156267.3750 - mse: 43751071744.0000 - val_loss: 52809036777.2444 - val_mae: 156423.4375 - val_mse: 52809035776.0000\n",
      "Epoch 292/300\n",
      "720/720 [==============================] - 0s 127us/sample - loss: 43705450814.5778 - mae: 156410.7344 - mse: 43705450496.0000 - val_loss: 52796574014.5778 - val_mae: 156512.1250 - val_mse: 52796571648.0000\n",
      "Epoch 293/300\n",
      "720/720 [==============================] - 0s 130us/sample - loss: 43714276192.7111 - mae: 156322.7188 - mse: 43714277376.0000 - val_loss: 52818673208.8889 - val_mae: 156359.6719 - val_mse: 52818673664.0000\n",
      "Epoch 294/300\n",
      "720/720 [==============================] - 0s 129us/sample - loss: 43719866641.0667 - mae: 156451.6094 - mse: 43719864320.0000 - val_loss: 52857005579.3778 - val_mae: 156132.1406 - val_mse: 52857004032.0000\n",
      "Epoch 295/300\n",
      "720/720 [==============================] - 0s 132us/sample - loss: 43703216446.5778 - mae: 156287.6250 - mse: 43703214080.0000 - val_loss: 52869981707.3778 - val_mae: 156064.5312 - val_mse: 52869984256.0000\n",
      "Epoch 296/300\n"
     ]
    },
    {
     "name": "stdout",
     "output_type": "stream",
     "text": [
      "720/720 [==============================] - 0s 130us/sample - loss: 43730021398.7556 - mae: 156218.5469 - mse: 43730018304.0000 - val_loss: 52820926828.0889 - val_mae: 156345.5156 - val_mse: 52820926464.0000\n",
      "Epoch 297/300\n",
      "720/720 [==============================] - 0s 127us/sample - loss: 43698116926.5778 - mae: 156181.9688 - mse: 43698118656.0000 - val_loss: 52759454060.0889 - val_mae: 156816.0938 - val_mse: 52759457792.0000\n",
      "Epoch 298/300\n",
      "720/720 [==============================] - 0s 130us/sample - loss: 43706515456.0000 - mae: 156401.7188 - mse: 43706511360.0000 - val_loss: 52757101044.6222 - val_mae: 156837.0156 - val_mse: 52757102592.0000\n",
      "Epoch 299/300\n",
      "720/720 [==============================] - 0s 127us/sample - loss: 43729709966.2222 - mae: 156368.2188 - mse: 43729711104.0000 - val_loss: 52837689116.4444 - val_mae: 156242.8438 - val_mse: 52837687296.0000\n",
      "Epoch 300/300\n",
      "720/720 [==============================] - 0s 129us/sample - loss: 43714406172.4444 - mae: 156309.7656 - mse: 43714408448.0000 - val_loss: 52854600681.2444 - val_mae: 156144.8594 - val_mse: 52854595584.0000\n"
     ]
    }
   ],
   "source": [
    "EPOCHS = 300\n",
    "model_history = model.fit(x_train, y_train, epochs=EPOCHS, validation_split=0.2, verbose=1)"
   ]
  },
  {
   "cell_type": "code",
   "execution_count": 45,
   "metadata": {},
   "outputs": [
    {
     "name": "stdout",
     "output_type": "stream",
     "text": [
      "3604/1 - 0s - loss: 49451826408.9856 - mae: 158187.7188 - mse: 46360961024.0000\n",
      "Testing set Mean Abs Error: $158187.72\n"
     ]
    }
   ],
   "source": [
    "loss, mae, mse = model.evaluate(x_test, y_test, verbose=2)\n",
    "\n",
    "print(\"Testing set Mean Abs Error: ${:5.2f}\".format(mae))"
   ]
  },
  {
   "cell_type": "code",
   "execution_count": 46,
   "metadata": {},
   "outputs": [
    {
     "data": {
      "text/html": [
       "<div>\n",
       "<style scoped>\n",
       "    .dataframe tbody tr th:only-of-type {\n",
       "        vertical-align: middle;\n",
       "    }\n",
       "\n",
       "    .dataframe tbody tr th {\n",
       "        vertical-align: top;\n",
       "    }\n",
       "\n",
       "    .dataframe thead th {\n",
       "        text-align: right;\n",
       "    }\n",
       "</style>\n",
       "<table border=\"1\" class=\"dataframe\">\n",
       "  <thead>\n",
       "    <tr style=\"text-align: right;\">\n",
       "      <th></th>\n",
       "      <th>loss</th>\n",
       "      <th>mae</th>\n",
       "      <th>mse</th>\n",
       "      <th>val_loss</th>\n",
       "      <th>val_mae</th>\n",
       "      <th>val_mse</th>\n",
       "      <th>epoch</th>\n",
       "    </tr>\n",
       "  </thead>\n",
       "  <tbody>\n",
       "    <tr>\n",
       "      <th>295</th>\n",
       "      <td>4.373002e+10</td>\n",
       "      <td>156218.546875</td>\n",
       "      <td>4.373002e+10</td>\n",
       "      <td>5.282093e+10</td>\n",
       "      <td>156345.515625</td>\n",
       "      <td>5.282093e+10</td>\n",
       "      <td>295</td>\n",
       "    </tr>\n",
       "    <tr>\n",
       "      <th>296</th>\n",
       "      <td>4.369812e+10</td>\n",
       "      <td>156181.968750</td>\n",
       "      <td>4.369812e+10</td>\n",
       "      <td>5.275945e+10</td>\n",
       "      <td>156816.093750</td>\n",
       "      <td>5.275946e+10</td>\n",
       "      <td>296</td>\n",
       "    </tr>\n",
       "    <tr>\n",
       "      <th>297</th>\n",
       "      <td>4.370652e+10</td>\n",
       "      <td>156401.718750</td>\n",
       "      <td>4.370651e+10</td>\n",
       "      <td>5.275710e+10</td>\n",
       "      <td>156837.015625</td>\n",
       "      <td>5.275710e+10</td>\n",
       "      <td>297</td>\n",
       "    </tr>\n",
       "    <tr>\n",
       "      <th>298</th>\n",
       "      <td>4.372971e+10</td>\n",
       "      <td>156368.218750</td>\n",
       "      <td>4.372971e+10</td>\n",
       "      <td>5.283769e+10</td>\n",
       "      <td>156242.843750</td>\n",
       "      <td>5.283769e+10</td>\n",
       "      <td>298</td>\n",
       "    </tr>\n",
       "    <tr>\n",
       "      <th>299</th>\n",
       "      <td>4.371441e+10</td>\n",
       "      <td>156309.765625</td>\n",
       "      <td>4.371441e+10</td>\n",
       "      <td>5.285460e+10</td>\n",
       "      <td>156144.859375</td>\n",
       "      <td>5.285460e+10</td>\n",
       "      <td>299</td>\n",
       "    </tr>\n",
       "  </tbody>\n",
       "</table>\n",
       "</div>"
      ],
      "text/plain": [
       "             loss            mae           mse      val_loss        val_mae  \\\n",
       "295  4.373002e+10  156218.546875  4.373002e+10  5.282093e+10  156345.515625   \n",
       "296  4.369812e+10  156181.968750  4.369812e+10  5.275945e+10  156816.093750   \n",
       "297  4.370652e+10  156401.718750  4.370651e+10  5.275710e+10  156837.015625   \n",
       "298  4.372971e+10  156368.218750  4.372971e+10  5.283769e+10  156242.843750   \n",
       "299  4.371441e+10  156309.765625  4.371441e+10  5.285460e+10  156144.859375   \n",
       "\n",
       "          val_mse  epoch  \n",
       "295  5.282093e+10    295  \n",
       "296  5.275946e+10    296  \n",
       "297  5.275710e+10    297  \n",
       "298  5.283769e+10    298  \n",
       "299  5.285460e+10    299  "
      ]
     },
     "execution_count": 46,
     "metadata": {},
     "output_type": "execute_result"
    }
   ],
   "source": [
    "hist = pd.DataFrame(model_history.history)\n",
    "hist['epoch'] = model_history.epoch\n",
    "hist.tail()"
   ]
  },
  {
   "cell_type": "code",
   "execution_count": 47,
   "metadata": {},
   "outputs": [],
   "source": [
    "def plot_history(history):\n",
    "  hist = pd.DataFrame(history.history)\n",
    "  hist['epoch'] = history.epoch\n",
    "\n",
    "  plt.figure()\n",
    "  plt.xlabel('Epoch')\n",
    "  plt.ylabel('Mean Abs Error [Price]')\n",
    "  plt.plot(hist['epoch'], hist['mae'],\n",
    "           label='Train Error')\n",
    "  plt.plot(hist['epoch'], hist['val_mae'],\n",
    "           label = 'Val Error')\n",
    "  plt.ylim([0,800000])\n",
    "  plt.legend()\n",
    "\n",
    "  plt.figure()\n",
    "  plt.xlabel('Epoch')\n",
    "  plt.ylabel('Mean Square Error [$Price^2$]')\n",
    "  plt.plot(hist['epoch'], hist['mse'],\n",
    "           label='Train Error')\n",
    "  plt.plot(hist['epoch'], hist['val_mse'],\n",
    "           label = 'Val Error')\n",
    "  plt.ylim([40000000000,350000000000])\n",
    "  plt.legend()\n",
    "  plt.show()"
   ]
  },
  {
   "cell_type": "code",
   "execution_count": 48,
   "metadata": {},
   "outputs": [],
   "source": [
    "model2 = tf.keras.Sequential([\n",
    "    tf.keras.layers.Dense(units=128, activation='relu', input_shape= [x_train.shape[1]]),\n",
    "    tf.keras.layers.Dense(units=64, activation='relu'),\n",
    "    tf.keras.layers.Dense(units=32, activation='relu'),\n",
    "    tf.keras.layers.Dense(units=16, activation='relu'),\n",
    "    tf.keras.layers.Dense(units=8, activation='relu'),\n",
    "    tf.keras.layers.Dense(units=1)\n",
    "    ])"
   ]
  },
  {
   "cell_type": "code",
   "execution_count": 49,
   "metadata": {},
   "outputs": [],
   "source": [
    "optimizer = tf.keras.optimizers.Adam(.0001)\n",
    "model2.compile(optimizer=optimizer, loss='mse',metrics=['mae', 'mse'])"
   ]
  },
  {
   "cell_type": "code",
   "execution_count": 50,
   "metadata": {},
   "outputs": [],
   "source": [
    "EPOCHS = 300\n",
    "model2_history = model2.fit(x_train, y_train, epochs=EPOCHS, validation_split=0.2, verbose=0)"
   ]
  },
  {
   "cell_type": "code",
   "execution_count": 51,
   "metadata": {},
   "outputs": [
    {
     "name": "stdout",
     "output_type": "stream",
     "text": [
      "3604/1 - 0s - loss: 49477852183.8668 - mae: 158142.3906 - mse: 46355513344.0000\n",
      "Testing set Mean Abs Error: $158142.39\n"
     ]
    }
   ],
   "source": [
    "loss2, mae2, mse2 = model2.evaluate(x_test, y_test, verbose=2)\n",
    "\n",
    "print(\"Testing set Mean Abs Error: ${:5.2f}\".format(mae2))"
   ]
  },
  {
   "cell_type": "markdown",
   "metadata": {},
   "source": [
    "## Results"
   ]
  },
  {
   "cell_type": "markdown",
   "metadata": {},
   "source": [
    "Your results must include at least one comparison table and two plots (for groups 4 plots required)."
   ]
  },
  {
   "cell_type": "markdown",
   "metadata": {},
   "source": [
    "### Comparison Table"
   ]
  },
  {
   "cell_type": "markdown",
   "metadata": {},
   "source": [
    "You should compare all of the methods in one or multiple tables, showing clearly the method names, the metrics used for comparison and the results (accuracy, scores, loss, etc). You may use [online tools such as this](https://www.tablesgenerator.com/markdown_tables) for generating and editing neatly-formatted tables in Markdown. You can then copy the code to your Markdown cell to generate the plot. Groups should add more rows/columns as required.\n",
    "<br>\n",
    "\n",
    "<b>Notice: </b>You should use at least two different metrics for comparison of your methods."
   ]
  },
  {
   "cell_type": "markdown",
   "metadata": {},
   "source": [
    "Your comparison table HERE:<br><br>\n",
    "\n",
    "| Metric/Method | LogisticRegression | SGDClass. | RidgeClass. | RandomForestClass. |\n",
    "|---------------|--------------------|-----------|-------------|--------------------|\n",
    "| Metric 1      | 0.7211145          | 0.7003898 | 0.7153641   | 0.7702192          |\n",
    "| Metric 2      | 0.7211521          | 0.6378472 | 0.7153612   | 0.7677543          |\n",
    "| Metric 3      | 0.7211989          | 0.6328185 | 0.7702192   | 0.7688967          |"
   ]
  },
  {
   "cell_type": "markdown",
   "metadata": {},
   "source": [
    "| Metric/Method | Tensorflow (RMSprop) | Tensorflow (Adam) | LinearRegression |\n",
    "|---------------|----------------------|-------------------|------------------|\n",
    "| MAE           | \\\\$176,996.28        | \\\\$157,555.37     | \\\\$214,014.24    |\n",
    "| MSE           | \\\\$62,535,426,048    | \\\\$46,116,622,336 | \\\\$396.43        |\n",
    "\n",
    "| Learning Rate/Method | Tensorflow (RMSProp)/MSE | Tensorflow (SGD)/MSE |\n",
    "|----------------------|--------------------------|----------------------|\n",
    "| 0.1                  | \\\\$176,996.28            | \\\\$157,555.38        |\n",
    "| 0.01                 | \\\\$157,961.91            | \\\\$158,490.00        |\n",
    "| 0.001                | \\\\$159,154.00            | \\\\$158,516.08        |\n",
    "| 0.0001               | \\\\$158,048.66            | \\\\$157,900.33        |"
   ]
  },
  {
   "cell_type": "markdown",
   "metadata": {},
   "source": [
    "### Plots"
   ]
  },
  {
   "cell_type": "markdown",
   "metadata": {},
   "source": [
    "Using meaningful plots is an efficient way to visualize and conlude your experiments as well as results. Examples of acceptable plots include but are not limited to:\n",
    "- ROC curve (can be used with classification only)\n",
    "- loss plots (precision/recall for classification, mse or mae for regression)\n",
    "- hyperparameter tuning plots (varying one hyperparameter using for loops on x-axis and accuracy/loss on y-axis)\n",
    "- train/validation/test errors/loss plots, histogram of errors and so on.\n",
    "\n",
    "<b>Notice:</b> All plots should have title, xlabel, ylabel, and (if applicable) legend. Use different colors if you have multiple curves on one plot. Points will be deducted if your plots are incomplete. Check matplotlib documentation, examples from the assignments, and research papers or ML articles and find those plots that are applicable to your project. Individual students should have at least 2 plots while groups should have at least 4 plots.\n"
   ]
  },
  {
   "cell_type": "markdown",
   "metadata": {},
   "source": [
    "## <font color=\"red\"> Required Coding - Groups should add more cell as required"
   ]
  },
  {
   "cell_type": "code",
   "execution_count": 52,
   "metadata": {},
   "outputs": [
    {
     "data": {
      "text/plain": [
       "Text(0.5, 0, 'False Positive Rate')"
      ]
     },
     "execution_count": 52,
     "metadata": {},
     "output_type": "execute_result"
    },
    {
     "data": {
      "image/png": "[encoded data removed]",
      "text/plain": [
       "<Figure size 432x288 with 1 Axes>"
      ]
     },
     "metadata": {
      "needs_background": "light"
     },
     "output_type": "display_data"
    }
   ],
   "source": [
    "# ROC curve for Logistic Regression\n",
    "plt.title('ROC for Logistic Regression')\n",
    "plt.plot(logreg1_fpr, logreg1_tpr, 'salmon', linestyle=\"--\",linewidth=2.5,label = 'AUC_LR1 = %0.7f' % logreg1_roc_auc)\n",
    "plt.plot(logreg2_fpr, logreg2_tpr, 'orange', linewidth=1.6,label = 'AUC_LR2 = %0.7f' % logreg2_roc_auc)\n",
    "plt.plot(logreg3_fpr, logreg3_tpr, 'goldenrod', linewidth=2.1,label = 'AUC_LR3 = %0.7f' % logreg2_roc_auc)\n",
    "plt.legend(loc = 'lower right')\n",
    "plt.plot([0, 1], [0, 1],'r--')\n",
    "plt.xlim([0, 1])\n",
    "plt.ylim([0, 1])\n",
    "plt.ylabel('True Positive Rate')\n",
    "plt.xlabel('False Positive Rate')"
   ]
  },
  {
   "cell_type": "code",
   "execution_count": 53,
   "metadata": {},
   "outputs": [
    {
     "data": {
      "text/plain": [
       "Text(0.5, 0, 'False Positive Rate')"
      ]
     },
     "execution_count": 53,
     "metadata": {},
     "output_type": "execute_result"
    },
    {
     "data": {
      "image/png": "[encoded data removed]",
      "text/plain": [
       "<Figure size 432x288 with 1 Axes>"
      ]
     },
     "metadata": {
      "needs_background": "light"
     },
     "output_type": "display_data"
    }
   ],
   "source": [
    "# ROC curve for SGD Classifier\n",
    "plt.title('ROC for SGDClassifier')\n",
    "plt.plot(sgdR1_fpr,sgdR1_tpr, 'yellowgreen', label = 'AUC_SGD_HINGE = %0.2f' % sgdR1_roc_auc)\n",
    "plt.plot(sgdR2_fpr,sgdR2_tpr, 'green', label = 'AUC_SGD_SQUARED_HINGE = %0.2f' % sgdR2_roc_auc)\n",
    "plt.plot(sgdR3_fpr,sgdR3_tpr, 'teal', label = 'AUC_SGD_PERCEPTRON = %0.2f' % sgdR3_roc_auc)\n",
    "plt.legend(loc = 'lower right')\n",
    "plt.plot([0, 1], [0, 1],'r--')\n",
    "plt.xlim([0, 1])\n",
    "plt.ylim([0, 1])\n",
    "plt.ylabel('True Positive Rate')\n",
    "plt.xlabel('False Positive Rate')"
   ]
  },
  {
   "cell_type": "code",
   "execution_count": 54,
   "metadata": {},
   "outputs": [
    {
     "data": {
      "text/plain": [
       "Text(0.5, 0, 'False Positive Rate')"
      ]
     },
     "execution_count": 54,
     "metadata": {},
     "output_type": "execute_result"
    },
    {
     "data": {
      "image/png": "[encoded data removed]",
      "text/plain": [
       "<Figure size 432x288 with 1 Axes>"
      ]
     },
     "metadata": {
      "needs_background": "light"
     },
     "output_type": "display_data"
    }
   ],
   "source": [
    "# ROC curve for Ridge Classifier\n",
    "plt.title('ROC for Ridge Classifier')\n",
    "plt.plot(ridgeA1_fpr,ridgeA1_tpr, 'teal', linestyle=\"--\",linewidth=2.3,label = 'AUC_RIDGE_ALPHA(1e-2) = %0.7f' % ridgeA1_roc_auc)\n",
    "plt.plot(ridgeA2_fpr,ridgeA2_tpr, 'turquoise', label = 'AUC_RIDGE_ALPHA(1e-1) = %0.7f' % ridgeA2_roc_auc)\n",
    "plt.plot(ridgeA3_fpr,ridgeA3_tpr, 'blue', linestyle=\"-.\", label = 'AUC_RIDGE_ALPHA(1) = %0.7f' % ridgeA3_roc_auc)\n",
    "plt.legend(loc = 'lower right')\n",
    "plt.plot([0, 1], [0, 1],'r--')\n",
    "plt.xlim([0, 1])\n",
    "plt.ylim([0, 1])\n",
    "plt.ylabel('True Positive Rate')\n",
    "plt.xlabel('False Positive Rate')"
   ]
  },
  {
   "cell_type": "code",
   "execution_count": 55,
   "metadata": {},
   "outputs": [
    {
     "data": {
      "text/plain": [
       "Text(0.5, 0, 'False Positive Rate')"
      ]
     },
     "execution_count": 55,
     "metadata": {},
     "output_type": "execute_result"
    },
    {
     "data": {
      "image/png": "[encoded data removed]",
      "text/plain": [
       "<Figure size 432x288 with 1 Axes>"
      ]
     },
     "metadata": {
      "needs_background": "light"
     },
     "output_type": "display_data"
    }
   ],
   "source": [
    "# ROC curve for Random Forest Classifier\n",
    "plt.title('ROC for Random Forest Classifier')\n",
    "plt.plot(rf_fpr, rf_tpr, 'orchid', label = 'AUC_RF1 = %0.4f' % rf_roc_auc)\n",
    "plt.plot(rf2_fpr, rf2_tpr, 'purple', label = 'AUC_RF2 = %0.4f' % rf2_roc_auc)\n",
    "plt.plot(rf3_fpr, rf3_tpr, 'violet', label = 'AUC_RF3 = %0.4f' % rf3_roc_auc)\n",
    "plt.legend(loc = 'lower right')\n",
    "plt.plot([0, 1], [0, 1],'r--')\n",
    "plt.xlim([0, 1])\n",
    "plt.ylim([0, 1])\n",
    "plt.ylabel('True Positive Rate')\n",
    "plt.xlabel('False Positive Rate')"
   ]
  },
  {
   "cell_type": "code",
   "execution_count": 56,
   "metadata": {},
   "outputs": [
    {
     "data": {
      "image/png": "[encoded data removed]",
      "text/plain": [
       "<Figure size 432x288 with 1 Axes>"
      ]
     },
     "metadata": {
      "needs_background": "light"
     },
     "output_type": "display_data"
    },
    {
     "data": {
      "image/png": "[encoded data removed]",
      "text/plain": [
       "<Figure size 432x288 with 1 Axes>"
      ]
     },
     "metadata": {
      "needs_background": "light"
     },
     "output_type": "display_data"
    }
   ],
   "source": [
    "# Plot history for model1 Neural Network\n",
    "plot_history(model_history)"
   ]
  },
  {
   "cell_type": "code",
   "execution_count": 57,
   "metadata": {},
   "outputs": [
    {
     "data": {
      "image/png": "[encoded data removed]",
      "text/plain": [
       "<Figure size 432x288 with 1 Axes>"
      ]
     },
     "metadata": {
      "needs_background": "light"
     },
     "output_type": "display_data"
    },
    {
     "data": {
      "image/png": "[encoded data removed]",
      "text/plain": [
       "<Figure size 432x288 with 1 Axes>"
      ]
     },
     "metadata": {
      "needs_background": "light"
     },
     "output_type": "display_data"
    }
   ],
   "source": [
    "# Plot history for model2 Neural Network\n",
    "plot_history(model2_history)"
   ]
  },
  {
   "cell_type": "markdown",
   "metadata": {},
   "source": [
    "## Discussion"
   ]
  },
  {
   "cell_type": "markdown",
   "metadata": {},
   "source": [
    "Write at least two paragraphs to describe and discuss your results. Make arguments based on your observations and results. Use reasoning and analytical thinking for your discussion.\n",
    "\n",
    "\n",
    "<b>Notice:</b> Having a thorough discussion is VERY important and has a significant impact on your final score!"
   ]
  },
  {
   "cell_type": "markdown",
   "metadata": {},
   "source": [
    "## Grading"
   ]
  },
  {
   "cell_type": "markdown",
   "metadata": {},
   "source": [
    "Project grading rubric (total 100 points - 20% of the final grade):\n",
    "\n",
    "- Project proposal: 10 points\n",
    "\n",
    "- Final submission: 70 points - Breakdown as follows\n",
    "\n",
    "    - 30 points: Methods, hyperparameter tuning and comparison table\n",
    "    \n",
    "    - 20 points: Plots\n",
    "\n",
    "    - 20 points: Discussion (2 paragraphs)\n",
    "    \n",
    "- Project complexity and intellectual efforts judged by the instructor: 20 points\n",
    "    \n",
    "<b>Notice:</b> similar to the assignments, up to 10 points may be deducted if your notebook is not easy to read and/or has spelling/grammatical errors, so proofread your notebook!"
   ]
  },
  {
   "cell_type": "markdown",
   "metadata": {},
   "source": [
    "## How to Submit and Due Date - Late Penalty Will be Strictly Applied!"
   ]
  },
  {
   "cell_type": "markdown",
   "metadata": {},
   "source": [
    "Name your final project notebook ```Lastname-Project.ipynb```. Submit the notebook file with your dataset file in a zip file named EXACTLY as `Lastname-Project.zip` using the ```Final Project``` link on Blackboard. For groups, only one submission is required.\n",
    "\n",
    "<font color=red><b>Project Final Submission Due Date: Monday Dec 9th 11:59PM.</b></font>"
   ]
  }
 ],
 "metadata": {
  "kernelspec": {
   "display_name": "Python 3",
   "language": "python",
   "name": "python3"
  },
  "language_info": {
   "codemirror_mode": {
    "name": "ipython",
    "version": 3
   },
   "file_extension": ".py",
   "mimetype": "text/x-python",
   "name": "python",
   "nbconvert_exporter": "python",
   "pygments_lexer": "ipython3",
   "version": "3.7.5"
  }
 },
 "nbformat": 4,
 "nbformat_minor": 2
}
